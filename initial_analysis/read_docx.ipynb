{
 "cells": [
  {
   "cell_type": "code",
   "execution_count": 1,
   "metadata": {},
   "outputs": [],
   "source": [
    "import glob"
   ]
  },
  {
   "cell_type": "code",
   "execution_count": 2,
   "metadata": {},
   "outputs": [],
   "source": [
    "import docx"
   ]
  },
  {
   "cell_type": "code",
   "execution_count": 3,
   "metadata": {},
   "outputs": [
    {
     "data": {
      "text/plain": [
       "['../files/essays/Creative Essay 24.docx',\n",
       " '../files/essays/Creative Essay 7.docx',\n",
       " '../files/essays/Creative Essay 50.docx',\n",
       " '../files/essays/Creative Essay 32.docx',\n",
       " '../files/essays/Creative Essay 66.docx',\n",
       " '../files/essays/Creative Essay 37.docx',\n",
       " '../files/essays/Creative Essay 65.docx',\n",
       " '../files/essays/Creative Essay 45.docx',\n",
       " '../files/essays/Creative Essay 53.docx',\n",
       " '../files/essays/Creative Essay 51.docx',\n",
       " '../files/essays/Creative Essay 25.docx',\n",
       " '../files/essays/Creative Essay 9.docx',\n",
       " '../files/essays/Creative Essay 61.docx',\n",
       " '../files/essays/Creative Essay 38.docx',\n",
       " '../files/essays/Creative Essay 47.docx',\n",
       " '../files/essays/Creative Essay 3.docx',\n",
       " '../files/essays/Creative Essay 54.docx',\n",
       " '../files/essays/Creative Essay 22.docx',\n",
       " '../files/essays/Creative Essay 31.docx',\n",
       " '../files/essays/Creative Essay 62.docx',\n",
       " '../files/essays/Creative Essay 69.docx',\n",
       " '../files/essays/Creative Essay 78.docx',\n",
       " '../files/essays/Creative Essay 34.docx',\n",
       " '../files/essays/Creative Essay 10.docx',\n",
       " '../files/essays/Creative Essay 48.docx',\n",
       " '../files/essays/Creative Essay 72.docx',\n",
       " '../files/essays/Creative Essay 55.docx',\n",
       " '../files/essays/Creative Essay 4.docx',\n",
       " '../files/essays/Creative Essay 71.docx',\n",
       " '../files/essays/Creative Essay 75.docx',\n",
       " '../files/essays/Creative Essay 40.docx',\n",
       " '../files/essays/Creative Essay 5.docx',\n",
       " '../files/essays/Creative Essay 20.docx',\n",
       " '../files/essays/Creative Essay 76.docx',\n",
       " '../files/essays/Creative Essay 41.docx',\n",
       " '../files/essays/Creative Essay 21.docx',\n",
       " '../files/essays/Creative Essay 11.docx',\n",
       " '../files/essays/Creative Essay 14.docx',\n",
       " '../files/essays/Creative Essay 44.docx',\n",
       " '../files/essays/Creative Essay 64.docx',\n",
       " '../files/essays/Creative Essay 27.docx',\n",
       " '../files/essays/Creative Essay 52.docx',\n",
       " '../files/essays/Creative Essay 56.docx',\n",
       " '../files/essays/Creative Essay 2.docx',\n",
       " '../files/essays/Creative Essay 68.docx',\n",
       " '../files/essays/Creative Essay 18.docx',\n",
       " '../files/essays/Creative Essay 36.docx',\n",
       " '../files/essays/Creative Essay 43.docx',\n",
       " '../files/essays/Creative Essay 39.docx',\n",
       " '../files/essays/Creative Essay 30.docx',\n",
       " '../files/essays/Creative Essay 33.docx',\n",
       " '../files/essays/Creative Essay 67.docx',\n",
       " '../files/essays/Creative Essay 46.docx',\n",
       " '../files/essays/Creative Essay 19.docx',\n",
       " '../files/essays/Creative Essay 15.docx',\n",
       " '../files/essays/Creative Essay 1.docx',\n",
       " '../files/essays/Creative Essay 8.docx',\n",
       " '../files/essays/Creative Essay 6.docx',\n",
       " '../files/essays/Creative Essay 63.docx',\n",
       " '../files/essays/Creative Essay 49.docx',\n",
       " '../files/essays/Creative Essay 79.docx',\n",
       " '../files/essays/Creative Essay 73.docx',\n",
       " '../files/essays/Creative Essay 77.docx',\n",
       " '../files/essays/Creative Essay 57.docx',\n",
       " '../files/essays/Creative Essay 13.docx',\n",
       " '../files/essays/Creative Essay 60.docx',\n",
       " '../files/essays/Creative Essay 42.docx',\n",
       " '../files/essays/Creative Essay 26.docx',\n",
       " '../files/essays/Creative Essay 16.docx',\n",
       " '../files/essays/Creative Essay 29.docx',\n",
       " '../files/essays/Creative Essay 17.docx',\n",
       " '../files/essays/Creative Essay 23.docx',\n",
       " '../files/essays/Creative Essay 35.docx',\n",
       " '../files/essays/Creative Essay 59.docx',\n",
       " '../files/essays/Creative Essay 12.docx',\n",
       " '../files/essays/Creative Essay 74.docx',\n",
       " '../files/essays/Creative Essay 58.docx']"
      ]
     },
     "execution_count": 3,
     "metadata": {},
     "output_type": "execute_result"
    }
   ],
   "source": [
    "glob.glob('../files/essays/*')"
   ]
  },
  {
   "cell_type": "code",
   "execution_count": 4,
   "metadata": {},
   "outputs": [
    {
     "name": "stdout",
     "output_type": "stream",
     "text": [
      "y 24.docx 13 1068\n",
      "ay 7.docx 12 3637\n",
      "y 50.docx 11 4770\n",
      "y 32.docx 16 2160\n",
      "y 66.docx 30 3683\n",
      "y 37.docx 7 1042\n",
      "y 65.docx 16 4334\n",
      "y 45.docx 9 1816\n",
      "y 53.docx 29 6164\n",
      "y 51.docx 10 3071\n",
      "y 25.docx 32 3143\n",
      "ay 9.docx 11 2020\n",
      "y 61.docx 45 4418\n",
      "y 38.docx 5 1052\n",
      "y 47.docx 3 3560\n",
      "ay 3.docx 8 1533\n",
      "y 54.docx 40 3885\n",
      "y 22.docx 11 2881\n",
      "y 31.docx 8 1671\n",
      "y 62.docx 69 3096\n",
      "y 69.docx 7 2226\n",
      "y 78.docx 12 2094\n",
      "y 34.docx 8 2291\n",
      "y 10.docx 7 1858\n",
      "y 48.docx 6 2053\n",
      "y 72.docx 7 2251\n",
      "y 55.docx 3 1890\n",
      "ay 4.docx 17 3318\n",
      "y 71.docx 6 2241\n",
      "y 75.docx 7 3445\n",
      "y 40.docx 4 3904\n",
      "ay 5.docx 19 3620\n",
      "y 20.docx 10 6038\n",
      "y 76.docx 16 2927\n",
      "y 41.docx 4 3553\n",
      "y 21.docx 13 1254\n",
      "y 11.docx 30 4582\n",
      "y 14.docx 17 2187\n",
      "y 44.docx 8 3634\n",
      "y 64.docx 6 2281\n",
      "y 27.docx 40 3123\n",
      "y 52.docx 8 2784\n",
      "y 56.docx 9 2795\n",
      "ay 2.docx 23 4068\n",
      "y 68.docx 15 3187\n",
      "y 18.docx 26 2737\n",
      "y 36.docx 12 2264\n",
      "y 43.docx 12 2834\n",
      "y 39.docx 9 2391\n",
      "y 30.docx 3 2026\n",
      "y 33.docx 8 2634\n",
      "y 67.docx 14 2968\n",
      "y 46.docx 5 2013\n",
      "y 19.docx 23 2487\n",
      "y 15.docx 55 2463\n",
      "ay 1.docx 11 5276\n",
      "ay 8.docx 39 2336\n",
      "ay 6.docx 8 2291\n",
      "y 63.docx 18 2735\n",
      "y 49.docx 23 3907\n",
      "y 79.docx 10 3348\n",
      "y 73.docx 10 2880\n",
      "y 77.docx 24 3673\n",
      "y 57.docx 14 1475\n",
      "y 13.docx 10 2902\n",
      "y 60.docx 24 4765\n",
      "y 42.docx 19 5358\n",
      "y 26.docx 26 2022\n",
      "y 16.docx 26 4277\n",
      "y 29.docx 6 891\n",
      "y 17.docx 32 3261\n",
      "y 23.docx 9 4013\n",
      "y 35.docx 16 2731\n",
      "y 59.docx 11 4509\n",
      "y 12.docx 9 1637\n",
      "y 74.docx 9 4471\n",
      "y 58.docx 18 3191\n"
     ]
    }
   ],
   "source": [
    "for fname in glob.glob('../files/essays/*'):\n",
    "    doc = docx.Document(fname)\n",
    "    count = 0\n",
    "    for p in doc.paragraphs:\n",
    "        count += len(p.text)\n",
    "    print(fname[-9:], len(doc.paragraphs), count)"
   ]
  },
  {
   "cell_type": "code",
   "execution_count": 7,
   "metadata": {},
   "outputs": [
    {
     "data": {
      "text/plain": [
       "11"
      ]
     },
     "execution_count": 7,
     "metadata": {},
     "output_type": "execute_result"
    }
   ],
   "source": [
    "len(doc.paragraphs)\n"
   ]
  },
  {
   "cell_type": "code",
   "execution_count": 10,
   "metadata": {},
   "outputs": [
    {
     "name": "stdout",
     "output_type": "stream",
     "text": [
      "\n",
      "the doorway\n",
      "One day a little boy wake's up and go's to church. When there he walks off a get's lost. While running around he find's a door. He notice's the red glowing coming from it. Deciding he should open it, he does. The little boy had gain superpowers from a underlord. That's all the boy can remeber after 10 year. \n",
      "He now rules the world and easily defeats any who oppose him, but a little girl who is pure of heart plan to take him down. She discovered the place he got the powers.Thinking that maybe theres a place to get superpower for the good. She go's. Find's a door also glowing but not red but yellow. Opening it was the one thing the world was looking for. Getting superpowers gave her the thought that she could beat him. so she go's and finds him. \n",
      "She said \"hey you monster, come nd fight me like a man.\"\n",
      "He turned saying \"you think you can beat me, I am more powerful then anyone.\"\n",
      "She used all her strength to punch him. But it did nothing. She was lucky to esape that day. People found her and wanted to help, so they helped her practice using her powers. Once she had mastered it she and her new friends went to face him agian. They found him on his throne, looking over the world he destroyed. Her new friends tryed to discract him. While he was distactied she came in and captured him. After putting him in a place he will never be freed into this world agian they selibrated and help others rebuild this world. Two hours later the little boy woke up from his dream and had breakfast then went to school. The End.\n",
      "\n"
     ]
    }
   ],
   "source": [
    "for para in doc.paragraphs:\n",
    "    print(para.text)"
   ]
  },
  {
   "cell_type": "code",
   "execution_count": null,
   "metadata": {},
   "outputs": [],
   "source": []
  }
 ],
 "metadata": {
  "kernelspec": {
   "display_name": "evaluate",
   "language": "python",
   "name": "python3"
  },
  "language_info": {
   "codemirror_mode": {
    "name": "ipython",
    "version": 3
   },
   "file_extension": ".py",
   "mimetype": "text/x-python",
   "name": "python",
   "nbconvert_exporter": "python",
   "pygments_lexer": "ipython3",
   "version": "3.8.13"
  },
  "orig_nbformat": 4
 },
 "nbformat": 4,
 "nbformat_minor": 2
}
