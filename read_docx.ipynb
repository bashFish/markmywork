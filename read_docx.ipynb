{
 "cells": [
  {
   "cell_type": "code",
   "execution_count": 1,
   "metadata": {},
   "outputs": [],
   "source": [
    "import glob"
   ]
  },
  {
   "cell_type": "code",
   "execution_count": 4,
   "metadata": {},
   "outputs": [],
   "source": [
    "import docx"
   ]
  },
  {
   "cell_type": "code",
   "execution_count": 9,
   "metadata": {},
   "outputs": [],
   "source": [
    "doc = docx.Document('files/essays/Creative Essay 3.docx')"
   ]
  },
  {
   "cell_type": "code",
   "execution_count": 7,
   "metadata": {},
   "outputs": [
    {
     "data": {
      "text/plain": [
       "11"
      ]
     },
     "execution_count": 7,
     "metadata": {},
     "output_type": "execute_result"
    }
   ],
   "source": [
    "len(doc.paragraphs)\n"
   ]
  },
  {
   "cell_type": "code",
   "execution_count": 10,
   "metadata": {},
   "outputs": [
    {
     "name": "stdout",
     "output_type": "stream",
     "text": [
      "\n",
      "the doorway\n",
      "One day a little boy wake's up and go's to church. When there he walks off a get's lost. While running around he find's a door. He notice's the red glowing coming from it. Deciding he should open it, he does. The little boy had gain superpowers from a underlord. That's all the boy can remeber after 10 year. \n",
      "He now rules the world and easily defeats any who oppose him, but a little girl who is pure of heart plan to take him down. She discovered the place he got the powers.Thinking that maybe theres a place to get superpower for the good. She go's. Find's a door also glowing but not red but yellow. Opening it was the one thing the world was looking for. Getting superpowers gave her the thought that she could beat him. so she go's and finds him. \n",
      "She said \"hey you monster, come nd fight me like a man.\"\n",
      "He turned saying \"you think you can beat me, I am more powerful then anyone.\"\n",
      "She used all her strength to punch him. But it did nothing. She was lucky to esape that day. People found her and wanted to help, so they helped her practice using her powers. Once she had mastered it she and her new friends went to face him agian. They found him on his throne, looking over the world he destroyed. Her new friends tryed to discract him. While he was distactied she came in and captured him. After putting him in a place he will never be freed into this world agian they selibrated and help others rebuild this world. Two hours later the little boy woke up from his dream and had breakfast then went to school. The End.\n",
      "\n"
     ]
    }
   ],
   "source": [
    "for para in doc.paragraphs:\n",
    "    print(para.text)"
   ]
  },
  {
   "cell_type": "code",
   "execution_count": null,
   "metadata": {},
   "outputs": [],
   "source": []
  }
 ],
 "metadata": {
  "kernelspec": {
   "display_name": "evaluate",
   "language": "python",
   "name": "python3"
  },
  "language_info": {
   "codemirror_mode": {
    "name": "ipython",
    "version": 3
   },
   "file_extension": ".py",
   "mimetype": "text/x-python",
   "name": "python",
   "nbconvert_exporter": "python",
   "pygments_lexer": "ipython3",
   "version": "3.8.13"
  },
  "orig_nbformat": 4
 },
 "nbformat": 4,
 "nbformat_minor": 2
}
