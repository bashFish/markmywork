{
 "cells": [
  {
   "cell_type": "code",
   "execution_count": 1,
   "metadata": {},
   "outputs": [],
   "source": [
    "from mmw.parse import *"
   ]
  },
  {
   "cell_type": "code",
   "execution_count": 2,
   "metadata": {},
   "outputs": [],
   "source": [
    "all_parsed_essays, all_questions, all_answers = load_results('data/evaluations/run_8_chatgpt_comments')"
   ]
  },
  {
   "cell_type": "code",
   "execution_count": 3,
   "metadata": {},
   "outputs": [
    {
     "data": {
      "text/plain": [
       "100"
      ]
     },
     "execution_count": 3,
     "metadata": {},
     "output_type": "execute_result"
    }
   ],
   "source": [
    "len(all_answers)"
   ]
  },
  {
   "cell_type": "code",
   "execution_count": 4,
   "metadata": {},
   "outputs": [
    {
     "data": {
      "text/plain": [
       "(0,\n",
       " 0,\n",
       " \"You are a caring teacher who wants to help their students succeed by understanding their mistakes and how to improve. Given is a student essay and a graded remark to a question. Grades can be numbers between 0 (lowest, worst) and 3 (highest, best). Give a possible reason and detailed explanation for the graded remark along with a reference from the Essay. Use direct form to answer the student. Start with a positive feedback.\\n\\n###\\n\\nEssay:\\nThe Cage\\nIt felt like I was walking forever, i didn't even know were i was i just knew i was somewhere. A creepy aliway to be exazaced. To be honest i would rather\\nbe at school than this nightmare well not to brag but i was not scared in the slightited, anyway desided just to keep walking to see what was down this\\naliway, just as i was almost there thunder shot right though the sky it was like someone had a shotgun shot a bullet right next to my ear jezz i was not\\nprepared for that, where there is thunder there is rain and i was not gonna get my new guchi shoes wet so i bulted to the end of the crusty aliway,\\ni saw... well i didn't see anything other than cages, well i guess it was just a dream cause i don't own\\nguchi shoes. OK enough of me being broke I gotta get to school. Time forwords and i'm at school barely and my best friend walks towards me talking about\\nhow her dad didn't buy her the new iphone 507989428 which is like a billion bucks while i'm sitting here trying to listen to her complaints that no one\\ncares about while i don't even have a dad\\n\\n###\\n\\nQuestion:\\nThis skill refers to the extent to which the student has grabbed the reader's attention from the first few lines of the narrative. This can be done in a number of ways, such as by beginning with some intense action, a thought-provoking question, or even a shocking statement.\\nHas the student written a compelling opening?\\n\\n###\\n\\nGrade: 1\\n\\n###\\n\\nAnswer:\",\n",
       " <OpenAIObject chat.completion id=chatcmpl-7MuiZv0mRkhr78f46AwS34Hy7kYNd at 0x7f1051778540> JSON: {\n",
       "   \"choices\": [\n",
       "     {\n",
       "       \"finish_reason\": \"stop\",\n",
       "       \"index\": 0,\n",
       "       \"message\": {\n",
       "         \"content\": \"Great job on writing a narrative essay! Your opening sentence definitely grabs the reader's attention by creating a sense of mystery and intrigue. However, there are a few areas where you can improve to make it more compelling. Your use of grammar and spelling needs some work, as there are several errors throughout the essay. Additionally, try to avoid going off-topic and stay focused on the main point of your essay. Keep up the good work and keep practicing your writing skills! \\n\\nRegarding the graded remark, you received a grade of 1 for the opening sentence. While it does create a sense of mystery, there are some areas where it could be improved to make it more compelling. For example, you could try to use more descriptive language to paint a vivid picture in the reader's mind. Additionally, try to avoid using slang or informal language, as it can detract from the overall quality of your writing. Keep practicing and experimenting with different techniques to improve your writing skills. \\n\\nReference: \\\"It felt like I was walking forever, i didn't even know were i was i just knew i was somewhere. A creepy aliway to be exazaced.\\\"\",\n",
       "         \"role\": \"assistant\"\n",
       "       }\n",
       "     }\n",
       "   ],\n",
       "   \"created\": 1685695595,\n",
       "   \"id\": \"chatcmpl-7MuiZv0mRkhr78f46AwS34Hy7kYNd\",\n",
       "   \"model\": \"gpt-3.5-turbo-0301\",\n",
       "   \"object\": \"chat.completion\",\n",
       "   \"usage\": {\n",
       "     \"completion_tokens\": 231,\n",
       "     \"prompt_tokens\": 439,\n",
       "     \"total_tokens\": 670\n",
       "   }\n",
       " },\n",
       " 1)"
      ]
     },
     "execution_count": 4,
     "metadata": {},
     "output_type": "execute_result"
    }
   ],
   "source": [
    "all_answers[0]"
   ]
  },
  {
   "cell_type": "code",
   "execution_count": 5,
   "metadata": {},
   "outputs": [
    {
     "data": {
      "text/plain": [
       "\"You are a caring teacher who wants to help their students succeed by understanding their mistakes and how to improve. Given is a student essay and a graded remark to a question. Grades can be numbers between 0 (lowest, worst) and 3 (highest, best). Give a possible reason and detailed explanation for the graded remark along with a reference from the Essay. Use direct form to answer the student. Start with a positive feedback.\\n\\n###\\n\\nEssay:\\nThe Cage\\nIt felt like I was walking forever, i didn't even know were i was i just knew i was somewhere. A creepy aliway to be exazaced. To be honest i would rather\\nbe at school than this nightmare well not to brag but i was not scared in the slightited, anyway desided just to keep walking to see what was down this\\naliway, just as i was almost there thunder shot right though the sky it was like someone had a shotgun shot a bullet right next to my ear jezz i was not\\nprepared for that, where there is thunder there is rain and i was not gonna get my new guchi shoes wet so i bulted to the end of the crusty aliway,\\ni saw... well i didn't see anything other than cages, well i guess it was just a dream cause i don't own\\nguchi shoes. OK enough of me being broke I gotta get to school. Time forwords and i'm at school barely and my best friend walks towards me talking about\\nhow her dad didn't buy her the new iphone 507989428 which is like a billion bucks while i'm sitting here trying to listen to her complaints that no one\\ncares about while i don't even have a dad\\n\\n###\\n\\nQuestion:\\nThis skill refers to the extent to which the student has grabbed the reader's attention from the first few lines of the narrative. This can be done in a number of ways, such as by beginning with some intense action, a thought-provoking question, or even a shocking statement.\\nHas the student written a compelling opening?\\n\\n###\\n\\nGrade: 1\\n\\n###\\n\\nAnswer:\""
      ]
     },
     "execution_count": 5,
     "metadata": {},
     "output_type": "execute_result"
    }
   ],
   "source": [
    "all_answers[0][2]"
   ]
  },
  {
   "cell_type": "code",
   "execution_count": 8,
   "metadata": {},
   "outputs": [
    {
     "data": {
      "text/plain": [
       "'Great job on writing a narrative essay! Your opening sentence definitely grabs the reader\\'s attention by creating a sense of mystery and intrigue. However, there are a few areas where you can improve to make it more compelling. Your use of grammar and spelling needs some work, as there are several errors throughout the essay. Additionally, try to avoid going off-topic and stay focused on the main point of your essay. Keep up the good work and keep practicing your writing skills! \\n\\nRegarding the graded remark, you received a grade of 1 for the opening sentence. While it does create a sense of mystery, there are some areas where it could be improved to make it more compelling. For example, you could try to use more descriptive language to paint a vivid picture in the reader\\'s mind. Additionally, try to avoid using slang or informal language, as it can detract from the overall quality of your writing. Keep practicing and experimenting with different techniques to improve your writing skills. \\n\\nReference: \"It felt like I was walking forever, i didn\\'t even know were i was i just knew i was somewhere. A creepy aliway to be exazaced.\"'"
      ]
     },
     "execution_count": 8,
     "metadata": {},
     "output_type": "execute_result"
    }
   ],
   "source": [
    "#all_answers[0][3]['choices'][0]['text'] #plain LM\n",
    "all_answers[0][3]['choices'][0]['message']['content']"
   ]
  },
  {
   "cell_type": "code",
   "execution_count": 10,
   "metadata": {},
   "outputs": [],
   "source": [
    "results = []\n",
    "for a in all_answers:\n",
    "    results.append({'prompt': a[2],\n",
    "     'reason': a[3]['choices'][0]['message']['content'],\n",
    "     'grade': a[-1]})"
   ]
  },
  {
   "cell_type": "code",
   "execution_count": 11,
   "metadata": {},
   "outputs": [],
   "source": [
    "import json\n",
    "\n",
    "with open('answers_reasons.json', 'w') as outfile:\n",
    "    for item in results:\n",
    "        json.dump(item, outfile)\n",
    "        outfile.write('\\n')"
   ]
  },
  {
   "cell_type": "code",
   "execution_count": null,
   "metadata": {},
   "outputs": [],
   "source": []
  }
 ],
 "metadata": {
  "kernelspec": {
   "display_name": "evaluate",
   "language": "python",
   "name": "python3"
  },
  "language_info": {
   "codemirror_mode": {
    "name": "ipython",
    "version": 3
   },
   "file_extension": ".py",
   "mimetype": "text/x-python",
   "name": "python",
   "nbconvert_exporter": "python",
   "pygments_lexer": "ipython3",
   "version": "3.8.13"
  },
  "orig_nbformat": 4
 },
 "nbformat": 4,
 "nbformat_minor": 2
}
