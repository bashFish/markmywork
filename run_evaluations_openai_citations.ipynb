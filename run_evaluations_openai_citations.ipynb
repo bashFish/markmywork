{
 "cells": [
  {
   "cell_type": "code",
   "execution_count": 1,
   "metadata": {},
   "outputs": [],
   "source": [
    "import pickle\n",
    "import dotenv"
   ]
  },
  {
   "cell_type": "code",
   "execution_count": 2,
   "metadata": {},
   "outputs": [],
   "source": [
    "import tqdm\n",
    "import time\n",
    "import re"
   ]
  },
  {
   "cell_type": "code",
   "execution_count": 3,
   "metadata": {},
   "outputs": [],
   "source": [
    "from mmw.parse import *"
   ]
  },
  {
   "cell_type": "code",
   "execution_count": 4,
   "metadata": {},
   "outputs": [
    {
     "data": {
      "text/plain": [
       "True"
      ]
     },
     "execution_count": 4,
     "metadata": {},
     "output_type": "execute_result"
    }
   ],
   "source": [
    "dotenv.load_dotenv()"
   ]
  },
  {
   "cell_type": "code",
   "execution_count": null,
   "metadata": {},
   "outputs": [],
   "source": []
  },
  {
   "cell_type": "code",
   "execution_count": 9,
   "metadata": {},
   "outputs": [
    {
     "data": {
      "text/plain": [
       "'\\n\\nThis is indeed a test'"
      ]
     },
     "execution_count": 9,
     "metadata": {},
     "output_type": "execute_result"
    }
   ],
   "source": [
    "import os\n",
    "import openai\n",
    "\n",
    "openai.organization = os.getenv(\"OPENAI_ORGANIZATION\")\n",
    "openai.api_key = os.getenv(\"OPENAI_API_KEY\")\n",
    "\n",
    "response = openai.Completion.create(model=\"text-davinci-003\", prompt=\"Say this is a test\", temperature=0, max_tokens=7)\n",
    "response['choices'][0]['text']"
   ]
  },
  {
   "cell_type": "code",
   "execution_count": 10,
   "metadata": {},
   "outputs": [],
   "source": [
    "questions_explanation = parse_question_explanations()"
   ]
  },
  {
   "cell_type": "code",
   "execution_count": 11,
   "metadata": {},
   "outputs": [],
   "source": [
    "all_parsed_essays = parse_essays()"
   ]
  },
  {
   "cell_type": "code",
   "execution_count": 12,
   "metadata": {},
   "outputs": [],
   "source": [
    "marked_essays, filtered_marked_essays, all_questions = parse_annotations()"
   ]
  },
  {
   "cell_type": "code",
   "execution_count": 13,
   "metadata": {},
   "outputs": [
    {
     "data": {
      "text/plain": [
       "(77, 76)"
      ]
     },
     "execution_count": 13,
     "metadata": {},
     "output_type": "execute_result"
    }
   ],
   "source": [
    "len(all_parsed_essays), len(filtered_marked_essays)"
   ]
  },
  {
   "cell_type": "code",
   "execution_count": 14,
   "metadata": {},
   "outputs": [],
   "source": [
    "model = \"text-davinci-003\"\n",
    "\n",
    "#models simple/ cheap/ fast to advanced:\n",
    "#model = \"ada\"\n",
    "#model = \"babbage\"\n",
    "#model = \"curie\"\n",
    "#model = \"davinci\"\n",
    "\n",
    "#model = \"ada:ft-mark-my-words-2023-05-01-11-44-26\""
   ]
  },
  {
   "cell_type": "code",
   "execution_count": 55,
   "metadata": {},
   "outputs": [],
   "source": [
    "prompt_tpl = 'You are a caring teacher who wants to help their students succeed by understanding their mistakes and how to improve. Given is a student essay and a graded remark to a question. Grades can be numbers between 0 (lowest, worst) and 3 (highest, best). Give a possible reason and detailed explanation for the graded remark along with a reference from the Essay. Use direct form to answer the student. Start with a positive feedback.\\n\\n###\\n\\n'\n",
    "prompt_tpl += 'Essay:\\n{essay}\\n\\n###\\n\\n'\n",
    "prompt_tpl += 'Question:\\n{explanation}\\n{question}\\n\\n###\\n\\n'\n",
    "prompt_tpl += 'Grade: {remark}\\n\\n###\\n\\n'\n",
    "prompt_tpl += 'Answer:'"
   ]
  },
  {
   "cell_type": "code",
   "execution_count": 60,
   "metadata": {},
   "outputs": [],
   "source": [
    "def assemble_citation_prompts(all_parsed_essays, filtered_marked_essays, questions_explanation):\n",
    "\n",
    "    all_prompts = []\n",
    "    for i,essay_array in tqdm.tqdm(enumerate(all_parsed_essays)):\n",
    "\n",
    "        essay_id = int(re.findall(r'\\d+', essay_array[0])[-1])\n",
    "        cur_row = filtered_marked_essays[filtered_marked_essays['essay id'] == essay_id]\n",
    "        if len(cur_row) != 1:\n",
    "            continue\n",
    "\n",
    "        for j,k in questions_explanation.iterrows():\n",
    "            question = k.question\n",
    "            explanation = k.explanation\n",
    "            grade = int(cur_row.iloc[0,j+1])\n",
    "            prompt = prompt_tpl.format(essay=essay_array[3][:-1], #implicit newline\n",
    "                                    question=question.strip(),\n",
    "                                    explanation=explanation.strip(),\n",
    "                                    remark=grade)\n",
    "\n",
    "            all_prompts.append((i, j, prompt, grade))\n",
    "    return all_prompts\n"
   ]
  },
  {
   "cell_type": "code",
   "execution_count": 61,
   "metadata": {},
   "outputs": [
    {
     "name": "stderr",
     "output_type": "stream",
     "text": [
      "77it [00:00, 532.87it/s]\n"
     ]
    }
   ],
   "source": [
    "all_prompts = assemble_citation_prompts(all_parsed_essays, filtered_marked_essays, questions_explanation)"
   ]
  },
  {
   "cell_type": "code",
   "execution_count": null,
   "metadata": {},
   "outputs": [],
   "source": []
  },
  {
   "cell_type": "code",
   "execution_count": 52,
   "metadata": {},
   "outputs": [],
   "source": [
    "LIMIT_PROMPTS = 1"
   ]
  },
  {
   "cell_type": "code",
   "execution_count": 62,
   "metadata": {},
   "outputs": [
    {
     "name": "stderr",
     "output_type": "stream",
     "text": [
      "  0%|          | 0/988 [00:00<?, ?it/s]"
     ]
    },
    {
     "name": "stdout",
     "output_type": "stream",
     "text": [
      "exception, retrying 0\n",
      "exception, retrying 0\n",
      "exception, retrying 0\n"
     ]
    },
    {
     "name": "stderr",
     "output_type": "stream",
     "text": [
      "  0%|          | 1/988 [00:06<1:50:25,  6.71s/it]"
     ]
    },
    {
     "name": "stdout",
     "output_type": "stream",
     "text": [
      "exception, retrying 0\n"
     ]
    },
    {
     "name": "stderr",
     "output_type": "stream",
     "text": [
      "  0%|          | 2/988 [00:19<2:45:51, 10.09s/it]"
     ]
    },
    {
     "name": "stdout",
     "output_type": "stream",
     "text": [
      "exception, retrying 0\n",
      "exception, retrying 0\n"
     ]
    },
    {
     "name": "stderr",
     "output_type": "stream",
     "text": [
      "  0%|          | 3/988 [00:32<3:11:44, 11.68s/it]"
     ]
    },
    {
     "name": "stdout",
     "output_type": "stream",
     "text": [
      "exception, retrying 0\n",
      "exception, retrying 0\n"
     ]
    },
    {
     "name": "stderr",
     "output_type": "stream",
     "text": [
      "  0%|          | 4/988 [00:49<3:46:18, 13.80s/it]"
     ]
    },
    {
     "name": "stdout",
     "output_type": "stream",
     "text": [
      "exception, retrying 0\n"
     ]
    },
    {
     "name": "stderr",
     "output_type": "stream",
     "text": [
      "  1%|          | 6/988 [01:19<3:52:25, 14.20s/it]"
     ]
    },
    {
     "name": "stdout",
     "output_type": "stream",
     "text": [
      "exception, retrying 0\n"
     ]
    },
    {
     "name": "stderr",
     "output_type": "stream",
     "text": [
      "  1%|          | 7/988 [01:33<3:55:26, 14.40s/it]"
     ]
    },
    {
     "name": "stdout",
     "output_type": "stream",
     "text": [
      "exception, retrying 0\n",
      "exception, retrying 0\n"
     ]
    },
    {
     "name": "stderr",
     "output_type": "stream",
     "text": [
      "  1%|          | 8/988 [01:53<4:22:46, 16.09s/it]"
     ]
    },
    {
     "name": "stdout",
     "output_type": "stream",
     "text": [
      "exception, retrying 0\n"
     ]
    },
    {
     "name": "stderr",
     "output_type": "stream",
     "text": [
      "  1%|          | 12/988 [02:39<3:13:30, 11.90s/it]"
     ]
    },
    {
     "name": "stdout",
     "output_type": "stream",
     "text": [
      "exception, retrying 0\n"
     ]
    },
    {
     "name": "stderr",
     "output_type": "stream",
     "text": [
      "  1%|▏         | 13/988 [02:53<3:20:52, 12.36s/it]"
     ]
    },
    {
     "name": "stdout",
     "output_type": "stream",
     "text": [
      "exception, retrying 1\n"
     ]
    },
    {
     "name": "stderr",
     "output_type": "stream",
     "text": [
      "  2%|▏         | 16/988 [03:35<3:34:37, 13.25s/it]"
     ]
    },
    {
     "name": "stdout",
     "output_type": "stream",
     "text": [
      "exception, retrying 1\n",
      "exception, retrying 1\n"
     ]
    },
    {
     "name": "stderr",
     "output_type": "stream",
     "text": [
      "  2%|▏         | 19/988 [04:20<3:42:26, 13.77s/it]"
     ]
    },
    {
     "name": "stdout",
     "output_type": "stream",
     "text": [
      "exception, retrying 1\n"
     ]
    },
    {
     "name": "stderr",
     "output_type": "stream",
     "text": [
      "  2%|▏         | 22/988 [04:54<3:07:13, 11.63s/it]"
     ]
    },
    {
     "name": "stdout",
     "output_type": "stream",
     "text": [
      "exception, retrying 1\n",
      "exception, retrying 1\n",
      "exception, retrying 1\n"
     ]
    },
    {
     "name": "stderr",
     "output_type": "stream",
     "text": [
      "  2%|▏         | 24/988 [05:15<3:02:17, 11.35s/it]"
     ]
    },
    {
     "name": "stdout",
     "output_type": "stream",
     "text": [
      "exception, retrying 1\n"
     ]
    },
    {
     "name": "stderr",
     "output_type": "stream",
     "text": [
      "  4%|▍         | 39/988 [07:59<2:45:17, 10.45s/it]"
     ]
    },
    {
     "name": "stdout",
     "output_type": "stream",
     "text": [
      "exception, retrying 3\n"
     ]
    },
    {
     "name": "stderr",
     "output_type": "stream",
     "text": [
      "  4%|▍         | 40/988 [08:11<2:50:22, 10.78s/it]"
     ]
    },
    {
     "name": "stdout",
     "output_type": "stream",
     "text": [
      "exception, retrying 3\n"
     ]
    },
    {
     "name": "stderr",
     "output_type": "stream",
     "text": [
      "  5%|▍         | 45/988 [08:57<2:17:25,  8.74s/it]"
     ]
    },
    {
     "name": "stdout",
     "output_type": "stream",
     "text": [
      "exception, retrying 3\n"
     ]
    },
    {
     "name": "stderr",
     "output_type": "stream",
     "text": [
      "  5%|▍         | 46/988 [09:09<2:30:06,  9.56s/it]"
     ]
    },
    {
     "name": "stdout",
     "output_type": "stream",
     "text": [
      "exception, retrying 3\n"
     ]
    },
    {
     "name": "stderr",
     "output_type": "stream",
     "text": [
      "  5%|▍         | 48/988 [09:28<2:29:17,  9.53s/it]"
     ]
    },
    {
     "name": "stdout",
     "output_type": "stream",
     "text": [
      "exception, retrying 3\n",
      "exception, retrying 3\n"
     ]
    },
    {
     "name": "stderr",
     "output_type": "stream",
     "text": [
      "  5%|▌         | 53/988 [10:15<2:24:17,  9.26s/it]"
     ]
    },
    {
     "name": "stdout",
     "output_type": "stream",
     "text": [
      "exception, retrying 4\n"
     ]
    },
    {
     "name": "stderr",
     "output_type": "stream",
     "text": [
      "  6%|▌         | 58/988 [11:28<3:27:05, 13.36s/it]"
     ]
    },
    {
     "name": "stdout",
     "output_type": "stream",
     "text": [
      "exception, retrying 4\n"
     ]
    },
    {
     "name": "stderr",
     "output_type": "stream",
     "text": [
      "  6%|▋         | 64/988 [12:34<2:39:46, 10.38s/it]"
     ]
    },
    {
     "name": "stdout",
     "output_type": "stream",
     "text": [
      "exception, retrying 4\n",
      "exception, retrying 4\n"
     ]
    },
    {
     "name": "stderr",
     "output_type": "stream",
     "text": [
      "  9%|▊         | 84/988 [16:26<2:42:34, 10.79s/it]"
     ]
    },
    {
     "name": "stdout",
     "output_type": "stream",
     "text": [
      "exception, retrying 6\n"
     ]
    },
    {
     "name": "stderr",
     "output_type": "stream",
     "text": [
      "  9%|▉         | 91/988 [17:48<2:58:11, 11.92s/it]"
     ]
    },
    {
     "name": "stdout",
     "output_type": "stream",
     "text": [
      "exception, retrying 7\n",
      "exception, retrying 7\n"
     ]
    },
    {
     "name": "stderr",
     "output_type": "stream",
     "text": [
      " 10%|█         | 99/988 [19:24<2:37:27, 10.63s/it]"
     ]
    },
    {
     "name": "stdout",
     "output_type": "stream",
     "text": [
      "exception, retrying 7\n"
     ]
    },
    {
     "name": "stderr",
     "output_type": "stream",
     "text": [
      " 10%|█         | 101/988 [19:50<2:53:19, 11.72s/it]"
     ]
    },
    {
     "name": "stdout",
     "output_type": "stream",
     "text": [
      "exception, retrying 7\n"
     ]
    },
    {
     "name": "stderr",
     "output_type": "stream",
     "text": [
      " 11%|█         | 111/988 [21:42<2:54:02, 11.91s/it]"
     ]
    },
    {
     "name": "stdout",
     "output_type": "stream",
     "text": [
      "exception, retrying 8\n",
      "exception, retrying 8\n"
     ]
    },
    {
     "name": "stderr",
     "output_type": "stream",
     "text": [
      " 11%|█▏        | 112/988 [22:04<3:39:05, 15.01s/it]"
     ]
    },
    {
     "name": "stdout",
     "output_type": "stream",
     "text": [
      "exception, retrying 8\n",
      "exception, retrying 8\n"
     ]
    },
    {
     "name": "stderr",
     "output_type": "stream",
     "text": [
      " 12%|█▏        | 114/988 [22:31<3:21:40, 13.84s/it]"
     ]
    },
    {
     "name": "stdout",
     "output_type": "stream",
     "text": [
      "exception, retrying 8\n"
     ]
    },
    {
     "name": "stderr",
     "output_type": "stream",
     "text": [
      " 13%|█▎        | 131/988 [26:19<3:17:31, 13.83s/it]"
     ]
    },
    {
     "name": "stdout",
     "output_type": "stream",
     "text": [
      "exception, retrying 10\n"
     ]
    },
    {
     "name": "stderr",
     "output_type": "stream",
     "text": [
      " 13%|█▎        | 133/988 [26:53<3:33:03, 14.95s/it]"
     ]
    },
    {
     "name": "stdout",
     "output_type": "stream",
     "text": [
      "exception, retrying 10\n"
     ]
    },
    {
     "name": "stderr",
     "output_type": "stream",
     "text": [
      " 14%|█▎        | 135/988 [27:21<3:29:03, 14.71s/it]"
     ]
    },
    {
     "name": "stdout",
     "output_type": "stream",
     "text": [
      "exception, retrying 10\n"
     ]
    },
    {
     "name": "stderr",
     "output_type": "stream",
     "text": [
      " 15%|█▍        | 147/988 [29:57<2:52:17, 12.29s/it]"
     ]
    },
    {
     "name": "stdout",
     "output_type": "stream",
     "text": [
      "exception, retrying 11\n"
     ]
    },
    {
     "name": "stderr",
     "output_type": "stream",
     "text": [
      " 15%|█▌        | 151/988 [30:50<3:00:10, 12.92s/it]"
     ]
    },
    {
     "name": "stdout",
     "output_type": "stream",
     "text": [
      "exception, retrying 11\n"
     ]
    },
    {
     "name": "stderr",
     "output_type": "stream",
     "text": [
      " 15%|█▌        | 153/988 [31:12<2:46:46, 11.98s/it]"
     ]
    },
    {
     "name": "stdout",
     "output_type": "stream",
     "text": [
      "exception, retrying 11\n"
     ]
    },
    {
     "name": "stderr",
     "output_type": "stream",
     "text": [
      " 16%|█▌        | 157/988 [32:08<2:48:30, 12.17s/it]"
     ]
    },
    {
     "name": "stdout",
     "output_type": "stream",
     "text": [
      "exception, retrying 12\n",
      "exception, retrying 12\n"
     ]
    },
    {
     "name": "stderr",
     "output_type": "stream",
     "text": [
      " 16%|█▌        | 159/988 [32:45<3:25:46, 14.89s/it]"
     ]
    },
    {
     "name": "stdout",
     "output_type": "stream",
     "text": [
      "exception, retrying 12\n"
     ]
    },
    {
     "name": "stderr",
     "output_type": "stream",
     "text": [
      " 16%|█▌        | 160/988 [33:00<3:24:41, 14.83s/it]"
     ]
    },
    {
     "name": "stdout",
     "output_type": "stream",
     "text": [
      "exception, retrying 12\n"
     ]
    },
    {
     "name": "stderr",
     "output_type": "stream",
     "text": [
      " 17%|█▋        | 169/988 [34:51<2:33:32, 11.25s/it]"
     ]
    },
    {
     "name": "stdout",
     "output_type": "stream",
     "text": [
      "exception, retrying 13\n"
     ]
    },
    {
     "name": "stderr",
     "output_type": "stream",
     "text": [
      " 17%|█▋        | 172/988 [35:34<2:57:02, 13.02s/it]"
     ]
    },
    {
     "name": "stdout",
     "output_type": "stream",
     "text": [
      "exception, retrying 13\n"
     ]
    },
    {
     "name": "stderr",
     "output_type": "stream",
     "text": [
      " 18%|█▊        | 178/988 [36:46<2:31:55, 11.25s/it]"
     ]
    },
    {
     "name": "stdout",
     "output_type": "stream",
     "text": [
      "exception, retrying 13\n"
     ]
    },
    {
     "name": "stderr",
     "output_type": "stream",
     "text": [
      " 18%|█▊        | 180/988 [37:12<2:41:23, 11.98s/it]"
     ]
    },
    {
     "name": "stdout",
     "output_type": "stream",
     "text": [
      "exception, retrying 13\n"
     ]
    },
    {
     "name": "stderr",
     "output_type": "stream",
     "text": [
      " 19%|█▉        | 187/988 [38:38<3:00:26, 13.52s/it]"
     ]
    },
    {
     "name": "stdout",
     "output_type": "stream",
     "text": [
      "exception, retrying 14\n",
      "exception, retrying 14\n"
     ]
    },
    {
     "name": "stderr",
     "output_type": "stream",
     "text": [
      " 19%|█▉        | 189/988 [39:10<3:14:57, 14.64s/it]"
     ]
    },
    {
     "name": "stdout",
     "output_type": "stream",
     "text": [
      "exception, retrying 14\n",
      "exception, retrying 14\n"
     ]
    },
    {
     "name": "stderr",
     "output_type": "stream",
     "text": [
      " 20%|█▉        | 194/988 [40:13<2:42:47, 12.30s/it]"
     ]
    },
    {
     "name": "stdout",
     "output_type": "stream",
     "text": [
      "exception, retrying 14\n"
     ]
    },
    {
     "name": "stderr",
     "output_type": "stream",
     "text": [
      " 21%|██        | 206/988 [42:43<2:48:28, 12.93s/it]"
     ]
    },
    {
     "name": "stdout",
     "output_type": "stream",
     "text": [
      "exception, retrying 15\n"
     ]
    },
    {
     "name": "stderr",
     "output_type": "stream",
     "text": [
      " 21%|██▏       | 211/988 [43:46<2:50:29, 13.17s/it]"
     ]
    },
    {
     "name": "stdout",
     "output_type": "stream",
     "text": [
      "exception, retrying 16\n"
     ]
    },
    {
     "name": "stderr",
     "output_type": "stream",
     "text": [
      " 22%|██▏       | 215/988 [44:47<2:58:43, 13.87s/it]"
     ]
    },
    {
     "name": "stdout",
     "output_type": "stream",
     "text": [
      "exception, retrying 16\n",
      "exception, retrying 16\n"
     ]
    },
    {
     "name": "stderr",
     "output_type": "stream",
     "text": [
      " 22%|██▏       | 218/988 [45:28<2:46:11, 12.95s/it]"
     ]
    },
    {
     "name": "stdout",
     "output_type": "stream",
     "text": [
      "exception, retrying 16\n"
     ]
    },
    {
     "name": "stderr",
     "output_type": "stream",
     "text": [
      " 22%|██▏       | 220/988 [45:52<2:37:50, 12.33s/it]"
     ]
    },
    {
     "name": "stdout",
     "output_type": "stream",
     "text": [
      "exception, retrying 16\n"
     ]
    },
    {
     "name": "stderr",
     "output_type": "stream",
     "text": [
      " 23%|██▎       | 229/988 [47:44<2:47:11, 13.22s/it]"
     ]
    },
    {
     "name": "stdout",
     "output_type": "stream",
     "text": [
      "exception, retrying 17\n"
     ]
    },
    {
     "name": "stderr",
     "output_type": "stream",
     "text": [
      " 23%|██▎       | 230/988 [47:55<2:39:22, 12.62s/it]"
     ]
    },
    {
     "name": "stdout",
     "output_type": "stream",
     "text": [
      "exception, retrying 17\n"
     ]
    },
    {
     "name": "stderr",
     "output_type": "stream",
     "text": [
      " 24%|██▍       | 235/988 [49:11<2:52:50, 13.77s/it]"
     ]
    },
    {
     "name": "stdout",
     "output_type": "stream",
     "text": [
      "exception, retrying 18\n"
     ]
    },
    {
     "name": "stderr",
     "output_type": "stream",
     "text": [
      " 24%|██▍       | 237/988 [49:36<2:43:52, 13.09s/it]"
     ]
    },
    {
     "name": "stdout",
     "output_type": "stream",
     "text": [
      "exception, retrying 18\n"
     ]
    },
    {
     "name": "stderr",
     "output_type": "stream",
     "text": [
      " 25%|██▍       | 243/988 [50:44<2:19:13, 11.21s/it]"
     ]
    },
    {
     "name": "stdout",
     "output_type": "stream",
     "text": [
      "exception, retrying 18\n"
     ]
    },
    {
     "name": "stderr",
     "output_type": "stream",
     "text": [
      " 25%|██▌       | 247/988 [51:48<2:47:27, 13.56s/it]"
     ]
    },
    {
     "name": "stdout",
     "output_type": "stream",
     "text": [
      "exception, retrying 19\n"
     ]
    },
    {
     "name": "stderr",
     "output_type": "stream",
     "text": [
      " 25%|██▌       | 250/988 [52:32<2:52:32, 14.03s/it]"
     ]
    },
    {
     "name": "stdout",
     "output_type": "stream",
     "text": [
      "exception, retrying 19\n",
      "exception, retrying 19\n",
      "exception, retrying 19\n"
     ]
    },
    {
     "name": "stderr",
     "output_type": "stream",
     "text": [
      " 26%|██▌       | 252/988 [52:51<2:25:41, 11.88s/it]"
     ]
    },
    {
     "name": "stdout",
     "output_type": "stream",
     "text": [
      "exception, retrying 19\n"
     ]
    },
    {
     "name": "stderr",
     "output_type": "stream",
     "text": [
      " 26%|██▌       | 254/988 [53:17<2:30:21, 12.29s/it]"
     ]
    },
    {
     "name": "stdout",
     "output_type": "stream",
     "text": [
      "exception, retrying 19\n"
     ]
    },
    {
     "name": "stderr",
     "output_type": "stream",
     "text": [
      " 26%|██▌       | 259/988 [54:20<2:30:15, 12.37s/it]"
     ]
    },
    {
     "name": "stdout",
     "output_type": "stream",
     "text": [
      "exception, retrying 19\n"
     ]
    },
    {
     "name": "stderr",
     "output_type": "stream",
     "text": [
      " 27%|██▋       | 262/988 [55:06<3:00:17, 14.90s/it]"
     ]
    },
    {
     "name": "stdout",
     "output_type": "stream",
     "text": [
      "exception, retrying 20\n"
     ]
    },
    {
     "name": "stderr",
     "output_type": "stream",
     "text": [
      " 27%|██▋       | 266/988 [55:47<2:13:53, 11.13s/it]"
     ]
    },
    {
     "name": "stdout",
     "output_type": "stream",
     "text": [
      "exception, retrying 20\n",
      "exception, retrying 20\n"
     ]
    },
    {
     "name": "stderr",
     "output_type": "stream",
     "text": [
      " 27%|██▋       | 271/988 [57:00<2:35:09, 12.98s/it]"
     ]
    },
    {
     "name": "stdout",
     "output_type": "stream",
     "text": [
      "exception, retrying 20\n"
     ]
    },
    {
     "name": "stderr",
     "output_type": "stream",
     "text": [
      " 28%|██▊       | 273/988 [57:21<2:17:04, 11.50s/it]"
     ]
    },
    {
     "name": "stdout",
     "output_type": "stream",
     "text": [
      "exception, retrying 21\n"
     ]
    },
    {
     "name": "stderr",
     "output_type": "stream",
     "text": [
      " 28%|██▊       | 275/988 [57:47<2:27:07, 12.38s/it]"
     ]
    },
    {
     "name": "stdout",
     "output_type": "stream",
     "text": [
      "exception, retrying 21\n"
     ]
    },
    {
     "name": "stderr",
     "output_type": "stream",
     "text": [
      " 28%|██▊       | 277/988 [58:12<2:25:53, 12.31s/it]"
     ]
    },
    {
     "name": "stdout",
     "output_type": "stream",
     "text": [
      "exception, retrying 21\n"
     ]
    },
    {
     "name": "stderr",
     "output_type": "stream",
     "text": [
      " 28%|██▊       | 279/988 [58:36<2:23:58, 12.18s/it]"
     ]
    },
    {
     "name": "stdout",
     "output_type": "stream",
     "text": [
      "exception, retrying 21\n"
     ]
    },
    {
     "name": "stderr",
     "output_type": "stream",
     "text": [
      " 29%|██▊       | 282/988 [59:16<2:30:48, 12.82s/it]"
     ]
    },
    {
     "name": "stdout",
     "output_type": "stream",
     "text": [
      "exception, retrying 21\n"
     ]
    },
    {
     "name": "stderr",
     "output_type": "stream",
     "text": [
      " 29%|██▉       | 291/988 [1:01:03<2:10:54, 11.27s/it]"
     ]
    },
    {
     "name": "stdout",
     "output_type": "stream",
     "text": [
      "exception, retrying 22\n"
     ]
    },
    {
     "name": "stderr",
     "output_type": "stream",
     "text": [
      " 30%|███       | 299/988 [1:02:44<2:14:48, 11.74s/it]"
     ]
    },
    {
     "name": "stdout",
     "output_type": "stream",
     "text": [
      "exception, retrying 23\n"
     ]
    },
    {
     "name": "stderr",
     "output_type": "stream",
     "text": [
      " 31%|███       | 305/988 [1:03:59<2:15:44, 11.92s/it]"
     ]
    },
    {
     "name": "stdout",
     "output_type": "stream",
     "text": [
      "exception, retrying 23\n"
     ]
    },
    {
     "name": "stderr",
     "output_type": "stream",
     "text": [
      " 31%|███       | 306/988 [1:04:11<2:16:51, 12.04s/it]"
     ]
    },
    {
     "name": "stdout",
     "output_type": "stream",
     "text": [
      "exception, retrying 23\n"
     ]
    },
    {
     "name": "stderr",
     "output_type": "stream",
     "text": [
      " 31%|███▏      | 311/988 [1:05:17<2:13:49, 11.86s/it]"
     ]
    },
    {
     "name": "stdout",
     "output_type": "stream",
     "text": [
      "exception, retrying 23\n"
     ]
    },
    {
     "name": "stderr",
     "output_type": "stream",
     "text": [
      " 32%|███▏      | 315/988 [1:06:03<2:07:37, 11.38s/it]"
     ]
    },
    {
     "name": "stdout",
     "output_type": "stream",
     "text": [
      "exception, retrying 24\n"
     ]
    },
    {
     "name": "stderr",
     "output_type": "stream",
     "text": [
      " 32%|███▏      | 321/988 [1:07:10<2:03:27, 11.11s/it]"
     ]
    },
    {
     "name": "stdout",
     "output_type": "stream",
     "text": [
      "exception, retrying 24\n"
     ]
    },
    {
     "name": "stderr",
     "output_type": "stream",
     "text": [
      " 34%|███▍      | 337/988 [1:10:00<1:56:21, 10.72s/it]"
     ]
    },
    {
     "name": "stdout",
     "output_type": "stream",
     "text": [
      "exception, retrying 25\n"
     ]
    },
    {
     "name": "stderr",
     "output_type": "stream",
     "text": [
      " 34%|███▍      | 340/988 [1:10:38<2:10:24, 12.08s/it]"
     ]
    },
    {
     "name": "stdout",
     "output_type": "stream",
     "text": [
      "exception, retrying 26\n"
     ]
    },
    {
     "name": "stderr",
     "output_type": "stream",
     "text": [
      " 35%|███▍      | 342/988 [1:11:06<2:17:16, 12.75s/it]"
     ]
    },
    {
     "name": "stdout",
     "output_type": "stream",
     "text": [
      "exception, retrying 26\n"
     ]
    },
    {
     "name": "stderr",
     "output_type": "stream",
     "text": [
      " 36%|███▌      | 357/988 [1:14:03<1:58:34, 11.27s/it]"
     ]
    },
    {
     "name": "stdout",
     "output_type": "stream",
     "text": [
      "exception, retrying 27\n"
     ]
    },
    {
     "name": "stderr",
     "output_type": "stream",
     "text": [
      " 37%|███▋      | 361/988 [3:41:36<159:50:43, 917.77s/it] "
     ]
    },
    {
     "name": "stdout",
     "output_type": "stream",
     "text": [
      "exception, retrying 27\n",
      "exception, retrying 27\n"
     ]
    },
    {
     "name": "stderr",
     "output_type": "stream",
     "text": [
      " 37%|███▋      | 366/988 [3:42:33<28:11:41, 163.19s/it] "
     ]
    },
    {
     "name": "stdout",
     "output_type": "stream",
     "text": [
      "exception, retrying 28\n"
     ]
    },
    {
     "name": "stderr",
     "output_type": "stream",
     "text": [
      " 37%|███▋      | 368/988 [3:42:58<14:49:09, 86.05s/it] "
     ]
    },
    {
     "name": "stdout",
     "output_type": "stream",
     "text": [
      "exception, retrying 28\n"
     ]
    },
    {
     "name": "stderr",
     "output_type": "stream",
     "text": [
      " 37%|███▋      | 369/988 [3:43:11<11:01:12, 64.09s/it]"
     ]
    },
    {
     "name": "stdout",
     "output_type": "stream",
     "text": [
      "exception, retrying 28\n"
     ]
    },
    {
     "name": "stderr",
     "output_type": "stream",
     "text": [
      " 38%|███▊      | 374/988 [3:44:05<3:17:49, 19.33s/it] "
     ]
    },
    {
     "name": "stdout",
     "output_type": "stream",
     "text": [
      "exception, retrying 28\n"
     ]
    },
    {
     "name": "stderr",
     "output_type": "stream",
     "text": [
      " 38%|███▊      | 377/988 [3:44:39<2:17:06, 13.46s/it]"
     ]
    },
    {
     "name": "stdout",
     "output_type": "stream",
     "text": [
      "exception, retrying 29\n"
     ]
    },
    {
     "name": "stderr",
     "output_type": "stream",
     "text": [
      " 38%|███▊      | 379/988 [3:45:13<2:35:03, 15.28s/it]"
     ]
    },
    {
     "name": "stdout",
     "output_type": "stream",
     "text": [
      "exception, retrying 29\n"
     ]
    },
    {
     "name": "stderr",
     "output_type": "stream",
     "text": [
      " 40%|████      | 398/988 [3:49:25<2:02:48, 12.49s/it]"
     ]
    },
    {
     "name": "stdout",
     "output_type": "stream",
     "text": [
      "exception, retrying 30\n"
     ]
    },
    {
     "name": "stderr",
     "output_type": "stream",
     "text": [
      " 40%|████      | 399/988 [3:49:39<2:09:18, 13.17s/it]"
     ]
    },
    {
     "name": "stdout",
     "output_type": "stream",
     "text": [
      "exception, retrying 30\n"
     ]
    },
    {
     "name": "stderr",
     "output_type": "stream",
     "text": [
      " 41%|████      | 403/988 [3:50:30<1:57:29, 12.05s/it]"
     ]
    },
    {
     "name": "stdout",
     "output_type": "stream",
     "text": [
      "exception, retrying 31\n",
      "exception, retrying 31\n"
     ]
    },
    {
     "name": "stderr",
     "output_type": "stream",
     "text": [
      " 42%|████▏     | 414/988 [3:52:36<1:47:43, 11.26s/it]"
     ]
    },
    {
     "name": "stdout",
     "output_type": "stream",
     "text": [
      "exception, retrying 31\n"
     ]
    },
    {
     "name": "stderr",
     "output_type": "stream",
     "text": [
      " 42%|████▏     | 417/988 [3:53:11<1:50:05, 11.57s/it]"
     ]
    },
    {
     "name": "stdout",
     "output_type": "stream",
     "text": [
      "exception, retrying 32\n"
     ]
    },
    {
     "name": "stderr",
     "output_type": "stream",
     "text": [
      " 42%|████▏     | 419/988 [3:53:46<2:15:49, 14.32s/it]"
     ]
    },
    {
     "name": "stdout",
     "output_type": "stream",
     "text": [
      "exception, retrying 32\n"
     ]
    },
    {
     "name": "stderr",
     "output_type": "stream",
     "text": [
      " 43%|████▎     | 421/988 [3:54:12<2:10:05, 13.77s/it]"
     ]
    },
    {
     "name": "stdout",
     "output_type": "stream",
     "text": [
      "exception, retrying 32\n"
     ]
    },
    {
     "name": "stderr",
     "output_type": "stream",
     "text": [
      " 43%|████▎     | 423/988 [3:54:40<2:08:11, 13.61s/it]"
     ]
    },
    {
     "name": "stdout",
     "output_type": "stream",
     "text": [
      "exception, retrying 32\n",
      "exception, retrying 32\n",
      "exception, retrying 32\n"
     ]
    },
    {
     "name": "stderr",
     "output_type": "stream",
     "text": [
      " 43%|████▎     | 426/988 [3:55:12<1:54:59, 12.28s/it]"
     ]
    },
    {
     "name": "stdout",
     "output_type": "stream",
     "text": [
      "exception, retrying 32\n"
     ]
    },
    {
     "name": "stderr",
     "output_type": "stream",
     "text": [
      " 43%|████▎     | 428/988 [3:55:47<2:16:55, 14.67s/it]"
     ]
    },
    {
     "name": "stdout",
     "output_type": "stream",
     "text": [
      "exception, retrying 32\n",
      "exception, retrying 32\n"
     ]
    },
    {
     "name": "stderr",
     "output_type": "stream",
     "text": [
      " 44%|████▍     | 434/988 [3:57:22<2:20:30, 15.22s/it]"
     ]
    },
    {
     "name": "stdout",
     "output_type": "stream",
     "text": [
      "exception, retrying 33\n",
      "exception, retrying 33\n"
     ]
    },
    {
     "name": "stderr",
     "output_type": "stream",
     "text": [
      " 45%|████▍     | 440/988 [3:58:40<1:50:58, 12.15s/it]"
     ]
    },
    {
     "name": "stdout",
     "output_type": "stream",
     "text": [
      "exception, retrying 33\n"
     ]
    },
    {
     "name": "stderr",
     "output_type": "stream",
     "text": [
      " 45%|████▍     | 442/988 [3:59:05<1:51:45, 12.28s/it]"
     ]
    },
    {
     "name": "stdout",
     "output_type": "stream",
     "text": [
      "exception, retrying 34\n"
     ]
    },
    {
     "name": "stderr",
     "output_type": "stream",
     "text": [
      " 45%|████▍     | 444/988 [3:59:35<2:03:48, 13.65s/it]"
     ]
    },
    {
     "name": "stdout",
     "output_type": "stream",
     "text": [
      "exception, retrying 34\n"
     ]
    },
    {
     "name": "stderr",
     "output_type": "stream",
     "text": [
      " 45%|████▌     | 448/988 [4:00:33<2:07:37, 14.18s/it]"
     ]
    },
    {
     "name": "stdout",
     "output_type": "stream",
     "text": [
      "exception, retrying 34\n"
     ]
    },
    {
     "name": "stderr",
     "output_type": "stream",
     "text": [
      " 46%|████▌     | 450/988 [4:01:07<2:21:07, 15.74s/it]"
     ]
    },
    {
     "name": "stdout",
     "output_type": "stream",
     "text": [
      "exception, retrying 34\n",
      "exception, retrying 34\n",
      "exception, retrying 34\n"
     ]
    },
    {
     "name": "stderr",
     "output_type": "stream",
     "text": [
      " 46%|████▌     | 455/988 [4:02:09<1:56:49, 13.15s/it]"
     ]
    },
    {
     "name": "stdout",
     "output_type": "stream",
     "text": [
      "exception, retrying 35\n"
     ]
    },
    {
     "name": "stderr",
     "output_type": "stream",
     "text": [
      " 46%|████▋     | 457/988 [4:02:33<1:52:00, 12.66s/it]"
     ]
    },
    {
     "name": "stdout",
     "output_type": "stream",
     "text": [
      "exception, retrying 35\n"
     ]
    },
    {
     "name": "stderr",
     "output_type": "stream",
     "text": [
      " 47%|████▋     | 466/988 [4:04:49<2:30:15, 17.27s/it]"
     ]
    },
    {
     "name": "stdout",
     "output_type": "stream",
     "text": [
      "exception, retrying 35\n",
      "exception, retrying 35\n",
      "exception, retrying 35\n"
     ]
    },
    {
     "name": "stderr",
     "output_type": "stream",
     "text": [
      " 48%|████▊     | 478/988 [4:07:08<1:43:08, 12.13s/it]"
     ]
    },
    {
     "name": "stdout",
     "output_type": "stream",
     "text": [
      "exception, retrying 36\n"
     ]
    },
    {
     "name": "stderr",
     "output_type": "stream",
     "text": [
      " 49%|████▉     | 489/988 [4:09:14<1:29:07, 10.72s/it]"
     ]
    },
    {
     "name": "stdout",
     "output_type": "stream",
     "text": [
      "exception, retrying 37\n"
     ]
    },
    {
     "name": "stderr",
     "output_type": "stream",
     "text": [
      " 50%|█████     | 494/988 [4:10:16<1:41:03, 12.27s/it]"
     ]
    },
    {
     "name": "stdout",
     "output_type": "stream",
     "text": [
      "exception, retrying 38\n"
     ]
    },
    {
     "name": "stderr",
     "output_type": "stream",
     "text": [
      " 50%|█████     | 497/988 [4:11:06<2:02:29, 14.97s/it]"
     ]
    },
    {
     "name": "stdout",
     "output_type": "stream",
     "text": [
      "exception, retrying 38\n",
      "exception, retrying 38\n",
      "exception, retrying 38\n"
     ]
    },
    {
     "name": "stderr",
     "output_type": "stream",
     "text": [
      " 51%|█████     | 501/988 [4:11:54<1:49:29, 13.49s/it]"
     ]
    },
    {
     "name": "stdout",
     "output_type": "stream",
     "text": [
      "exception, retrying 38\n"
     ]
    },
    {
     "name": "stderr",
     "output_type": "stream",
     "text": [
      " 52%|█████▏    | 509/988 [4:13:33<1:35:54, 12.01s/it]"
     ]
    },
    {
     "name": "stdout",
     "output_type": "stream",
     "text": [
      "exception, retrying 39\n",
      "exception, retrying 39\n"
     ]
    },
    {
     "name": "stderr",
     "output_type": "stream",
     "text": [
      " 52%|█████▏    | 514/988 [4:15:02<1:59:10, 15.08s/it]"
     ]
    },
    {
     "name": "stdout",
     "output_type": "stream",
     "text": [
      "exception, retrying 39\n"
     ]
    },
    {
     "name": "stderr",
     "output_type": "stream",
     "text": [
      " 52%|█████▏    | 516/988 [4:15:32<1:57:00, 14.87s/it]"
     ]
    },
    {
     "name": "stdout",
     "output_type": "stream",
     "text": [
      "exception, retrying 39\n",
      "exception, retrying 39\n"
     ]
    },
    {
     "name": "stderr",
     "output_type": "stream",
     "text": [
      " 52%|█████▏    | 517/988 [4:15:48<1:58:48, 15.13s/it]"
     ]
    },
    {
     "name": "stdout",
     "output_type": "stream",
     "text": [
      "exception, retrying 39\n"
     ]
    },
    {
     "name": "stderr",
     "output_type": "stream",
     "text": [
      " 53%|█████▎    | 519/988 [4:16:11<1:39:57, 12.79s/it]"
     ]
    },
    {
     "name": "stdout",
     "output_type": "stream",
     "text": [
      "exception, retrying 39\n"
     ]
    },
    {
     "name": "stderr",
     "output_type": "stream",
     "text": [
      " 53%|█████▎    | 520/988 [4:16:28<1:49:59, 14.10s/it]"
     ]
    },
    {
     "name": "stdout",
     "output_type": "stream",
     "text": [
      "exception, retrying 40\n"
     ]
    },
    {
     "name": "stderr",
     "output_type": "stream",
     "text": [
      " 53%|█████▎    | 522/988 [4:16:46<1:29:02, 11.46s/it]"
     ]
    },
    {
     "name": "stdout",
     "output_type": "stream",
     "text": [
      "exception, retrying 40\n",
      "exception, retrying 40\n"
     ]
    },
    {
     "name": "stderr",
     "output_type": "stream",
     "text": [
      " 53%|█████▎    | 523/988 [4:17:02<1:37:41, 12.61s/it]"
     ]
    },
    {
     "name": "stdout",
     "output_type": "stream",
     "text": [
      "exception, retrying 40\n",
      "exception, retrying 40\n"
     ]
    },
    {
     "name": "stderr",
     "output_type": "stream",
     "text": [
      " 53%|█████▎    | 526/988 [4:17:40<1:35:58, 12.46s/it]"
     ]
    },
    {
     "name": "stdout",
     "output_type": "stream",
     "text": [
      "exception, retrying 40\n",
      "exception, retrying 40\n"
     ]
    },
    {
     "name": "stderr",
     "output_type": "stream",
     "text": [
      " 53%|█████▎    | 528/988 [4:18:06<1:37:47, 12.76s/it]"
     ]
    },
    {
     "name": "stdout",
     "output_type": "stream",
     "text": [
      "exception, retrying 40\n"
     ]
    },
    {
     "name": "stderr",
     "output_type": "stream",
     "text": [
      " 54%|█████▎    | 530/988 [4:18:29<1:30:32, 11.86s/it]"
     ]
    },
    {
     "name": "stdout",
     "output_type": "stream",
     "text": [
      "exception, retrying 40\n",
      "exception, retrying 40\n"
     ]
    },
    {
     "name": "stderr",
     "output_type": "stream",
     "text": [
      " 54%|█████▎    | 531/988 [4:18:43<1:35:59, 12.60s/it]"
     ]
    },
    {
     "name": "stdout",
     "output_type": "stream",
     "text": [
      "exception, retrying 40\n"
     ]
    },
    {
     "name": "stderr",
     "output_type": "stream",
     "text": [
      " 54%|█████▍    | 534/988 [4:19:20<1:31:37, 12.11s/it]"
     ]
    },
    {
     "name": "stdout",
     "output_type": "stream",
     "text": [
      "exception, retrying 41\n"
     ]
    },
    {
     "name": "stderr",
     "output_type": "stream",
     "text": [
      " 54%|█████▍    | 535/988 [4:19:36<1:40:53, 13.36s/it]"
     ]
    },
    {
     "name": "stdout",
     "output_type": "stream",
     "text": [
      "exception, retrying 41\n",
      "exception, retrying 41\n",
      "exception, retrying 41\n"
     ]
    },
    {
     "name": "stderr",
     "output_type": "stream",
     "text": [
      " 55%|█████▍    | 539/988 [4:20:15<1:21:06, 10.84s/it]"
     ]
    },
    {
     "name": "stdout",
     "output_type": "stream",
     "text": [
      "exception, retrying 41\n"
     ]
    },
    {
     "name": "stderr",
     "output_type": "stream",
     "text": [
      " 55%|█████▍    | 542/988 [4:20:50<1:24:10, 11.32s/it]"
     ]
    },
    {
     "name": "stdout",
     "output_type": "stream",
     "text": [
      "exception, retrying 41\n"
     ]
    },
    {
     "name": "stderr",
     "output_type": "stream",
     "text": [
      " 55%|█████▌    | 544/988 [4:21:19<1:34:27, 12.77s/it]"
     ]
    },
    {
     "name": "stdout",
     "output_type": "stream",
     "text": [
      "exception, retrying 41\n"
     ]
    },
    {
     "name": "stderr",
     "output_type": "stream",
     "text": [
      " 56%|█████▌    | 553/988 [4:23:16<1:42:27, 14.13s/it]"
     ]
    },
    {
     "name": "stdout",
     "output_type": "stream",
     "text": [
      "exception, retrying 42\n"
     ]
    },
    {
     "name": "stderr",
     "output_type": "stream",
     "text": [
      " 59%|█████▉    | 585/988 [4:29:54<1:26:06, 12.82s/it]"
     ]
    },
    {
     "name": "stdout",
     "output_type": "stream",
     "text": [
      "exception, retrying 45\n"
     ]
    },
    {
     "name": "stderr",
     "output_type": "stream",
     "text": [
      " 60%|█████▉    | 590/988 [4:31:11<1:30:50, 13.70s/it]"
     ]
    },
    {
     "name": "stdout",
     "output_type": "stream",
     "text": [
      "exception, retrying 45\n"
     ]
    },
    {
     "name": "stderr",
     "output_type": "stream",
     "text": [
      " 60%|██████    | 596/988 [4:32:52<1:48:44, 16.64s/it]"
     ]
    },
    {
     "name": "stdout",
     "output_type": "stream",
     "text": [
      "exception, retrying 45\n"
     ]
    },
    {
     "name": "stderr",
     "output_type": "stream",
     "text": [
      " 61%|██████    | 599/988 [4:52:34<19:40:10, 182.03s/it]"
     ]
    },
    {
     "name": "stdout",
     "output_type": "stream",
     "text": [
      "exception, retrying 46\n"
     ]
    },
    {
     "name": "stderr",
     "output_type": "stream",
     "text": [
      " 61%|██████    | 605/988 [4:53:55<3:30:38, 33.00s/it]  "
     ]
    },
    {
     "name": "stdout",
     "output_type": "stream",
     "text": [
      "exception, retrying 46\n"
     ]
    },
    {
     "name": "stderr",
     "output_type": "stream",
     "text": [
      " 64%|██████▍   | 633/988 [4:59:45<1:11:20, 12.06s/it]"
     ]
    },
    {
     "name": "stdout",
     "output_type": "stream",
     "text": [
      "exception, retrying 48\n",
      "exception, retrying 48\n",
      "exception, retrying 48\n"
     ]
    },
    {
     "name": "stderr",
     "output_type": "stream",
     "text": [
      " 64%|██████▍   | 635/988 [5:00:03<1:02:28, 10.62s/it]"
     ]
    },
    {
     "name": "stdout",
     "output_type": "stream",
     "text": [
      "exception, retrying 48\n"
     ]
    },
    {
     "name": "stderr",
     "output_type": "stream",
     "text": [
      " 65%|██████▍   | 641/988 [5:01:24<1:13:49, 12.76s/it]"
     ]
    },
    {
     "name": "stdout",
     "output_type": "stream",
     "text": [
      "exception, retrying 49\n"
     ]
    },
    {
     "name": "stderr",
     "output_type": "stream",
     "text": [
      " 65%|██████▌   | 644/988 [5:02:02<1:12:27, 12.64s/it]"
     ]
    },
    {
     "name": "stdout",
     "output_type": "stream",
     "text": [
      "exception, retrying 49\n"
     ]
    },
    {
     "name": "stderr",
     "output_type": "stream",
     "text": [
      " 65%|██████▌   | 645/988 [5:02:16<1:15:17, 13.17s/it]"
     ]
    },
    {
     "name": "stdout",
     "output_type": "stream",
     "text": [
      "exception, retrying 49\n"
     ]
    },
    {
     "name": "stderr",
     "output_type": "stream",
     "text": [
      " 66%|██████▌   | 649/988 [5:03:07<1:11:17, 12.62s/it]"
     ]
    },
    {
     "name": "stdout",
     "output_type": "stream",
     "text": [
      "exception, retrying 49\n"
     ]
    },
    {
     "name": "stderr",
     "output_type": "stream",
     "text": [
      " 66%|██████▌   | 651/988 [5:03:37<1:17:42, 13.84s/it]"
     ]
    },
    {
     "name": "stdout",
     "output_type": "stream",
     "text": [
      "exception, retrying 50\n"
     ]
    },
    {
     "name": "stderr",
     "output_type": "stream",
     "text": [
      " 66%|██████▌   | 654/988 [5:04:17<1:15:26, 13.55s/it]"
     ]
    },
    {
     "name": "stdout",
     "output_type": "stream",
     "text": [
      "exception, retrying 50\n"
     ]
    },
    {
     "name": "stderr",
     "output_type": "stream",
     "text": [
      " 67%|██████▋   | 659/988 [5:05:38<1:17:51, 14.20s/it]"
     ]
    },
    {
     "name": "stdout",
     "output_type": "stream",
     "text": [
      "exception, retrying 50\n"
     ]
    },
    {
     "name": "stderr",
     "output_type": "stream",
     "text": [
      " 67%|██████▋   | 664/988 [5:06:35<1:03:47, 11.81s/it]"
     ]
    },
    {
     "name": "stdout",
     "output_type": "stream",
     "text": [
      "exception, retrying 51\n"
     ]
    },
    {
     "name": "stderr",
     "output_type": "stream",
     "text": [
      " 67%|██████▋   | 665/988 [5:06:45<1:01:06, 11.35s/it]"
     ]
    },
    {
     "name": "stdout",
     "output_type": "stream",
     "text": [
      "exception, retrying 51\n",
      "exception, retrying 51\n",
      "exception, retrying 51\n"
     ]
    },
    {
     "name": "stderr",
     "output_type": "stream",
     "text": [
      " 68%|██████▊   | 668/988 [5:07:16<58:25, 10.95s/it]  "
     ]
    },
    {
     "name": "stdout",
     "output_type": "stream",
     "text": [
      "exception, retrying 51\n"
     ]
    },
    {
     "name": "stderr",
     "output_type": "stream",
     "text": [
      " 68%|██████▊   | 669/988 [5:07:33<1:09:09, 13.01s/it]"
     ]
    },
    {
     "name": "stdout",
     "output_type": "stream",
     "text": [
      "exception, retrying 51\n",
      "exception, retrying 51\n"
     ]
    },
    {
     "name": "stderr",
     "output_type": "stream",
     "text": [
      " 68%|██████▊   | 671/988 [5:08:00<1:07:19, 12.74s/it]"
     ]
    },
    {
     "name": "stdout",
     "output_type": "stream",
     "text": [
      "exception, retrying 51\n"
     ]
    },
    {
     "name": "stderr",
     "output_type": "stream",
     "text": [
      " 68%|██████▊   | 672/988 [5:08:16<1:11:21, 13.55s/it]"
     ]
    },
    {
     "name": "stdout",
     "output_type": "stream",
     "text": [
      "exception, retrying 51\n",
      "exception, retrying 51\n"
     ]
    },
    {
     "name": "stderr",
     "output_type": "stream",
     "text": [
      " 68%|██████▊   | 673/988 [5:08:32<1:15:39, 14.41s/it]"
     ]
    },
    {
     "name": "stdout",
     "output_type": "stream",
     "text": [
      "exception, retrying 51\n",
      "exception, retrying 51\n"
     ]
    },
    {
     "name": "stderr",
     "output_type": "stream",
     "text": [
      " 70%|███████   | 693/988 [5:12:42<58:37, 11.92s/it]  "
     ]
    },
    {
     "name": "stdout",
     "output_type": "stream",
     "text": [
      "exception, retrying 53\n"
     ]
    },
    {
     "name": "stderr",
     "output_type": "stream",
     "text": [
      " 70%|███████   | 696/988 [5:13:25<1:04:30, 13.26s/it]"
     ]
    },
    {
     "name": "stdout",
     "output_type": "stream",
     "text": [
      "exception, retrying 53\n"
     ]
    },
    {
     "name": "stderr",
     "output_type": "stream",
     "text": [
      " 72%|███████▏  | 712/988 [5:17:04<58:43, 12.77s/it]  "
     ]
    },
    {
     "name": "stdout",
     "output_type": "stream",
     "text": [
      "exception, retrying 54\n"
     ]
    },
    {
     "name": "stderr",
     "output_type": "stream",
     "text": [
      " 72%|███████▏  | 713/988 [5:17:24<1:08:28, 14.94s/it]"
     ]
    },
    {
     "name": "stdout",
     "output_type": "stream",
     "text": [
      "exception, retrying 54\n"
     ]
    },
    {
     "name": "stderr",
     "output_type": "stream",
     "text": [
      " 72%|███████▏  | 714/988 [5:17:40<1:09:55, 15.31s/it]"
     ]
    },
    {
     "name": "stdout",
     "output_type": "stream",
     "text": [
      "exception, retrying 54\n",
      "exception, retrying 54\n"
     ]
    },
    {
     "name": "stderr",
     "output_type": "stream",
     "text": [
      " 72%|███████▏  | 715/988 [5:18:00<1:16:23, 16.79s/it]"
     ]
    },
    {
     "name": "stdout",
     "output_type": "stream",
     "text": [
      "exception, retrying 55\n"
     ]
    },
    {
     "name": "stderr",
     "output_type": "stream",
     "text": [
      " 73%|███████▎  | 719/988 [5:18:47<59:23, 13.25s/it]  "
     ]
    },
    {
     "name": "stdout",
     "output_type": "stream",
     "text": [
      "exception, retrying 55\n"
     ]
    },
    {
     "name": "stderr",
     "output_type": "stream",
     "text": [
      " 74%|███████▍  | 731/988 [5:21:27<1:06:54, 15.62s/it]"
     ]
    },
    {
     "name": "stdout",
     "output_type": "stream",
     "text": [
      "exception, retrying 56\n",
      "exception, retrying 56\n",
      "exception, retrying 56\n"
     ]
    },
    {
     "name": "stderr",
     "output_type": "stream",
     "text": [
      " 74%|███████▍  | 733/988 [5:21:51<1:00:58, 14.35s/it]"
     ]
    },
    {
     "name": "stdout",
     "output_type": "stream",
     "text": [
      "exception, retrying 56\n"
     ]
    },
    {
     "name": "stderr",
     "output_type": "stream",
     "text": [
      " 74%|███████▍  | 735/988 [5:22:17<57:18, 13.59s/it]  "
     ]
    },
    {
     "name": "stdout",
     "output_type": "stream",
     "text": [
      "exception, retrying 56\n"
     ]
    },
    {
     "name": "stderr",
     "output_type": "stream",
     "text": [
      " 75%|███████▍  | 740/988 [5:23:06<41:26, 10.03s/it]"
     ]
    },
    {
     "name": "stdout",
     "output_type": "stream",
     "text": [
      "exception, retrying 56\n"
     ]
    },
    {
     "name": "stderr",
     "output_type": "stream",
     "text": [
      " 75%|███████▌  | 743/988 [5:23:45<48:52, 11.97s/it]"
     ]
    },
    {
     "name": "stdout",
     "output_type": "stream",
     "text": [
      "exception, retrying 57\n"
     ]
    },
    {
     "name": "stderr",
     "output_type": "stream",
     "text": [
      " 75%|███████▌  | 745/988 [5:24:10<48:51, 12.06s/it]"
     ]
    },
    {
     "name": "stdout",
     "output_type": "stream",
     "text": [
      "exception, retrying 57\n",
      "exception, retrying 57\n"
     ]
    },
    {
     "name": "stderr",
     "output_type": "stream",
     "text": [
      " 76%|███████▌  | 746/988 [5:24:26<54:03, 13.40s/it]"
     ]
    },
    {
     "name": "stdout",
     "output_type": "stream",
     "text": [
      "exception, retrying 57\n"
     ]
    },
    {
     "name": "stderr",
     "output_type": "stream",
     "text": [
      " 76%|███████▌  | 749/988 [5:25:11<57:26, 14.42s/it]"
     ]
    },
    {
     "name": "stdout",
     "output_type": "stream",
     "text": [
      "exception, retrying 57\n"
     ]
    },
    {
     "name": "stderr",
     "output_type": "stream",
     "text": [
      " 77%|███████▋  | 759/988 [5:27:30<51:38, 13.53s/it]  "
     ]
    },
    {
     "name": "stdout",
     "output_type": "stream",
     "text": [
      "exception, retrying 58\n"
     ]
    },
    {
     "name": "stderr",
     "output_type": "stream",
     "text": [
      " 77%|███████▋  | 761/988 [5:27:57<51:14, 13.55s/it]"
     ]
    },
    {
     "name": "stdout",
     "output_type": "stream",
     "text": [
      "exception, retrying 58\n"
     ]
    },
    {
     "name": "stderr",
     "output_type": "stream",
     "text": [
      " 77%|███████▋  | 762/988 [5:28:12<52:11, 13.85s/it]"
     ]
    },
    {
     "name": "stdout",
     "output_type": "stream",
     "text": [
      "exception, retrying 58\n"
     ]
    },
    {
     "name": "stderr",
     "output_type": "stream",
     "text": [
      " 77%|███████▋  | 765/988 [5:28:50<51:21, 13.82s/it]"
     ]
    },
    {
     "name": "stdout",
     "output_type": "stream",
     "text": [
      "exception, retrying 58\n"
     ]
    },
    {
     "name": "stderr",
     "output_type": "stream",
     "text": [
      " 78%|███████▊  | 770/988 [5:29:56<47:48, 13.16s/it]"
     ]
    },
    {
     "name": "stdout",
     "output_type": "stream",
     "text": [
      "exception, retrying 59\n"
     ]
    },
    {
     "name": "stderr",
     "output_type": "stream",
     "text": [
      " 78%|███████▊  | 772/988 [5:30:28<50:53, 14.14s/it]"
     ]
    },
    {
     "name": "stdout",
     "output_type": "stream",
     "text": [
      "exception, retrying 59\n"
     ]
    },
    {
     "name": "stderr",
     "output_type": "stream",
     "text": [
      " 78%|███████▊  | 773/988 [5:30:45<53:25, 14.91s/it]"
     ]
    },
    {
     "name": "stdout",
     "output_type": "stream",
     "text": [
      "exception, retrying 59\n"
     ]
    },
    {
     "name": "stderr",
     "output_type": "stream",
     "text": [
      " 78%|███████▊  | 774/988 [5:31:05<58:40, 16.45s/it]"
     ]
    },
    {
     "name": "stdout",
     "output_type": "stream",
     "text": [
      "exception, retrying 59\n",
      "exception, retrying 59\n"
     ]
    },
    {
     "name": "stderr",
     "output_type": "stream",
     "text": [
      " 79%|███████▊  | 777/988 [5:31:44<49:16, 14.01s/it]"
     ]
    },
    {
     "name": "stdout",
     "output_type": "stream",
     "text": [
      "exception, retrying 59\n",
      "exception, retrying 59\n"
     ]
    },
    {
     "name": "stderr",
     "output_type": "stream",
     "text": [
      " 79%|███████▉  | 779/988 [5:32:18<51:34, 14.81s/it]  "
     ]
    },
    {
     "name": "stdout",
     "output_type": "stream",
     "text": [
      "exception, retrying 59\n"
     ]
    },
    {
     "name": "stderr",
     "output_type": "stream",
     "text": [
      " 79%|███████▉  | 780/988 [5:32:42<1:00:51, 17.56s/it]"
     ]
    },
    {
     "name": "stdout",
     "output_type": "stream",
     "text": [
      "exception, retrying 60\n",
      "exception, retrying 60\n"
     ]
    },
    {
     "name": "stderr",
     "output_type": "stream",
     "text": [
      " 79%|███████▉  | 784/988 [5:33:32<45:10, 13.29s/it]  "
     ]
    },
    {
     "name": "stdout",
     "output_type": "stream",
     "text": [
      "exception, retrying 60\n"
     ]
    },
    {
     "name": "stderr",
     "output_type": "stream",
     "text": [
      " 80%|███████▉  | 787/988 [5:34:12<42:16, 12.62s/it]"
     ]
    },
    {
     "name": "stdout",
     "output_type": "stream",
     "text": [
      "exception, retrying 60\n"
     ]
    },
    {
     "name": "stderr",
     "output_type": "stream",
     "text": [
      " 80%|███████▉  | 789/988 [5:34:41<44:47, 13.50s/it]"
     ]
    },
    {
     "name": "stdout",
     "output_type": "stream",
     "text": [
      "exception, retrying 60\n"
     ]
    },
    {
     "name": "stderr",
     "output_type": "stream",
     "text": [
      " 80%|████████  | 793/988 [5:35:34<41:15, 12.70s/it]"
     ]
    },
    {
     "name": "stdout",
     "output_type": "stream",
     "text": [
      "exception, retrying 61\n"
     ]
    },
    {
     "name": "stderr",
     "output_type": "stream",
     "text": [
      " 81%|████████  | 796/988 [5:36:22<46:56, 14.67s/it]"
     ]
    },
    {
     "name": "stdout",
     "output_type": "stream",
     "text": [
      "exception, retrying 61\n",
      "exception, retrying 61\n"
     ]
    },
    {
     "name": "stderr",
     "output_type": "stream",
     "text": [
      " 81%|████████  | 799/988 [5:37:08<47:03, 14.94s/it]"
     ]
    },
    {
     "name": "stdout",
     "output_type": "stream",
     "text": [
      "exception, retrying 61\n"
     ]
    },
    {
     "name": "stderr",
     "output_type": "stream",
     "text": [
      " 81%|████████  | 800/988 [5:37:26<50:04, 15.98s/it]"
     ]
    },
    {
     "name": "stdout",
     "output_type": "stream",
     "text": [
      "exception, retrying 61\n"
     ]
    },
    {
     "name": "stderr",
     "output_type": "stream",
     "text": [
      " 81%|████████  | 802/988 [5:37:50<42:25, 13.68s/it]"
     ]
    },
    {
     "name": "stdout",
     "output_type": "stream",
     "text": [
      "exception, retrying 61\n"
     ]
    },
    {
     "name": "stderr",
     "output_type": "stream",
     "text": [
      " 82%|████████▏ | 806/988 [5:38:43<38:53, 12.82s/it]"
     ]
    },
    {
     "name": "stdout",
     "output_type": "stream",
     "text": [
      "exception, retrying 62\n"
     ]
    },
    {
     "name": "stderr",
     "output_type": "stream",
     "text": [
      " 82%|████████▏ | 812/988 [5:39:59<36:00, 12.27s/it]"
     ]
    },
    {
     "name": "stdout",
     "output_type": "stream",
     "text": [
      "exception, retrying 62\n"
     ]
    },
    {
     "name": "stderr",
     "output_type": "stream",
     "text": [
      " 82%|████████▏ | 813/988 [5:40:12<36:00, 12.35s/it]"
     ]
    },
    {
     "name": "stdout",
     "output_type": "stream",
     "text": [
      "exception, retrying 62\n"
     ]
    },
    {
     "name": "stderr",
     "output_type": "stream",
     "text": [
      " 82%|████████▏ | 815/988 [5:40:43<40:20, 13.99s/it]"
     ]
    },
    {
     "name": "stdout",
     "output_type": "stream",
     "text": [
      "exception, retrying 62\n",
      "exception, retrying 62\n"
     ]
    },
    {
     "name": "stderr",
     "output_type": "stream",
     "text": [
      " 83%|████████▎ | 820/988 [5:41:42<33:03, 11.81s/it]"
     ]
    },
    {
     "name": "stdout",
     "output_type": "stream",
     "text": [
      "exception, retrying 63\n"
     ]
    },
    {
     "name": "stderr",
     "output_type": "stream",
     "text": [
      " 84%|████████▎ | 827/988 [5:43:32<40:18, 15.02s/it]"
     ]
    },
    {
     "name": "stdout",
     "output_type": "stream",
     "text": [
      "exception, retrying 63\n",
      "exception, retrying 63\n"
     ]
    },
    {
     "name": "stderr",
     "output_type": "stream",
     "text": [
      " 84%|████████▍ | 830/988 [5:44:16<38:46, 14.73s/it]"
     ]
    },
    {
     "name": "stdout",
     "output_type": "stream",
     "text": [
      "exception, retrying 63\n"
     ]
    },
    {
     "name": "stderr",
     "output_type": "stream",
     "text": [
      " 85%|████████▍ | 836/988 [5:45:32<32:40, 12.90s/it]"
     ]
    },
    {
     "name": "stdout",
     "output_type": "stream",
     "text": [
      "exception, retrying 64\n"
     ]
    },
    {
     "name": "stderr",
     "output_type": "stream",
     "text": [
      " 85%|████████▍ | 837/988 [5:45:47<33:52, 13.46s/it]"
     ]
    },
    {
     "name": "stdout",
     "output_type": "stream",
     "text": [
      "exception, retrying 64\n"
     ]
    },
    {
     "name": "stderr",
     "output_type": "stream",
     "text": [
      " 85%|████████▌ | 841/988 [5:46:57<40:15, 16.43s/it]"
     ]
    },
    {
     "name": "stdout",
     "output_type": "stream",
     "text": [
      "exception, retrying 64\n"
     ]
    },
    {
     "name": "stderr",
     "output_type": "stream",
     "text": [
      " 86%|████████▌ | 848/988 [6:14:41<2:44:00, 70.29s/it]  "
     ]
    },
    {
     "name": "stdout",
     "output_type": "stream",
     "text": [
      "exception, retrying 65\n",
      "exception, retrying 65\n"
     ]
    },
    {
     "name": "stderr",
     "output_type": "stream",
     "text": [
      " 86%|████████▌ | 852/988 [6:15:39<1:03:01, 27.81s/it]"
     ]
    },
    {
     "name": "stdout",
     "output_type": "stream",
     "text": [
      "exception, retrying 65\n"
     ]
    },
    {
     "name": "stderr",
     "output_type": "stream",
     "text": [
      " 86%|████████▋ | 853/988 [6:16:09<1:04:01, 28.45s/it]"
     ]
    },
    {
     "name": "stdout",
     "output_type": "stream",
     "text": [
      "exception, retrying 65\n",
      "exception, retrying 65\n"
     ]
    },
    {
     "name": "stderr",
     "output_type": "stream",
     "text": [
      " 86%|████████▋ | 854/988 [6:16:55<1:15:03, 33.61s/it]"
     ]
    },
    {
     "name": "stdout",
     "output_type": "stream",
     "text": [
      "exception, retrying 65\n",
      "exception, retrying 65\n",
      "exception, retrying 65\n"
     ]
    },
    {
     "name": "stderr",
     "output_type": "stream",
     "text": [
      " 87%|████████▋ | 855/988 [6:17:38<1:20:47, 36.44s/it]"
     ]
    },
    {
     "name": "stdout",
     "output_type": "stream",
     "text": [
      "exception, retrying 65\n"
     ]
    },
    {
     "name": "stderr",
     "output_type": "stream",
     "text": [
      " 87%|████████▋ | 862/988 [6:19:04<28:33, 13.60s/it]  "
     ]
    },
    {
     "name": "stdout",
     "output_type": "stream",
     "text": [
      "exception, retrying 66\n",
      "exception, retrying 66\n"
     ]
    },
    {
     "name": "stderr",
     "output_type": "stream",
     "text": [
      " 87%|████████▋ | 863/988 [6:19:30<36:17, 17.42s/it]"
     ]
    },
    {
     "name": "stdout",
     "output_type": "stream",
     "text": [
      "exception, retrying 66\n",
      "exception, retrying 66\n"
     ]
    },
    {
     "name": "stderr",
     "output_type": "stream",
     "text": [
      " 88%|████████▊ | 865/988 [6:20:02<33:59, 16.58s/it]"
     ]
    },
    {
     "name": "stdout",
     "output_type": "stream",
     "text": [
      "exception, retrying 66\n"
     ]
    },
    {
     "name": "stderr",
     "output_type": "stream",
     "text": [
      " 88%|████████▊ | 866/988 [6:20:27<38:46, 19.07s/it]"
     ]
    },
    {
     "name": "stdout",
     "output_type": "stream",
     "text": [
      "exception, retrying 66\n"
     ]
    },
    {
     "name": "stderr",
     "output_type": "stream",
     "text": [
      " 89%|████████▊ | 876/988 [6:25:07<1:15:49, 40.62s/it]"
     ]
    },
    {
     "name": "stdout",
     "output_type": "stream",
     "text": [
      "exception, retrying 67\n",
      "exception, retrying 67\n"
     ]
    },
    {
     "name": "stderr",
     "output_type": "stream",
     "text": [
      " 89%|████████▉ | 877/988 [6:27:02<1:56:32, 62.99s/it]"
     ]
    },
    {
     "name": "stdout",
     "output_type": "stream",
     "text": [
      "exception, retrying 67\n"
     ]
    },
    {
     "name": "stderr",
     "output_type": "stream",
     "text": [
      " 89%|████████▉ | 879/988 [6:27:29<1:08:41, 37.81s/it]"
     ]
    },
    {
     "name": "stdout",
     "output_type": "stream",
     "text": [
      "exception, retrying 67\n"
     ]
    },
    {
     "name": "stderr",
     "output_type": "stream",
     "text": [
      " 89%|████████▉ | 882/988 [6:28:09<39:10, 22.17s/it]  "
     ]
    },
    {
     "name": "stdout",
     "output_type": "stream",
     "text": [
      "exception, retrying 67\n"
     ]
    },
    {
     "name": "stderr",
     "output_type": "stream",
     "text": [
      " 90%|████████▉ | 889/988 [6:30:06<29:21, 17.80s/it]"
     ]
    },
    {
     "name": "stdout",
     "output_type": "stream",
     "text": [
      "exception, retrying 69\n",
      "exception, retrying 69\n"
     ]
    },
    {
     "name": "stderr",
     "output_type": "stream",
     "text": [
      " 90%|█████████ | 890/988 [6:31:04<48:44, 29.84s/it]"
     ]
    },
    {
     "name": "stdout",
     "output_type": "stream",
     "text": [
      "exception, retrying 69\n"
     ]
    },
    {
     "name": "stderr",
     "output_type": "stream",
     "text": [
      " 91%|█████████ | 896/988 [6:34:42<32:29, 21.19s/it]  "
     ]
    },
    {
     "name": "stdout",
     "output_type": "stream",
     "text": [
      "exception, retrying 69\n"
     ]
    },
    {
     "name": "stderr",
     "output_type": "stream",
     "text": [
      " 91%|█████████ | 900/988 [6:35:41<21:33, 14.70s/it]"
     ]
    },
    {
     "name": "stdout",
     "output_type": "stream",
     "text": [
      "exception, retrying 70\n"
     ]
    },
    {
     "name": "stderr",
     "output_type": "stream",
     "text": [
      " 92%|█████████▏| 908/988 [6:37:33<19:11, 14.40s/it]"
     ]
    },
    {
     "name": "stdout",
     "output_type": "stream",
     "text": [
      "exception, retrying 70\n"
     ]
    },
    {
     "name": "stderr",
     "output_type": "stream",
     "text": [
      " 92%|█████████▏| 909/988 [6:37:47<18:53, 14.35s/it]"
     ]
    },
    {
     "name": "stdout",
     "output_type": "stream",
     "text": [
      "exception, retrying 70\n"
     ]
    },
    {
     "name": "stderr",
     "output_type": "stream",
     "text": [
      " 92%|█████████▏| 911/988 [6:38:21<20:10, 15.72s/it]"
     ]
    },
    {
     "name": "stdout",
     "output_type": "stream",
     "text": [
      "exception, retrying 71\n"
     ]
    },
    {
     "name": "stderr",
     "output_type": "stream",
     "text": [
      " 92%|█████████▏| 912/988 [6:38:40<21:10, 16.72s/it]"
     ]
    },
    {
     "name": "stdout",
     "output_type": "stream",
     "text": [
      "exception, retrying 71\n"
     ]
    },
    {
     "name": "stderr",
     "output_type": "stream",
     "text": [
      " 93%|█████████▎| 917/988 [6:39:53<18:52, 15.95s/it]"
     ]
    },
    {
     "name": "stdout",
     "output_type": "stream",
     "text": [
      "exception, retrying 71\n",
      "exception, retrying 71\n",
      "exception, retrying 71\n"
     ]
    },
    {
     "name": "stderr",
     "output_type": "stream",
     "text": [
      " 93%|█████████▎| 919/988 [6:42:44<59:16, 51.54s/it]"
     ]
    },
    {
     "name": "stdout",
     "output_type": "stream",
     "text": [
      "exception, retrying 71\n"
     ]
    },
    {
     "name": "stderr",
     "output_type": "stream",
     "text": [
      " 93%|█████████▎| 921/988 [6:43:39<44:31, 39.87s/it]"
     ]
    },
    {
     "name": "stdout",
     "output_type": "stream",
     "text": [
      "exception, retrying 71\n"
     ]
    },
    {
     "name": "stderr",
     "output_type": "stream",
     "text": [
      " 94%|█████████▍| 927/988 [6:45:00<16:29, 16.23s/it]"
     ]
    },
    {
     "name": "stdout",
     "output_type": "stream",
     "text": [
      "exception, retrying 72\n"
     ]
    },
    {
     "name": "stderr",
     "output_type": "stream",
     "text": [
      " 94%|█████████▍| 931/988 [6:45:57<14:31, 15.30s/it]"
     ]
    },
    {
     "name": "stdout",
     "output_type": "stream",
     "text": [
      "exception, retrying 72\n",
      "exception, retrying 72\n",
      "exception, retrying 72\n"
     ]
    },
    {
     "name": "stderr",
     "output_type": "stream",
     "text": [
      " 94%|█████████▍| 932/988 [6:46:04<12:12, 13.08s/it]"
     ]
    },
    {
     "name": "stdout",
     "output_type": "stream",
     "text": [
      "exception, retrying 72\n"
     ]
    },
    {
     "name": "stderr",
     "output_type": "stream",
     "text": [
      " 94%|█████████▍| 933/988 [6:46:22<13:10, 14.37s/it]"
     ]
    },
    {
     "name": "stdout",
     "output_type": "stream",
     "text": [
      "exception, retrying 72\n"
     ]
    },
    {
     "name": "stderr",
     "output_type": "stream",
     "text": [
      " 95%|█████████▍| 934/988 [6:46:44<14:58, 16.65s/it]"
     ]
    },
    {
     "name": "stdout",
     "output_type": "stream",
     "text": [
      "exception, retrying 72\n"
     ]
    },
    {
     "name": "stderr",
     "output_type": "stream",
     "text": [
      " 95%|█████████▍| 938/988 [6:47:58<17:35, 21.11s/it]"
     ]
    },
    {
     "name": "stdout",
     "output_type": "stream",
     "text": [
      "exception, retrying 73\n",
      "exception, retrying 73\n",
      "exception, retrying 73\n"
     ]
    },
    {
     "name": "stderr",
     "output_type": "stream",
     "text": [
      " 96%|█████████▌| 945/988 [9:41:12<4:29:56, 376.67s/it]  "
     ]
    },
    {
     "name": "stdout",
     "output_type": "stream",
     "text": [
      "exception, retrying 73\n"
     ]
    },
    {
     "name": "stderr",
     "output_type": "stream",
     "text": [
      " 97%|█████████▋| 958/988 [9:44:01<09:09, 18.33s/it]   "
     ]
    },
    {
     "name": "stdout",
     "output_type": "stream",
     "text": [
      "exception, retrying 74\n"
     ]
    },
    {
     "name": "stderr",
     "output_type": "stream",
     "text": [
      " 97%|█████████▋| 962/988 [9:44:53<06:10, 14.25s/it]"
     ]
    },
    {
     "name": "stdout",
     "output_type": "stream",
     "text": [
      "exception, retrying 75\n",
      "exception, retrying 75\n",
      "exception, retrying 75\n"
     ]
    },
    {
     "name": "stderr",
     "output_type": "stream",
     "text": [
      " 97%|█████████▋| 963/988 [9:45:01<05:07, 12.28s/it]"
     ]
    },
    {
     "name": "stdout",
     "output_type": "stream",
     "text": [
      "exception, retrying 75\n",
      "exception, retrying 75\n"
     ]
    },
    {
     "name": "stderr",
     "output_type": "stream",
     "text": [
      " 98%|█████████▊| 972/988 [9:46:56<03:01, 11.32s/it]"
     ]
    },
    {
     "name": "stdout",
     "output_type": "stream",
     "text": [
      "exception, retrying 75\n"
     ]
    },
    {
     "name": "stderr",
     "output_type": "stream",
     "text": [
      " 99%|█████████▉| 980/988 [9:48:40<01:42, 12.79s/it]"
     ]
    },
    {
     "name": "stdout",
     "output_type": "stream",
     "text": [
      "exception, retrying 76\n"
     ]
    },
    {
     "name": "stderr",
     "output_type": "stream",
     "text": [
      "100%|█████████▉| 984/988 [9:49:36<00:52, 13.10s/it]"
     ]
    },
    {
     "name": "stdout",
     "output_type": "stream",
     "text": [
      "exception, retrying 76\n"
     ]
    },
    {
     "name": "stderr",
     "output_type": "stream",
     "text": [
      "100%|█████████▉| 986/988 [9:50:05<00:27, 13.54s/it]"
     ]
    },
    {
     "name": "stdout",
     "output_type": "stream",
     "text": [
      "exception, retrying 76\n"
     ]
    },
    {
     "name": "stderr",
     "output_type": "stream",
     "text": [
      "100%|██████████| 988/988 [9:50:26<00:00, 35.86s/it]\n"
     ]
    }
   ],
   "source": [
    "all_answers = []\n",
    "for prompt_array in tqdm.tqdm(all_prompts): #[:LIMIT_PROMPTS*len(questions_explanation)]):\n",
    "    for i in range(3):\n",
    "        try:\n",
    "            i, j, prompt, annot = prompt_array\n",
    "            response = openai.Completion.create(model=model, prompt=prompt, temperature=0, max_tokens=250)\n",
    "            all_answers.append((i, j, prompt, response, annot))\n",
    "            \n",
    "            time.sleep(.5)\n",
    "            break\n",
    "        except:\n",
    "            print(f\"exception, retrying {i}\")\n",
    "            time.sleep(2.)"
   ]
  },
  {
   "cell_type": "code",
   "execution_count": 63,
   "metadata": {},
   "outputs": [],
   "source": [
    "save_results('data/evaluations/run_6_davinci_comments', all_parsed_essays, all_questions, all_answers)"
   ]
  },
  {
   "cell_type": "code",
   "execution_count": 6,
   "metadata": {},
   "outputs": [],
   "source": [
    "_,_,all_answers_loaded = load_results('data/evaluations/run_4_text-davinci_explanation')"
   ]
  },
  {
   "cell_type": "code",
   "execution_count": 8,
   "metadata": {},
   "outputs": [
    {
     "data": {
      "text/plain": [
       "'Given is a student essay and a question to the essay. Please rate the Question with a number between 0 and 3, where 0 is \"not at all satisfied\" and 3 is \"very satisfied.\".\\n\\nEssay: \"\"\"\\nThe Cage\\nIt felt like I was walking forever, i didn\\'t even know were i was i just knew i was somewhere. A creepy aliway to be exazaced. To be honest i would rather\\nbe at school than this nightmare well not to brag but i was not scared in the slightited, anyway desided just to keep walking to see what was down this\\naliway, just as i was almost there thunder shot right though the sky it was like someone had a shotgun shot a bullet right next to my ear jezz i was not\\nprepared for that, where there is thunder there is rain and i was not gonna get my new guchi shoes wet so i bulted to the end of the crusty aliway,\\ni saw... well i didn\\'t see anything other than cages, well i guess it was just a dream cause i don\\'t own\\nguchi shoes. OK enough of me being broke I gotta get to school. Time forwords and i\\'m at school barely and my best friend walks towards me talking about\\nhow her dad didn\\'t buy her the new iphone 507989428 which is like a billion bucks while i\\'m sitting here trying to listen to her complaints that no one\\ncares about while i don\\'t even have a dad\"\"\"\\nQuestion: \"\"\"\\nThis skill refers to the extent to which the student has grabbed the reader\\'s attention from the first few lines of the narrative. This can be done in a number of ways, such as by beginning with some intense action, a thought-provoking question, or even a shocking statement.\\nHas the student written a compelling opening?\"\"\"\\nAnswer:'"
      ]
     },
     "execution_count": 8,
     "metadata": {},
     "output_type": "execute_result"
    }
   ],
   "source": [
    "all_answers_loaded[0][2]"
   ]
  },
  {
   "cell_type": "code",
   "execution_count": 7,
   "metadata": {},
   "outputs": [
    {
     "data": {
      "text/plain": [
       "[(0, 0, 1, ' 3'),\n",
       " (0, 1, 1, ' 3'),\n",
       " (0, 2, 1, ' 3'),\n",
       " (0, 3, 1, ' 3'),\n",
       " (0, 4, 1, ' 3'),\n",
       " (0, 5, 0, ' 3'),\n",
       " (0, 6, 0, ' 3'),\n",
       " (0, 7, 0, ' 3'),\n",
       " (0, 8, 0, ' 3'),\n",
       " (0, 9, 0, ' 3'),\n",
       " (0, 10, 0, ' 3'),\n",
       " (0, 11, 0, ' 3'),\n",
       " (0, 12, 0, ' 3'),\n",
       " (1, 0, 2, ' 3'),\n",
       " (1, 1, 2, ' 3'),\n",
       " (1, 2, 3, ' 3'),\n",
       " (1, 3, 3, ' 3'),\n",
       " (1, 4, 2, ' 3'),\n",
       " (1, 5, 3, ' 3'),\n",
       " (1, 6, 3, ' 3'),\n",
       " (1, 7, 2, ' 3'),\n",
       " (1, 8, 3, ' 3'),\n",
       " (1, 9, 2, ' 3'),\n",
       " (1, 10, 2, ' 3'),\n",
       " (1, 11, 3, ' 3'),\n",
       " (1, 12, 3, ' 3'),\n",
       " (2, 0, 3, ' 3'),\n",
       " (2, 1, 3, ' 3'),\n",
       " (2, 2, 3, ' 3'),\n",
       " (2, 3, 3, ' 3'),\n",
       " (2, 4, 3, ' 3'),\n",
       " (2, 5, 3, ' 3'),\n",
       " (2, 6, 3, ' 3'),\n",
       " (2, 7, 3, ' 3'),\n",
       " (2, 8, 3, ' 3'),\n",
       " (2, 9, 3, ' 3 - Very'),\n",
       " (2, 10, 3, ' 3'),\n",
       " (2, 11, 3, ' 3'),\n",
       " (2, 12, 1, ' 3'),\n",
       " (3, 0, 1, ' 3'),\n",
       " (3, 1, 3, ' 3'),\n",
       " (3, 2, 3, ' 3'),\n",
       " (3, 3, 3, ' 3'),\n",
       " (3, 4, 3, ' 3'),\n",
       " (3, 5, 3, ' 3'),\n",
       " (3, 6, 3, ' 3'),\n",
       " (3, 7, 3, ' 3'),\n",
       " (3, 8, 3, ' 3'),\n",
       " (3, 9, 3, ' 3'),\n",
       " (3, 10, 3, ' 3'),\n",
       " (3, 11, 3, ' 3'),\n",
       " (3, 12, 2, ' 3'),\n",
       " (4, 0, 2, ' 3'),\n",
       " (4, 1, 2, ' 3'),\n",
       " (4, 2, 2, ' 3'),\n",
       " (4, 3, 1, ' 3'),\n",
       " (4, 4, 2, ' 3'),\n",
       " (4, 5, 2, ' 3'),\n",
       " (4, 6, 1, ' 3'),\n",
       " (4, 7, 1, ' 3'),\n",
       " (4, 8, 2, ' 3'),\n",
       " (4, 9, 2, ' 3'),\n",
       " (4, 10, 2, ' 3'),\n",
       " (4, 11, 2, ' 3'),\n",
       " (4, 12, 1, ' 3'),\n",
       " (5, 0, 0, ' 3'),\n",
       " (5, 1, 0, ' 2'),\n",
       " (5, 2, 0, ' 3'),\n",
       " (5, 3, 0, ' 3'),\n",
       " (5, 4, 1, ' 3'),\n",
       " (5, 5, 1, ' 3'),\n",
       " (5, 6, 1, ' 2'),\n",
       " (5, 7, 1, ' 2'),\n",
       " (5, 8, 1, ' 3'),\n",
       " (5, 9, 1, ' 3'),\n",
       " (5, 10, 1, ' 2'),\n",
       " (5, 11, 1, ' 3'),\n",
       " (5, 12, 0, ' 3'),\n",
       " (6, 0, 3, ' 3'),\n",
       " (6, 1, 3, ' 3'),\n",
       " (6, 2, 3, ' 3'),\n",
       " (6, 3, 3, ' 3'),\n",
       " (6, 4, 3, ' 3'),\n",
       " (6, 5, 2, ' 3'),\n",
       " (6, 6, 1, ' 3'),\n",
       " (6, 7, 3, ' 3'),\n",
       " (6, 8, 2, ' 3'),\n",
       " (6, 9, 0, ' 3'),\n",
       " (6, 10, 0, ' 3'),\n",
       " (6, 11, 1, ' 3'),\n",
       " (6, 12, 1, ' 3'),\n",
       " (7, 0, 0, ' 3'),\n",
       " (7, 1, 2, ' 3'),\n",
       " (7, 2, 2, ' 3'),\n",
       " (7, 3, 2, ' 3'),\n",
       " (7, 4, 1, ' 3'),\n",
       " (7, 5, 3, ' 3'),\n",
       " (7, 6, 1, ' 3'),\n",
       " (7, 7, 1, ' 3'),\n",
       " (7, 8, 1, ' 3'),\n",
       " (7, 9, 1, ' 3'),\n",
       " (7, 10, 1, ' 3'),\n",
       " (7, 11, 2, ' 3'),\n",
       " (7, 12, 2, ' 3'),\n",
       " (8, 0, 1, ' 3'),\n",
       " (8, 1, 3, ' 3'),\n",
       " (8, 2, 3, ' 3'),\n",
       " (8, 3, 3, ' 3'),\n",
       " (8, 4, 1, ' 3'),\n",
       " (8, 5, 2, ' 3'),\n",
       " (8, 6, 2, ' 3'),\n",
       " (8, 7, 2, ' 3'),\n",
       " (8, 8, 0, ' 3'),\n",
       " (8, 9, 3, ' 3'),\n",
       " (8, 10, 2, ' 3'),\n",
       " (8, 11, 3, ' 3'),\n",
       " (8, 12, 1, ' 3'),\n",
       " (9, 0, 1, ' 3'),\n",
       " (9, 1, 2, ' 3'),\n",
       " (9, 2, 2, ' 3'),\n",
       " (9, 3, 2, ' 3'),\n",
       " (9, 4, 2, ' 3'),\n",
       " (9, 5, 2, ' 3'),\n",
       " (9, 6, 3, ' 3'),\n",
       " (9, 7, 3, ' 3'),\n",
       " (9, 8, 3, ' 3'),\n",
       " (9, 9, 2, ' 3'),\n",
       " (9, 10, 2, ' 3'),\n",
       " (9, 11, 3, ' 3'),\n",
       " (9, 12, 1, ' 3'),\n",
       " (10, 0, 2, ' 3'),\n",
       " (10, 1, 2, ' 3'),\n",
       " (10, 2, 2, ' 3'),\n",
       " (10, 3, 3, ' 3'),\n",
       " (10, 4, 1, ' 3'),\n",
       " (10, 5, 1, ' 3'),\n",
       " (10, 6, 1, ' 3'),\n",
       " (10, 7, 1, ' 3'),\n",
       " (10, 8, 2, ' 3'),\n",
       " (10, 9, 2, ' 3'),\n",
       " (10, 10, 2, ' 3'),\n",
       " (10, 11, 1, ' 3'),\n",
       " (10, 12, 2, ' 3'),\n",
       " (11, 0, 3, ' 3'),\n",
       " (11, 1, 2, ' 3'),\n",
       " (11, 2, 1, ' 3'),\n",
       " (11, 3, 1, ' 3'),\n",
       " (11, 4, 1, ' 3'),\n",
       " (11, 5, 0, ' 3'),\n",
       " (11, 6, 0, ' 3'),\n",
       " (11, 7, 1, ' 3'),\n",
       " (11, 8, 2, ' 2'),\n",
       " (11, 9, 1, ' 3'),\n",
       " (11, 10, 1, ' 3'),\n",
       " (11, 11, 2, ' 3'),\n",
       " (11, 12, 1, ' 3'),\n",
       " (12, 0, 2, ' 3'),\n",
       " (12, 1, 1, ' 3'),\n",
       " (12, 2, 1, ' 3'),\n",
       " (12, 3, 1, ' 3'),\n",
       " (12, 4, 1, ' 3'),\n",
       " (12, 5, 1, ' 3'),\n",
       " (12, 6, 1, ' 3'),\n",
       " (12, 7, 2, ' 3'),\n",
       " (12, 8, 0, ' 3'),\n",
       " (12, 9, 2, ' 3'),\n",
       " (12, 10, 2, ' 3'),\n",
       " (12, 11, 2, ' 3'),\n",
       " (12, 12, 2, ' 3'),\n",
       " (13, 0, 0, ' 3'),\n",
       " (13, 1, 1, ' 3'),\n",
       " (13, 2, 1, ' 3'),\n",
       " (13, 3, 1, ' 3'),\n",
       " (13, 4, 1, ' 3'),\n",
       " (13, 5, 0, ' 3'),\n",
       " (13, 6, 1, ' 3'),\n",
       " (13, 7, 1, ' 3'),\n",
       " (13, 8, 1, ' 3'),\n",
       " (13, 9, 1, ' 3'),\n",
       " (13, 10, 1, ' 2'),\n",
       " (13, 11, 1, ' 3'),\n",
       " (13, 12, 0, ' 3'),\n",
       " (14, 0, 1, ' 3'),\n",
       " (14, 1, 0, ' 3'),\n",
       " (14, 2, 0, ' 3'),\n",
       " (14, 3, 1, ' 3'),\n",
       " (14, 4, 1, ' 3'),\n",
       " (14, 5, 0, ' 3'),\n",
       " (14, 6, 0, ' 3'),\n",
       " (14, 7, 1, ' 3'),\n",
       " (14, 8, 1, ' 3'),\n",
       " (14, 9, 1, ' 3'),\n",
       " (14, 10, 1, ' 3'),\n",
       " (14, 11, 0, ' 3'),\n",
       " (14, 12, 1, ' 3'),\n",
       " (15, 0, 0, ' 3'),\n",
       " (15, 1, 1, ' 3'),\n",
       " (15, 2, 1, ' 3'),\n",
       " (15, 3, 1, ' 3'),\n",
       " (15, 4, 1, ' 3'),\n",
       " (15, 5, 2, ' 3'),\n",
       " (15, 6, 1, ' 3'),\n",
       " (15, 7, 1, ' 3'),\n",
       " (15, 8, 1, ' 3'),\n",
       " (15, 9, 1, ' 3'),\n",
       " (15, 10, 2, ' 3'),\n",
       " (15, 11, 2, ' 3'),\n",
       " (15, 12, 0, ' 3'),\n",
       " (16, 0, 1, ' 3'),\n",
       " (16, 1, 1, ' 3'),\n",
       " (16, 2, 1, ' 3'),\n",
       " (16, 3, 1, ' 3'),\n",
       " (16, 4, 1, ' 3'),\n",
       " (16, 5, 1, ' 3'),\n",
       " (16, 6, 1, ' 3'),\n",
       " (16, 7, 1, ' 3'),\n",
       " (16, 8, 0, ' 3'),\n",
       " (16, 9, 2, ' 3'),\n",
       " (16, 10, 2, ' 3'),\n",
       " (16, 11, 2, ' 3'),\n",
       " (16, 12, 1, ' 3'),\n",
       " (17, 0, 3, ' 3'),\n",
       " (17, 1, 2, ' 3'),\n",
       " (17, 2, 2, ' 3'),\n",
       " (17, 3, 2, ' 3'),\n",
       " (17, 4, 2, ' 3'),\n",
       " (17, 5, 1, ' 3'),\n",
       " (17, 6, 1, ' 3'),\n",
       " (17, 7, 2, ' 3'),\n",
       " (17, 8, 3, ' 3'),\n",
       " (17, 9, 1, ' 3'),\n",
       " (17, 10, 0, ' 3'),\n",
       " (17, 11, 1, ' 3'),\n",
       " (17, 12, 3, ' 3'),\n",
       " (18, 0, 1, ' 3'),\n",
       " (18, 1, 1, ' 3'),\n",
       " (18, 2, 1, ' 3'),\n",
       " (18, 3, 2, ' 3'),\n",
       " (18, 4, 1, ' 3'),\n",
       " (18, 5, 1, ' 3'),\n",
       " (18, 6, 0, ' 2'),\n",
       " (18, 7, 1, ' 3'),\n",
       " (18, 8, 1, ' 3'),\n",
       " (18, 9, 1, ' 3'),\n",
       " (18, 10, 1, ' 3'),\n",
       " (18, 11, 1, ' 3'),\n",
       " (18, 12, 1, ' 3'),\n",
       " (19, 0, 2, ' 3'),\n",
       " (19, 1, 2, ' 3'),\n",
       " (19, 2, 2, ' 3'),\n",
       " (19, 3, 1, ' 3'),\n",
       " (19, 4, 1, ' 3'),\n",
       " (19, 5, 2, ' 3'),\n",
       " (19, 6, 2, ' 3'),\n",
       " (19, 7, 1, ' 3'),\n",
       " (19, 8, 1, ' 3'),\n",
       " (19, 9, 2, ' 3'),\n",
       " (19, 10, 2, ' 3'),\n",
       " (19, 11, 2, ' 3'),\n",
       " (19, 12, 1, ' 3')]"
      ]
     },
     "execution_count": 7,
     "metadata": {},
     "output_type": "execute_result"
    }
   ],
   "source": [
    "[(a[0], a[1], a[-1], a[3]['choices'][0]['text']) for a in all_answers_loaded]"
   ]
  },
  {
   "cell_type": "code",
   "execution_count": null,
   "metadata": {},
   "outputs": [],
   "source": []
  }
 ],
 "metadata": {
  "kernelspec": {
   "display_name": "evaluate",
   "language": "python",
   "name": "python3"
  },
  "language_info": {
   "codemirror_mode": {
    "name": "ipython",
    "version": 3
   },
   "file_extension": ".py",
   "mimetype": "text/x-python",
   "name": "python",
   "nbconvert_exporter": "python",
   "pygments_lexer": "ipython3",
   "version": "3.8.13"
  },
  "orig_nbformat": 4
 },
 "nbformat": 4,
 "nbformat_minor": 2
}
