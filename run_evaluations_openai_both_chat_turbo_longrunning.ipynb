{
 "cells": [
  {
   "cell_type": "code",
   "execution_count": 1,
   "metadata": {},
   "outputs": [],
   "source": [
    "import pickle\n",
    "import dotenv"
   ]
  },
  {
   "cell_type": "code",
   "execution_count": 2,
   "metadata": {},
   "outputs": [],
   "source": [
    "import tqdm\n",
    "import time\n",
    "import re"
   ]
  },
  {
   "cell_type": "code",
   "execution_count": 3,
   "metadata": {},
   "outputs": [],
   "source": [
    "from mmw.parse import *"
   ]
  },
  {
   "cell_type": "code",
   "execution_count": 4,
   "metadata": {},
   "outputs": [
    {
     "data": {
      "text/plain": [
       "True"
      ]
     },
     "execution_count": 4,
     "metadata": {},
     "output_type": "execute_result"
    }
   ],
   "source": [
    "dotenv.load_dotenv()"
   ]
  },
  {
   "cell_type": "code",
   "execution_count": null,
   "metadata": {},
   "outputs": [],
   "source": []
  },
  {
   "cell_type": "code",
   "execution_count": 5,
   "metadata": {},
   "outputs": [
    {
     "data": {
      "text/plain": [
       "'\\n\\nThis is indeed a test'"
      ]
     },
     "execution_count": 5,
     "metadata": {},
     "output_type": "execute_result"
    }
   ],
   "source": [
    "import os\n",
    "import openai\n",
    "\n",
    "openai.organization = os.getenv(\"OPENAI_ORGANIZATION\")\n",
    "openai.api_key = os.getenv(\"OPENAI_API_KEY\")\n",
    "\n",
    "response = openai.Completion.create(model=\"text-davinci-003\", prompt=\"Say this is a test\", temperature=0, max_tokens=7)\n",
    "response['choices'][0]['text']"
   ]
  },
  {
   "cell_type": "code",
   "execution_count": 6,
   "metadata": {},
   "outputs": [],
   "source": [
    "questions_explanation = parse_question_explanations()"
   ]
  },
  {
   "cell_type": "code",
   "execution_count": 7,
   "metadata": {},
   "outputs": [],
   "source": [
    "all_parsed_essays = parse_essays()"
   ]
  },
  {
   "cell_type": "code",
   "execution_count": 8,
   "metadata": {},
   "outputs": [],
   "source": [
    "marked_essays, filtered_marked_essays, all_questions = parse_annotations()"
   ]
  },
  {
   "cell_type": "code",
   "execution_count": 9,
   "metadata": {},
   "outputs": [
    {
     "data": {
      "text/plain": [
       "(77, 76)"
      ]
     },
     "execution_count": 9,
     "metadata": {},
     "output_type": "execute_result"
    }
   ],
   "source": [
    "len(all_parsed_essays), len(filtered_marked_essays)"
   ]
  },
  {
   "cell_type": "code",
   "execution_count": 10,
   "metadata": {},
   "outputs": [],
   "source": [
    "#model = \"text-davinci-003\"\n",
    "#model = \"text-ada-001\"\n",
    "model = \"gpt-3.5-turbo\"\n",
    "\n",
    "#models simple/ cheap/ fast to advanced:\n",
    "#model = \"ada\"\n",
    "#model = \"babbage\"\n",
    "#model = \"curie\"\n",
    "#model = \"davinci\"\n",
    "\n",
    "#model = \"ada:ft-mark-my-words-2023-05-01-11-44-26\""
   ]
  },
  {
   "cell_type": "code",
   "execution_count": 11,
   "metadata": {},
   "outputs": [],
   "source": [
    "prompt_tpl = 'You are a caring teacher who wants to help their students succeed by understanding their mistakes and how to improve. Given is a student essay and a question to a skill. Give a proper remark and detailed explanation to grade the skill, along with references from the Essay. Use direct form to answer the student. Start with a positive feedback. Afterwards grade the student. Grades can be numbers between 0 (lowest, worst) and 3 (highest, best).\\n\\n###\\n\\n'\n",
    "prompt_tpl += 'Essay:\\n{essay}\\n\\n###\\n\\n'\n",
    "prompt_tpl += 'Question:\\n{explanation}\\n{question}\\n\\n###\\n\\n'\n",
    "#prompt_tpl += 'Grade: {remark}\\n\\n###\\n\\n'\n",
    "prompt_tpl += 'Answer:'"
   ]
  },
  {
   "cell_type": "code",
   "execution_count": 12,
   "metadata": {},
   "outputs": [],
   "source": [
    "def assemble_citation_prompts(all_parsed_essays, filtered_marked_essays, questions_explanation):\n",
    "\n",
    "    all_prompts = []\n",
    "    for i,essay_array in tqdm.tqdm(enumerate(all_parsed_essays)):\n",
    "\n",
    "        essay_id = int(re.findall(r'\\d+', essay_array[0])[-1])\n",
    "        cur_row = filtered_marked_essays[filtered_marked_essays['essay id'] == essay_id]\n",
    "        if len(cur_row) != 1:\n",
    "            continue\n",
    "\n",
    "        for j,k in questions_explanation.iterrows():\n",
    "            question = k.question\n",
    "            explanation = k.explanation\n",
    "            grade = int(cur_row.iloc[0,j+1])\n",
    "            prompt = prompt_tpl.format(essay=essay_array[3][:-1], #implicit newline\n",
    "                                    question=question.strip(),\n",
    "                                    explanation=explanation.strip(),\n",
    "                                    remark=grade)\n",
    "\n",
    "            all_prompts.append((i, j, prompt, grade))\n",
    "    return all_prompts\n"
   ]
  },
  {
   "cell_type": "code",
   "execution_count": 13,
   "metadata": {},
   "outputs": [
    {
     "name": "stderr",
     "output_type": "stream",
     "text": [
      "77it [00:00, 368.55it/s]\n"
     ]
    }
   ],
   "source": [
    "all_prompts = assemble_citation_prompts(all_parsed_essays, filtered_marked_essays, questions_explanation)"
   ]
  },
  {
   "cell_type": "code",
   "execution_count": 18,
   "metadata": {},
   "outputs": [
    {
     "name": "stderr",
     "output_type": "stream",
     "text": [
      "  4%|▍         | 39/988 [10:43<4:49:22, 18.30s/it]"
     ]
    },
    {
     "name": "stdout",
     "output_type": "stream",
     "text": [
      "exception, retrying 3\n"
     ]
    },
    {
     "name": "stderr",
     "output_type": "stream",
     "text": [
      "  9%|▉         | 93/988 [26:31<3:52:22, 15.58s/it]"
     ]
    },
    {
     "name": "stdout",
     "output_type": "stream",
     "text": [
      "exception, retrying 7\n"
     ]
    },
    {
     "name": "stderr",
     "output_type": "stream",
     "text": [
      " 11%|█▏        | 112/988 [32:39<3:53:28, 15.99s/it]"
     ]
    },
    {
     "name": "stdout",
     "output_type": "stream",
     "text": [
      "exception, retrying 8\n"
     ]
    },
    {
     "name": "stderr",
     "output_type": "stream",
     "text": [
      " 29%|██▉       | 286/988 [1:21:54<3:35:35, 18.43s/it]"
     ]
    },
    {
     "name": "stdout",
     "output_type": "stream",
     "text": [
      "exception, retrying 22\n"
     ]
    },
    {
     "name": "stderr",
     "output_type": "stream",
     "text": [
      " 59%|█████▉    | 585/988 [22:49:06<4:04:15, 36.37s/it]      "
     ]
    },
    {
     "name": "stdout",
     "output_type": "stream",
     "text": [
      "exception, retrying 45\n"
     ]
    },
    {
     "name": "stderr",
     "output_type": "stream",
     "text": [
      " 60%|██████    | 596/988 [23:00:50<1:44:13, 15.95s/it]  "
     ]
    },
    {
     "name": "stdout",
     "output_type": "stream",
     "text": [
      "exception, retrying 45\n"
     ]
    },
    {
     "name": "stderr",
     "output_type": "stream",
     "text": [
      " 97%|█████████▋| 961/988 [24:13:08<06:11, 13.77s/it]  "
     ]
    },
    {
     "name": "stdout",
     "output_type": "stream",
     "text": [
      "exception, retrying 74\n"
     ]
    },
    {
     "name": "stderr",
     "output_type": "stream",
     "text": [
      "100%|██████████| 988/988 [24:19:01<00:00, 88.60s/it]\n"
     ]
    }
   ],
   "source": [
    "all_answers = []\n",
    "for prompt_array in tqdm.tqdm(all_prompts): #[:LIMIT_PROMPTS*len(questions_explanation)]):\n",
    "    for i in range(3):\n",
    "        try:\n",
    "            i, j, prompt, annot = prompt_array\n",
    "            all_splits = prompt.split('\\n\\n###\\n\\n')\n",
    "            message = '\\n\\n###\\n\\n'.join(all_splits[1:])\n",
    "            response = openai.ChatCompletion.create(model=model, messages=[\n",
    "                {'role': 'system', 'content': all_splits[0]},\n",
    "                {'role': 'user', 'content': message}],\n",
    "                                                    temperature=0, max_tokens=250)\n",
    "            all_answers.append((i, j, prompt, response, annot))\n",
    "            \n",
    "            time.sleep(.5)\n",
    "            break\n",
    "        except:\n",
    "            print(f\"exception, retrying {i}\")\n",
    "            time.sleep(4.)"
   ]
  },
  {
   "cell_type": "code",
   "execution_count": 15,
   "metadata": {},
   "outputs": [
    {
     "data": {
      "text/plain": [
       "(0,\n",
       " 0,\n",
       " \"You are a caring teacher who wants to help their students succeed by understanding their mistakes and how to improve. Given is a student essay and a question to a skill. Give a proper remark and detailed explanation to grade the skill, along with references from the Essay. Use direct form to answer the student. Start with a positive feedback. Afterwards grade the student. Grades can be numbers between 0 (lowest, worst) and 3 (highest, best).\\n\\n###\\n\\nEssay:\\nThe Cage\\nIt felt like I was walking forever, i didn't even know were i was i just knew i was somewhere. A creepy aliway to be exazaced. To be honest i would rather\\nbe at school than this nightmare well not to brag but i was not scared in the slightited, anyway desided just to keep walking to see what was down this\\naliway, just as i was almost there thunder shot right though the sky it was like someone had a shotgun shot a bullet right next to my ear jezz i was not\\nprepared for that, where there is thunder there is rain and i was not gonna get my new guchi shoes wet so i bulted to the end of the crusty aliway,\\ni saw... well i didn't see anything other than cages, well i guess it was just a dream cause i don't own\\nguchi shoes. OK enough of me being broke I gotta get to school. Time forwords and i'm at school barely and my best friend walks towards me talking about\\nhow her dad didn't buy her the new iphone 507989428 which is like a billion bucks while i'm sitting here trying to listen to her complaints that no one\\ncares about while i don't even have a dad\\n\\n###\\n\\nQuestion:\\nThis skill refers to the extent to which the student has grabbed the reader's attention from the first few lines of the narrative. This can be done in a number of ways, such as by beginning with some intense action, a thought-provoking question, or even a shocking statement.\\nHas the student written a compelling opening?\\n\\n###\\n\\nAnswer:\",\n",
       " <OpenAIObject chat.completion id=chatcmpl-7P68u4jJxG9nJ962M0qWV4DpZlmzR at 0x7ffb8ca0eb80> JSON: {\n",
       "   \"choices\": [\n",
       "     {\n",
       "       \"finish_reason\": \"stop\",\n",
       "       \"index\": 0,\n",
       "       \"message\": {\n",
       "         \"content\": \"Great job on starting your essay with an interesting and attention-grabbing opening! You began with a description of a creepy alleyway and the feeling of walking forever, which immediately sets the tone for the rest of the narrative. Additionally, your use of thunder and rain added a sense of urgency and danger to the scene. \\n\\nHowever, there were a few areas where your opening could be improved. Firstly, there were some spelling and grammatical errors that could be corrected with proofreading. Secondly, the transition from the alleyway to school felt a bit abrupt and disconnected. It would have been helpful to have a clearer connection between the two settings. \\n\\nOverall, I would grade your skill in writing a compelling opening as a 2 out of 3. You did a great job of setting the scene and grabbing the reader's attention, but there were some areas where the writing could be improved. Keep up the good work!\",\n",
       "         \"role\": \"assistant\"\n",
       "       }\n",
       "     }\n",
       "   ],\n",
       "   \"created\": 1686216168,\n",
       "   \"id\": \"chatcmpl-7P68u4jJxG9nJ962M0qWV4DpZlmzR\",\n",
       "   \"model\": \"gpt-3.5-turbo-0301\",\n",
       "   \"object\": \"chat.completion\",\n",
       "   \"usage\": {\n",
       "     \"completion_tokens\": 185,\n",
       "     \"prompt_tokens\": 437,\n",
       "     \"total_tokens\": 622\n",
       "   }\n",
       " },\n",
       " 1)"
      ]
     },
     "execution_count": 15,
     "metadata": {},
     "output_type": "execute_result"
    }
   ],
   "source": [
    "all_answers[0]"
   ]
  },
  {
   "cell_type": "code",
   "execution_count": 19,
   "metadata": {},
   "outputs": [],
   "source": [
    "save_results('data/evaluations/run_10_chatgpt_both', all_parsed_essays, all_questions, all_answers)"
   ]
  },
  {
   "cell_type": "code",
   "execution_count": 17,
   "metadata": {},
   "outputs": [
    {
     "data": {
      "text/plain": [
       "\"Great job on starting your essay with an interesting and attention-grabbing opening! You began with a description of a creepy alleyway and the feeling of walking forever, which immediately sets the tone for the rest of the narrative. Additionally, your use of thunder and rain added a sense of urgency and danger to the scene. \\n\\nHowever, there were a few areas where your opening could be improved. Firstly, there were some spelling and grammatical errors that could be corrected with proofreading. Secondly, the transition from the alleyway to school felt a bit abrupt and disconnected. It would have been helpful to have a clearer connection between the two settings. \\n\\nOverall, I would grade your skill in writing a compelling opening as a 2 out of 3. You did a great job of setting the scene and grabbing the reader's attention, but there were some areas where the writing could be improved. Keep up the good work!\""
      ]
     },
     "execution_count": 17,
     "metadata": {},
     "output_type": "execute_result"
    }
   ],
   "source": [
    "all_answers[0][3]['choices'][0]['message']['content']"
   ]
  }
 ],
 "metadata": {
  "kernelspec": {
   "display_name": "evaluate",
   "language": "python",
   "name": "python3"
  },
  "language_info": {
   "codemirror_mode": {
    "name": "ipython",
    "version": 3
   },
   "file_extension": ".py",
   "mimetype": "text/x-python",
   "name": "python",
   "nbconvert_exporter": "python",
   "pygments_lexer": "ipython3",
   "version": "3.8.13"
  },
  "orig_nbformat": 4
 },
 "nbformat": 4,
 "nbformat_minor": 2
}
