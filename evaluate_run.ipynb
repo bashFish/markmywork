{
 "cells": [
  {
   "cell_type": "code",
   "execution_count": 1,
   "metadata": {},
   "outputs": [],
   "source": [
    "import pickle"
   ]
  },
  {
   "cell_type": "code",
   "execution_count": 2,
   "metadata": {},
   "outputs": [],
   "source": [
    "import pandas as pd"
   ]
  },
  {
   "cell_type": "code",
   "execution_count": 20,
   "metadata": {},
   "outputs": [
    {
     "data": {
      "text/html": [
       "<div>\n",
       "<style scoped>\n",
       "    .dataframe tbody tr th:only-of-type {\n",
       "        vertical-align: middle;\n",
       "    }\n",
       "\n",
       "    .dataframe tbody tr th {\n",
       "        vertical-align: top;\n",
       "    }\n",
       "\n",
       "    .dataframe thead th {\n",
       "        text-align: right;\n",
       "    }\n",
       "</style>\n",
       "<table border=\"1\" class=\"dataframe\">\n",
       "  <thead>\n",
       "    <tr style=\"text-align: right;\">\n",
       "      <th></th>\n",
       "      <th>essay id</th>\n",
       "      <th>Has the student written a compelling opening?</th>\n",
       "      <th>Has the student 'shown' and not 'told'?</th>\n",
       "      <th>Has the student used a range of literary devices?</th>\n",
       "      <th>Has the student made an effort to create dynamic characters?</th>\n",
       "      <th>Has the student established a sense of setting?</th>\n",
       "      <th>Has the student varied their sentence structure?</th>\n",
       "      <th>Has the student varied their sentence length?</th>\n",
       "      <th>Has the student written a story that follows the narrative arc?</th>\n",
       "      <th>Has the student engaged with the prompt?</th>\n",
       "      <th>Has the student included dialogue?</th>\n",
       "      <th>Has the student followed the rules of using dialogue? (1. speech marks 2. new speaker new line 3. punctuation before closing speech marks 4. speech tags).</th>\n",
       "      <th>Has the student used paragraphs?</th>\n",
       "      <th>Has the student used the five senses in their writing?</th>\n",
       "    </tr>\n",
       "  </thead>\n",
       "  <tbody>\n",
       "    <tr>\n",
       "      <th>0</th>\n",
       "      <td>1</td>\n",
       "      <td>3.0</td>\n",
       "      <td>3.0</td>\n",
       "      <td>3.0</td>\n",
       "      <td>3.0</td>\n",
       "      <td>3.0</td>\n",
       "      <td>3.0</td>\n",
       "      <td>3.0</td>\n",
       "      <td>3.0</td>\n",
       "      <td>3.0</td>\n",
       "      <td>3.0</td>\n",
       "      <td>2.0</td>\n",
       "      <td>3</td>\n",
       "      <td>3.0</td>\n",
       "    </tr>\n",
       "    <tr>\n",
       "      <th>1</th>\n",
       "      <td>2</td>\n",
       "      <td>3.0</td>\n",
       "      <td>3.0</td>\n",
       "      <td>3.0</td>\n",
       "      <td>3.0</td>\n",
       "      <td>3.0</td>\n",
       "      <td>2.0</td>\n",
       "      <td>3.0</td>\n",
       "      <td>3.0</td>\n",
       "      <td>3.0</td>\n",
       "      <td>3.0</td>\n",
       "      <td>2.0</td>\n",
       "      <td>3</td>\n",
       "      <td>2.0</td>\n",
       "    </tr>\n",
       "    <tr>\n",
       "      <th>2</th>\n",
       "      <td>3</td>\n",
       "      <td>0.0</td>\n",
       "      <td>1.0</td>\n",
       "      <td>1.0</td>\n",
       "      <td>1.0</td>\n",
       "      <td>1.0</td>\n",
       "      <td>2.0</td>\n",
       "      <td>1.0</td>\n",
       "      <td>1.0</td>\n",
       "      <td>1.0</td>\n",
       "      <td>1.0</td>\n",
       "      <td>2.0</td>\n",
       "      <td>2</td>\n",
       "      <td>0.0</td>\n",
       "    </tr>\n",
       "    <tr>\n",
       "      <th>3</th>\n",
       "      <td>4</td>\n",
       "      <td>2.0</td>\n",
       "      <td>2.0</td>\n",
       "      <td>2.0</td>\n",
       "      <td>2.0</td>\n",
       "      <td>2.0</td>\n",
       "      <td>1.0</td>\n",
       "      <td>1.0</td>\n",
       "      <td>1.0</td>\n",
       "      <td>2.0</td>\n",
       "      <td>2.0</td>\n",
       "      <td>2.0</td>\n",
       "      <td>3</td>\n",
       "      <td>1.0</td>\n",
       "    </tr>\n",
       "    <tr>\n",
       "      <th>4</th>\n",
       "      <td>5</td>\n",
       "      <td>3.0</td>\n",
       "      <td>3.0</td>\n",
       "      <td>3.0</td>\n",
       "      <td>3.0</td>\n",
       "      <td>3.0</td>\n",
       "      <td>3.0</td>\n",
       "      <td>3.0</td>\n",
       "      <td>3.0</td>\n",
       "      <td>3.0</td>\n",
       "      <td>3.0</td>\n",
       "      <td>3.0</td>\n",
       "      <td>3</td>\n",
       "      <td>3.0</td>\n",
       "    </tr>\n",
       "    <tr>\n",
       "      <th>...</th>\n",
       "      <td>...</td>\n",
       "      <td>...</td>\n",
       "      <td>...</td>\n",
       "      <td>...</td>\n",
       "      <td>...</td>\n",
       "      <td>...</td>\n",
       "      <td>...</td>\n",
       "      <td>...</td>\n",
       "      <td>...</td>\n",
       "      <td>...</td>\n",
       "      <td>...</td>\n",
       "      <td>...</td>\n",
       "      <td>...</td>\n",
       "      <td>...</td>\n",
       "    </tr>\n",
       "    <tr>\n",
       "      <th>74</th>\n",
       "      <td>75</td>\n",
       "      <td>0.0</td>\n",
       "      <td>0.0</td>\n",
       "      <td>0.0</td>\n",
       "      <td>1.0</td>\n",
       "      <td>1.0</td>\n",
       "      <td>1.0</td>\n",
       "      <td>0.0</td>\n",
       "      <td>1.0</td>\n",
       "      <td>1.0</td>\n",
       "      <td>1.0</td>\n",
       "      <td>1.0</td>\n",
       "      <td>1</td>\n",
       "      <td>0.0</td>\n",
       "    </tr>\n",
       "    <tr>\n",
       "      <th>75</th>\n",
       "      <td>76</td>\n",
       "      <td>1.0</td>\n",
       "      <td>2.0</td>\n",
       "      <td>2.0</td>\n",
       "      <td>1.0</td>\n",
       "      <td>2.0</td>\n",
       "      <td>2.0</td>\n",
       "      <td>2.0</td>\n",
       "      <td>2.0</td>\n",
       "      <td>1.0</td>\n",
       "      <td>3.0</td>\n",
       "      <td>2.0</td>\n",
       "      <td>2</td>\n",
       "      <td>1.0</td>\n",
       "    </tr>\n",
       "    <tr>\n",
       "      <th>76</th>\n",
       "      <td>77</td>\n",
       "      <td>2.0</td>\n",
       "      <td>1.0</td>\n",
       "      <td>1.0</td>\n",
       "      <td>1.0</td>\n",
       "      <td>2.0</td>\n",
       "      <td>0.0</td>\n",
       "      <td>1.0</td>\n",
       "      <td>2.0</td>\n",
       "      <td>1.0</td>\n",
       "      <td>3.0</td>\n",
       "      <td>2.0</td>\n",
       "      <td>2</td>\n",
       "      <td>2.0</td>\n",
       "    </tr>\n",
       "    <tr>\n",
       "      <th>77</th>\n",
       "      <td>78</td>\n",
       "      <td>2.0</td>\n",
       "      <td>1.0</td>\n",
       "      <td>1.0</td>\n",
       "      <td>2.0</td>\n",
       "      <td>2.0</td>\n",
       "      <td>1.0</td>\n",
       "      <td>1.0</td>\n",
       "      <td>2.0</td>\n",
       "      <td>0.0</td>\n",
       "      <td>2.0</td>\n",
       "      <td>1.0</td>\n",
       "      <td>2</td>\n",
       "      <td>0.0</td>\n",
       "    </tr>\n",
       "    <tr>\n",
       "      <th>78</th>\n",
       "      <td>79</td>\n",
       "      <td>2.0</td>\n",
       "      <td>2.0</td>\n",
       "      <td>2.0</td>\n",
       "      <td>2.0</td>\n",
       "      <td>1.0</td>\n",
       "      <td>1.0</td>\n",
       "      <td>1.0</td>\n",
       "      <td>2.0</td>\n",
       "      <td>1.0</td>\n",
       "      <td>2.0</td>\n",
       "      <td>2.0</td>\n",
       "      <td>2</td>\n",
       "      <td>1.0</td>\n",
       "    </tr>\n",
       "  </tbody>\n",
       "</table>\n",
       "<p>79 rows × 14 columns</p>\n",
       "</div>"
      ],
      "text/plain": [
       "    essay id  Has the student written a compelling opening?  \\\n",
       "0          1                                            3.0   \n",
       "1          2                                            3.0   \n",
       "2          3                                            0.0   \n",
       "3          4                                            2.0   \n",
       "4          5                                            3.0   \n",
       "..       ...                                            ...   \n",
       "74        75                                            0.0   \n",
       "75        76                                            1.0   \n",
       "76        77                                            2.0   \n",
       "77        78                                            2.0   \n",
       "78        79                                            2.0   \n",
       "\n",
       "    Has the student 'shown' and not 'told'?  \\\n",
       "0                                       3.0   \n",
       "1                                       3.0   \n",
       "2                                       1.0   \n",
       "3                                       2.0   \n",
       "4                                       3.0   \n",
       "..                                      ...   \n",
       "74                                      0.0   \n",
       "75                                      2.0   \n",
       "76                                      1.0   \n",
       "77                                      1.0   \n",
       "78                                      2.0   \n",
       "\n",
       "    Has the student used a range of literary devices?  \\\n",
       "0                                                 3.0   \n",
       "1                                                 3.0   \n",
       "2                                                 1.0   \n",
       "3                                                 2.0   \n",
       "4                                                 3.0   \n",
       "..                                                ...   \n",
       "74                                                0.0   \n",
       "75                                                2.0   \n",
       "76                                                1.0   \n",
       "77                                                1.0   \n",
       "78                                                2.0   \n",
       "\n",
       "    Has the student made an effort to create dynamic characters?  \\\n",
       "0                                                 3.0              \n",
       "1                                                 3.0              \n",
       "2                                                 1.0              \n",
       "3                                                 2.0              \n",
       "4                                                 3.0              \n",
       "..                                                ...              \n",
       "74                                                1.0              \n",
       "75                                                1.0              \n",
       "76                                                1.0              \n",
       "77                                                2.0              \n",
       "78                                                2.0              \n",
       "\n",
       "    Has the student established a sense of setting?  \\\n",
       "0                                               3.0   \n",
       "1                                               3.0   \n",
       "2                                               1.0   \n",
       "3                                               2.0   \n",
       "4                                               3.0   \n",
       "..                                              ...   \n",
       "74                                              1.0   \n",
       "75                                              2.0   \n",
       "76                                              2.0   \n",
       "77                                              2.0   \n",
       "78                                              1.0   \n",
       "\n",
       "    Has the student varied their sentence structure?  \\\n",
       "0                                                3.0   \n",
       "1                                                2.0   \n",
       "2                                                2.0   \n",
       "3                                                1.0   \n",
       "4                                                3.0   \n",
       "..                                               ...   \n",
       "74                                               1.0   \n",
       "75                                               2.0   \n",
       "76                                               0.0   \n",
       "77                                               1.0   \n",
       "78                                               1.0   \n",
       "\n",
       "    Has the student varied their sentence length?  \\\n",
       "0                                             3.0   \n",
       "1                                             3.0   \n",
       "2                                             1.0   \n",
       "3                                             1.0   \n",
       "4                                             3.0   \n",
       "..                                            ...   \n",
       "74                                            0.0   \n",
       "75                                            2.0   \n",
       "76                                            1.0   \n",
       "77                                            1.0   \n",
       "78                                            1.0   \n",
       "\n",
       "    Has the student written a story that follows the narrative arc?   \\\n",
       "0                                                 3.0                  \n",
       "1                                                 3.0                  \n",
       "2                                                 1.0                  \n",
       "3                                                 1.0                  \n",
       "4                                                 3.0                  \n",
       "..                                                ...                  \n",
       "74                                                1.0                  \n",
       "75                                                2.0                  \n",
       "76                                                2.0                  \n",
       "77                                                2.0                  \n",
       "78                                                2.0                  \n",
       "\n",
       "    Has the student engaged with the prompt?  \\\n",
       "0                                        3.0   \n",
       "1                                        3.0   \n",
       "2                                        1.0   \n",
       "3                                        2.0   \n",
       "4                                        3.0   \n",
       "..                                       ...   \n",
       "74                                       1.0   \n",
       "75                                       1.0   \n",
       "76                                       1.0   \n",
       "77                                       0.0   \n",
       "78                                       1.0   \n",
       "\n",
       "    Has the student included dialogue?  \\\n",
       "0                                  3.0   \n",
       "1                                  3.0   \n",
       "2                                  1.0   \n",
       "3                                  2.0   \n",
       "4                                  3.0   \n",
       "..                                 ...   \n",
       "74                                 1.0   \n",
       "75                                 3.0   \n",
       "76                                 3.0   \n",
       "77                                 2.0   \n",
       "78                                 2.0   \n",
       "\n",
       "    Has the student followed the rules of using dialogue? (1. speech marks 2. new speaker new line 3. punctuation before closing speech marks 4. speech tags).  \\\n",
       "0                                                 2.0                                                                                                            \n",
       "1                                                 2.0                                                                                                            \n",
       "2                                                 2.0                                                                                                            \n",
       "3                                                 2.0                                                                                                            \n",
       "4                                                 3.0                                                                                                            \n",
       "..                                                ...                                                                                                            \n",
       "74                                                1.0                                                                                                            \n",
       "75                                                2.0                                                                                                            \n",
       "76                                                2.0                                                                                                            \n",
       "77                                                1.0                                                                                                            \n",
       "78                                                2.0                                                                                                            \n",
       "\n",
       "   Has the student used paragraphs?   \\\n",
       "0                                  3   \n",
       "1                                  3   \n",
       "2                                  2   \n",
       "3                                  3   \n",
       "4                                  3   \n",
       "..                               ...   \n",
       "74                                 1   \n",
       "75                                 2   \n",
       "76                                 2   \n",
       "77                                 2   \n",
       "78                                 2   \n",
       "\n",
       "    Has the student used the five senses in their writing?  \n",
       "0                                                 3.0       \n",
       "1                                                 2.0       \n",
       "2                                                 0.0       \n",
       "3                                                 1.0       \n",
       "4                                                 3.0       \n",
       "..                                                ...       \n",
       "74                                                0.0       \n",
       "75                                                1.0       \n",
       "76                                                2.0       \n",
       "77                                                0.0       \n",
       "78                                                1.0       \n",
       "\n",
       "[79 rows x 14 columns]"
      ]
     },
     "execution_count": 20,
     "metadata": {},
     "output_type": "execute_result"
    }
   ],
   "source": [
    "marked_essays = pd.read_csv('files/marked_essays_v1.csv', header=1)\n",
    "marked_essays"
   ]
  },
  {
   "cell_type": "code",
   "execution_count": 6,
   "metadata": {},
   "outputs": [],
   "source": [
    "all_answers = pickle.load(open('answer_dump.pckl','rb'))\n",
    "\n",
    "all_questions = pickle.load(open('questions_dump.pckl','rb'))\n",
    "\n",
    "all_essays = pickle.load(open('essays_dump.pckl','rb'))\n"
   ]
  },
  {
   "cell_type": "code",
   "execution_count": 21,
   "metadata": {},
   "outputs": [],
   "source": [
    "essay_str_list = [int(e[0][:-5][-2:]) for e in all_essays]"
   ]
  },
  {
   "cell_type": "code",
   "execution_count": 40,
   "metadata": {},
   "outputs": [
    {
     "data": {
      "text/plain": [
       "essay id                                                                                                                                                       24\n",
       "Has the student written a compelling opening?                                                                                                                 1.0\n",
       "Has the student 'shown' and not 'told'?                                                                                                                       1.0\n",
       "Has the student used a range of literary devices?                                                                                                             1.0\n",
       "Has the student made an effort to create dynamic characters?                                                                                                  1.0\n",
       "Has the student established a sense of setting?                                                                                                               1.0\n",
       "Has the student varied their sentence structure?                                                                                                              0.0\n",
       "Has the student varied their sentence length?                                                                                                                 0.0\n",
       "Has the student written a story that follows the narrative arc?                                                                                               0.0\n",
       "Has the student engaged with the prompt?                                                                                                                      0.0\n",
       "Has the student included dialogue?                                                                                                                            0.0\n",
       "Has the student followed the rules of using dialogue? (1. speech marks 2. new speaker new line 3. punctuation before closing speech marks 4. speech tags).    0.0\n",
       "Has the student used paragraphs?                                                                                                                                0\n",
       "Has the student used the five senses in their writing?                                                                                                        0.0\n",
       "Name: 23, dtype: object"
      ]
     },
     "execution_count": 40,
     "metadata": {},
     "output_type": "execute_result"
    }
   ],
   "source": [
    "marked_essays[marked_essays['essay id']==essat_id].iloc[0]"
   ]
  },
  {
   "cell_type": "code",
   "execution_count": 43,
   "metadata": {},
   "outputs": [
    {
     "data": {
      "text/plain": [
       "24"
      ]
     },
     "execution_count": 43,
     "metadata": {},
     "output_type": "execute_result"
    }
   ],
   "source": [
    "marked_essays[marked_essays['essay id']==essat_id].iloc[0][0]"
   ]
  },
  {
   "cell_type": "code",
   "execution_count": 54,
   "metadata": {},
   "outputs": [],
   "source": [
    "all_parsed_answers = []\n",
    "for a in all_answers:\n",
    "    essat_id = essay_str_list[a[0]]\n",
    "    #print('hi', essat_id)\n",
    "    #print(a[1],all_questions[a[1]])\n",
    "    #print(marked_essays[marked_essays['essay id']==essat_id].iloc[0][1+a[1]], a[3]['choices'][0]['text'])\n",
    "    all_parsed_answers.append((a[0],a[1],int(marked_essays[marked_essays['essay id']==essat_id].iloc[0][1+a[1]]), int(a[3]['choices'][0]['text'][:2])))\n",
    "    #print(essat_id, marked_essays[marked_essays['essay id']==essat_id][0])\n",
    "    #break"
   ]
  },
  {
   "cell_type": "code",
   "execution_count": 55,
   "metadata": {},
   "outputs": [],
   "source": [
    "differences = [abs(a[-2]-a[-1]) for a in all_parsed_answers]"
   ]
  },
  {
   "cell_type": "code",
   "execution_count": 56,
   "metadata": {},
   "outputs": [],
   "source": [
    "from matplotlib import pyplot as plt"
   ]
  },
  {
   "cell_type": "code",
   "execution_count": 63,
   "metadata": {},
   "outputs": [
    {
     "data": {
      "text/plain": [
       "(array([103.,   0.,   0., 217.,   0.,   0., 282.,   0.,   0.,  74.]),\n",
       " array([0. , 0.3, 0.6, 0.9, 1.2, 1.5, 1.8, 2.1, 2.4, 2.7, 3. ]),\n",
       " <BarContainer object of 10 artists>)"
      ]
     },
     "execution_count": 63,
     "metadata": {},
     "output_type": "execute_result"
    },
    {
     "data": {
      "image/png": "[encoded data removed]",
      "text/plain": [
       "<Figure size 432x288 with 1 Axes>"
      ]
     },
     "metadata": {
      "needs_background": "light"
     },
     "output_type": "display_data"
    }
   ],
   "source": [
    "plt.title('absolute answer difference')\n",
    "plt.hist(differences)"
   ]
  },
  {
   "cell_type": "code",
   "execution_count": 72,
   "metadata": {},
   "outputs": [],
   "source": [
    "current = -1 #essayid\n",
    "accumulated_variances = []\n",
    "current_value = -1\n",
    "for a in all_parsed_answers:\n",
    "    if a[0] != current:\n",
    "        accumulated_variances.append(current_value)\n",
    "        current = a[0]  \n",
    "        current_value = 0\n",
    "    current_value += abs(a[-2]-a[-1])"
   ]
  },
  {
   "cell_type": "code",
   "execution_count": 77,
   "metadata": {},
   "outputs": [],
   "source": [
    "import numpy as np"
   ]
  },
  {
   "cell_type": "code",
   "execution_count": 78,
   "metadata": {},
   "outputs": [
    {
     "data": {
      "text/plain": [
       "[<matplotlib.lines.Line2D at 0x7fa06c0e8d90>]"
      ]
     },
     "execution_count": 78,
     "metadata": {},
     "output_type": "execute_result"
    },
    {
     "data": {
      "image/png": "[encoded data removed]",
      "text/plain": [
       "<Figure size 432x288 with 1 Axes>"
      ]
     },
     "metadata": {
      "needs_background": "light"
     },
     "output_type": "display_data"
    }
   ],
   "source": [
    "plt.title('absolute difference sum per essay')\n",
    "plt.bar(list(range(51)), sorted(accumulated_variances[1:]))\n",
    "plt.plot([0,50],[np.average(accumulated_variances[1:])]*2)"
   ]
  },
  {
   "cell_type": "code",
   "execution_count": 75,
   "metadata": {},
   "outputs": [
    {
     "data": {
      "text/plain": [
       "{'whiskers': [<matplotlib.lines.Line2D at 0x7fa06bfc8040>,\n",
       "  <matplotlib.lines.Line2D at 0x7fa06bfd76d0>],\n",
       " 'caps': [<matplotlib.lines.Line2D at 0x7fa06bfd79a0>,\n",
       "  <matplotlib.lines.Line2D at 0x7fa06bfd7c70>],\n",
       " 'boxes': [<matplotlib.lines.Line2D at 0x7fa06bfd7250>],\n",
       " 'medians': [<matplotlib.lines.Line2D at 0x7fa06bfd7f40>],\n",
       " 'fliers': [<matplotlib.lines.Line2D at 0x7fa06bfe3250>],\n",
       " 'means': []}"
      ]
     },
     "execution_count": 75,
     "metadata": {},
     "output_type": "execute_result"
    },
    {
     "data": {
      "image/png": "[encoded data removed]",
      "text/plain": [
       "<Figure size 432x288 with 1 Axes>"
      ]
     },
     "metadata": {
      "needs_background": "light"
     },
     "output_type": "display_data"
    }
   ],
   "source": [
    "plt.boxplot(accumulated_variances[1:])"
   ]
  },
  {
   "cell_type": "code",
   "execution_count": 79,
   "metadata": {},
   "outputs": [],
   "source": [
    "current = -1 #questionid\n",
    "accumulated_variances = [0]*13\n",
    "accumulated_variances_list = {k:[] for k in range(13)}\n",
    "\n",
    "for a in all_parsed_answers:\n",
    "    accumulated_variances_list[a[1]].append(abs(a[-2]-a[-1]))"
   ]
  },
  {
   "cell_type": "code",
   "execution_count": 67,
   "metadata": {},
   "outputs": [
    {
     "data": {
      "text/plain": [
       "[89, 83, 65, 66, 78, 77, 100, 78, 75, 78, 80, 61, 73]"
      ]
     },
     "execution_count": 67,
     "metadata": {},
     "output_type": "execute_result"
    }
   ],
   "source": [
    "accumulated_variances"
   ]
  },
  {
   "cell_type": "code",
   "execution_count": 81,
   "metadata": {},
   "outputs": [
    {
     "data": {
      "text/plain": [
       "<BarContainer object of 13 artists>"
      ]
     },
     "execution_count": 81,
     "metadata": {},
     "output_type": "execute_result"
    },
    {
     "data": {
      "image/png": "[encoded data removed]",
      "text/plain": [
       "<Figure size 432x288 with 1 Axes>"
      ]
     },
     "metadata": {
      "needs_background": "light"
     },
     "output_type": "display_data"
    }
   ],
   "source": [
    "plt.title('absolute difference sum per question')\n",
    "plt.bar(list(range(13)), [sum(accumulated_variances_list[k]) for k in accumulated_variances_list])"
   ]
  },
  {
   "cell_type": "code",
   "execution_count": 84,
   "metadata": {},
   "outputs": [
    {
     "data": {
      "text/plain": [
       "{'whiskers': [<matplotlib.lines.Line2D at 0x7fa06bc95ca0>,\n",
       "  <matplotlib.lines.Line2D at 0x7fa06bc95f70>,\n",
       "  <matplotlib.lines.Line2D at 0x7fa06bcb40d0>,\n",
       "  <matplotlib.lines.Line2D at 0x7fa06bcb43a0>,\n",
       "  <matplotlib.lines.Line2D at 0x7fa06bcc14c0>,\n",
       "  <matplotlib.lines.Line2D at 0x7fa06bcc1790>,\n",
       "  <matplotlib.lines.Line2D at 0x7fa06bc4d8b0>,\n",
       "  <matplotlib.lines.Line2D at 0x7fa06bc4db80>,\n",
       "  <matplotlib.lines.Line2D at 0x7fa06bc5dca0>,\n",
       "  <matplotlib.lines.Line2D at 0x7fa06bc5df70>,\n",
       "  <matplotlib.lines.Line2D at 0x7fa06bc77100>,\n",
       "  <matplotlib.lines.Line2D at 0x7fa06bc773d0>,\n",
       "  <matplotlib.lines.Line2D at 0x7fa06bc834f0>,\n",
       "  <matplotlib.lines.Line2D at 0x7fa06bc837c0>,\n",
       "  <matplotlib.lines.Line2D at 0x7fa06bc118e0>,\n",
       "  <matplotlib.lines.Line2D at 0x7fa06bc11bb0>,\n",
       "  <matplotlib.lines.Line2D at 0x7fa06bc1ecd0>,\n",
       "  <matplotlib.lines.Line2D at 0x7fa06bc1efa0>,\n",
       "  <matplotlib.lines.Line2D at 0x7fa06bc3a100>,\n",
       "  <matplotlib.lines.Line2D at 0x7fa06bc3a3d0>,\n",
       "  <matplotlib.lines.Line2D at 0x7fa06bc464f0>,\n",
       "  <matplotlib.lines.Line2D at 0x7fa06bc467c0>,\n",
       "  <matplotlib.lines.Line2D at 0x7fa06bbd28e0>,\n",
       "  <matplotlib.lines.Line2D at 0x7fa06bbd2bb0>,\n",
       "  <matplotlib.lines.Line2D at 0x7fa06bbe2cd0>,\n",
       "  <matplotlib.lines.Line2D at 0x7fa06bbe2fa0>],\n",
       " 'caps': [<matplotlib.lines.Line2D at 0x7fa06bca6280>,\n",
       "  <matplotlib.lines.Line2D at 0x7fa06bca6550>,\n",
       "  <matplotlib.lines.Line2D at 0x7fa06bcb4670>,\n",
       "  <matplotlib.lines.Line2D at 0x7fa06bcb4940>,\n",
       "  <matplotlib.lines.Line2D at 0x7fa06bcc1a60>,\n",
       "  <matplotlib.lines.Line2D at 0x7fa06bcc1d30>,\n",
       "  <matplotlib.lines.Line2D at 0x7fa06bc4de50>,\n",
       "  <matplotlib.lines.Line2D at 0x7fa06bc5d160>,\n",
       "  <matplotlib.lines.Line2D at 0x7fa06bc69280>,\n",
       "  <matplotlib.lines.Line2D at 0x7fa06bc69580>,\n",
       "  <matplotlib.lines.Line2D at 0x7fa06bc776a0>,\n",
       "  <matplotlib.lines.Line2D at 0x7fa06bc77970>,\n",
       "  <matplotlib.lines.Line2D at 0x7fa06bc83a90>,\n",
       "  <matplotlib.lines.Line2D at 0x7fa06bc83d60>,\n",
       "  <matplotlib.lines.Line2D at 0x7fa06bc11e80>,\n",
       "  <matplotlib.lines.Line2D at 0x7fa06bc1e190>,\n",
       "  <matplotlib.lines.Line2D at 0x7fa06bc2b2b0>,\n",
       "  <matplotlib.lines.Line2D at 0x7fa06bc2b580>,\n",
       "  <matplotlib.lines.Line2D at 0x7fa06bc3a6a0>,\n",
       "  <matplotlib.lines.Line2D at 0x7fa06bc3a970>,\n",
       "  <matplotlib.lines.Line2D at 0x7fa06bc46a90>,\n",
       "  <matplotlib.lines.Line2D at 0x7fa06bc46d60>,\n",
       "  <matplotlib.lines.Line2D at 0x7fa06bbd2e80>,\n",
       "  <matplotlib.lines.Line2D at 0x7fa06bbe2190>,\n",
       "  <matplotlib.lines.Line2D at 0x7fa06bbee2b0>,\n",
       "  <matplotlib.lines.Line2D at 0x7fa06bbee580>],\n",
       " 'boxes': [<matplotlib.lines.Line2D at 0x7fa06bd07880>,\n",
       "  <matplotlib.lines.Line2D at 0x7fa06bca6dc0>,\n",
       "  <matplotlib.lines.Line2D at 0x7fa06bcc11f0>,\n",
       "  <matplotlib.lines.Line2D at 0x7fa06bc4d5e0>,\n",
       "  <matplotlib.lines.Line2D at 0x7fa06bc5d9d0>,\n",
       "  <matplotlib.lines.Line2D at 0x7fa06bc69df0>,\n",
       "  <matplotlib.lines.Line2D at 0x7fa06bc83220>,\n",
       "  <matplotlib.lines.Line2D at 0x7fa06bc11610>,\n",
       "  <matplotlib.lines.Line2D at 0x7fa06bc1ea00>,\n",
       "  <matplotlib.lines.Line2D at 0x7fa06bc2bdf0>,\n",
       "  <matplotlib.lines.Line2D at 0x7fa06bc46220>,\n",
       "  <matplotlib.lines.Line2D at 0x7fa06bbd2610>,\n",
       "  <matplotlib.lines.Line2D at 0x7fa06bbe2a00>],\n",
       " 'medians': [<matplotlib.lines.Line2D at 0x7fa06bca6820>,\n",
       "  <matplotlib.lines.Line2D at 0x7fa06bcb4c10>,\n",
       "  <matplotlib.lines.Line2D at 0x7fa06bc4d040>,\n",
       "  <matplotlib.lines.Line2D at 0x7fa06bc5d430>,\n",
       "  <matplotlib.lines.Line2D at 0x7fa06bc69850>,\n",
       "  <matplotlib.lines.Line2D at 0x7fa06bc77c40>,\n",
       "  <matplotlib.lines.Line2D at 0x7fa06bc11070>,\n",
       "  <matplotlib.lines.Line2D at 0x7fa06bc1e460>,\n",
       "  <matplotlib.lines.Line2D at 0x7fa06bc2b850>,\n",
       "  <matplotlib.lines.Line2D at 0x7fa06bc3ac40>,\n",
       "  <matplotlib.lines.Line2D at 0x7fa06bbd2070>,\n",
       "  <matplotlib.lines.Line2D at 0x7fa06bbe2460>,\n",
       "  <matplotlib.lines.Line2D at 0x7fa06bbee850>],\n",
       " 'fliers': [<matplotlib.lines.Line2D at 0x7fa06bca6af0>,\n",
       "  <matplotlib.lines.Line2D at 0x7fa06bcb4ee0>,\n",
       "  <matplotlib.lines.Line2D at 0x7fa06bc4d310>,\n",
       "  <matplotlib.lines.Line2D at 0x7fa06bc5d700>,\n",
       "  <matplotlib.lines.Line2D at 0x7fa06bc69b20>,\n",
       "  <matplotlib.lines.Line2D at 0x7fa06bc77f10>,\n",
       "  <matplotlib.lines.Line2D at 0x7fa06bc11340>,\n",
       "  <matplotlib.lines.Line2D at 0x7fa06bc1e730>,\n",
       "  <matplotlib.lines.Line2D at 0x7fa06bc2bb20>,\n",
       "  <matplotlib.lines.Line2D at 0x7fa06bc3af10>,\n",
       "  <matplotlib.lines.Line2D at 0x7fa06bbd2340>,\n",
       "  <matplotlib.lines.Line2D at 0x7fa06bbe2730>,\n",
       "  <matplotlib.lines.Line2D at 0x7fa06bbeeb20>],\n",
       " 'means': []}"
      ]
     },
     "execution_count": 84,
     "metadata": {},
     "output_type": "execute_result"
    },
    {
     "data": {
      "image/png": "[encoded data removed]",
      "text/plain": [
       "<Figure size 432x288 with 1 Axes>"
      ]
     },
     "metadata": {
      "needs_background": "light"
     },
     "output_type": "display_data"
    }
   ],
   "source": [
    "plt.title('absolute difference sum per question')\n",
    "plt.boxplot([accumulated_variances_list[k] for k in accumulated_variances_list])"
   ]
  },
  {
   "cell_type": "code",
   "execution_count": null,
   "metadata": {},
   "outputs": [],
   "source": []
  }
 ],
 "metadata": {
  "kernelspec": {
   "display_name": "evaluate",
   "language": "python",
   "name": "python3"
  },
  "language_info": {
   "codemirror_mode": {
    "name": "ipython",
    "version": 3
   },
   "file_extension": ".py",
   "mimetype": "text/x-python",
   "name": "python",
   "nbconvert_exporter": "python",
   "pygments_lexer": "ipython3",
   "version": "3.8.13"
  },
  "orig_nbformat": 4
 },
 "nbformat": 4,
 "nbformat_minor": 2
}
