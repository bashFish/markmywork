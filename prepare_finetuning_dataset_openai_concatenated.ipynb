{
 "cells": [
  {
   "cell_type": "code",
   "execution_count": 1,
   "metadata": {},
   "outputs": [],
   "source": [
    "import pandas as pd\n",
    "import json"
   ]
  },
  {
   "cell_type": "code",
   "execution_count": 2,
   "metadata": {},
   "outputs": [],
   "source": [
    "import tqdm"
   ]
  },
  {
   "cell_type": "code",
   "execution_count": 3,
   "metadata": {},
   "outputs": [],
   "source": [
    "import time\n",
    "import re"
   ]
  },
  {
   "cell_type": "code",
   "execution_count": 4,
   "metadata": {},
   "outputs": [],
   "source": [
    "from mmw.parse import *"
   ]
  },
  {
   "cell_type": "code",
   "execution_count": 5,
   "metadata": {},
   "outputs": [],
   "source": [
    "all_parsed_essays = parse_essays()"
   ]
  },
  {
   "cell_type": "code",
   "execution_count": 6,
   "metadata": {},
   "outputs": [],
   "source": [
    "questions_explanation = parse_question_explanations()"
   ]
  },
  {
   "cell_type": "code",
   "execution_count": 7,
   "metadata": {},
   "outputs": [],
   "source": [
    "marked_essays, filtered_marked_essays, all_questions = parse_annotations()"
   ]
  },
  {
   "cell_type": "code",
   "execution_count": 22,
   "metadata": {},
   "outputs": [
    {
     "name": "stderr",
     "output_type": "stream",
     "text": [
      "77it [00:00, 1154.32it/s]\n"
     ]
    }
   ],
   "source": [
    "all_prompts = assemble_concatenated_prompts(all_parsed_essays, filtered_marked_essays, questions_explanation[:6])"
   ]
  },
  {
   "cell_type": "code",
   "execution_count": 9,
   "metadata": {},
   "outputs": [
    {
     "data": {
      "text/plain": [
       "76"
      ]
     },
     "execution_count": 9,
     "metadata": {},
     "output_type": "execute_result"
    }
   ],
   "source": [
    "len(all_prompts) "
   ]
  },
  {
   "cell_type": "code",
   "execution_count": 10,
   "metadata": {},
   "outputs": [
    {
     "name": "stdout",
     "output_type": "stream",
     "text": [
      "('The Maze\\n\"Jake! Jaaaakeee!\" Robert yelled out the front of the two-story black brown house standing next to a taller boy around the same age as him.\\n\"On my way!\" A boy replied as he rushed out the door with a small sling backpack, he slammed the door behind him and ran towards the two other boys, Robert and Larry.\\n\"This is gonna be sick!\" Larry squeled\\n\"Yeah, that\\'s why we are gonna do it, last year I asked mum and she said no cuz I was kinda young but now, we can finally gonna solve an escape room! Bye mum!\" Jake yelled as he kissed a goodbye.\\n\"Byeeee, don\\'t be late!\" Jakes mother replied, they ran towards the end of the street finding themselves infront of a small building called \"Hudson\\'s Escape Rooms!\" With a small red lightning bolt coming through the building. Jake walked in first as the others followed closely behind, he noticed the front desk was deserted and a mess. Then, a small particular red circle had caught Larry\\'s attention as he put his finger on it. Blood. \"OH MY- Theres, THERE\\'S BLOOD!\"\\n\"Where?\" Robert questioned as he moved towards the desk, \"Oh my god-\"\\n\"What!?\" Larry whispered\\n\"Loo- Look under the- the desk\" Robert replied as his face turned pale, and what lay on the floor under the desk was the receptionist, he lay there, rigid and still, as if he was dead. He was dead. Dead. Larry and Robert looked at each other, both with white faces speechless, and that\\'s when a thought came through Robert\\'s mind. \"Wait, where\\'s Jake!?\"\\n\"What do you mean he\\'s right behin-\" Larry stared as he saw a man behind obert, a black hood and brown coat with some dusty boots. Robert looked behind himself... \"ARGGHHH-\"\\n\"Wake up! Wake up! Robert! THIS IS NOT THE TIME TO BE DOSING OFF! Jake screamed as he shook Roberts frail body. \"HUH!? WHAT- WHAT HAPPEND!? The last thing I remembered was mme and Larry- you- then- WHAT!? What happend? Where\\'s Laryy!?\"\\n\"I- I don\\'t know, all I know is that I awoke here and then next second you were here somehow. But most importantly, where ARE we!?\" Jake replied as he looked around the green bushes, triple Jakes height. \"Let\\'s try and find Larry!\" Jake said\\n\" How!?\" Robert whispered\\n\"Lets just look around, maybe we might get luck-\" \"CRACK CRACK BOOM\" \"WHAT was THAT!? Jake screamed in horror as he noticed a stone pillar coming towards them, he looked behing and ran as fast as he could, Robert scrambled to his feet and when Jake made it the stone pillar would have crushed anything its way.\\n\"This place is WAY TO DANGEROUS BRO!\" Robert screamed as he panted heavily\\n\"YEAH, OBVIOUSLY! It\\'s gonna be night soon, we better find a way out of this place.\" Jake whined as a small bit of rain driped down from Jakes face. He looked to his side and Robert was no more. What was just a mere halucination as Robert had been long gone, when Jake made it out of the pillar, Robert wasn\\'t so lucky. Jake dropped down to the ground and started screaming and yelling, gallons of water came down from his face as his eyes shut.\\n\"A newcomer, must be, no other people would be in this hell hole\" A man boy said as they loaded Jakes body onto wheelcart. Jakes eyes were squinting, wanting more rest as he forced them open, but it was to much. He closed his eyes, not caring about anything in the world that he had let his friend perish...\\nSuddenly, Jake awoke to a bustling village with many people walking around the busy market streets, Jake lay in a bed which funnily enough was outside the house. He got up and looked about as a tall boy with a brown ripped shirt, \"looks like your awake, how do you feel\" the boy asked\\n\"Fine thank you, where am I?\" Jake croaked as he saw many kids running around the street.\\n\"You are in the west village kiddo, must\\'ve been rough losing your friend. Jake hadn\\'t replied as he remembered every moment vividly. \" Oh... uhm, sorry, my name is Khan, there was another newcomer to, do you know him? His name is Larry Choke?\"\\n\"Larry? Yeah I know him!\" Jakes sprits were raised a bit as he finally found Larry and got up and ran towards a small house, suddenly he froze. \"Where is he?\"\\n\"Hahaha, your a funny guy! So I assume you are close to him?\" Khan asked\\n\"Yes, we were friends since kindergarten, where is he?\" Jake replied\\n\"Over in that small house, you knew where he was up in there!\" Khan said as he pointed towards Jakes head, Jake said a quick thanks and sprinted towards the house as Khan retreated into the house muttering \"fool.\"\\n\"Larryyy! Larry! Larry? Helloooo!\" Jake shouted, something was off, the place was so dusty he could barely breath as he coughed, Jake walked around as the floorboards screamed in agony. Suddenly, a hand grabbed Jake into the wall and took out a pocket knife \"AARGH!\" Jake screamed as he kicked the dark figure into the wooden wall, the wall cracked as Jake came in for a punch, the figure dodged swiftly and side-stepped and kicked Jake in the stomach, James quickly backed away as his eyes told the mysterious person that Jake had really felt that kick. \"Who ARE YOU!? WHat do you want!?\" Jake questioned\\n\"I want- I want? I need\" The dark figure whispered as he went in for the finishing blow he grappled Jakes shoulder and twirsted his arm as he whispered \" I will make it quick.\" The figure elbowed Jakes right arm as Jake screamed in pain \"AGHHHH\" cursing under his mouth, then Jake side- flipped kicking the figure in the jaw as a few drips of blood flew out, \" I haven\\'t hunted for days!\" The mysterious preon yelled as he dashed towards jake, Jake dodged as he went for a left punch, his right arm unable to move. The figure caught his arm and threw Jake down to the floor, he took off his hood revealing his face, Larry. \"Larry!? WHY!?\" Jake yelled\\n\"No questions\" Larry smiled with a grin and that was the last thing Jake had heard, he closed his eyes, tears running down his face as he wanted to see his mum, he knew he would join his dad but he mostly wanted to see his little baby brother who was still so young, still an infant.\\nSuddenly, Jakes right arm had recovered somehow and came in for a right hook towards Larry\\'s cheek as it him him, Larry\\'s entire body ragdolled and was flung across the entire house as Jakes eyes glowed. Pure red.', '1 2')\n"
     ]
    }
   ],
   "source": [
    "print(all_prompts[8])"
   ]
  },
  {
   "cell_type": "code",
   "execution_count": 11,
   "metadata": {},
   "outputs": [
    {
     "data": {
      "text/plain": [
       "(\"The Cage\\nIt felt like I was walking forever, i didn't even know were i was i just knew i was somewhere. A creepy aliway to be exazaced. To be honest i would rather\\nbe at school than this nightmare well not to brag but i was not scared in the slightited, anyway desided just to keep walking to see what was down this\\naliway, just as i was almost there thunder shot right though the sky it was like someone had a shotgun shot a bullet right next to my ear jezz i was not\\nprepared for that, where there is thunder there is rain and i was not gonna get my new guchi shoes wet so i bulted to the end of the crusty aliway,\\ni saw... well i didn't see anything other than cages, well i guess it was just a dream cause i don't own\\nguchi shoes. OK enough of me being broke I gotta get to school. Time forwords and i'm at school barely and my best friend walks towards me talking about\\nhow her dad didn't buy her the new iphone 507989428 which is like a billion bucks while i'm sitting here trying to listen to her complaints that no one\\ncares about while i don't even have a dad\",\n",
       " '1 0')"
      ]
     },
     "execution_count": 11,
     "metadata": {},
     "output_type": "execute_result"
    }
   ],
   "source": [
    "all_prompts[0]"
   ]
  },
  {
   "cell_type": "code",
   "execution_count": 23,
   "metadata": {},
   "outputs": [],
   "source": [
    "finetune_set = []\n",
    "for a in all_prompts:\n",
    "    finetune_set.append({'prompt': a[0], 'completion': a[1]})"
   ]
  },
  {
   "cell_type": "code",
   "execution_count": 24,
   "metadata": {},
   "outputs": [
    {
     "data": {
      "text/plain": [
       "{'prompt': \"The Cage\\nThis was the city of Cage, where everything other than humans were trapped in cages for most of the time, the cows were in cages with 2 cows in one cage. The sheep and pigs were the same. Even the man's best friend, dogs, were trapped in cages. Don't ask me why, it was because of what happened here long, long, ago...\\n136 years ago\\nIt was a sunny and joyful place all those years ago. The air smelled of a fresh spring. The florist giving free flowers to anyone who walked by. The cows mooed happily as they munched on grass. The sound of singing fill the air. The citizens were celebrating the good fortune of harvest they had. They had enough crops to feed themselves and the animals, who were all free roaming around town. Every week, the butcher would hunt down one animal for the small town, making a delicious feast from it. This week was pig, so all the citizens went to bed that night dreaming about bacon and ham.\\nThe next morning was a dull day, as soon as the first of the citizens wake up though, the sky became bright blue. The trees danced happily in the light wind. There was one problem, the place was as silent as, well, nothing. There was no mooing, no oinking. Where was everything? They looked around, no animals to be seen.\\nSuddenly a lady screamed,' the crop shed door is open!' All the citizens gathered around the shed faster than you could say pigs. The butcher slowly walked in and saw a terrible sight. The animals were munching down all the crops! 'We're doomed!' wailed a young girl. A young man about the age of 19 had an idea though, to trap the animals into paddocks. So they did. It was ingenious. That kept the animals from eating all the crops, for 76 years...\\nIt was a beautiful day. The young man was now so old he could not even leave his house, but he was still celebrated as a savior. His house was all rusty, his photos were all covered in dust. This is the part when we get back to the cages, right about when the animals break out of the fences. Crash! The fences broke. After a brief meeting, they decided to go to the old man for help. He said after a while,' Maybe put them in metal cages, throw grass to them for feeding.' It was a success! The animals couldn't break through. The next day, the man passed away. The whole town grieved.\\nPresent day\\nClaudia, a young girl, rushed through the streets, all the way to the alley full of animal cages. Discreetly, she fed all of them, even the ones dangling from high above. 'I will get you out one day,' she whispered the the animals. She spent all her free time working on an early version of metal cutters. It was a very difficult job, but she managed to create one. Now she just needed a place to keep them.\\nClaudia resented the animals kept in cages, she resented he great-grandfather for the idea of trapping them. The anger burned her skin. For some reason, the animals were veryh obedient to her, so she freed all the animals and told them to stay in the alley. She then took all the cages and made a fence-like shape. Next, she placed all the metal fences around where the wooden fences used to be, and took the animals into the pen. The citizens all were very angry about this, but once they saw that it was very impossible for the animals to get out, they cheered wildly, and had a celebration. That was the end of the cages, and animal cruelty in this town.\\nNow, you may be wondering what about the dogs. If not, I'll tell you anyway. It was simple, most of them were adopted, but the few that weren't adopted, were trained by Claudia to guard the animals from a new threat, foxes and wolves. Now this is the end of this story.\",\n",
       " 'completion': '2 2 3 3 2 3'}"
      ]
     },
     "execution_count": 24,
     "metadata": {},
     "output_type": "execute_result"
    }
   ],
   "source": [
    "finetune_set[1]"
   ]
  },
  {
   "cell_type": "code",
   "execution_count": null,
   "metadata": {},
   "outputs": [],
   "source": []
  },
  {
   "cell_type": "code",
   "execution_count": 25,
   "metadata": {},
   "outputs": [],
   "source": [
    "json.dump(finetune_set, open('finetune_set_6_1.jsonl','w'))"
   ]
  },
  {
   "cell_type": "code",
   "execution_count": null,
   "metadata": {},
   "outputs": [],
   "source": []
  }
 ],
 "metadata": {
  "kernelspec": {
   "display_name": "evaluate",
   "language": "python",
   "name": "python3"
  },
  "language_info": {
   "codemirror_mode": {
    "name": "ipython",
    "version": 3
   },
   "file_extension": ".py",
   "mimetype": "text/x-python",
   "name": "python",
   "nbconvert_exporter": "python",
   "pygments_lexer": "ipython3",
   "version": "3.8.13"
  },
  "orig_nbformat": 4
 },
 "nbformat": 4,
 "nbformat_minor": 2
}
