{
 "cells": [
  {
   "cell_type": "code",
   "execution_count": 22,
   "metadata": {},
   "outputs": [],
   "source": [
    "from mmw.parse import *"
   ]
  },
  {
   "cell_type": "code",
   "execution_count": 23,
   "metadata": {},
   "outputs": [],
   "source": [
    "all_essays, all_questions, all_answers = load_results('data/evaluations/run_3_ft_ada_val')"
   ]
  },
  {
   "cell_type": "code",
   "execution_count": 24,
   "metadata": {},
   "outputs": [],
   "source": [
    "marked_essays, filtered_marked_essays, questions = parse_annotations()"
   ]
  },
  {
   "cell_type": "code",
   "execution_count": 25,
   "metadata": {},
   "outputs": [],
   "source": [
    "essay_str_list = [int(e[0][:-5][-2:]) for e in all_essays]"
   ]
  },
  {
   "cell_type": "code",
   "execution_count": 26,
   "metadata": {},
   "outputs": [
    {
     "data": {
      "text/plain": [
       "(47,\n",
       " 11,\n",
       " 'Given is a student essay and a question to the essay. Please rate the Question with a number between 0 and 3, where 0 is \"not at all satisfied\" and 3 is \"very satisfied.\".\\n\\nEssay: \"\"\"\\nThe Cage\\nIt felt like I was walking forever, i didn\\'t even know were i was i just knew i was somewhere. A creepy aliway to be exazaced. To be honest i would rather\\nbe at school than this nightmare well not to brag but i was not scared in the slightited, anyway desided just to keep walking to see what was down this\\naliway, just as i was almost there thunder shot right though the sky it was like someone had a shotgun shot a bullet right next to my ear jezz i was not\\nprepared for that, where there is thunder there is rain and i was not gonna get my new guchi shoes wet so i bulted to the end of the crusty aliway,\\ni saw... well i didn\\'t see anything other than cages, well i guess it was just a dream cause i don\\'t own\\nguchi shoes. OK enough of me being broke I gotta get to school. Time forwords and i\\'m at school barely and my best friend walks towards me talking about\\nhow her dad didn\\'t buy her the new iphone 507989428 which is like a billion bucks while i\\'m sitting here trying to listen to her complaints that no one\\ncares about while i don\\'t even have a dad\"\"\"\\nQuestion: \"\"\"\\nHas the student \\'shown\\' and not \\'told\\'?\"\"\"\\nAnswer:',\n",
       " <OpenAIObject text_completion id=cmpl-7BSYfkCaehk0VnB18coEQzYU5TC8o at 0x7ff608f98630> JSON: {\n",
       "   \"choices\": [\n",
       "     {\n",
       "       \"finish_reason\": \"length\",\n",
       "       \"index\": 0,\n",
       "       \"logprobs\": null,\n",
       "       \"text\": \" 0\\n\\n\"\n",
       "     }\n",
       "   ],\n",
       "   \"created\": 1682965741,\n",
       "   \"id\": \"cmpl-7BSYfkCaehk0VnB18coEQzYU5TC8o\",\n",
       "   \"model\": \"ada:ft-mark-my-words-2023-05-01-11-44-26\",\n",
       "   \"object\": \"text_completion\",\n",
       "   \"usage\": {\n",
       "     \"completion_tokens\": 3,\n",
       "     \"prompt_tokens\": 334,\n",
       "     \"total_tokens\": 337\n",
       "   }\n",
       " },\n",
       " 1)"
      ]
     },
     "execution_count": 26,
     "metadata": {},
     "output_type": "execute_result"
    }
   ],
   "source": [
    "all_answers[0]"
   ]
  },
  {
   "cell_type": "code",
   "execution_count": 27,
   "metadata": {},
   "outputs": [],
   "source": [
    "all_parsed_answers = []\n",
    "for a in all_answers:\n",
    "    essat_id = essay_str_list[a[0]]\n",
    "    \n",
    "    all_parsed_answers.append((a[0],a[1],\n",
    "                               int(marked_essays[marked_essays['essay id']==essat_id].iloc[0][1+a[1]]), \n",
    "                               int(a[3]['choices'][0]['text'][:2])))"
   ]
  },
  {
   "cell_type": "code",
   "execution_count": 28,
   "metadata": {},
   "outputs": [],
   "source": [
    "differences = [abs(a[-2]-a[-1]) for a in all_parsed_answers]"
   ]
  },
  {
   "cell_type": "code",
   "execution_count": 29,
   "metadata": {},
   "outputs": [],
   "source": [
    "from matplotlib import pyplot as plt"
   ]
  },
  {
   "cell_type": "code",
   "execution_count": 30,
   "metadata": {},
   "outputs": [
    {
     "data": {
      "text/plain": [
       "(array([57.,  0.,  0., 81.,  0.,  0., 46.,  0.,  0., 11.]),\n",
       " array([0. , 0.3, 0.6, 0.9, 1.2, 1.5, 1.8, 2.1, 2.4, 2.7, 3. ]),\n",
       " <BarContainer object of 10 artists>)"
      ]
     },
     "execution_count": 30,
     "metadata": {},
     "output_type": "execute_result"
    },
    {
     "data": {
      "image/png": "[encoded data removed]",
      "text/plain": [
       "<Figure size 432x288 with 1 Axes>"
      ]
     },
     "metadata": {
      "needs_background": "light"
     },
     "output_type": "display_data"
    }
   ],
   "source": [
    "plt.title('absolute answer difference')\n",
    "plt.hist(differences)"
   ]
  },
  {
   "cell_type": "code",
   "execution_count": 31,
   "metadata": {},
   "outputs": [],
   "source": [
    "accumulated_variances_essays_list = {k:[] for k in range(len(set([a[0] for a in all_parsed_answers])))}\n",
    "for a in all_parsed_answers:\n",
    "    accumulated_variances_essays_list[a[0]].append(abs(a[-2]-a[-1]))"
   ]
  },
  {
   "cell_type": "code",
   "execution_count": 32,
   "metadata": {},
   "outputs": [],
   "source": [
    "import numpy as np"
   ]
  },
  {
   "cell_type": "code",
   "execution_count": 33,
   "metadata": {},
   "outputs": [
    {
     "data": {
      "text/plain": [
       "(array([ 9.,  0.,  0., 80.,  0.,  0., 62.,  0.,  0., 44.]),\n",
       " array([0. , 0.3, 0.6, 0.9, 1.2, 1.5, 1.8, 2.1, 2.4, 2.7, 3. ]),\n",
       " <BarContainer object of 10 artists>)"
      ]
     },
     "execution_count": 33,
     "metadata": {},
     "output_type": "execute_result"
    },
    {
     "data": {
      "image/png": "[encoded data removed]",
      "text/plain": [
       "<Figure size 432x288 with 1 Axes>"
      ]
     },
     "metadata": {
      "needs_background": "light"
     },
     "output_type": "display_data"
    }
   ],
   "source": [
    "plt.title('model answer distribution')\n",
    "plt.hist([int(a[3]['choices'][0]['text'][:2]) for a in all_answers])"
   ]
  },
  {
   "cell_type": "code",
   "execution_count": 34,
   "metadata": {},
   "outputs": [
    {
     "data": {
      "text/plain": [
       "195"
      ]
     },
     "execution_count": 34,
     "metadata": {},
     "output_type": "execute_result"
    }
   ],
   "source": [
    "len(all_answers)"
   ]
  },
  {
   "cell_type": "code",
   "execution_count": 35,
   "metadata": {},
   "outputs": [
    {
     "data": {
      "text/plain": [
       "[<matplotlib.lines.Line2D at 0x7ff608e65370>]"
      ]
     },
     "execution_count": 35,
     "metadata": {},
     "output_type": "execute_result"
    },
    {
     "data": {
      "image/png": "[encoded data removed]",
      "text/plain": [
       "<Figure size 432x288 with 1 Axes>"
      ]
     },
     "metadata": {
      "needs_background": "light"
     },
     "output_type": "display_data"
    }
   ],
   "source": [
    "plt.title('absolute difference sum per essay')\n",
    "plt.bar(list(range(len(accumulated_variances_essays_list))), sorted([sum(a) for a in accumulated_variances_essays_list.values()]))\n",
    "plt.plot([0,len(accumulated_variances_essays_list)],[np.average([sum(a) for a in accumulated_variances_essays_list.values()])]*2)"
   ]
  },
  {
   "cell_type": "code",
   "execution_count": 36,
   "metadata": {},
   "outputs": [],
   "source": [
    "sorted_sum_list = sorted(enumerate([sum(a) for a in accumulated_variances_essays_list.values()]), key = lambda x: x[1])"
   ]
  },
  {
   "cell_type": "code",
   "execution_count": 37,
   "metadata": {},
   "outputs": [
    {
     "data": {
      "text/plain": [
       "{'whiskers': [<matplotlib.lines.Line2D at 0x7ff608d59a60>,\n",
       "  <matplotlib.lines.Line2D at 0x7ff608d59d30>,\n",
       "  <matplotlib.lines.Line2D at 0x7ff608d6fe50>,\n",
       "  <matplotlib.lines.Line2D at 0x7ff608cfd160>,\n",
       "  <matplotlib.lines.Line2D at 0x7ff608d07280>,\n",
       "  <matplotlib.lines.Line2D at 0x7ff608d07550>,\n",
       "  <matplotlib.lines.Line2D at 0x7ff608d146a0>,\n",
       "  <matplotlib.lines.Line2D at 0x7ff608d14970>,\n",
       "  <matplotlib.lines.Line2D at 0x7ff608d21a90>,\n",
       "  <matplotlib.lines.Line2D at 0x7ff608d21d60>,\n",
       "  <matplotlib.lines.Line2D at 0x7ff608d2de80>,\n",
       "  <matplotlib.lines.Line2D at 0x7ff608cbb190>,\n",
       "  <matplotlib.lines.Line2D at 0x7ff608cc72b0>,\n",
       "  <matplotlib.lines.Line2D at 0x7ff608cc7580>,\n",
       "  <matplotlib.lines.Line2D at 0x7ff608cd46a0>,\n",
       "  <matplotlib.lines.Line2D at 0x7ff608cd4970>,\n",
       "  <matplotlib.lines.Line2D at 0x7ff608ce1a90>,\n",
       "  <matplotlib.lines.Line2D at 0x7ff608ce1d60>,\n",
       "  <matplotlib.lines.Line2D at 0x7ff608cefe80>,\n",
       "  <matplotlib.lines.Line2D at 0x7ff608c7a190>,\n",
       "  <matplotlib.lines.Line2D at 0x7ff608c872b0>,\n",
       "  <matplotlib.lines.Line2D at 0x7ff608c87580>,\n",
       "  <matplotlib.lines.Line2D at 0x7ff608c946a0>,\n",
       "  <matplotlib.lines.Line2D at 0x7ff608c94970>,\n",
       "  <matplotlib.lines.Line2D at 0x7ff608ca0ac0>,\n",
       "  <matplotlib.lines.Line2D at 0x7ff608ca0d90>,\n",
       "  <matplotlib.lines.Line2D at 0x7ff608caeeb0>,\n",
       "  <matplotlib.lines.Line2D at 0x7ff608c3b1c0>,\n",
       "  <matplotlib.lines.Line2D at 0x7ff608c482e0>,\n",
       "  <matplotlib.lines.Line2D at 0x7ff608c485b0>,\n",
       "  <matplotlib.lines.Line2D at 0x7ff608c556d0>,\n",
       "  <matplotlib.lines.Line2D at 0x7ff608c559a0>,\n",
       "  <matplotlib.lines.Line2D at 0x7ff608c5bac0>,\n",
       "  <matplotlib.lines.Line2D at 0x7ff608c5bd90>,\n",
       "  <matplotlib.lines.Line2D at 0x7ff608c64eb0>,\n",
       "  <matplotlib.lines.Line2D at 0x7ff608c701c0>,\n",
       "  <matplotlib.lines.Line2D at 0x7ff608bfb2e0>,\n",
       "  <matplotlib.lines.Line2D at 0x7ff608bfb5b0>,\n",
       "  <matplotlib.lines.Line2D at 0x7ff608c046d0>,\n",
       "  <matplotlib.lines.Line2D at 0x7ff608c049a0>,\n",
       "  <matplotlib.lines.Line2D at 0x7ff608c0fac0>,\n",
       "  <matplotlib.lines.Line2D at 0x7ff608c0fd90>,\n",
       "  <matplotlib.lines.Line2D at 0x7ff608c1aeb0>,\n",
       "  <matplotlib.lines.Line2D at 0x7ff608c241c0>,\n",
       "  <matplotlib.lines.Line2D at 0x7ff608c30310>,\n",
       "  <matplotlib.lines.Line2D at 0x7ff608c305e0>,\n",
       "  <matplotlib.lines.Line2D at 0x7ff608bbd700>,\n",
       "  <matplotlib.lines.Line2D at 0x7ff608bbd9d0>,\n",
       "  <matplotlib.lines.Line2D at 0x7ff608bc7af0>,\n",
       "  <matplotlib.lines.Line2D at 0x7ff608bc7dc0>,\n",
       "  <matplotlib.lines.Line2D at 0x7ff608bd5ee0>,\n",
       "  <matplotlib.lines.Line2D at 0x7ff608be21f0>,\n",
       "  <matplotlib.lines.Line2D at 0x7ff608bef310>,\n",
       "  <matplotlib.lines.Line2D at 0x7ff608bef5e0>,\n",
       "  <matplotlib.lines.Line2D at 0x7ff608b7e700>,\n",
       "  <matplotlib.lines.Line2D at 0x7ff608b7e9d0>,\n",
       "  <matplotlib.lines.Line2D at 0x7ff608b8baf0>,\n",
       "  <matplotlib.lines.Line2D at 0x7ff608b8bdc0>,\n",
       "  <matplotlib.lines.Line2D at 0x7ff608b96ee0>,\n",
       "  <matplotlib.lines.Line2D at 0x7ff608ba61f0>,\n",
       "  <matplotlib.lines.Line2D at 0x7ff608bb2310>,\n",
       "  <matplotlib.lines.Line2D at 0x7ff608bb25e0>,\n",
       "  <matplotlib.lines.Line2D at 0x7ff608b40700>,\n",
       "  <matplotlib.lines.Line2D at 0x7ff608b409d0>,\n",
       "  <matplotlib.lines.Line2D at 0x7ff608b4baf0>,\n",
       "  <matplotlib.lines.Line2D at 0x7ff608b4bdc0>,\n",
       "  <matplotlib.lines.Line2D at 0x7ff608b59ee0>,\n",
       "  <matplotlib.lines.Line2D at 0x7ff608b681f0>,\n",
       "  <matplotlib.lines.Line2D at 0x7ff608b70310>,\n",
       "  <matplotlib.lines.Line2D at 0x7ff608b705e0>,\n",
       "  <matplotlib.lines.Line2D at 0x7ff608b01700>,\n",
       "  <matplotlib.lines.Line2D at 0x7ff608b019d0>,\n",
       "  <matplotlib.lines.Line2D at 0x7ff608b0eb20>,\n",
       "  <matplotlib.lines.Line2D at 0x7ff608b0edf0>,\n",
       "  <matplotlib.lines.Line2D at 0x7ff608b1df10>,\n",
       "  <matplotlib.lines.Line2D at 0x7ff608b28220>,\n",
       "  <matplotlib.lines.Line2D at 0x7ff608ab7340>,\n",
       "  <matplotlib.lines.Line2D at 0x7ff608ab7610>,\n",
       "  <matplotlib.lines.Line2D at 0x7ff608ac5730>,\n",
       "  <matplotlib.lines.Line2D at 0x7ff608ac5a00>,\n",
       "  <matplotlib.lines.Line2D at 0x7ff608ad0b20>,\n",
       "  <matplotlib.lines.Line2D at 0x7ff608ad0df0>,\n",
       "  <matplotlib.lines.Line2D at 0x7ff608adff10>,\n",
       "  <matplotlib.lines.Line2D at 0x7ff608aeb220>,\n",
       "  <matplotlib.lines.Line2D at 0x7ff608a79340>,\n",
       "  <matplotlib.lines.Line2D at 0x7ff608a79610>,\n",
       "  <matplotlib.lines.Line2D at 0x7ff608a87730>,\n",
       "  <matplotlib.lines.Line2D at 0x7ff608a87a00>,\n",
       "  <matplotlib.lines.Line2D at 0x7ff608a93b20>,\n",
       "  <matplotlib.lines.Line2D at 0x7ff608a93df0>,\n",
       "  <matplotlib.lines.Line2D at 0x7ff608aa1f10>,\n",
       "  <matplotlib.lines.Line2D at 0x7ff608aad220>,\n",
       "  <matplotlib.lines.Line2D at 0x7ff608a3c340>,\n",
       "  <matplotlib.lines.Line2D at 0x7ff608a3c610>,\n",
       "  <matplotlib.lines.Line2D at 0x7ff608a49790>,\n",
       "  <matplotlib.lines.Line2D at 0x7ff608a49a60>,\n",
       "  <matplotlib.lines.Line2D at 0x7ff608a54b80>,\n",
       "  <matplotlib.lines.Line2D at 0x7ff608a54e50>,\n",
       "  <matplotlib.lines.Line2D at 0x7ff608a63f70>,\n",
       "  <matplotlib.lines.Line2D at 0x7ff608a70280>,\n",
       "  <matplotlib.lines.Line2D at 0x7ff6089fc3a0>,\n",
       "  <matplotlib.lines.Line2D at 0x7ff6089fc670>,\n",
       "  <matplotlib.lines.Line2D at 0x7ff608a0a790>,\n",
       "  <matplotlib.lines.Line2D at 0x7ff608a0aa60>,\n",
       "  <matplotlib.lines.Line2D at 0x7ff608a17b80>,\n",
       "  <matplotlib.lines.Line2D at 0x7ff608a17e50>,\n",
       "  <matplotlib.lines.Line2D at 0x7ff608a26f70>,\n",
       "  <matplotlib.lines.Line2D at 0x7ff608a32280>,\n",
       "  <matplotlib.lines.Line2D at 0x7ff6089c03a0>,\n",
       "  <matplotlib.lines.Line2D at 0x7ff6089c0670>,\n",
       "  <matplotlib.lines.Line2D at 0x7ff6089cd790>,\n",
       "  <matplotlib.lines.Line2D at 0x7ff6089cda60>,\n",
       "  <matplotlib.lines.Line2D at 0x7ff6089d9b80>,\n",
       "  <matplotlib.lines.Line2D at 0x7ff6089d9e50>,\n",
       "  <matplotlib.lines.Line2D at 0x7ff6089e6f70>,\n",
       "  <matplotlib.lines.Line2D at 0x7ff6089f5280>,\n",
       "  <matplotlib.lines.Line2D at 0x7ff6089823a0>,\n",
       "  <matplotlib.lines.Line2D at 0x7ff608982670>,\n",
       "  <matplotlib.lines.Line2D at 0x7ff60898f790>,\n",
       "  <matplotlib.lines.Line2D at 0x7ff60898fa60>,\n",
       "  <matplotlib.lines.Line2D at 0x7ff60899cb80>,\n",
       "  <matplotlib.lines.Line2D at 0x7ff60899ce50>,\n",
       "  <matplotlib.lines.Line2D at 0x7ff6089aaf70>,\n",
       "  <matplotlib.lines.Line2D at 0x7ff6089b6280>,\n",
       "  <matplotlib.lines.Line2D at 0x7ff6089413a0>,\n",
       "  <matplotlib.lines.Line2D at 0x7ff608941670>,\n",
       "  <matplotlib.lines.Line2D at 0x7ff608951790>,\n",
       "  <matplotlib.lines.Line2D at 0x7ff608951a60>,\n",
       "  <matplotlib.lines.Line2D at 0x7ff60895db80>,\n",
       "  <matplotlib.lines.Line2D at 0x7ff60895de50>,\n",
       "  <matplotlib.lines.Line2D at 0x7ff60896cf70>,\n",
       "  <matplotlib.lines.Line2D at 0x7ff6088f8280>,\n",
       "  <matplotlib.lines.Line2D at 0x7ff6089083d0>,\n",
       "  <matplotlib.lines.Line2D at 0x7ff6089086a0>,\n",
       "  <matplotlib.lines.Line2D at 0x7ff6089137c0>,\n",
       "  <matplotlib.lines.Line2D at 0x7ff608913a90>,\n",
       "  <matplotlib.lines.Line2D at 0x7ff608920bb0>,\n",
       "  <matplotlib.lines.Line2D at 0x7ff608920e80>],\n",
       " 'caps': [<matplotlib.lines.Line2D at 0x7ff608d6f040>,\n",
       "  <matplotlib.lines.Line2D at 0x7ff608d6f310>,\n",
       "  <matplotlib.lines.Line2D at 0x7ff608cfd430>,\n",
       "  <matplotlib.lines.Line2D at 0x7ff608cfd700>,\n",
       "  <matplotlib.lines.Line2D at 0x7ff608d07850>,\n",
       "  <matplotlib.lines.Line2D at 0x7ff608d07b20>,\n",
       "  <matplotlib.lines.Line2D at 0x7ff608d14c40>,\n",
       "  <matplotlib.lines.Line2D at 0x7ff608d14f10>,\n",
       "  <matplotlib.lines.Line2D at 0x7ff608d2d070>,\n",
       "  <matplotlib.lines.Line2D at 0x7ff608d2d340>,\n",
       "  <matplotlib.lines.Line2D at 0x7ff608cbb460>,\n",
       "  <matplotlib.lines.Line2D at 0x7ff608cbb730>,\n",
       "  <matplotlib.lines.Line2D at 0x7ff608cc7850>,\n",
       "  <matplotlib.lines.Line2D at 0x7ff608cc7b20>,\n",
       "  <matplotlib.lines.Line2D at 0x7ff608cd4c40>,\n",
       "  <matplotlib.lines.Line2D at 0x7ff608cd4f10>,\n",
       "  <matplotlib.lines.Line2D at 0x7ff608cef070>,\n",
       "  <matplotlib.lines.Line2D at 0x7ff608cef340>,\n",
       "  <matplotlib.lines.Line2D at 0x7ff608c7a460>,\n",
       "  <matplotlib.lines.Line2D at 0x7ff608c7a730>,\n",
       "  <matplotlib.lines.Line2D at 0x7ff608c87850>,\n",
       "  <matplotlib.lines.Line2D at 0x7ff608c87b20>,\n",
       "  <matplotlib.lines.Line2D at 0x7ff608c94c40>,\n",
       "  <matplotlib.lines.Line2D at 0x7ff608c94f10>,\n",
       "  <matplotlib.lines.Line2D at 0x7ff608cae0a0>,\n",
       "  <matplotlib.lines.Line2D at 0x7ff608cae370>,\n",
       "  <matplotlib.lines.Line2D at 0x7ff608c3b490>,\n",
       "  <matplotlib.lines.Line2D at 0x7ff608c3b760>,\n",
       "  <matplotlib.lines.Line2D at 0x7ff608c48880>,\n",
       "  <matplotlib.lines.Line2D at 0x7ff608c48af0>,\n",
       "  <matplotlib.lines.Line2D at 0x7ff608c55c70>,\n",
       "  <matplotlib.lines.Line2D at 0x7ff608c55f40>,\n",
       "  <matplotlib.lines.Line2D at 0x7ff608c640a0>,\n",
       "  <matplotlib.lines.Line2D at 0x7ff608c64370>,\n",
       "  <matplotlib.lines.Line2D at 0x7ff608c70490>,\n",
       "  <matplotlib.lines.Line2D at 0x7ff608c70760>,\n",
       "  <matplotlib.lines.Line2D at 0x7ff608bfb880>,\n",
       "  <matplotlib.lines.Line2D at 0x7ff608bfbb50>,\n",
       "  <matplotlib.lines.Line2D at 0x7ff608c04c70>,\n",
       "  <matplotlib.lines.Line2D at 0x7ff608c04f40>,\n",
       "  <matplotlib.lines.Line2D at 0x7ff608c1a0a0>,\n",
       "  <matplotlib.lines.Line2D at 0x7ff608c1a370>,\n",
       "  <matplotlib.lines.Line2D at 0x7ff608c24490>,\n",
       "  <matplotlib.lines.Line2D at 0x7ff608c24760>,\n",
       "  <matplotlib.lines.Line2D at 0x7ff608c308b0>,\n",
       "  <matplotlib.lines.Line2D at 0x7ff608c30b80>,\n",
       "  <matplotlib.lines.Line2D at 0x7ff608bbdca0>,\n",
       "  <matplotlib.lines.Line2D at 0x7ff608bbdf70>,\n",
       "  <matplotlib.lines.Line2D at 0x7ff608bd50d0>,\n",
       "  <matplotlib.lines.Line2D at 0x7ff608bd53a0>,\n",
       "  <matplotlib.lines.Line2D at 0x7ff608be24c0>,\n",
       "  <matplotlib.lines.Line2D at 0x7ff608be2790>,\n",
       "  <matplotlib.lines.Line2D at 0x7ff608bef8b0>,\n",
       "  <matplotlib.lines.Line2D at 0x7ff608befb80>,\n",
       "  <matplotlib.lines.Line2D at 0x7ff608b7eca0>,\n",
       "  <matplotlib.lines.Line2D at 0x7ff608b7ef70>,\n",
       "  <matplotlib.lines.Line2D at 0x7ff608b960d0>,\n",
       "  <matplotlib.lines.Line2D at 0x7ff608b963a0>,\n",
       "  <matplotlib.lines.Line2D at 0x7ff608ba64c0>,\n",
       "  <matplotlib.lines.Line2D at 0x7ff608ba6790>,\n",
       "  <matplotlib.lines.Line2D at 0x7ff608bb28b0>,\n",
       "  <matplotlib.lines.Line2D at 0x7ff608bb2b80>,\n",
       "  <matplotlib.lines.Line2D at 0x7ff608b40ca0>,\n",
       "  <matplotlib.lines.Line2D at 0x7ff608b40f70>,\n",
       "  <matplotlib.lines.Line2D at 0x7ff608b590d0>,\n",
       "  <matplotlib.lines.Line2D at 0x7ff608b593a0>,\n",
       "  <matplotlib.lines.Line2D at 0x7ff608b684c0>,\n",
       "  <matplotlib.lines.Line2D at 0x7ff608b68790>,\n",
       "  <matplotlib.lines.Line2D at 0x7ff608b708b0>,\n",
       "  <matplotlib.lines.Line2D at 0x7ff608b70b80>,\n",
       "  <matplotlib.lines.Line2D at 0x7ff608b01ca0>,\n",
       "  <matplotlib.lines.Line2D at 0x7ff608b01f70>,\n",
       "  <matplotlib.lines.Line2D at 0x7ff608b1d100>,\n",
       "  <matplotlib.lines.Line2D at 0x7ff608b1d3d0>,\n",
       "  <matplotlib.lines.Line2D at 0x7ff608b284f0>,\n",
       "  <matplotlib.lines.Line2D at 0x7ff608b287c0>,\n",
       "  <matplotlib.lines.Line2D at 0x7ff608ab78e0>,\n",
       "  <matplotlib.lines.Line2D at 0x7ff608ab7bb0>,\n",
       "  <matplotlib.lines.Line2D at 0x7ff608ac5cd0>,\n",
       "  <matplotlib.lines.Line2D at 0x7ff608ac5fa0>,\n",
       "  <matplotlib.lines.Line2D at 0x7ff608adf100>,\n",
       "  <matplotlib.lines.Line2D at 0x7ff608adf3d0>,\n",
       "  <matplotlib.lines.Line2D at 0x7ff608aeb4f0>,\n",
       "  <matplotlib.lines.Line2D at 0x7ff608aeb7c0>,\n",
       "  <matplotlib.lines.Line2D at 0x7ff608a798e0>,\n",
       "  <matplotlib.lines.Line2D at 0x7ff608a79bb0>,\n",
       "  <matplotlib.lines.Line2D at 0x7ff608a87cd0>,\n",
       "  <matplotlib.lines.Line2D at 0x7ff608a87fa0>,\n",
       "  <matplotlib.lines.Line2D at 0x7ff608aa1100>,\n",
       "  <matplotlib.lines.Line2D at 0x7ff608aa13d0>,\n",
       "  <matplotlib.lines.Line2D at 0x7ff608aad4f0>,\n",
       "  <matplotlib.lines.Line2D at 0x7ff608aad7c0>,\n",
       "  <matplotlib.lines.Line2D at 0x7ff608a3c8e0>,\n",
       "  <matplotlib.lines.Line2D at 0x7ff608a3cbb0>,\n",
       "  <matplotlib.lines.Line2D at 0x7ff608a49d30>,\n",
       "  <matplotlib.lines.Line2D at 0x7ff608a54040>,\n",
       "  <matplotlib.lines.Line2D at 0x7ff608a63160>,\n",
       "  <matplotlib.lines.Line2D at 0x7ff608a63430>,\n",
       "  <matplotlib.lines.Line2D at 0x7ff608a70550>,\n",
       "  <matplotlib.lines.Line2D at 0x7ff608a70820>,\n",
       "  <matplotlib.lines.Line2D at 0x7ff6089fc940>,\n",
       "  <matplotlib.lines.Line2D at 0x7ff6089fcc10>,\n",
       "  <matplotlib.lines.Line2D at 0x7ff608a0ad30>,\n",
       "  <matplotlib.lines.Line2D at 0x7ff608a17040>,\n",
       "  <matplotlib.lines.Line2D at 0x7ff608a26160>,\n",
       "  <matplotlib.lines.Line2D at 0x7ff608a26430>,\n",
       "  <matplotlib.lines.Line2D at 0x7ff608a32550>,\n",
       "  <matplotlib.lines.Line2D at 0x7ff608a32820>,\n",
       "  <matplotlib.lines.Line2D at 0x7ff6089c0940>,\n",
       "  <matplotlib.lines.Line2D at 0x7ff6089c0c10>,\n",
       "  <matplotlib.lines.Line2D at 0x7ff6089cdd30>,\n",
       "  <matplotlib.lines.Line2D at 0x7ff6089d9040>,\n",
       "  <matplotlib.lines.Line2D at 0x7ff6089e6160>,\n",
       "  <matplotlib.lines.Line2D at 0x7ff6089e6430>,\n",
       "  <matplotlib.lines.Line2D at 0x7ff6089f5550>,\n",
       "  <matplotlib.lines.Line2D at 0x7ff6089f5820>,\n",
       "  <matplotlib.lines.Line2D at 0x7ff608982940>,\n",
       "  <matplotlib.lines.Line2D at 0x7ff608982c10>,\n",
       "  <matplotlib.lines.Line2D at 0x7ff60898fd30>,\n",
       "  <matplotlib.lines.Line2D at 0x7ff60899c040>,\n",
       "  <matplotlib.lines.Line2D at 0x7ff6089aa160>,\n",
       "  <matplotlib.lines.Line2D at 0x7ff6089aa430>,\n",
       "  <matplotlib.lines.Line2D at 0x7ff6089b6550>,\n",
       "  <matplotlib.lines.Line2D at 0x7ff6089b6820>,\n",
       "  <matplotlib.lines.Line2D at 0x7ff608941940>,\n",
       "  <matplotlib.lines.Line2D at 0x7ff608941c10>,\n",
       "  <matplotlib.lines.Line2D at 0x7ff608951d30>,\n",
       "  <matplotlib.lines.Line2D at 0x7ff60895d040>,\n",
       "  <matplotlib.lines.Line2D at 0x7ff60896c160>,\n",
       "  <matplotlib.lines.Line2D at 0x7ff60896c430>,\n",
       "  <matplotlib.lines.Line2D at 0x7ff6088f8580>,\n",
       "  <matplotlib.lines.Line2D at 0x7ff6088f8850>,\n",
       "  <matplotlib.lines.Line2D at 0x7ff608908970>,\n",
       "  <matplotlib.lines.Line2D at 0x7ff608908c40>,\n",
       "  <matplotlib.lines.Line2D at 0x7ff608913d60>,\n",
       "  <matplotlib.lines.Line2D at 0x7ff608920070>,\n",
       "  <matplotlib.lines.Line2D at 0x7ff60892f190>,\n",
       "  <matplotlib.lines.Line2D at 0x7ff60892f460>],\n",
       " 'boxes': [<matplotlib.lines.Line2D at 0x7ff608d59790>,\n",
       "  <matplotlib.lines.Line2D at 0x7ff608d6fb80>,\n",
       "  <matplotlib.lines.Line2D at 0x7ff608cfdf70>,\n",
       "  <matplotlib.lines.Line2D at 0x7ff608d143d0>,\n",
       "  <matplotlib.lines.Line2D at 0x7ff608d217c0>,\n",
       "  <matplotlib.lines.Line2D at 0x7ff608d2dbb0>,\n",
       "  <matplotlib.lines.Line2D at 0x7ff608cbbfa0>,\n",
       "  <matplotlib.lines.Line2D at 0x7ff608cd43d0>,\n",
       "  <matplotlib.lines.Line2D at 0x7ff608ce17c0>,\n",
       "  <matplotlib.lines.Line2D at 0x7ff608cefbb0>,\n",
       "  <matplotlib.lines.Line2D at 0x7ff608c7afa0>,\n",
       "  <matplotlib.lines.Line2D at 0x7ff608c943d0>,\n",
       "  <matplotlib.lines.Line2D at 0x7ff608ca07f0>,\n",
       "  <matplotlib.lines.Line2D at 0x7ff608caebe0>,\n",
       "  <matplotlib.lines.Line2D at 0x7ff608c3bfd0>,\n",
       "  <matplotlib.lines.Line2D at 0x7ff608c55400>,\n",
       "  <matplotlib.lines.Line2D at 0x7ff608c5b7f0>,\n",
       "  <matplotlib.lines.Line2D at 0x7ff608c64be0>,\n",
       "  <matplotlib.lines.Line2D at 0x7ff608c70fd0>,\n",
       "  <matplotlib.lines.Line2D at 0x7ff608c04400>,\n",
       "  <matplotlib.lines.Line2D at 0x7ff608c0f7f0>,\n",
       "  <matplotlib.lines.Line2D at 0x7ff608c1abe0>,\n",
       "  <matplotlib.lines.Line2D at 0x7ff608c30040>,\n",
       "  <matplotlib.lines.Line2D at 0x7ff608bbd430>,\n",
       "  <matplotlib.lines.Line2D at 0x7ff608bc7820>,\n",
       "  <matplotlib.lines.Line2D at 0x7ff608bd5c10>,\n",
       "  <matplotlib.lines.Line2D at 0x7ff608bef040>,\n",
       "  <matplotlib.lines.Line2D at 0x7ff608b7e430>,\n",
       "  <matplotlib.lines.Line2D at 0x7ff608b8b820>,\n",
       "  <matplotlib.lines.Line2D at 0x7ff608b96c10>,\n",
       "  <matplotlib.lines.Line2D at 0x7ff608bb2040>,\n",
       "  <matplotlib.lines.Line2D at 0x7ff608b40430>,\n",
       "  <matplotlib.lines.Line2D at 0x7ff608b4b820>,\n",
       "  <matplotlib.lines.Line2D at 0x7ff608b59c10>,\n",
       "  <matplotlib.lines.Line2D at 0x7ff608b70040>,\n",
       "  <matplotlib.lines.Line2D at 0x7ff608b01430>,\n",
       "  <matplotlib.lines.Line2D at 0x7ff608b0e850>,\n",
       "  <matplotlib.lines.Line2D at 0x7ff608b1dc40>,\n",
       "  <matplotlib.lines.Line2D at 0x7ff608ab7070>,\n",
       "  <matplotlib.lines.Line2D at 0x7ff608ac5460>,\n",
       "  <matplotlib.lines.Line2D at 0x7ff608ad0850>,\n",
       "  <matplotlib.lines.Line2D at 0x7ff608adfc40>,\n",
       "  <matplotlib.lines.Line2D at 0x7ff608a79070>,\n",
       "  <matplotlib.lines.Line2D at 0x7ff608a87460>,\n",
       "  <matplotlib.lines.Line2D at 0x7ff608a93850>,\n",
       "  <matplotlib.lines.Line2D at 0x7ff608aa1c40>,\n",
       "  <matplotlib.lines.Line2D at 0x7ff608a3c070>,\n",
       "  <matplotlib.lines.Line2D at 0x7ff608a49460>,\n",
       "  <matplotlib.lines.Line2D at 0x7ff608a548b0>,\n",
       "  <matplotlib.lines.Line2D at 0x7ff608a63ca0>,\n",
       "  <matplotlib.lines.Line2D at 0x7ff6089fc0d0>,\n",
       "  <matplotlib.lines.Line2D at 0x7ff608a0a4c0>,\n",
       "  <matplotlib.lines.Line2D at 0x7ff608a178b0>,\n",
       "  <matplotlib.lines.Line2D at 0x7ff608a26ca0>,\n",
       "  <matplotlib.lines.Line2D at 0x7ff6089c00d0>,\n",
       "  <matplotlib.lines.Line2D at 0x7ff6089cd4c0>,\n",
       "  <matplotlib.lines.Line2D at 0x7ff6089d98b0>,\n",
       "  <matplotlib.lines.Line2D at 0x7ff6089e6ca0>,\n",
       "  <matplotlib.lines.Line2D at 0x7ff6089820d0>,\n",
       "  <matplotlib.lines.Line2D at 0x7ff60898f4c0>,\n",
       "  <matplotlib.lines.Line2D at 0x7ff60899c8b0>,\n",
       "  <matplotlib.lines.Line2D at 0x7ff6089aaca0>,\n",
       "  <matplotlib.lines.Line2D at 0x7ff6089410d0>,\n",
       "  <matplotlib.lines.Line2D at 0x7ff6089514c0>,\n",
       "  <matplotlib.lines.Line2D at 0x7ff60895d8b0>,\n",
       "  <matplotlib.lines.Line2D at 0x7ff60896cca0>,\n",
       "  <matplotlib.lines.Line2D at 0x7ff608908100>,\n",
       "  <matplotlib.lines.Line2D at 0x7ff6089134f0>,\n",
       "  <matplotlib.lines.Line2D at 0x7ff6089208e0>],\n",
       " 'medians': [<matplotlib.lines.Line2D at 0x7ff608d6f5e0>,\n",
       "  <matplotlib.lines.Line2D at 0x7ff608cfd9d0>,\n",
       "  <matplotlib.lines.Line2D at 0x7ff608d07df0>,\n",
       "  <matplotlib.lines.Line2D at 0x7ff608d21220>,\n",
       "  <matplotlib.lines.Line2D at 0x7ff608d2d610>,\n",
       "  <matplotlib.lines.Line2D at 0x7ff608cbba00>,\n",
       "  <matplotlib.lines.Line2D at 0x7ff608cc7df0>,\n",
       "  <matplotlib.lines.Line2D at 0x7ff608ce1220>,\n",
       "  <matplotlib.lines.Line2D at 0x7ff608cef610>,\n",
       "  <matplotlib.lines.Line2D at 0x7ff608c7aa00>,\n",
       "  <matplotlib.lines.Line2D at 0x7ff608c87df0>,\n",
       "  <matplotlib.lines.Line2D at 0x7ff608ca0250>,\n",
       "  <matplotlib.lines.Line2D at 0x7ff608cae640>,\n",
       "  <matplotlib.lines.Line2D at 0x7ff608c3ba30>,\n",
       "  <matplotlib.lines.Line2D at 0x7ff608c48e20>,\n",
       "  <matplotlib.lines.Line2D at 0x7ff608c5b250>,\n",
       "  <matplotlib.lines.Line2D at 0x7ff608c64640>,\n",
       "  <matplotlib.lines.Line2D at 0x7ff608c70a30>,\n",
       "  <matplotlib.lines.Line2D at 0x7ff608bfbe20>,\n",
       "  <matplotlib.lines.Line2D at 0x7ff608c0f250>,\n",
       "  <matplotlib.lines.Line2D at 0x7ff608c1a640>,\n",
       "  <matplotlib.lines.Line2D at 0x7ff608c24a30>,\n",
       "  <matplotlib.lines.Line2D at 0x7ff608c30e50>,\n",
       "  <matplotlib.lines.Line2D at 0x7ff608bc7280>,\n",
       "  <matplotlib.lines.Line2D at 0x7ff608bd5670>,\n",
       "  <matplotlib.lines.Line2D at 0x7ff608be2a60>,\n",
       "  <matplotlib.lines.Line2D at 0x7ff608befe50>,\n",
       "  <matplotlib.lines.Line2D at 0x7ff608b8b280>,\n",
       "  <matplotlib.lines.Line2D at 0x7ff608b96670>,\n",
       "  <matplotlib.lines.Line2D at 0x7ff608ba6a60>,\n",
       "  <matplotlib.lines.Line2D at 0x7ff608bb2e50>,\n",
       "  <matplotlib.lines.Line2D at 0x7ff608b4b280>,\n",
       "  <matplotlib.lines.Line2D at 0x7ff608b59670>,\n",
       "  <matplotlib.lines.Line2D at 0x7ff608b68a60>,\n",
       "  <matplotlib.lines.Line2D at 0x7ff608b70e50>,\n",
       "  <matplotlib.lines.Line2D at 0x7ff608b0e280>,\n",
       "  <matplotlib.lines.Line2D at 0x7ff608b1d6a0>,\n",
       "  <matplotlib.lines.Line2D at 0x7ff608b28a90>,\n",
       "  <matplotlib.lines.Line2D at 0x7ff608ab7e80>,\n",
       "  <matplotlib.lines.Line2D at 0x7ff608ad02b0>,\n",
       "  <matplotlib.lines.Line2D at 0x7ff608adf6a0>,\n",
       "  <matplotlib.lines.Line2D at 0x7ff608aeba90>,\n",
       "  <matplotlib.lines.Line2D at 0x7ff608a79e80>,\n",
       "  <matplotlib.lines.Line2D at 0x7ff608a932b0>,\n",
       "  <matplotlib.lines.Line2D at 0x7ff608aa16a0>,\n",
       "  <matplotlib.lines.Line2D at 0x7ff608aada90>,\n",
       "  <matplotlib.lines.Line2D at 0x7ff608a3ce80>,\n",
       "  <matplotlib.lines.Line2D at 0x7ff608a54310>,\n",
       "  <matplotlib.lines.Line2D at 0x7ff608a63700>,\n",
       "  <matplotlib.lines.Line2D at 0x7ff608a70af0>,\n",
       "  <matplotlib.lines.Line2D at 0x7ff6089fcee0>,\n",
       "  <matplotlib.lines.Line2D at 0x7ff608a17310>,\n",
       "  <matplotlib.lines.Line2D at 0x7ff608a26700>,\n",
       "  <matplotlib.lines.Line2D at 0x7ff608a32af0>,\n",
       "  <matplotlib.lines.Line2D at 0x7ff6089c0ee0>,\n",
       "  <matplotlib.lines.Line2D at 0x7ff6089d9310>,\n",
       "  <matplotlib.lines.Line2D at 0x7ff6089e6700>,\n",
       "  <matplotlib.lines.Line2D at 0x7ff6089f5af0>,\n",
       "  <matplotlib.lines.Line2D at 0x7ff608982ee0>,\n",
       "  <matplotlib.lines.Line2D at 0x7ff60899c310>,\n",
       "  <matplotlib.lines.Line2D at 0x7ff6089aa700>,\n",
       "  <matplotlib.lines.Line2D at 0x7ff6089b6af0>,\n",
       "  <matplotlib.lines.Line2D at 0x7ff608941ee0>,\n",
       "  <matplotlib.lines.Line2D at 0x7ff60895d310>,\n",
       "  <matplotlib.lines.Line2D at 0x7ff60896c700>,\n",
       "  <matplotlib.lines.Line2D at 0x7ff6088f8b20>,\n",
       "  <matplotlib.lines.Line2D at 0x7ff608908f10>,\n",
       "  <matplotlib.lines.Line2D at 0x7ff608920340>,\n",
       "  <matplotlib.lines.Line2D at 0x7ff60892f730>],\n",
       " 'fliers': [<matplotlib.lines.Line2D at 0x7ff608d6f8b0>,\n",
       "  <matplotlib.lines.Line2D at 0x7ff608cfdca0>,\n",
       "  <matplotlib.lines.Line2D at 0x7ff608d14100>,\n",
       "  <matplotlib.lines.Line2D at 0x7ff608d214f0>,\n",
       "  <matplotlib.lines.Line2D at 0x7ff608d2d8e0>,\n",
       "  <matplotlib.lines.Line2D at 0x7ff608cbbcd0>,\n",
       "  <matplotlib.lines.Line2D at 0x7ff608cd4100>,\n",
       "  <matplotlib.lines.Line2D at 0x7ff608ce14f0>,\n",
       "  <matplotlib.lines.Line2D at 0x7ff608cef8e0>,\n",
       "  <matplotlib.lines.Line2D at 0x7ff608c7acd0>,\n",
       "  <matplotlib.lines.Line2D at 0x7ff608c94100>,\n",
       "  <matplotlib.lines.Line2D at 0x7ff608ca0520>,\n",
       "  <matplotlib.lines.Line2D at 0x7ff608cae910>,\n",
       "  <matplotlib.lines.Line2D at 0x7ff608c3bd00>,\n",
       "  <matplotlib.lines.Line2D at 0x7ff608c55130>,\n",
       "  <matplotlib.lines.Line2D at 0x7ff608c5b520>,\n",
       "  <matplotlib.lines.Line2D at 0x7ff608c64910>,\n",
       "  <matplotlib.lines.Line2D at 0x7ff608c70d00>,\n",
       "  <matplotlib.lines.Line2D at 0x7ff608c04130>,\n",
       "  <matplotlib.lines.Line2D at 0x7ff608c0f520>,\n",
       "  <matplotlib.lines.Line2D at 0x7ff608c1a910>,\n",
       "  <matplotlib.lines.Line2D at 0x7ff608c24d00>,\n",
       "  <matplotlib.lines.Line2D at 0x7ff608bbd160>,\n",
       "  <matplotlib.lines.Line2D at 0x7ff608bc7550>,\n",
       "  <matplotlib.lines.Line2D at 0x7ff608bd5940>,\n",
       "  <matplotlib.lines.Line2D at 0x7ff608be2d30>,\n",
       "  <matplotlib.lines.Line2D at 0x7ff608b7e160>,\n",
       "  <matplotlib.lines.Line2D at 0x7ff608b8b550>,\n",
       "  <matplotlib.lines.Line2D at 0x7ff608b96940>,\n",
       "  <matplotlib.lines.Line2D at 0x7ff608ba6d30>,\n",
       "  <matplotlib.lines.Line2D at 0x7ff608b40160>,\n",
       "  <matplotlib.lines.Line2D at 0x7ff608b4b550>,\n",
       "  <matplotlib.lines.Line2D at 0x7ff608b59940>,\n",
       "  <matplotlib.lines.Line2D at 0x7ff608b68d30>,\n",
       "  <matplotlib.lines.Line2D at 0x7ff608b01160>,\n",
       "  <matplotlib.lines.Line2D at 0x7ff608b0e550>,\n",
       "  <matplotlib.lines.Line2D at 0x7ff608b1d970>,\n",
       "  <matplotlib.lines.Line2D at 0x7ff608b28d60>,\n",
       "  <matplotlib.lines.Line2D at 0x7ff608ac5190>,\n",
       "  <matplotlib.lines.Line2D at 0x7ff608ad0580>,\n",
       "  <matplotlib.lines.Line2D at 0x7ff608adf970>,\n",
       "  <matplotlib.lines.Line2D at 0x7ff608aebd60>,\n",
       "  <matplotlib.lines.Line2D at 0x7ff608a87190>,\n",
       "  <matplotlib.lines.Line2D at 0x7ff608a93580>,\n",
       "  <matplotlib.lines.Line2D at 0x7ff608aa1970>,\n",
       "  <matplotlib.lines.Line2D at 0x7ff608aadd60>,\n",
       "  <matplotlib.lines.Line2D at 0x7ff608a49190>,\n",
       "  <matplotlib.lines.Line2D at 0x7ff608a545e0>,\n",
       "  <matplotlib.lines.Line2D at 0x7ff608a639d0>,\n",
       "  <matplotlib.lines.Line2D at 0x7ff608a70dc0>,\n",
       "  <matplotlib.lines.Line2D at 0x7ff608a0a1f0>,\n",
       "  <matplotlib.lines.Line2D at 0x7ff608a175e0>,\n",
       "  <matplotlib.lines.Line2D at 0x7ff608a269d0>,\n",
       "  <matplotlib.lines.Line2D at 0x7ff608a32dc0>,\n",
       "  <matplotlib.lines.Line2D at 0x7ff6089cd1f0>,\n",
       "  <matplotlib.lines.Line2D at 0x7ff6089d95e0>,\n",
       "  <matplotlib.lines.Line2D at 0x7ff6089e69d0>,\n",
       "  <matplotlib.lines.Line2D at 0x7ff6089f5dc0>,\n",
       "  <matplotlib.lines.Line2D at 0x7ff60898f1f0>,\n",
       "  <matplotlib.lines.Line2D at 0x7ff60899c5e0>,\n",
       "  <matplotlib.lines.Line2D at 0x7ff6089aa9d0>,\n",
       "  <matplotlib.lines.Line2D at 0x7ff6089b6dc0>,\n",
       "  <matplotlib.lines.Line2D at 0x7ff6089511f0>,\n",
       "  <matplotlib.lines.Line2D at 0x7ff60895d5e0>,\n",
       "  <matplotlib.lines.Line2D at 0x7ff60896c9d0>,\n",
       "  <matplotlib.lines.Line2D at 0x7ff6088f8df0>,\n",
       "  <matplotlib.lines.Line2D at 0x7ff608913220>,\n",
       "  <matplotlib.lines.Line2D at 0x7ff608920610>,\n",
       "  <matplotlib.lines.Line2D at 0x7ff60892fa00>],\n",
       " 'means': []}"
      ]
     },
     "execution_count": 37,
     "metadata": {},
     "output_type": "execute_result"
    },
    {
     "data": {
      "image/png": "[encoded data removed]",
      "text/plain": [
       "<Figure size 432x288 with 1 Axes>"
      ]
     },
     "metadata": {
      "needs_background": "light"
     },
     "output_type": "display_data"
    }
   ],
   "source": [
    "plt.title('absolute difference boxplot per essay')\n",
    "plt.boxplot([list(accumulated_variances_essays_list.values())[s[0]] for s in sorted_sum_list])"
   ]
  },
  {
   "cell_type": "code",
   "execution_count": null,
   "metadata": {},
   "outputs": [],
   "source": []
  },
  {
   "cell_type": "code",
   "execution_count": 38,
   "metadata": {},
   "outputs": [
    {
     "data": {
      "text/plain": [
       "{'whiskers': [<matplotlib.lines.Line2D at 0x7ff608706430>,\n",
       "  <matplotlib.lines.Line2D at 0x7ff608706700>],\n",
       " 'caps': [<matplotlib.lines.Line2D at 0x7ff6087069d0>,\n",
       "  <matplotlib.lines.Line2D at 0x7ff608706cd0>],\n",
       " 'boxes': [<matplotlib.lines.Line2D at 0x7ff608706280>],\n",
       " 'medians': [<matplotlib.lines.Line2D at 0x7ff608706fa0>],\n",
       " 'fliers': [<matplotlib.lines.Line2D at 0x7ff6087112b0>],\n",
       " 'means': []}"
      ]
     },
     "execution_count": 38,
     "metadata": {},
     "output_type": "execute_result"
    },
    {
     "data": {
      "image/png": "[encoded data removed]",
      "text/plain": [
       "<Figure size 432x288 with 1 Axes>"
      ]
     },
     "metadata": {
      "needs_background": "light"
     },
     "output_type": "display_data"
    }
   ],
   "source": [
    "plt.title('boxplot of all questions and essays')\n",
    "plt.boxplot([sum(s) for s in accumulated_variances_essays_list.values()])"
   ]
  },
  {
   "cell_type": "code",
   "execution_count": 39,
   "metadata": {},
   "outputs": [],
   "source": [
    "current = -1 #questionid\n",
    "accumulated_variances_list = {k:[] for k in range(13)}\n",
    "\n",
    "for a in all_parsed_answers:\n",
    "    accumulated_variances_list[a[1]].append(abs(a[-2]-a[-1]))"
   ]
  },
  {
   "cell_type": "code",
   "execution_count": 46,
   "metadata": {},
   "outputs": [
    {
     "data": {
      "text/plain": [
       "<BarContainer object of 13 artists>"
      ]
     },
     "execution_count": 46,
     "metadata": {},
     "output_type": "execute_result"
    },
    {
     "data": {
      "image/png": "[encoded data removed]",
      "text/plain": [
       "<Figure size 432x288 with 1 Axes>"
      ]
     },
     "metadata": {
      "needs_background": "light"
     },
     "output_type": "display_data"
    }
   ],
   "source": [
    "plt.title('absolute difference sum per question')\n",
    "plt.bar(list(range(13)), [sum(accumulated_variances_list[k]) for k in accumulated_variances_list])"
   ]
  },
  {
   "cell_type": "code",
   "execution_count": 44,
   "metadata": {},
   "outputs": [
    {
     "data": {
      "text/plain": [
       "<BarContainer object of 13 artists>"
      ]
     },
     "execution_count": 44,
     "metadata": {},
     "output_type": "execute_result"
    },
    {
     "data": {
      "image/png": "[encoded data removed]",
      "text/plain": [
       "<Figure size 432x288 with 1 Axes>"
      ]
     },
     "metadata": {
      "needs_background": "light"
     },
     "output_type": "display_data"
    }
   ],
   "source": [
    "plt.title('average difference sum per question')\n",
    "plt.bar(list(range(13)), [sum(accumulated_variances_list[k])/len(accumulated_variances_list[k]) for k in accumulated_variances_list])"
   ]
  },
  {
   "cell_type": "code",
   "execution_count": 41,
   "metadata": {},
   "outputs": [
    {
     "data": {
      "text/plain": [
       "{'whiskers': [<matplotlib.lines.Line2D at 0x7ff608657ee0>,\n",
       "  <matplotlib.lines.Line2D at 0x7ff6086691f0>,\n",
       "  <matplotlib.lines.Line2D at 0x7ff608672310>,\n",
       "  <matplotlib.lines.Line2D at 0x7ff6086725e0>,\n",
       "  <matplotlib.lines.Line2D at 0x7ff608603700>,\n",
       "  <matplotlib.lines.Line2D at 0x7ff6086039d0>,\n",
       "  <matplotlib.lines.Line2D at 0x7ff60860daf0>,\n",
       "  <matplotlib.lines.Line2D at 0x7ff60860ddc0>,\n",
       "  <matplotlib.lines.Line2D at 0x7ff60861cee0>,\n",
       "  <matplotlib.lines.Line2D at 0x7ff6086281f0>,\n",
       "  <matplotlib.lines.Line2D at 0x7ff608635310>,\n",
       "  <matplotlib.lines.Line2D at 0x7ff6086355e0>,\n",
       "  <matplotlib.lines.Line2D at 0x7ff6085c4700>,\n",
       "  <matplotlib.lines.Line2D at 0x7ff6085c49d0>,\n",
       "  <matplotlib.lines.Line2D at 0x7ff6085d0af0>,\n",
       "  <matplotlib.lines.Line2D at 0x7ff6085d0dc0>,\n",
       "  <matplotlib.lines.Line2D at 0x7ff6085ddee0>,\n",
       "  <matplotlib.lines.Line2D at 0x7ff6085eb1f0>,\n",
       "  <matplotlib.lines.Line2D at 0x7ff608577310>,\n",
       "  <matplotlib.lines.Line2D at 0x7ff6085775e0>,\n",
       "  <matplotlib.lines.Line2D at 0x7ff608584700>,\n",
       "  <matplotlib.lines.Line2D at 0x7ff6085849d0>,\n",
       "  <matplotlib.lines.Line2D at 0x7ff608592af0>,\n",
       "  <matplotlib.lines.Line2D at 0x7ff608592dc0>,\n",
       "  <matplotlib.lines.Line2D at 0x7ff6085a0ee0>,\n",
       "  <matplotlib.lines.Line2D at 0x7ff6085aa1f0>],\n",
       " 'caps': [<matplotlib.lines.Line2D at 0x7ff6086694c0>,\n",
       "  <matplotlib.lines.Line2D at 0x7ff608669790>,\n",
       "  <matplotlib.lines.Line2D at 0x7ff6086728b0>,\n",
       "  <matplotlib.lines.Line2D at 0x7ff608672b80>,\n",
       "  <matplotlib.lines.Line2D at 0x7ff608603ca0>,\n",
       "  <matplotlib.lines.Line2D at 0x7ff608603f70>,\n",
       "  <matplotlib.lines.Line2D at 0x7ff60861c0d0>,\n",
       "  <matplotlib.lines.Line2D at 0x7ff60861c3a0>,\n",
       "  <matplotlib.lines.Line2D at 0x7ff6086284c0>,\n",
       "  <matplotlib.lines.Line2D at 0x7ff608628790>,\n",
       "  <matplotlib.lines.Line2D at 0x7ff6086358b0>,\n",
       "  <matplotlib.lines.Line2D at 0x7ff608635b80>,\n",
       "  <matplotlib.lines.Line2D at 0x7ff6085c4ca0>,\n",
       "  <matplotlib.lines.Line2D at 0x7ff6085c4f70>,\n",
       "  <matplotlib.lines.Line2D at 0x7ff6085dd0d0>,\n",
       "  <matplotlib.lines.Line2D at 0x7ff6085dd3a0>,\n",
       "  <matplotlib.lines.Line2D at 0x7ff6085eb4c0>,\n",
       "  <matplotlib.lines.Line2D at 0x7ff6085eb790>,\n",
       "  <matplotlib.lines.Line2D at 0x7ff6085778b0>,\n",
       "  <matplotlib.lines.Line2D at 0x7ff608577b80>,\n",
       "  <matplotlib.lines.Line2D at 0x7ff608584ca0>,\n",
       "  <matplotlib.lines.Line2D at 0x7ff608584f70>,\n",
       "  <matplotlib.lines.Line2D at 0x7ff6085a00d0>,\n",
       "  <matplotlib.lines.Line2D at 0x7ff6085a03a0>,\n",
       "  <matplotlib.lines.Line2D at 0x7ff6085aa4c0>,\n",
       "  <matplotlib.lines.Line2D at 0x7ff6085aa790>],\n",
       " 'boxes': [<matplotlib.lines.Line2D at 0x7ff608657d30>,\n",
       "  <matplotlib.lines.Line2D at 0x7ff608672040>,\n",
       "  <matplotlib.lines.Line2D at 0x7ff608603430>,\n",
       "  <matplotlib.lines.Line2D at 0x7ff60860d820>,\n",
       "  <matplotlib.lines.Line2D at 0x7ff60861cc10>,\n",
       "  <matplotlib.lines.Line2D at 0x7ff608635040>,\n",
       "  <matplotlib.lines.Line2D at 0x7ff6085c4430>,\n",
       "  <matplotlib.lines.Line2D at 0x7ff6085d0820>,\n",
       "  <matplotlib.lines.Line2D at 0x7ff6085ddc10>,\n",
       "  <matplotlib.lines.Line2D at 0x7ff608577040>,\n",
       "  <matplotlib.lines.Line2D at 0x7ff608584430>,\n",
       "  <matplotlib.lines.Line2D at 0x7ff608592820>,\n",
       "  <matplotlib.lines.Line2D at 0x7ff6085a0c10>],\n",
       " 'medians': [<matplotlib.lines.Line2D at 0x7ff608669a60>,\n",
       "  <matplotlib.lines.Line2D at 0x7ff608672e50>,\n",
       "  <matplotlib.lines.Line2D at 0x7ff60860d280>,\n",
       "  <matplotlib.lines.Line2D at 0x7ff60861c670>,\n",
       "  <matplotlib.lines.Line2D at 0x7ff608628a60>,\n",
       "  <matplotlib.lines.Line2D at 0x7ff608635e50>,\n",
       "  <matplotlib.lines.Line2D at 0x7ff6085d0280>,\n",
       "  <matplotlib.lines.Line2D at 0x7ff6085dd670>,\n",
       "  <matplotlib.lines.Line2D at 0x7ff6085eba60>,\n",
       "  <matplotlib.lines.Line2D at 0x7ff608577e50>,\n",
       "  <matplotlib.lines.Line2D at 0x7ff608592280>,\n",
       "  <matplotlib.lines.Line2D at 0x7ff6085a0670>,\n",
       "  <matplotlib.lines.Line2D at 0x7ff6085aaa60>],\n",
       " 'fliers': [<matplotlib.lines.Line2D at 0x7ff608669d30>,\n",
       "  <matplotlib.lines.Line2D at 0x7ff608603160>,\n",
       "  <matplotlib.lines.Line2D at 0x7ff60860d550>,\n",
       "  <matplotlib.lines.Line2D at 0x7ff60861c940>,\n",
       "  <matplotlib.lines.Line2D at 0x7ff608628d30>,\n",
       "  <matplotlib.lines.Line2D at 0x7ff6085c4160>,\n",
       "  <matplotlib.lines.Line2D at 0x7ff6085d0550>,\n",
       "  <matplotlib.lines.Line2D at 0x7ff6085dd940>,\n",
       "  <matplotlib.lines.Line2D at 0x7ff6085ebd30>,\n",
       "  <matplotlib.lines.Line2D at 0x7ff608584160>,\n",
       "  <matplotlib.lines.Line2D at 0x7ff608592550>,\n",
       "  <matplotlib.lines.Line2D at 0x7ff6085a0940>,\n",
       "  <matplotlib.lines.Line2D at 0x7ff6085aad30>],\n",
       " 'means': []}"
      ]
     },
     "execution_count": 41,
     "metadata": {},
     "output_type": "execute_result"
    },
    {
     "data": {
      "image/png": "[encoded data removed]",
      "text/plain": [
       "<Figure size 432x288 with 1 Axes>"
      ]
     },
     "metadata": {
      "needs_background": "light"
     },
     "output_type": "display_data"
    }
   ],
   "source": [
    "plt.title('absolute difference boxplot per question')\n",
    "plt.boxplot([accumulated_variances_list[k] for k in accumulated_variances_list])"
   ]
  },
  {
   "cell_type": "code",
   "execution_count": null,
   "metadata": {},
   "outputs": [],
   "source": []
  }
 ],
 "metadata": {
  "kernelspec": {
   "display_name": "evaluate",
   "language": "python",
   "name": "python3"
  },
  "language_info": {
   "codemirror_mode": {
    "name": "ipython",
    "version": 3
   },
   "file_extension": ".py",
   "mimetype": "text/x-python",
   "name": "python",
   "nbconvert_exporter": "python",
   "pygments_lexer": "ipython3",
   "version": "3.8.13"
  },
  "orig_nbformat": 4
 },
 "nbformat": 4,
 "nbformat_minor": 2
}
