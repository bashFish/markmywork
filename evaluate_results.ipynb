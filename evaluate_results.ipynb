{
 "cells": [
  {
   "cell_type": "code",
   "execution_count": 3,
   "metadata": {},
   "outputs": [],
   "source": [
    "from mmw.parse import *"
   ]
  },
  {
   "cell_type": "code",
   "execution_count": 4,
   "metadata": {},
   "outputs": [],
   "source": [
    "all_essays, all_questions, all_answers = load_results('data/evaluations/run_3_ft_ada')"
   ]
  },
  {
   "cell_type": "code",
   "execution_count": 7,
   "metadata": {},
   "outputs": [],
   "source": [
    "marked_essays, filtered_marked_essays, questions = parse_annotations()"
   ]
  },
  {
   "cell_type": "code",
   "execution_count": 5,
   "metadata": {},
   "outputs": [],
   "source": [
    "essay_str_list = [int(e[0][:-5][-2:]) for e in all_essays]"
   ]
  },
  {
   "cell_type": "code",
   "execution_count": 6,
   "metadata": {},
   "outputs": [
    {
     "data": {
      "text/plain": [
       "(0,\n",
       " 0,\n",
       " 'Given is a student essay and a question to the essay. Please rate the Question with a number between 0 and 3, where 0 is \"not at all satisfied\" and 3 is \"very satisfied.\".\\n\\nEssay: \"\"\"\\nThe Cage\\nIt felt like I was walking forever, i didn\\'t even know were i was i just knew i was somewhere. A creepy aliway to be exazaced. To be honest i would rather\\nbe at school than this nightmare well not to brag but i was not scared in the slightited, anyway desided just to keep walking to see what was down this\\naliway, just as i was almost there thunder shot right though the sky it was like someone had a shotgun shot a bullet right next to my ear jezz i was not\\nprepared for that, where there is thunder there is rain and i was not gonna get my new guchi shoes wet so i bulted to the end of the crusty aliway,\\ni saw... well i didn\\'t see anything other than cages, well i guess it was just a dream cause i don\\'t own\\nguchi shoes. OK enough of me being broke I gotta get to school. Time forwords and i\\'m at school barely and my best friend walks towards me talking about\\nhow her dad didn\\'t buy her the new iphone 507989428 which is like a billion bucks while i\\'m sitting here trying to listen to her complaints that no one\\ncares about while i don\\'t even have a dad\"\"\"\\nQuestion: \"\"\"\\nHas the student written a compelling opening?\"\"\"\\nAnswer:',\n",
       " <OpenAIObject text_completion id=cmpl-7BMHN38zW96PfhLpjHk16t3UMSr3P at 0x7f062ade9680> JSON: {\n",
       "   \"choices\": [\n",
       "     {\n",
       "       \"finish_reason\": \"length\",\n",
       "       \"index\": 0,\n",
       "       \"logprobs\": null,\n",
       "       \"text\": \" 0\\nAnswer\"\n",
       "     }\n",
       "   ],\n",
       "   \"created\": 1682941605,\n",
       "   \"id\": \"cmpl-7BMHN38zW96PfhLpjHk16t3UMSr3P\",\n",
       "   \"model\": \"ada:ft-mark-my-words-2023-05-01-11-44-26\",\n",
       "   \"object\": \"text_completion\",\n",
       "   \"usage\": {\n",
       "     \"completion_tokens\": 3,\n",
       "     \"prompt_tokens\": 330,\n",
       "     \"total_tokens\": 333\n",
       "   }\n",
       " },\n",
       " 1)"
      ]
     },
     "execution_count": 6,
     "metadata": {},
     "output_type": "execute_result"
    }
   ],
   "source": [
    "all_answers[0]"
   ]
  },
  {
   "cell_type": "code",
   "execution_count": 8,
   "metadata": {},
   "outputs": [],
   "source": [
    "all_parsed_answers = []\n",
    "for a in all_answers:\n",
    "    essat_id = essay_str_list[a[0]]\n",
    "    \n",
    "    all_parsed_answers.append((a[0],a[1],\n",
    "                               int(marked_essays[marked_essays['essay id']==essat_id].iloc[0][1+a[1]]), \n",
    "                               int(a[3]['choices'][0]['text'][:2])))"
   ]
  },
  {
   "cell_type": "code",
   "execution_count": 9,
   "metadata": {},
   "outputs": [],
   "source": [
    "differences = [abs(a[-2]-a[-1]) for a in all_parsed_answers]"
   ]
  },
  {
   "cell_type": "code",
   "execution_count": 10,
   "metadata": {},
   "outputs": [],
   "source": [
    "from matplotlib import pyplot as plt"
   ]
  },
  {
   "cell_type": "code",
   "execution_count": 11,
   "metadata": {},
   "outputs": [
    {
     "data": {
      "text/plain": [
       "(array([123.,   0.,   0.,  61.,   0.,   0.,  10.,   0.,   0.,   1.]),\n",
       " array([0. , 0.3, 0.6, 0.9, 1.2, 1.5, 1.8, 2.1, 2.4, 2.7, 3. ]),\n",
       " <BarContainer object of 10 artists>)"
      ]
     },
     "execution_count": 11,
     "metadata": {},
     "output_type": "execute_result"
    },
    {
     "data": {
      "image/png": "[encoded data removed]",
      "text/plain": [
       "<Figure size 432x288 with 1 Axes>"
      ]
     },
     "metadata": {
      "needs_background": "light"
     },
     "output_type": "display_data"
    }
   ],
   "source": [
    "plt.title('absolute answer difference')\n",
    "plt.hist(differences)"
   ]
  },
  {
   "cell_type": "code",
   "execution_count": 24,
   "metadata": {},
   "outputs": [],
   "source": [
    "accumulated_variances_essays_list = {k:[] for k in range(len(set([a[0] for a in all_parsed_answers])))}\n",
    "for a in all_parsed_answers:\n",
    "    accumulated_variances_essays_list[a[0]].append(abs(a[-2]-a[-1]))"
   ]
  },
  {
   "cell_type": "code",
   "execution_count": 13,
   "metadata": {},
   "outputs": [],
   "source": [
    "import numpy as np"
   ]
  },
  {
   "cell_type": "code",
   "execution_count": 20,
   "metadata": {},
   "outputs": [
    {
     "data": {
      "text/plain": [
       "(array([19.,  0.,  0., 60.,  0.,  0., 67.,  0.,  0., 49.]),\n",
       " array([0. , 0.3, 0.6, 0.9, 1.2, 1.5, 1.8, 2.1, 2.4, 2.7, 3. ]),\n",
       " <BarContainer object of 10 artists>)"
      ]
     },
     "execution_count": 20,
     "metadata": {},
     "output_type": "execute_result"
    },
    {
     "data": {
      "image/png": "[encoded data removed]",
      "text/plain": [
       "<Figure size 432x288 with 1 Axes>"
      ]
     },
     "metadata": {
      "needs_background": "light"
     },
     "output_type": "display_data"
    }
   ],
   "source": [
    "plt.hist([int(a[3]['choices'][0]['text'][:2]) for a in all_answers])"
   ]
  },
  {
   "cell_type": "code",
   "execution_count": 21,
   "metadata": {},
   "outputs": [
    {
     "data": {
      "text/plain": [
       "195"
      ]
     },
     "execution_count": 21,
     "metadata": {},
     "output_type": "execute_result"
    }
   ],
   "source": [
    "len(all_answers)"
   ]
  },
  {
   "cell_type": "code",
   "execution_count": 26,
   "metadata": {},
   "outputs": [
    {
     "data": {
      "text/plain": [
       "[<matplotlib.lines.Line2D at 0x7f0626260c10>]"
      ]
     },
     "execution_count": 26,
     "metadata": {},
     "output_type": "execute_result"
    },
    {
     "data": {
      "image/png": "[encoded data removed]",
      "text/plain": [
       "<Figure size 432x288 with 1 Axes>"
      ]
     },
     "metadata": {
      "needs_background": "light"
     },
     "output_type": "display_data"
    }
   ],
   "source": [
    "plt.title('absolute difference sum per essay')\n",
    "plt.bar(list(range(len(accumulated_variances_essays_list))), sorted([sum(a) for a in accumulated_variances_essays_list.values()]))\n",
    "plt.plot([0,len(accumulated_variances_essays_list)],[np.average([sum(a) for a in accumulated_variances_essays_list.values()])]*2)"
   ]
  },
  {
   "cell_type": "code",
   "execution_count": 27,
   "metadata": {},
   "outputs": [],
   "source": [
    "sorted_sum_list = sorted(enumerate([sum(a) for a in accumulated_variances_essays_list.values()]), key = lambda x: x[1])"
   ]
  },
  {
   "cell_type": "code",
   "execution_count": 29,
   "metadata": {},
   "outputs": [
    {
     "data": {
      "text/plain": [
       "{'whiskers': [<matplotlib.lines.Line2D at 0x7f0626080a90>,\n",
       "  <matplotlib.lines.Line2D at 0x7f0626080d60>,\n",
       "  <matplotlib.lines.Line2D at 0x7f0626012e80>,\n",
       "  <matplotlib.lines.Line2D at 0x7f0626021190>,\n",
       "  <matplotlib.lines.Line2D at 0x7f062602b2b0>,\n",
       "  <matplotlib.lines.Line2D at 0x7f062602b580>,\n",
       "  <matplotlib.lines.Line2D at 0x7f062603b6a0>,\n",
       "  <matplotlib.lines.Line2D at 0x7f062603b970>,\n",
       "  <matplotlib.lines.Line2D at 0x7f0625fc9a90>,\n",
       "  <matplotlib.lines.Line2D at 0x7f0625fc9d90>,\n",
       "  <matplotlib.lines.Line2D at 0x7f0625fd4eb0>,\n",
       "  <matplotlib.lines.Line2D at 0x7f0625fe11c0>,\n",
       "  <matplotlib.lines.Line2D at 0x7f0625fec2e0>,\n",
       "  <matplotlib.lines.Line2D at 0x7f0625fec5b0>,\n",
       "  <matplotlib.lines.Line2D at 0x7f0625ffc6d0>,\n",
       "  <matplotlib.lines.Line2D at 0x7f0625ffc9a0>,\n",
       "  <matplotlib.lines.Line2D at 0x7f0626008ac0>,\n",
       "  <matplotlib.lines.Line2D at 0x7f0626008d90>,\n",
       "  <matplotlib.lines.Line2D at 0x7f0625f98eb0>,\n",
       "  <matplotlib.lines.Line2D at 0x7f0625fa41c0>,\n",
       "  <matplotlib.lines.Line2D at 0x7f0625fb12e0>,\n",
       "  <matplotlib.lines.Line2D at 0x7f0625fb15b0>,\n",
       "  <matplotlib.lines.Line2D at 0x7f0625fc16d0>,\n",
       "  <matplotlib.lines.Line2D at 0x7f0625fc19a0>,\n",
       "  <matplotlib.lines.Line2D at 0x7f0625f4bac0>,\n",
       "  <matplotlib.lines.Line2D at 0x7f0625f4bd90>,\n",
       "  <matplotlib.lines.Line2D at 0x7f0625f5beb0>,\n",
       "  <matplotlib.lines.Line2D at 0x7f0625f661f0>,\n",
       "  <matplotlib.lines.Line2D at 0x7f0625f72310>,\n",
       "  <matplotlib.lines.Line2D at 0x7f0625f725e0>],\n",
       " 'caps': [<matplotlib.lines.Line2D at 0x7f0626012070>,\n",
       "  <matplotlib.lines.Line2D at 0x7f0626012340>,\n",
       "  <matplotlib.lines.Line2D at 0x7f0626021460>,\n",
       "  <matplotlib.lines.Line2D at 0x7f0626021730>,\n",
       "  <matplotlib.lines.Line2D at 0x7f062602b850>,\n",
       "  <matplotlib.lines.Line2D at 0x7f062602bb20>,\n",
       "  <matplotlib.lines.Line2D at 0x7f062603bc40>,\n",
       "  <matplotlib.lines.Line2D at 0x7f062603bf10>,\n",
       "  <matplotlib.lines.Line2D at 0x7f0625fd40a0>,\n",
       "  <matplotlib.lines.Line2D at 0x7f0625fd4370>,\n",
       "  <matplotlib.lines.Line2D at 0x7f0625fe1490>,\n",
       "  <matplotlib.lines.Line2D at 0x7f0625fe1760>,\n",
       "  <matplotlib.lines.Line2D at 0x7f0625fec880>,\n",
       "  <matplotlib.lines.Line2D at 0x7f0625fecb50>,\n",
       "  <matplotlib.lines.Line2D at 0x7f0625ffcc70>,\n",
       "  <matplotlib.lines.Line2D at 0x7f0625ffcf40>,\n",
       "  <matplotlib.lines.Line2D at 0x7f0625f980a0>,\n",
       "  <matplotlib.lines.Line2D at 0x7f0625f98370>,\n",
       "  <matplotlib.lines.Line2D at 0x7f0625fa4490>,\n",
       "  <matplotlib.lines.Line2D at 0x7f0625fa4760>,\n",
       "  <matplotlib.lines.Line2D at 0x7f0625fb1880>,\n",
       "  <matplotlib.lines.Line2D at 0x7f0625fb1b50>,\n",
       "  <matplotlib.lines.Line2D at 0x7f0625fc1c70>,\n",
       "  <matplotlib.lines.Line2D at 0x7f0625fc1f40>,\n",
       "  <matplotlib.lines.Line2D at 0x7f0625f5b0a0>,\n",
       "  <matplotlib.lines.Line2D at 0x7f0625f5b370>,\n",
       "  <matplotlib.lines.Line2D at 0x7f0625f664c0>,\n",
       "  <matplotlib.lines.Line2D at 0x7f0625f66790>,\n",
       "  <matplotlib.lines.Line2D at 0x7f0625f728b0>,\n",
       "  <matplotlib.lines.Line2D at 0x7f0625f72b80>],\n",
       " 'boxes': [<matplotlib.lines.Line2D at 0x7f06260808b0>,\n",
       "  <matplotlib.lines.Line2D at 0x7f0626012bb0>,\n",
       "  <matplotlib.lines.Line2D at 0x7f0626021fa0>,\n",
       "  <matplotlib.lines.Line2D at 0x7f062603b3d0>,\n",
       "  <matplotlib.lines.Line2D at 0x7f0625fc97c0>,\n",
       "  <matplotlib.lines.Line2D at 0x7f0625fd4be0>,\n",
       "  <matplotlib.lines.Line2D at 0x7f0625fe1fd0>,\n",
       "  <matplotlib.lines.Line2D at 0x7f0625ffc400>,\n",
       "  <matplotlib.lines.Line2D at 0x7f06260087f0>,\n",
       "  <matplotlib.lines.Line2D at 0x7f0625f98be0>,\n",
       "  <matplotlib.lines.Line2D at 0x7f0625fa4fd0>,\n",
       "  <matplotlib.lines.Line2D at 0x7f0625fc1400>,\n",
       "  <matplotlib.lines.Line2D at 0x7f0625f4b7f0>,\n",
       "  <matplotlib.lines.Line2D at 0x7f0625f5bbe0>,\n",
       "  <matplotlib.lines.Line2D at 0x7f0625f72040>],\n",
       " 'medians': [<matplotlib.lines.Line2D at 0x7f0626012610>,\n",
       "  <matplotlib.lines.Line2D at 0x7f0626021a00>,\n",
       "  <matplotlib.lines.Line2D at 0x7f062602bdf0>,\n",
       "  <matplotlib.lines.Line2D at 0x7f0625fc9220>,\n",
       "  <matplotlib.lines.Line2D at 0x7f0625fd4640>,\n",
       "  <matplotlib.lines.Line2D at 0x7f0625fe1a30>,\n",
       "  <matplotlib.lines.Line2D at 0x7f0625fece20>,\n",
       "  <matplotlib.lines.Line2D at 0x7f0626008250>,\n",
       "  <matplotlib.lines.Line2D at 0x7f0625f98640>,\n",
       "  <matplotlib.lines.Line2D at 0x7f0625fa4a30>,\n",
       "  <matplotlib.lines.Line2D at 0x7f0625fb1e20>,\n",
       "  <matplotlib.lines.Line2D at 0x7f0625f4b250>,\n",
       "  <matplotlib.lines.Line2D at 0x7f0625f5b640>,\n",
       "  <matplotlib.lines.Line2D at 0x7f0625f66a60>,\n",
       "  <matplotlib.lines.Line2D at 0x7f0625f72e50>],\n",
       " 'fliers': [<matplotlib.lines.Line2D at 0x7f06260128e0>,\n",
       "  <matplotlib.lines.Line2D at 0x7f0626021cd0>,\n",
       "  <matplotlib.lines.Line2D at 0x7f062603b100>,\n",
       "  <matplotlib.lines.Line2D at 0x7f0625fc94f0>,\n",
       "  <matplotlib.lines.Line2D at 0x7f0625fd4910>,\n",
       "  <matplotlib.lines.Line2D at 0x7f0625fe1d00>,\n",
       "  <matplotlib.lines.Line2D at 0x7f0625ffc130>,\n",
       "  <matplotlib.lines.Line2D at 0x7f0626008520>,\n",
       "  <matplotlib.lines.Line2D at 0x7f0625f98910>,\n",
       "  <matplotlib.lines.Line2D at 0x7f0625fa4d00>,\n",
       "  <matplotlib.lines.Line2D at 0x7f0625fc1130>,\n",
       "  <matplotlib.lines.Line2D at 0x7f0625f4b520>,\n",
       "  <matplotlib.lines.Line2D at 0x7f0625f5b910>,\n",
       "  <matplotlib.lines.Line2D at 0x7f0625f66d30>,\n",
       "  <matplotlib.lines.Line2D at 0x7f0625f80160>],\n",
       " 'means': []}"
      ]
     },
     "execution_count": 29,
     "metadata": {},
     "output_type": "execute_result"
    },
    {
     "data": {
      "image/png": "[encoded data removed]",
      "text/plain": [
       "<Figure size 432x288 with 1 Axes>"
      ]
     },
     "metadata": {
      "needs_background": "light"
     },
     "output_type": "display_data"
    }
   ],
   "source": [
    "plt.title('absolute difference boxplot per essay')\n",
    "plt.boxplot([list(accumulated_variances_essays_list.values())[s[0]] for s in sorted_sum_list])"
   ]
  },
  {
   "cell_type": "code",
   "execution_count": null,
   "metadata": {},
   "outputs": [],
   "source": []
  },
  {
   "cell_type": "code",
   "execution_count": 34,
   "metadata": {},
   "outputs": [
    {
     "data": {
      "text/plain": [
       "{'whiskers': [<matplotlib.lines.Line2D at 0x7f0625e1ebe0>,\n",
       "  <matplotlib.lines.Line2D at 0x7f0625e1eeb0>],\n",
       " 'caps': [<matplotlib.lines.Line2D at 0x7f0625e2e0a0>,\n",
       "  <matplotlib.lines.Line2D at 0x7f0625e2e370>],\n",
       " 'boxes': [<matplotlib.lines.Line2D at 0x7f0625e1e910>],\n",
       " 'medians': [<matplotlib.lines.Line2D at 0x7f0625e2e640>],\n",
       " 'fliers': [<matplotlib.lines.Line2D at 0x7f0625e2e910>],\n",
       " 'means': []}"
      ]
     },
     "execution_count": 34,
     "metadata": {},
     "output_type": "execute_result"
    },
    {
     "data": {
      "image/png": "[encoded data removed]",
      "text/plain": [
       "<Figure size 432x288 with 1 Axes>"
      ]
     },
     "metadata": {
      "needs_background": "light"
     },
     "output_type": "display_data"
    }
   ],
   "source": [
    "plt.title('boxplot of all questions and essays')\n",
    "plt.boxplot([sum(s) for s in accumulated_variances_essays_list.values()])"
   ]
  },
  {
   "cell_type": "code",
   "execution_count": 35,
   "metadata": {},
   "outputs": [],
   "source": [
    "current = -1 #questionid\n",
    "accumulated_variances_list = {k:[] for k in range(13)}\n",
    "\n",
    "for a in all_parsed_answers:\n",
    "    accumulated_variances_list[a[1]].append(abs(a[-2]-a[-1]))"
   ]
  },
  {
   "cell_type": "code",
   "execution_count": 36,
   "metadata": {},
   "outputs": [
    {
     "data": {
      "text/plain": [
       "<BarContainer object of 13 artists>"
      ]
     },
     "execution_count": 36,
     "metadata": {},
     "output_type": "execute_result"
    },
    {
     "data": {
      "image/png": "[encoded data removed]",
      "text/plain": [
       "<Figure size 432x288 with 1 Axes>"
      ]
     },
     "metadata": {
      "needs_background": "light"
     },
     "output_type": "display_data"
    }
   ],
   "source": [
    "plt.title('absolute difference sum per question')\n",
    "plt.bar(list(range(13)), [sum(accumulated_variances_list[k]) for k in accumulated_variances_list])"
   ]
  },
  {
   "cell_type": "code",
   "execution_count": 38,
   "metadata": {},
   "outputs": [
    {
     "data": {
      "text/plain": [
       "{'whiskers': [<matplotlib.lines.Line2D at 0x7f0625bd00a0>,\n",
       "  <matplotlib.lines.Line2D at 0x7f0625bd0370>,\n",
       "  <matplotlib.lines.Line2D at 0x7f0625bdc4f0>,\n",
       "  <matplotlib.lines.Line2D at 0x7f0625bdc7c0>,\n",
       "  <matplotlib.lines.Line2D at 0x7f0625bea8e0>,\n",
       "  <matplotlib.lines.Line2D at 0x7f0625beabb0>,\n",
       "  <matplotlib.lines.Line2D at 0x7f0625bf8cd0>,\n",
       "  <matplotlib.lines.Line2D at 0x7f0625bf8fa0>,\n",
       "  <matplotlib.lines.Line2D at 0x7f0625b92100>,\n",
       "  <matplotlib.lines.Line2D at 0x7f0625b923d0>,\n",
       "  <matplotlib.lines.Line2D at 0x7f0625b9d4f0>,\n",
       "  <matplotlib.lines.Line2D at 0x7f0625b9d7c0>,\n",
       "  <matplotlib.lines.Line2D at 0x7f0625bac8e0>,\n",
       "  <matplotlib.lines.Line2D at 0x7f0625bacbb0>,\n",
       "  <matplotlib.lines.Line2D at 0x7f0625bb9cd0>,\n",
       "  <matplotlib.lines.Line2D at 0x7f0625bb9fa0>,\n",
       "  <matplotlib.lines.Line2D at 0x7f0625b53100>,\n",
       "  <matplotlib.lines.Line2D at 0x7f0625b533d0>,\n",
       "  <matplotlib.lines.Line2D at 0x7f0625b604f0>,\n",
       "  <matplotlib.lines.Line2D at 0x7f0625b607c0>,\n",
       "  <matplotlib.lines.Line2D at 0x7f0625b6e8e0>,\n",
       "  <matplotlib.lines.Line2D at 0x7f0625b6ebb0>,\n",
       "  <matplotlib.lines.Line2D at 0x7f0625b7bcd0>,\n",
       "  <matplotlib.lines.Line2D at 0x7f0625b7bfd0>,\n",
       "  <matplotlib.lines.Line2D at 0x7f0625b16130>,\n",
       "  <matplotlib.lines.Line2D at 0x7f0625b16400>],\n",
       " 'caps': [<matplotlib.lines.Line2D at 0x7f0625bd0640>,\n",
       "  <matplotlib.lines.Line2D at 0x7f0625bd0970>,\n",
       "  <matplotlib.lines.Line2D at 0x7f0625bdca90>,\n",
       "  <matplotlib.lines.Line2D at 0x7f0625bdcd60>,\n",
       "  <matplotlib.lines.Line2D at 0x7f0625beae80>,\n",
       "  <matplotlib.lines.Line2D at 0x7f0625bf8190>,\n",
       "  <matplotlib.lines.Line2D at 0x7f0625c042b0>,\n",
       "  <matplotlib.lines.Line2D at 0x7f0625c04580>,\n",
       "  <matplotlib.lines.Line2D at 0x7f0625b926a0>,\n",
       "  <matplotlib.lines.Line2D at 0x7f0625b92970>,\n",
       "  <matplotlib.lines.Line2D at 0x7f0625b9da90>,\n",
       "  <matplotlib.lines.Line2D at 0x7f0625b9dd60>,\n",
       "  <matplotlib.lines.Line2D at 0x7f0625bace80>,\n",
       "  <matplotlib.lines.Line2D at 0x7f0625bb9190>,\n",
       "  <matplotlib.lines.Line2D at 0x7f0625bc62b0>,\n",
       "  <matplotlib.lines.Line2D at 0x7f0625bc6580>,\n",
       "  <matplotlib.lines.Line2D at 0x7f0625b536a0>,\n",
       "  <matplotlib.lines.Line2D at 0x7f0625b53970>,\n",
       "  <matplotlib.lines.Line2D at 0x7f0625b60a90>,\n",
       "  <matplotlib.lines.Line2D at 0x7f0625b60d60>,\n",
       "  <matplotlib.lines.Line2D at 0x7f0625b6ee80>,\n",
       "  <matplotlib.lines.Line2D at 0x7f0625b7b190>,\n",
       "  <matplotlib.lines.Line2D at 0x7f0625b872e0>,\n",
       "  <matplotlib.lines.Line2D at 0x7f0625b875b0>,\n",
       "  <matplotlib.lines.Line2D at 0x7f0625b166d0>,\n",
       "  <matplotlib.lines.Line2D at 0x7f0625b169a0>],\n",
       " 'boxes': [<matplotlib.lines.Line2D at 0x7f0625c42eb0>,\n",
       "  <matplotlib.lines.Line2D at 0x7f0625bdc220>,\n",
       "  <matplotlib.lines.Line2D at 0x7f0625bea610>,\n",
       "  <matplotlib.lines.Line2D at 0x7f0625bf8a00>,\n",
       "  <matplotlib.lines.Line2D at 0x7f0625c04df0>,\n",
       "  <matplotlib.lines.Line2D at 0x7f0625b9d220>,\n",
       "  <matplotlib.lines.Line2D at 0x7f0625bac610>,\n",
       "  <matplotlib.lines.Line2D at 0x7f0625bb9a00>,\n",
       "  <matplotlib.lines.Line2D at 0x7f0625bc6df0>,\n",
       "  <matplotlib.lines.Line2D at 0x7f0625b60220>,\n",
       "  <matplotlib.lines.Line2D at 0x7f0625b6e610>,\n",
       "  <matplotlib.lines.Line2D at 0x7f0625b7ba00>,\n",
       "  <matplotlib.lines.Line2D at 0x7f0625b87e20>],\n",
       " 'medians': [<matplotlib.lines.Line2D at 0x7f0625bd0c40>,\n",
       "  <matplotlib.lines.Line2D at 0x7f0625bea070>,\n",
       "  <matplotlib.lines.Line2D at 0x7f0625bf8460>,\n",
       "  <matplotlib.lines.Line2D at 0x7f0625c04850>,\n",
       "  <matplotlib.lines.Line2D at 0x7f0625b92c40>,\n",
       "  <matplotlib.lines.Line2D at 0x7f0625bac070>,\n",
       "  <matplotlib.lines.Line2D at 0x7f0625bb9460>,\n",
       "  <matplotlib.lines.Line2D at 0x7f0625bc6850>,\n",
       "  <matplotlib.lines.Line2D at 0x7f0625b53c40>,\n",
       "  <matplotlib.lines.Line2D at 0x7f0625b6e070>,\n",
       "  <matplotlib.lines.Line2D at 0x7f0625b7b460>,\n",
       "  <matplotlib.lines.Line2D at 0x7f0625b87880>,\n",
       "  <matplotlib.lines.Line2D at 0x7f0625b16c70>],\n",
       " 'fliers': [<matplotlib.lines.Line2D at 0x7f0625bd0f10>,\n",
       "  <matplotlib.lines.Line2D at 0x7f0625bea340>,\n",
       "  <matplotlib.lines.Line2D at 0x7f0625bf8730>,\n",
       "  <matplotlib.lines.Line2D at 0x7f0625c04b20>,\n",
       "  <matplotlib.lines.Line2D at 0x7f0625b92f10>,\n",
       "  <matplotlib.lines.Line2D at 0x7f0625bac340>,\n",
       "  <matplotlib.lines.Line2D at 0x7f0625bb9730>,\n",
       "  <matplotlib.lines.Line2D at 0x7f0625bc6b20>,\n",
       "  <matplotlib.lines.Line2D at 0x7f0625b53f10>,\n",
       "  <matplotlib.lines.Line2D at 0x7f0625b6e340>,\n",
       "  <matplotlib.lines.Line2D at 0x7f0625b7b730>,\n",
       "  <matplotlib.lines.Line2D at 0x7f0625b87b50>,\n",
       "  <matplotlib.lines.Line2D at 0x7f0625b16f40>],\n",
       " 'means': []}"
      ]
     },
     "execution_count": 38,
     "metadata": {},
     "output_type": "execute_result"
    },
    {
     "data": {
      "image/png": "[encoded data removed]",
      "text/plain": [
       "<Figure size 432x288 with 1 Axes>"
      ]
     },
     "metadata": {
      "needs_background": "light"
     },
     "output_type": "display_data"
    }
   ],
   "source": [
    "plt.title('absolute difference boxplot per question')\n",
    "plt.boxplot([accumulated_variances_list[k] for k in accumulated_variances_list])"
   ]
  },
  {
   "cell_type": "code",
   "execution_count": null,
   "metadata": {},
   "outputs": [],
   "source": []
  }
 ],
 "metadata": {
  "kernelspec": {
   "display_name": "evaluate",
   "language": "python",
   "name": "python3"
  },
  "language_info": {
   "codemirror_mode": {
    "name": "ipython",
    "version": 3
   },
   "file_extension": ".py",
   "mimetype": "text/x-python",
   "name": "python",
   "nbconvert_exporter": "python",
   "pygments_lexer": "ipython3",
   "version": "3.8.13"
  },
  "orig_nbformat": 4
 },
 "nbformat": 4,
 "nbformat_minor": 2
}
