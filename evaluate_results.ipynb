{
 "cells": [
  {
   "cell_type": "code",
   "execution_count": 1,
   "metadata": {},
   "outputs": [],
   "source": [
    "from mmw.parse import *"
   ]
  },
  {
   "cell_type": "code",
   "execution_count": 2,
   "metadata": {},
   "outputs": [],
   "source": [
    "all_essays, all_questions, all_answers = load_results('data/evaluations/run_5_ft-davinci_explanation')"
   ]
  },
  {
   "cell_type": "code",
   "execution_count": 3,
   "metadata": {},
   "outputs": [],
   "source": [
    "marked_essays, filtered_marked_essays, questions = parse_annotations()"
   ]
  },
  {
   "cell_type": "code",
   "execution_count": 4,
   "metadata": {},
   "outputs": [],
   "source": [
    "essay_str_list = [int(e[0][:-5][-2:]) for e in all_essays]"
   ]
  },
  {
   "cell_type": "code",
   "execution_count": 5,
   "metadata": {},
   "outputs": [],
   "source": [
    "all_parsed_answers = []\n",
    "for a in all_answers:\n",
    "    essat_id = essay_str_list[a[0]]\n",
    "    \n",
    "    all_parsed_answers.append((a[0],a[1],\n",
    "                               a[-1],\n",
    "                               int(a[3]['choices'][0]['text'][:2].strip())))"
   ]
  },
  {
   "cell_type": "code",
   "execution_count": 6,
   "metadata": {},
   "outputs": [],
   "source": [
    "differences = [abs(a[-2]-a[-1]) for a in all_parsed_answers]"
   ]
  },
  {
   "cell_type": "code",
   "execution_count": 7,
   "metadata": {},
   "outputs": [],
   "source": [
    "from matplotlib import pyplot as plt"
   ]
  },
  {
   "cell_type": "code",
   "execution_count": 8,
   "metadata": {},
   "outputs": [
    {
     "data": {
      "text/plain": [
       "(array([106.,   0.,   0.,   0.,   0.,  79.,   0.,   0.,   0.,  10.]),\n",
       " array([0. , 0.2, 0.4, 0.6, 0.8, 1. , 1.2, 1.4, 1.6, 1.8, 2. ]),\n",
       " <BarContainer object of 10 artists>)"
      ]
     },
     "execution_count": 8,
     "metadata": {},
     "output_type": "execute_result"
    },
    {
     "data": {
      "image/png": "[encoded data removed]",
      "text/plain": [
       "<Figure size 432x288 with 1 Axes>"
      ]
     },
     "metadata": {
      "needs_background": "light"
     },
     "output_type": "display_data"
    }
   ],
   "source": [
    "plt.title('absolute answer difference')\n",
    "plt.hist(differences)"
   ]
  },
  {
   "cell_type": "code",
   "execution_count": 22,
   "metadata": {},
   "outputs": [
    {
     "data": {
      "text/plain": [
       "0.9487179487179487"
      ]
     },
     "execution_count": 22,
     "metadata": {},
     "output_type": "execute_result"
    }
   ],
   "source": [
    "(79+106)/195"
   ]
  },
  {
   "cell_type": "code",
   "execution_count": 10,
   "metadata": {},
   "outputs": [],
   "source": [
    "accumulated_variances_essays_list = {k:[] for k in range(len(set([a[0] for a in all_parsed_answers])))}\n",
    "for a in all_parsed_answers:\n",
    "    accumulated_variances_essays_list[a[0]].append(abs(a[-2]-a[-1]))"
   ]
  },
  {
   "cell_type": "code",
   "execution_count": 11,
   "metadata": {},
   "outputs": [],
   "source": [
    "import numpy as np"
   ]
  },
  {
   "cell_type": "code",
   "execution_count": 12,
   "metadata": {},
   "outputs": [
    {
     "data": {
      "text/plain": [
       "(array([15.,  0.,  0., 74.,  0.,  0., 67.,  0.,  0., 39.]),\n",
       " array([0. , 0.3, 0.6, 0.9, 1.2, 1.5, 1.8, 2.1, 2.4, 2.7, 3. ]),\n",
       " <BarContainer object of 10 artists>)"
      ]
     },
     "execution_count": 12,
     "metadata": {},
     "output_type": "execute_result"
    },
    {
     "data": {
      "image/png": "[encoded data removed]",
      "text/plain": [
       "<Figure size 432x288 with 1 Axes>"
      ]
     },
     "metadata": {
      "needs_background": "light"
     },
     "output_type": "display_data"
    }
   ],
   "source": [
    "plt.title('model answer distribution')\n",
    "plt.hist([int(a[3]['choices'][0]['text'][:2]) for a in all_answers])"
   ]
  },
  {
   "cell_type": "code",
   "execution_count": 13,
   "metadata": {},
   "outputs": [
    {
     "data": {
      "text/plain": [
       "195"
      ]
     },
     "execution_count": 13,
     "metadata": {},
     "output_type": "execute_result"
    }
   ],
   "source": [
    "len(all_answers)"
   ]
  },
  {
   "cell_type": "code",
   "execution_count": 14,
   "metadata": {},
   "outputs": [
    {
     "data": {
      "text/plain": [
       "[<matplotlib.lines.Line2D at 0x7f9872103ee0>]"
      ]
     },
     "execution_count": 14,
     "metadata": {},
     "output_type": "execute_result"
    },
    {
     "data": {
      "image/png": "[encoded data removed]",
      "text/plain": [
       "<Figure size 432x288 with 1 Axes>"
      ]
     },
     "metadata": {
      "needs_background": "light"
     },
     "output_type": "display_data"
    }
   ],
   "source": [
    "plt.title('absolute difference sum per essay')\n",
    "plt.bar(list(range(len(accumulated_variances_essays_list))), sorted([sum(a) for a in accumulated_variances_essays_list.values()]))\n",
    "plt.plot([0,len(accumulated_variances_essays_list)],[np.average([sum(a) for a in accumulated_variances_essays_list.values()])]*2)"
   ]
  },
  {
   "cell_type": "code",
   "execution_count": 15,
   "metadata": {},
   "outputs": [],
   "source": [
    "sorted_sum_list = sorted(enumerate([sum(a) for a in accumulated_variances_essays_list.values()]), key = lambda x: x[1])"
   ]
  },
  {
   "cell_type": "code",
   "execution_count": 16,
   "metadata": {},
   "outputs": [
    {
     "data": {
      "text/plain": [
       "{'whiskers': [<matplotlib.lines.Line2D at 0x7f9871ff9b20>,\n",
       "  <matplotlib.lines.Line2D at 0x7f9871ff9df0>,\n",
       "  <matplotlib.lines.Line2D at 0x7f9872019f40>,\n",
       "  <matplotlib.lines.Line2D at 0x7f9871fa6250>,\n",
       "  <matplotlib.lines.Line2D at 0x7f9871fb3370>,\n",
       "  <matplotlib.lines.Line2D at 0x7f9871fb3640>,\n",
       "  <matplotlib.lines.Line2D at 0x7f9871fc2760>,\n",
       "  <matplotlib.lines.Line2D at 0x7f9871fc2a30>,\n",
       "  <matplotlib.lines.Line2D at 0x7f9871fcdb50>,\n",
       "  <matplotlib.lines.Line2D at 0x7f9871fcde20>,\n",
       "  <matplotlib.lines.Line2D at 0x7f9871fdcf40>,\n",
       "  <matplotlib.lines.Line2D at 0x7f9871f68250>,\n",
       "  <matplotlib.lines.Line2D at 0x7f9871f74370>,\n",
       "  <matplotlib.lines.Line2D at 0x7f9871f74640>,\n",
       "  <matplotlib.lines.Line2D at 0x7f9871f83790>,\n",
       "  <matplotlib.lines.Line2D at 0x7f9871f83a60>,\n",
       "  <matplotlib.lines.Line2D at 0x7f9871f8fb80>,\n",
       "  <matplotlib.lines.Line2D at 0x7f9871f8fe50>,\n",
       "  <matplotlib.lines.Line2D at 0x7f9871f9df70>,\n",
       "  <matplotlib.lines.Line2D at 0x7f9871f2a280>,\n",
       "  <matplotlib.lines.Line2D at 0x7f9871f383a0>,\n",
       "  <matplotlib.lines.Line2D at 0x7f9871f38670>,\n",
       "  <matplotlib.lines.Line2D at 0x7f9871f46790>,\n",
       "  <matplotlib.lines.Line2D at 0x7f9871f46a60>,\n",
       "  <matplotlib.lines.Line2D at 0x7f9871f53b80>,\n",
       "  <matplotlib.lines.Line2D at 0x7f9871f53e50>,\n",
       "  <matplotlib.lines.Line2D at 0x7f9871f60f70>,\n",
       "  <matplotlib.lines.Line2D at 0x7f9871eeb280>,\n",
       "  <matplotlib.lines.Line2D at 0x7f9871efb310>,\n",
       "  <matplotlib.lines.Line2D at 0x7f9871efb5e0>,\n",
       "  <matplotlib.lines.Line2D at 0x7f9871f08700>,\n",
       "  <matplotlib.lines.Line2D at 0x7f9871f089d0>,\n",
       "  <matplotlib.lines.Line2D at 0x7f9871f13af0>,\n",
       "  <matplotlib.lines.Line2D at 0x7f9871f13dc0>,\n",
       "  <matplotlib.lines.Line2D at 0x7f9871f23f10>,\n",
       "  <matplotlib.lines.Line2D at 0x7f9871eae220>,\n",
       "  <matplotlib.lines.Line2D at 0x7f9871ebc340>,\n",
       "  <matplotlib.lines.Line2D at 0x7f9871ebc610>,\n",
       "  <matplotlib.lines.Line2D at 0x7f9871eca730>,\n",
       "  <matplotlib.lines.Line2D at 0x7f9871ecaa00>,\n",
       "  <matplotlib.lines.Line2D at 0x7f9871ed6b80>,\n",
       "  <matplotlib.lines.Line2D at 0x7f9871ed6e50>,\n",
       "  <matplotlib.lines.Line2D at 0x7f9871ee4f70>,\n",
       "  <matplotlib.lines.Line2D at 0x7f9871e71280>,\n",
       "  <matplotlib.lines.Line2D at 0x7f9871e7e3a0>,\n",
       "  <matplotlib.lines.Line2D at 0x7f9871e7e670>,\n",
       "  <matplotlib.lines.Line2D at 0x7f9871e8c790>,\n",
       "  <matplotlib.lines.Line2D at 0x7f9871e8ca60>,\n",
       "  <matplotlib.lines.Line2D at 0x7f9871e98b80>,\n",
       "  <matplotlib.lines.Line2D at 0x7f9871e98e50>,\n",
       "  <matplotlib.lines.Line2D at 0x7f9871e27f70>,\n",
       "  <matplotlib.lines.Line2D at 0x7f9871e33280>,\n",
       "  <matplotlib.lines.Line2D at 0x7f9871e3e3a0>,\n",
       "  <matplotlib.lines.Line2D at 0x7f9871e3e670>,\n",
       "  <matplotlib.lines.Line2D at 0x7f9871e4f790>,\n",
       "  <matplotlib.lines.Line2D at 0x7f9871e4fa60>,\n",
       "  <matplotlib.lines.Line2D at 0x7f9871e5bb80>,\n",
       "  <matplotlib.lines.Line2D at 0x7f9871e5be50>,\n",
       "  <matplotlib.lines.Line2D at 0x7f9871de8f70>,\n",
       "  <matplotlib.lines.Line2D at 0x7f9871df5280>,\n",
       "  <matplotlib.lines.Line2D at 0x7f9871e033a0>,\n",
       "  <matplotlib.lines.Line2D at 0x7f9871e03670>,\n",
       "  <matplotlib.lines.Line2D at 0x7f9871e0f7c0>,\n",
       "  <matplotlib.lines.Line2D at 0x7f9871e0fa90>,\n",
       "  <matplotlib.lines.Line2D at 0x7f9871e1dbb0>,\n",
       "  <matplotlib.lines.Line2D at 0x7f9871e1de80>,\n",
       "  <matplotlib.lines.Line2D at 0x7f9871dadfa0>,\n",
       "  <matplotlib.lines.Line2D at 0x7f9871db72b0>,\n",
       "  <matplotlib.lines.Line2D at 0x7f9871dc53d0>,\n",
       "  <matplotlib.lines.Line2D at 0x7f9871dc56a0>,\n",
       "  <matplotlib.lines.Line2D at 0x7f9871dd37c0>,\n",
       "  <matplotlib.lines.Line2D at 0x7f9871dd3a90>,\n",
       "  <matplotlib.lines.Line2D at 0x7f9871ddebb0>,\n",
       "  <matplotlib.lines.Line2D at 0x7f9871ddee80>,\n",
       "  <matplotlib.lines.Line2D at 0x7f9871d6dfa0>,\n",
       "  <matplotlib.lines.Line2D at 0x7f9871d7a2b0>,\n",
       "  <matplotlib.lines.Line2D at 0x7f9871d873d0>,\n",
       "  <matplotlib.lines.Line2D at 0x7f9871d876a0>,\n",
       "  <matplotlib.lines.Line2D at 0x7f9871d947c0>,\n",
       "  <matplotlib.lines.Line2D at 0x7f9871d94a90>,\n",
       "  <matplotlib.lines.Line2D at 0x7f9871da3bb0>,\n",
       "  <matplotlib.lines.Line2D at 0x7f9871da3e80>,\n",
       "  <matplotlib.lines.Line2D at 0x7f9871d2ffa0>,\n",
       "  <matplotlib.lines.Line2D at 0x7f9871d3c2b0>,\n",
       "  <matplotlib.lines.Line2D at 0x7f9871d493d0>,\n",
       "  <matplotlib.lines.Line2D at 0x7f9871d496a0>,\n",
       "  <matplotlib.lines.Line2D at 0x7f9871d567c0>,\n",
       "  <matplotlib.lines.Line2D at 0x7f9871d56a90>,\n",
       "  <matplotlib.lines.Line2D at 0x7f9871d63bb0>,\n",
       "  <matplotlib.lines.Line2D at 0x7f9871d63e80>,\n",
       "  <matplotlib.lines.Line2D at 0x7f9871cf2fa0>,\n",
       "  <matplotlib.lines.Line2D at 0x7f9871cfe2b0>,\n",
       "  <matplotlib.lines.Line2D at 0x7f9871d0c3d0>,\n",
       "  <matplotlib.lines.Line2D at 0x7f9871d0c6a0>,\n",
       "  <matplotlib.lines.Line2D at 0x7f9871d197c0>,\n",
       "  <matplotlib.lines.Line2D at 0x7f9871d19a90>,\n",
       "  <matplotlib.lines.Line2D at 0x7f9871ca7bb0>,\n",
       "  <matplotlib.lines.Line2D at 0x7f9871ca7e80>,\n",
       "  <matplotlib.lines.Line2D at 0x7f9871cb4fa0>,\n",
       "  <matplotlib.lines.Line2D at 0x7f9871cc02b0>,\n",
       "  <matplotlib.lines.Line2D at 0x7f9871cce3d0>,\n",
       "  <matplotlib.lines.Line2D at 0x7f9871cce6a0>,\n",
       "  <matplotlib.lines.Line2D at 0x7f9871cdc7c0>,\n",
       "  <matplotlib.lines.Line2D at 0x7f9871cdca90>,\n",
       "  <matplotlib.lines.Line2D at 0x7f9871c68bb0>,\n",
       "  <matplotlib.lines.Line2D at 0x7f9871c68eb0>,\n",
       "  <matplotlib.lines.Line2D at 0x7f9871c75fd0>,\n",
       "  <matplotlib.lines.Line2D at 0x7f9871c832e0>,\n",
       "  <matplotlib.lines.Line2D at 0x7f9871c8d400>,\n",
       "  <matplotlib.lines.Line2D at 0x7f9871c8d6d0>,\n",
       "  <matplotlib.lines.Line2D at 0x7f9871c9d7f0>,\n",
       "  <matplotlib.lines.Line2D at 0x7f9871c9dac0>,\n",
       "  <matplotlib.lines.Line2D at 0x7f9871c2abe0>,\n",
       "  <matplotlib.lines.Line2D at 0x7f9871c2aeb0>,\n",
       "  <matplotlib.lines.Line2D at 0x7f9871c39fd0>,\n",
       "  <matplotlib.lines.Line2D at 0x7f9871c442e0>,\n",
       "  <matplotlib.lines.Line2D at 0x7f9871c52430>,\n",
       "  <matplotlib.lines.Line2D at 0x7f9871c52700>,\n",
       "  <matplotlib.lines.Line2D at 0x7f9871c5f820>,\n",
       "  <matplotlib.lines.Line2D at 0x7f9871c5faf0>,\n",
       "  <matplotlib.lines.Line2D at 0x7f9871bedc10>,\n",
       "  <matplotlib.lines.Line2D at 0x7f9871bedee0>,\n",
       "  <matplotlib.lines.Line2D at 0x7f9871c07040>,\n",
       "  <matplotlib.lines.Line2D at 0x7f9871c07310>,\n",
       "  <matplotlib.lines.Line2D at 0x7f9871c16430>,\n",
       "  <matplotlib.lines.Line2D at 0x7f9871c16700>,\n",
       "  <matplotlib.lines.Line2D at 0x7f9871c22820>,\n",
       "  <matplotlib.lines.Line2D at 0x7f9871c22af0>,\n",
       "  <matplotlib.lines.Line2D at 0x7f9871bafc10>,\n",
       "  <matplotlib.lines.Line2D at 0x7f9871bafee0>,\n",
       "  <matplotlib.lines.Line2D at 0x7f9871bc8040>,\n",
       "  <matplotlib.lines.Line2D at 0x7f9871bc8310>,\n",
       "  <matplotlib.lines.Line2D at 0x7f9871bd7430>,\n",
       "  <matplotlib.lines.Line2D at 0x7f9871bd7700>,\n",
       "  <matplotlib.lines.Line2D at 0x7f9871be4820>,\n",
       "  <matplotlib.lines.Line2D at 0x7f9871be4af0>,\n",
       "  <matplotlib.lines.Line2D at 0x7f9871b71c40>,\n",
       "  <matplotlib.lines.Line2D at 0x7f9871b71f10>],\n",
       " 'caps': [<matplotlib.lines.Line2D at 0x7f9872019100>,\n",
       "  <matplotlib.lines.Line2D at 0x7f98720193d0>,\n",
       "  <matplotlib.lines.Line2D at 0x7f9871fa6520>,\n",
       "  <matplotlib.lines.Line2D at 0x7f9871fa67f0>,\n",
       "  <matplotlib.lines.Line2D at 0x7f9871fb3910>,\n",
       "  <matplotlib.lines.Line2D at 0x7f9871fb3be0>,\n",
       "  <matplotlib.lines.Line2D at 0x7f9871fc2d00>,\n",
       "  <matplotlib.lines.Line2D at 0x7f9871fc2fd0>,\n",
       "  <matplotlib.lines.Line2D at 0x7f9871fdc130>,\n",
       "  <matplotlib.lines.Line2D at 0x7f9871fdc400>,\n",
       "  <matplotlib.lines.Line2D at 0x7f9871f68520>,\n",
       "  <matplotlib.lines.Line2D at 0x7f9871f687f0>,\n",
       "  <matplotlib.lines.Line2D at 0x7f9871f74910>,\n",
       "  <matplotlib.lines.Line2D at 0x7f9871f74be0>,\n",
       "  <matplotlib.lines.Line2D at 0x7f9871f83d30>,\n",
       "  <matplotlib.lines.Line2D at 0x7f9871f8f040>,\n",
       "  <matplotlib.lines.Line2D at 0x7f9871f9d160>,\n",
       "  <matplotlib.lines.Line2D at 0x7f9871f9d430>,\n",
       "  <matplotlib.lines.Line2D at 0x7f9871f2a550>,\n",
       "  <matplotlib.lines.Line2D at 0x7f9871f2a820>,\n",
       "  <matplotlib.lines.Line2D at 0x7f9871f38940>,\n",
       "  <matplotlib.lines.Line2D at 0x7f9871f38c10>,\n",
       "  <matplotlib.lines.Line2D at 0x7f9871f46d30>,\n",
       "  <matplotlib.lines.Line2D at 0x7f9871f53040>,\n",
       "  <matplotlib.lines.Line2D at 0x7f9871f60160>,\n",
       "  <matplotlib.lines.Line2D at 0x7f9871f60430>,\n",
       "  <matplotlib.lines.Line2D at 0x7f9871eeb550>,\n",
       "  <matplotlib.lines.Line2D at 0x7f9871eeb820>,\n",
       "  <matplotlib.lines.Line2D at 0x7f9871efb8b0>,\n",
       "  <matplotlib.lines.Line2D at 0x7f9871efbb80>,\n",
       "  <matplotlib.lines.Line2D at 0x7f9871f08ca0>,\n",
       "  <matplotlib.lines.Line2D at 0x7f9871f08f70>,\n",
       "  <matplotlib.lines.Line2D at 0x7f9871f230d0>,\n",
       "  <matplotlib.lines.Line2D at 0x7f9871f233a0>,\n",
       "  <matplotlib.lines.Line2D at 0x7f9871eae4f0>,\n",
       "  <matplotlib.lines.Line2D at 0x7f9871eae7c0>,\n",
       "  <matplotlib.lines.Line2D at 0x7f9871ebc8e0>,\n",
       "  <matplotlib.lines.Line2D at 0x7f9871ebcbb0>,\n",
       "  <matplotlib.lines.Line2D at 0x7f9871ecad00>,\n",
       "  <matplotlib.lines.Line2D at 0x7f9871ecafd0>,\n",
       "  <matplotlib.lines.Line2D at 0x7f9871ee4160>,\n",
       "  <matplotlib.lines.Line2D at 0x7f9871ee4430>,\n",
       "  <matplotlib.lines.Line2D at 0x7f9871e71550>,\n",
       "  <matplotlib.lines.Line2D at 0x7f9871e71820>,\n",
       "  <matplotlib.lines.Line2D at 0x7f9871e7e940>,\n",
       "  <matplotlib.lines.Line2D at 0x7f9871e7ec10>,\n",
       "  <matplotlib.lines.Line2D at 0x7f9871e8cd30>,\n",
       "  <matplotlib.lines.Line2D at 0x7f9871e98040>,\n",
       "  <matplotlib.lines.Line2D at 0x7f9871e27160>,\n",
       "  <matplotlib.lines.Line2D at 0x7f9871e27430>,\n",
       "  <matplotlib.lines.Line2D at 0x7f9871e33550>,\n",
       "  <matplotlib.lines.Line2D at 0x7f9871e33820>,\n",
       "  <matplotlib.lines.Line2D at 0x7f9871e3e940>,\n",
       "  <matplotlib.lines.Line2D at 0x7f9871e3ec10>,\n",
       "  <matplotlib.lines.Line2D at 0x7f9871e4fd30>,\n",
       "  <matplotlib.lines.Line2D at 0x7f9871e5b040>,\n",
       "  <matplotlib.lines.Line2D at 0x7f9871de8160>,\n",
       "  <matplotlib.lines.Line2D at 0x7f9871de8430>,\n",
       "  <matplotlib.lines.Line2D at 0x7f9871df5550>,\n",
       "  <matplotlib.lines.Line2D at 0x7f9871df5820>,\n",
       "  <matplotlib.lines.Line2D at 0x7f9871e03940>,\n",
       "  <matplotlib.lines.Line2D at 0x7f9871e03c40>,\n",
       "  <matplotlib.lines.Line2D at 0x7f9871e0fd60>,\n",
       "  <matplotlib.lines.Line2D at 0x7f9871e1d070>,\n",
       "  <matplotlib.lines.Line2D at 0x7f9871dad190>,\n",
       "  <matplotlib.lines.Line2D at 0x7f9871dad460>,\n",
       "  <matplotlib.lines.Line2D at 0x7f9871db7580>,\n",
       "  <matplotlib.lines.Line2D at 0x7f9871db7850>,\n",
       "  <matplotlib.lines.Line2D at 0x7f9871dc5970>,\n",
       "  <matplotlib.lines.Line2D at 0x7f9871dc5c40>,\n",
       "  <matplotlib.lines.Line2D at 0x7f9871dd3d60>,\n",
       "  <matplotlib.lines.Line2D at 0x7f9871dde070>,\n",
       "  <matplotlib.lines.Line2D at 0x7f9871d6d190>,\n",
       "  <matplotlib.lines.Line2D at 0x7f9871d6d460>,\n",
       "  <matplotlib.lines.Line2D at 0x7f9871d7a580>,\n",
       "  <matplotlib.lines.Line2D at 0x7f9871d7a850>,\n",
       "  <matplotlib.lines.Line2D at 0x7f9871d87970>,\n",
       "  <matplotlib.lines.Line2D at 0x7f9871d87c40>,\n",
       "  <matplotlib.lines.Line2D at 0x7f9871d94d60>,\n",
       "  <matplotlib.lines.Line2D at 0x7f9871da3070>,\n",
       "  <matplotlib.lines.Line2D at 0x7f9871d2f190>,\n",
       "  <matplotlib.lines.Line2D at 0x7f9871d2f460>,\n",
       "  <matplotlib.lines.Line2D at 0x7f9871d3c580>,\n",
       "  <matplotlib.lines.Line2D at 0x7f9871d3c850>,\n",
       "  <matplotlib.lines.Line2D at 0x7f9871d49970>,\n",
       "  <matplotlib.lines.Line2D at 0x7f9871d49c40>,\n",
       "  <matplotlib.lines.Line2D at 0x7f9871d56d60>,\n",
       "  <matplotlib.lines.Line2D at 0x7f9871d63070>,\n",
       "  <matplotlib.lines.Line2D at 0x7f9871cf2190>,\n",
       "  <matplotlib.lines.Line2D at 0x7f9871cf2460>,\n",
       "  <matplotlib.lines.Line2D at 0x7f9871cfe580>,\n",
       "  <matplotlib.lines.Line2D at 0x7f9871cfe850>,\n",
       "  <matplotlib.lines.Line2D at 0x7f9871d0c970>,\n",
       "  <matplotlib.lines.Line2D at 0x7f9871d0cc40>,\n",
       "  <matplotlib.lines.Line2D at 0x7f9871d19d60>,\n",
       "  <matplotlib.lines.Line2D at 0x7f9871ca7070>,\n",
       "  <matplotlib.lines.Line2D at 0x7f9871cb4190>,\n",
       "  <matplotlib.lines.Line2D at 0x7f9871cb4460>,\n",
       "  <matplotlib.lines.Line2D at 0x7f9871cc0580>,\n",
       "  <matplotlib.lines.Line2D at 0x7f9871cc0850>,\n",
       "  <matplotlib.lines.Line2D at 0x7f9871cce970>,\n",
       "  <matplotlib.lines.Line2D at 0x7f9871ccec40>,\n",
       "  <matplotlib.lines.Line2D at 0x7f9871cdcd60>,\n",
       "  <matplotlib.lines.Line2D at 0x7f9871c68070>,\n",
       "  <matplotlib.lines.Line2D at 0x7f9871c751c0>,\n",
       "  <matplotlib.lines.Line2D at 0x7f9871c75490>,\n",
       "  <matplotlib.lines.Line2D at 0x7f9871c835b0>,\n",
       "  <matplotlib.lines.Line2D at 0x7f9871c83880>,\n",
       "  <matplotlib.lines.Line2D at 0x7f9871c8d9a0>,\n",
       "  <matplotlib.lines.Line2D at 0x7f9871c8dc70>,\n",
       "  <matplotlib.lines.Line2D at 0x7f9871c9dd90>,\n",
       "  <matplotlib.lines.Line2D at 0x7f9871c2a0a0>,\n",
       "  <matplotlib.lines.Line2D at 0x7f9871c391c0>,\n",
       "  <matplotlib.lines.Line2D at 0x7f9871c39490>,\n",
       "  <matplotlib.lines.Line2D at 0x7f9871c445b0>,\n",
       "  <matplotlib.lines.Line2D at 0x7f9871c44880>,\n",
       "  <matplotlib.lines.Line2D at 0x7f9871c529d0>,\n",
       "  <matplotlib.lines.Line2D at 0x7f9871c52ca0>,\n",
       "  <matplotlib.lines.Line2D at 0x7f9871c5fdc0>,\n",
       "  <matplotlib.lines.Line2D at 0x7f9871bed0d0>,\n",
       "  <matplotlib.lines.Line2D at 0x7f9871bfb1f0>,\n",
       "  <matplotlib.lines.Line2D at 0x7f9871bfb4c0>,\n",
       "  <matplotlib.lines.Line2D at 0x7f9871c075e0>,\n",
       "  <matplotlib.lines.Line2D at 0x7f9871c078b0>,\n",
       "  <matplotlib.lines.Line2D at 0x7f9871c169d0>,\n",
       "  <matplotlib.lines.Line2D at 0x7f9871c16ca0>,\n",
       "  <matplotlib.lines.Line2D at 0x7f9871c22dc0>,\n",
       "  <matplotlib.lines.Line2D at 0x7f9871baf0d0>,\n",
       "  <matplotlib.lines.Line2D at 0x7f9871bbd1f0>,\n",
       "  <matplotlib.lines.Line2D at 0x7f9871bbd4c0>,\n",
       "  <matplotlib.lines.Line2D at 0x7f9871bc85e0>,\n",
       "  <matplotlib.lines.Line2D at 0x7f9871bc88b0>,\n",
       "  <matplotlib.lines.Line2D at 0x7f9871bd79d0>,\n",
       "  <matplotlib.lines.Line2D at 0x7f9871bd7ca0>,\n",
       "  <matplotlib.lines.Line2D at 0x7f9871be4dc0>,\n",
       "  <matplotlib.lines.Line2D at 0x7f9871b710d0>,\n",
       "  <matplotlib.lines.Line2D at 0x7f9871b7c220>,\n",
       "  <matplotlib.lines.Line2D at 0x7f9871b7c4f0>],\n",
       " 'boxes': [<matplotlib.lines.Line2D at 0x7f9871ff9850>,\n",
       "  <matplotlib.lines.Line2D at 0x7f9872019c70>,\n",
       "  <matplotlib.lines.Line2D at 0x7f9871fb30a0>,\n",
       "  <matplotlib.lines.Line2D at 0x7f9871fc2490>,\n",
       "  <matplotlib.lines.Line2D at 0x7f9871fcd880>,\n",
       "  <matplotlib.lines.Line2D at 0x7f9871fdcc70>,\n",
       "  <matplotlib.lines.Line2D at 0x7f9871f740a0>,\n",
       "  <matplotlib.lines.Line2D at 0x7f9871f834c0>,\n",
       "  <matplotlib.lines.Line2D at 0x7f9871f8f8b0>,\n",
       "  <matplotlib.lines.Line2D at 0x7f9871f9dca0>,\n",
       "  <matplotlib.lines.Line2D at 0x7f9871f380d0>,\n",
       "  <matplotlib.lines.Line2D at 0x7f9871f464c0>,\n",
       "  <matplotlib.lines.Line2D at 0x7f9871f538b0>,\n",
       "  <matplotlib.lines.Line2D at 0x7f9871f60ca0>,\n",
       "  <matplotlib.lines.Line2D at 0x7f9871efb040>,\n",
       "  <matplotlib.lines.Line2D at 0x7f9871f08430>,\n",
       "  <matplotlib.lines.Line2D at 0x7f9871f13820>,\n",
       "  <matplotlib.lines.Line2D at 0x7f9871f23c40>,\n",
       "  <matplotlib.lines.Line2D at 0x7f9871ebc070>,\n",
       "  <matplotlib.lines.Line2D at 0x7f9871eca460>,\n",
       "  <matplotlib.lines.Line2D at 0x7f9871ed68b0>,\n",
       "  <matplotlib.lines.Line2D at 0x7f9871ee4ca0>,\n",
       "  <matplotlib.lines.Line2D at 0x7f9871e7e0d0>,\n",
       "  <matplotlib.lines.Line2D at 0x7f9871e8c4c0>,\n",
       "  <matplotlib.lines.Line2D at 0x7f9871e988b0>,\n",
       "  <matplotlib.lines.Line2D at 0x7f9871e27ca0>,\n",
       "  <matplotlib.lines.Line2D at 0x7f9871e3e0d0>,\n",
       "  <matplotlib.lines.Line2D at 0x7f9871e4f4c0>,\n",
       "  <matplotlib.lines.Line2D at 0x7f9871e5b8b0>,\n",
       "  <matplotlib.lines.Line2D at 0x7f9871de8ca0>,\n",
       "  <matplotlib.lines.Line2D at 0x7f9871e030d0>,\n",
       "  <matplotlib.lines.Line2D at 0x7f9871e0f4f0>,\n",
       "  <matplotlib.lines.Line2D at 0x7f9871e1d8e0>,\n",
       "  <matplotlib.lines.Line2D at 0x7f9871dadcd0>,\n",
       "  <matplotlib.lines.Line2D at 0x7f9871dc5100>,\n",
       "  <matplotlib.lines.Line2D at 0x7f9871dd34f0>,\n",
       "  <matplotlib.lines.Line2D at 0x7f9871dde8e0>,\n",
       "  <matplotlib.lines.Line2D at 0x7f9871d6dcd0>,\n",
       "  <matplotlib.lines.Line2D at 0x7f9871d87100>,\n",
       "  <matplotlib.lines.Line2D at 0x7f9871d944f0>,\n",
       "  <matplotlib.lines.Line2D at 0x7f9871da38e0>,\n",
       "  <matplotlib.lines.Line2D at 0x7f9871d2fcd0>,\n",
       "  <matplotlib.lines.Line2D at 0x7f9871d49100>,\n",
       "  <matplotlib.lines.Line2D at 0x7f9871d564f0>,\n",
       "  <matplotlib.lines.Line2D at 0x7f9871d638e0>,\n",
       "  <matplotlib.lines.Line2D at 0x7f9871cf2cd0>,\n",
       "  <matplotlib.lines.Line2D at 0x7f9871d0c100>,\n",
       "  <matplotlib.lines.Line2D at 0x7f9871d194f0>,\n",
       "  <matplotlib.lines.Line2D at 0x7f9871ca78e0>,\n",
       "  <matplotlib.lines.Line2D at 0x7f9871cb4cd0>,\n",
       "  <matplotlib.lines.Line2D at 0x7f9871cce100>,\n",
       "  <matplotlib.lines.Line2D at 0x7f9871cdc4f0>,\n",
       "  <matplotlib.lines.Line2D at 0x7f9871c688e0>,\n",
       "  <matplotlib.lines.Line2D at 0x7f9871c75d00>,\n",
       "  <matplotlib.lines.Line2D at 0x7f9871c8d130>,\n",
       "  <matplotlib.lines.Line2D at 0x7f9871c9d520>,\n",
       "  <matplotlib.lines.Line2D at 0x7f9871c2a910>,\n",
       "  <matplotlib.lines.Line2D at 0x7f9871c39d00>,\n",
       "  <matplotlib.lines.Line2D at 0x7f9871c52160>,\n",
       "  <matplotlib.lines.Line2D at 0x7f9871c5f550>,\n",
       "  <matplotlib.lines.Line2D at 0x7f9871bed940>,\n",
       "  <matplotlib.lines.Line2D at 0x7f9871bfbd30>,\n",
       "  <matplotlib.lines.Line2D at 0x7f9871c16160>,\n",
       "  <matplotlib.lines.Line2D at 0x7f9871c22550>,\n",
       "  <matplotlib.lines.Line2D at 0x7f9871baf940>,\n",
       "  <matplotlib.lines.Line2D at 0x7f9871bbdd30>,\n",
       "  <matplotlib.lines.Line2D at 0x7f9871bd7160>,\n",
       "  <matplotlib.lines.Line2D at 0x7f9871be4550>,\n",
       "  <matplotlib.lines.Line2D at 0x7f9871b71970>],\n",
       " 'medians': [<matplotlib.lines.Line2D at 0x7f98720196a0>,\n",
       "  <matplotlib.lines.Line2D at 0x7f9871fa6ac0>,\n",
       "  <matplotlib.lines.Line2D at 0x7f9871fb3eb0>,\n",
       "  <matplotlib.lines.Line2D at 0x7f9871fcd2e0>,\n",
       "  <matplotlib.lines.Line2D at 0x7f9871fdc6d0>,\n",
       "  <matplotlib.lines.Line2D at 0x7f9871f68ac0>,\n",
       "  <matplotlib.lines.Line2D at 0x7f9871f74ee0>,\n",
       "  <matplotlib.lines.Line2D at 0x7f9871f8f310>,\n",
       "  <matplotlib.lines.Line2D at 0x7f9871f9d700>,\n",
       "  <matplotlib.lines.Line2D at 0x7f9871f2aaf0>,\n",
       "  <matplotlib.lines.Line2D at 0x7f9871f38ee0>,\n",
       "  <matplotlib.lines.Line2D at 0x7f9871f53310>,\n",
       "  <matplotlib.lines.Line2D at 0x7f9871f60700>,\n",
       "  <matplotlib.lines.Line2D at 0x7f9871eeba60>,\n",
       "  <matplotlib.lines.Line2D at 0x7f9871efbe50>,\n",
       "  <matplotlib.lines.Line2D at 0x7f9871f13280>,\n",
       "  <matplotlib.lines.Line2D at 0x7f9871f23670>,\n",
       "  <matplotlib.lines.Line2D at 0x7f9871eaea90>,\n",
       "  <matplotlib.lines.Line2D at 0x7f9871ebce80>,\n",
       "  <matplotlib.lines.Line2D at 0x7f9871ed62e0>,\n",
       "  <matplotlib.lines.Line2D at 0x7f9871ee4700>,\n",
       "  <matplotlib.lines.Line2D at 0x7f9871e71af0>,\n",
       "  <matplotlib.lines.Line2D at 0x7f9871e7eee0>,\n",
       "  <matplotlib.lines.Line2D at 0x7f9871e98310>,\n",
       "  <matplotlib.lines.Line2D at 0x7f9871e27700>,\n",
       "  <matplotlib.lines.Line2D at 0x7f9871e33af0>,\n",
       "  <matplotlib.lines.Line2D at 0x7f9871e3eee0>,\n",
       "  <matplotlib.lines.Line2D at 0x7f9871e5b310>,\n",
       "  <matplotlib.lines.Line2D at 0x7f9871de8700>,\n",
       "  <matplotlib.lines.Line2D at 0x7f9871df5af0>,\n",
       "  <matplotlib.lines.Line2D at 0x7f9871e03f10>,\n",
       "  <matplotlib.lines.Line2D at 0x7f9871e1d340>,\n",
       "  <matplotlib.lines.Line2D at 0x7f9871dad730>,\n",
       "  <matplotlib.lines.Line2D at 0x7f9871db7b20>,\n",
       "  <matplotlib.lines.Line2D at 0x7f9871dc5f10>,\n",
       "  <matplotlib.lines.Line2D at 0x7f9871dde340>,\n",
       "  <matplotlib.lines.Line2D at 0x7f9871d6d730>,\n",
       "  <matplotlib.lines.Line2D at 0x7f9871d7ab20>,\n",
       "  <matplotlib.lines.Line2D at 0x7f9871d87f10>,\n",
       "  <matplotlib.lines.Line2D at 0x7f9871da3340>,\n",
       "  <matplotlib.lines.Line2D at 0x7f9871d2f730>,\n",
       "  <matplotlib.lines.Line2D at 0x7f9871d3cb20>,\n",
       "  <matplotlib.lines.Line2D at 0x7f9871d49f10>,\n",
       "  <matplotlib.lines.Line2D at 0x7f9871d63340>,\n",
       "  <matplotlib.lines.Line2D at 0x7f9871cf2730>,\n",
       "  <matplotlib.lines.Line2D at 0x7f9871cfeb20>,\n",
       "  <matplotlib.lines.Line2D at 0x7f9871d0cf10>,\n",
       "  <matplotlib.lines.Line2D at 0x7f9871ca7340>,\n",
       "  <matplotlib.lines.Line2D at 0x7f9871cb4730>,\n",
       "  <matplotlib.lines.Line2D at 0x7f9871cc0b20>,\n",
       "  <matplotlib.lines.Line2D at 0x7f9871ccef10>,\n",
       "  <matplotlib.lines.Line2D at 0x7f9871c68340>,\n",
       "  <matplotlib.lines.Line2D at 0x7f9871c75760>,\n",
       "  <matplotlib.lines.Line2D at 0x7f9871c83b50>,\n",
       "  <matplotlib.lines.Line2D at 0x7f9871c8df40>,\n",
       "  <matplotlib.lines.Line2D at 0x7f9871c2a370>,\n",
       "  <matplotlib.lines.Line2D at 0x7f9871c39760>,\n",
       "  <matplotlib.lines.Line2D at 0x7f9871c44b50>,\n",
       "  <matplotlib.lines.Line2D at 0x7f9871c52f70>,\n",
       "  <matplotlib.lines.Line2D at 0x7f9871bed3a0>,\n",
       "  <matplotlib.lines.Line2D at 0x7f9871bfb790>,\n",
       "  <matplotlib.lines.Line2D at 0x7f9871c07b80>,\n",
       "  <matplotlib.lines.Line2D at 0x7f9871c16f70>,\n",
       "  <matplotlib.lines.Line2D at 0x7f9871baf3a0>,\n",
       "  <matplotlib.lines.Line2D at 0x7f9871bbd790>,\n",
       "  <matplotlib.lines.Line2D at 0x7f9871bc8b80>,\n",
       "  <matplotlib.lines.Line2D at 0x7f9871bd7f70>,\n",
       "  <matplotlib.lines.Line2D at 0x7f9871b713d0>,\n",
       "  <matplotlib.lines.Line2D at 0x7f9871b7c7c0>],\n",
       " 'fliers': [<matplotlib.lines.Line2D at 0x7f9872019970>,\n",
       "  <matplotlib.lines.Line2D at 0x7f9871fa6d90>,\n",
       "  <matplotlib.lines.Line2D at 0x7f9871fc21c0>,\n",
       "  <matplotlib.lines.Line2D at 0x7f9871fcd5b0>,\n",
       "  <matplotlib.lines.Line2D at 0x7f9871fdc9a0>,\n",
       "  <matplotlib.lines.Line2D at 0x7f9871f68d90>,\n",
       "  <matplotlib.lines.Line2D at 0x7f9871f831f0>,\n",
       "  <matplotlib.lines.Line2D at 0x7f9871f8f5e0>,\n",
       "  <matplotlib.lines.Line2D at 0x7f9871f9d9d0>,\n",
       "  <matplotlib.lines.Line2D at 0x7f9871f2adc0>,\n",
       "  <matplotlib.lines.Line2D at 0x7f9871f461f0>,\n",
       "  <matplotlib.lines.Line2D at 0x7f9871f535e0>,\n",
       "  <matplotlib.lines.Line2D at 0x7f9871f609d0>,\n",
       "  <matplotlib.lines.Line2D at 0x7f9871eebd30>,\n",
       "  <matplotlib.lines.Line2D at 0x7f9871f08160>,\n",
       "  <matplotlib.lines.Line2D at 0x7f9871f13550>,\n",
       "  <matplotlib.lines.Line2D at 0x7f9871f23970>,\n",
       "  <matplotlib.lines.Line2D at 0x7f9871eaed60>,\n",
       "  <matplotlib.lines.Line2D at 0x7f9871eca190>,\n",
       "  <matplotlib.lines.Line2D at 0x7f9871ed65e0>,\n",
       "  <matplotlib.lines.Line2D at 0x7f9871ee49d0>,\n",
       "  <matplotlib.lines.Line2D at 0x7f9871e71dc0>,\n",
       "  <matplotlib.lines.Line2D at 0x7f9871e8c1f0>,\n",
       "  <matplotlib.lines.Line2D at 0x7f9871e985e0>,\n",
       "  <matplotlib.lines.Line2D at 0x7f9871e279d0>,\n",
       "  <matplotlib.lines.Line2D at 0x7f9871e33dc0>,\n",
       "  <matplotlib.lines.Line2D at 0x7f9871e4f1f0>,\n",
       "  <matplotlib.lines.Line2D at 0x7f9871e5b5e0>,\n",
       "  <matplotlib.lines.Line2D at 0x7f9871de89d0>,\n",
       "  <matplotlib.lines.Line2D at 0x7f9871df5dc0>,\n",
       "  <matplotlib.lines.Line2D at 0x7f9871e0f220>,\n",
       "  <matplotlib.lines.Line2D at 0x7f9871e1d610>,\n",
       "  <matplotlib.lines.Line2D at 0x7f9871dada00>,\n",
       "  <matplotlib.lines.Line2D at 0x7f9871db7df0>,\n",
       "  <matplotlib.lines.Line2D at 0x7f9871dd3220>,\n",
       "  <matplotlib.lines.Line2D at 0x7f9871dde610>,\n",
       "  <matplotlib.lines.Line2D at 0x7f9871d6da00>,\n",
       "  <matplotlib.lines.Line2D at 0x7f9871d7adf0>,\n",
       "  <matplotlib.lines.Line2D at 0x7f9871d94220>,\n",
       "  <matplotlib.lines.Line2D at 0x7f9871da3610>,\n",
       "  <matplotlib.lines.Line2D at 0x7f9871d2fa00>,\n",
       "  <matplotlib.lines.Line2D at 0x7f9871d3cdf0>,\n",
       "  <matplotlib.lines.Line2D at 0x7f9871d56220>,\n",
       "  <matplotlib.lines.Line2D at 0x7f9871d63610>,\n",
       "  <matplotlib.lines.Line2D at 0x7f9871cf2a00>,\n",
       "  <matplotlib.lines.Line2D at 0x7f9871cfedf0>,\n",
       "  <matplotlib.lines.Line2D at 0x7f9871d19220>,\n",
       "  <matplotlib.lines.Line2D at 0x7f9871ca7610>,\n",
       "  <matplotlib.lines.Line2D at 0x7f9871cb4a00>,\n",
       "  <matplotlib.lines.Line2D at 0x7f9871cc0df0>,\n",
       "  <matplotlib.lines.Line2D at 0x7f9871cdc220>,\n",
       "  <matplotlib.lines.Line2D at 0x7f9871c68610>,\n",
       "  <matplotlib.lines.Line2D at 0x7f9871c75a30>,\n",
       "  <matplotlib.lines.Line2D at 0x7f9871c83e20>,\n",
       "  <matplotlib.lines.Line2D at 0x7f9871c9d250>,\n",
       "  <matplotlib.lines.Line2D at 0x7f9871c2a640>,\n",
       "  <matplotlib.lines.Line2D at 0x7f9871c39a30>,\n",
       "  <matplotlib.lines.Line2D at 0x7f9871c44e50>,\n",
       "  <matplotlib.lines.Line2D at 0x7f9871c5f280>,\n",
       "  <matplotlib.lines.Line2D at 0x7f9871bed670>,\n",
       "  <matplotlib.lines.Line2D at 0x7f9871bfba60>,\n",
       "  <matplotlib.lines.Line2D at 0x7f9871c07e50>,\n",
       "  <matplotlib.lines.Line2D at 0x7f9871c22280>,\n",
       "  <matplotlib.lines.Line2D at 0x7f9871baf670>,\n",
       "  <matplotlib.lines.Line2D at 0x7f9871bbda60>,\n",
       "  <matplotlib.lines.Line2D at 0x7f9871bc8e50>,\n",
       "  <matplotlib.lines.Line2D at 0x7f9871be4280>,\n",
       "  <matplotlib.lines.Line2D at 0x7f9871b716a0>,\n",
       "  <matplotlib.lines.Line2D at 0x7f9871b7ca90>],\n",
       " 'means': []}"
      ]
     },
     "execution_count": 16,
     "metadata": {},
     "output_type": "execute_result"
    },
    {
     "data": {
      "image/png": "[encoded data removed]",
      "text/plain": [
       "<Figure size 432x288 with 1 Axes>"
      ]
     },
     "metadata": {
      "needs_background": "light"
     },
     "output_type": "display_data"
    }
   ],
   "source": [
    "plt.title('absolute difference boxplot per essay')\n",
    "plt.boxplot([list(accumulated_variances_essays_list.values())[s[0]] for s in sorted_sum_list])"
   ]
  },
  {
   "cell_type": "code",
   "execution_count": null,
   "metadata": {},
   "outputs": [],
   "source": []
  },
  {
   "cell_type": "code",
   "execution_count": 17,
   "metadata": {},
   "outputs": [
    {
     "data": {
      "text/plain": [
       "{'whiskers': [<matplotlib.lines.Line2D at 0x7f98719e20d0>,\n",
       "  <matplotlib.lines.Line2D at 0x7f98719e23a0>],\n",
       " 'caps': [<matplotlib.lines.Line2D at 0x7f98719e2670>,\n",
       "  <matplotlib.lines.Line2D at 0x7f98719e2940>],\n",
       " 'boxes': [<matplotlib.lines.Line2D at 0x7f98719d6ee0>],\n",
       " 'medians': [<matplotlib.lines.Line2D at 0x7f98719e2c10>],\n",
       " 'fliers': [<matplotlib.lines.Line2D at 0x7f98719e2ee0>],\n",
       " 'means': []}"
      ]
     },
     "execution_count": 17,
     "metadata": {},
     "output_type": "execute_result"
    },
    {
     "data": {
      "image/png": "[encoded data removed]",
      "text/plain": [
       "<Figure size 432x288 with 1 Axes>"
      ]
     },
     "metadata": {
      "needs_background": "light"
     },
     "output_type": "display_data"
    }
   ],
   "source": [
    "plt.title('boxplot of all questions and essays')\n",
    "plt.boxplot([sum(s) for s in accumulated_variances_essays_list.values()])"
   ]
  },
  {
   "cell_type": "code",
   "execution_count": 18,
   "metadata": {},
   "outputs": [],
   "source": [
    "current = -1 #questionid\n",
    "accumulated_variances_list = {k:[] for k in range(13)}\n",
    "\n",
    "for a in all_parsed_answers:\n",
    "    accumulated_variances_list[a[1]].append(abs(a[-2]-a[-1]))"
   ]
  },
  {
   "cell_type": "code",
   "execution_count": 19,
   "metadata": {},
   "outputs": [
    {
     "data": {
      "text/plain": [
       "<BarContainer object of 13 artists>"
      ]
     },
     "execution_count": 19,
     "metadata": {},
     "output_type": "execute_result"
    },
    {
     "data": {
      "image/png": "[encoded data removed]",
      "text/plain": [
       "<Figure size 432x288 with 1 Axes>"
      ]
     },
     "metadata": {
      "needs_background": "light"
     },
     "output_type": "display_data"
    }
   ],
   "source": [
    "plt.title('absolute difference sum per question')\n",
    "plt.bar(list(range(13)), [sum(accumulated_variances_list[k]) for k in accumulated_variances_list])"
   ]
  },
  {
   "cell_type": "code",
   "execution_count": 20,
   "metadata": {},
   "outputs": [
    {
     "data": {
      "text/plain": [
       "<BarContainer object of 13 artists>"
      ]
     },
     "execution_count": 20,
     "metadata": {},
     "output_type": "execute_result"
    },
    {
     "data": {
      "image/png": "[encoded data removed]",
      "text/plain": [
       "<Figure size 432x288 with 1 Axes>"
      ]
     },
     "metadata": {
      "needs_background": "light"
     },
     "output_type": "display_data"
    }
   ],
   "source": [
    "plt.title('average difference sum per question')\n",
    "plt.bar(list(range(13)), [sum(accumulated_variances_list[k])/len(accumulated_variances_list[k]) for k in accumulated_variances_list])"
   ]
  },
  {
   "cell_type": "code",
   "execution_count": 21,
   "metadata": {},
   "outputs": [
    {
     "data": {
      "text/plain": [
       "{'whiskers': [<matplotlib.lines.Line2D at 0x7f987182c910>,\n",
       "  <matplotlib.lines.Line2D at 0x7f987182cbe0>,\n",
       "  <matplotlib.lines.Line2D at 0x7f987183dd00>,\n",
       "  <matplotlib.lines.Line2D at 0x7f987183dfd0>,\n",
       "  <matplotlib.lines.Line2D at 0x7f9871859130>,\n",
       "  <matplotlib.lines.Line2D at 0x7f9871859400>,\n",
       "  <matplotlib.lines.Line2D at 0x7f98717e6580>,\n",
       "  <matplotlib.lines.Line2D at 0x7f98717e6850>,\n",
       "  <matplotlib.lines.Line2D at 0x7f98717f3970>,\n",
       "  <matplotlib.lines.Line2D at 0x7f98717f3c40>,\n",
       "  <matplotlib.lines.Line2D at 0x7f98717fed60>,\n",
       "  <matplotlib.lines.Line2D at 0x7f987180d070>,\n",
       "  <matplotlib.lines.Line2D at 0x7f987181a190>,\n",
       "  <matplotlib.lines.Line2D at 0x7f987181a460>,\n",
       "  <matplotlib.lines.Line2D at 0x7f98717a6580>,\n",
       "  <matplotlib.lines.Line2D at 0x7f98717a6850>,\n",
       "  <matplotlib.lines.Line2D at 0x7f98717b7970>,\n",
       "  <matplotlib.lines.Line2D at 0x7f98717b7c40>,\n",
       "  <matplotlib.lines.Line2D at 0x7f98717c2d60>,\n",
       "  <matplotlib.lines.Line2D at 0x7f98717cf070>,\n",
       "  <matplotlib.lines.Line2D at 0x7f98717dc190>,\n",
       "  <matplotlib.lines.Line2D at 0x7f98717dc460>,\n",
       "  <matplotlib.lines.Line2D at 0x7f987176a580>,\n",
       "  <matplotlib.lines.Line2D at 0x7f987176a850>,\n",
       "  <matplotlib.lines.Line2D at 0x7f9871777970>,\n",
       "  <matplotlib.lines.Line2D at 0x7f9871777c40>],\n",
       " 'caps': [<matplotlib.lines.Line2D at 0x7f987182ceb0>,\n",
       "  <matplotlib.lines.Line2D at 0x7f987183d1c0>,\n",
       "  <matplotlib.lines.Line2D at 0x7f987184a2e0>,\n",
       "  <matplotlib.lines.Line2D at 0x7f987184a5b0>,\n",
       "  <matplotlib.lines.Line2D at 0x7f9871859730>,\n",
       "  <matplotlib.lines.Line2D at 0x7f9871859a00>,\n",
       "  <matplotlib.lines.Line2D at 0x7f98717e6b20>,\n",
       "  <matplotlib.lines.Line2D at 0x7f98717e6df0>,\n",
       "  <matplotlib.lines.Line2D at 0x7f98717f3f10>,\n",
       "  <matplotlib.lines.Line2D at 0x7f98717fe220>,\n",
       "  <matplotlib.lines.Line2D at 0x7f987180d340>,\n",
       "  <matplotlib.lines.Line2D at 0x7f987180d610>,\n",
       "  <matplotlib.lines.Line2D at 0x7f987181a730>,\n",
       "  <matplotlib.lines.Line2D at 0x7f987181aa00>,\n",
       "  <matplotlib.lines.Line2D at 0x7f98717a6b20>,\n",
       "  <matplotlib.lines.Line2D at 0x7f98717a6df0>,\n",
       "  <matplotlib.lines.Line2D at 0x7f98717b7f10>,\n",
       "  <matplotlib.lines.Line2D at 0x7f98717c2220>,\n",
       "  <matplotlib.lines.Line2D at 0x7f98717cf340>,\n",
       "  <matplotlib.lines.Line2D at 0x7f98717cf610>,\n",
       "  <matplotlib.lines.Line2D at 0x7f98717dc730>,\n",
       "  <matplotlib.lines.Line2D at 0x7f98717dca00>,\n",
       "  <matplotlib.lines.Line2D at 0x7f987176ab20>,\n",
       "  <matplotlib.lines.Line2D at 0x7f987176adf0>,\n",
       "  <matplotlib.lines.Line2D at 0x7f9871777f10>,\n",
       "  <matplotlib.lines.Line2D at 0x7f9871784220>],\n",
       " 'boxes': [<matplotlib.lines.Line2D at 0x7f987182c760>,\n",
       "  <matplotlib.lines.Line2D at 0x7f987183da30>,\n",
       "  <matplotlib.lines.Line2D at 0x7f987184ae20>,\n",
       "  <matplotlib.lines.Line2D at 0x7f98717e62b0>,\n",
       "  <matplotlib.lines.Line2D at 0x7f98717f36a0>,\n",
       "  <matplotlib.lines.Line2D at 0x7f98717fea90>,\n",
       "  <matplotlib.lines.Line2D at 0x7f987180de80>,\n",
       "  <matplotlib.lines.Line2D at 0x7f98717a62b0>,\n",
       "  <matplotlib.lines.Line2D at 0x7f98717b76a0>,\n",
       "  <matplotlib.lines.Line2D at 0x7f98717c2a90>,\n",
       "  <matplotlib.lines.Line2D at 0x7f98717cfe80>,\n",
       "  <matplotlib.lines.Line2D at 0x7f987176a2b0>,\n",
       "  <matplotlib.lines.Line2D at 0x7f98717776a0>],\n",
       " 'medians': [<matplotlib.lines.Line2D at 0x7f987183d490>,\n",
       "  <matplotlib.lines.Line2D at 0x7f987184a880>,\n",
       "  <matplotlib.lines.Line2D at 0x7f9871859cd0>,\n",
       "  <matplotlib.lines.Line2D at 0x7f98717f3100>,\n",
       "  <matplotlib.lines.Line2D at 0x7f98717fe4f0>,\n",
       "  <matplotlib.lines.Line2D at 0x7f987180d8e0>,\n",
       "  <matplotlib.lines.Line2D at 0x7f987181acd0>,\n",
       "  <matplotlib.lines.Line2D at 0x7f98717b7100>,\n",
       "  <matplotlib.lines.Line2D at 0x7f98717c24f0>,\n",
       "  <matplotlib.lines.Line2D at 0x7f98717cf8e0>,\n",
       "  <matplotlib.lines.Line2D at 0x7f98717dccd0>,\n",
       "  <matplotlib.lines.Line2D at 0x7f9871777100>,\n",
       "  <matplotlib.lines.Line2D at 0x7f98717844f0>],\n",
       " 'fliers': [<matplotlib.lines.Line2D at 0x7f987183d760>,\n",
       "  <matplotlib.lines.Line2D at 0x7f987184ab50>,\n",
       "  <matplotlib.lines.Line2D at 0x7f9871859fa0>,\n",
       "  <matplotlib.lines.Line2D at 0x7f98717f33d0>,\n",
       "  <matplotlib.lines.Line2D at 0x7f98717fe7c0>,\n",
       "  <matplotlib.lines.Line2D at 0x7f987180dbb0>,\n",
       "  <matplotlib.lines.Line2D at 0x7f987181afa0>,\n",
       "  <matplotlib.lines.Line2D at 0x7f98717b73d0>,\n",
       "  <matplotlib.lines.Line2D at 0x7f98717c27c0>,\n",
       "  <matplotlib.lines.Line2D at 0x7f98717cfbb0>,\n",
       "  <matplotlib.lines.Line2D at 0x7f98717dcfa0>,\n",
       "  <matplotlib.lines.Line2D at 0x7f98717773d0>,\n",
       "  <matplotlib.lines.Line2D at 0x7f98717847c0>],\n",
       " 'means': []}"
      ]
     },
     "execution_count": 21,
     "metadata": {},
     "output_type": "execute_result"
    },
    {
     "data": {
      "image/png": "[encoded data removed]",
      "text/plain": [
       "<Figure size 432x288 with 1 Axes>"
      ]
     },
     "metadata": {
      "needs_background": "light"
     },
     "output_type": "display_data"
    }
   ],
   "source": [
    "plt.title('absolute difference boxplot per question')\n",
    "plt.boxplot([accumulated_variances_list[k] for k in accumulated_variances_list])"
   ]
  },
  {
   "cell_type": "code",
   "execution_count": null,
   "metadata": {},
   "outputs": [],
   "source": []
  }
 ],
 "metadata": {
  "kernelspec": {
   "display_name": "evaluate",
   "language": "python",
   "name": "python3"
  },
  "language_info": {
   "codemirror_mode": {
    "name": "ipython",
    "version": 3
   },
   "file_extension": ".py",
   "mimetype": "text/x-python",
   "name": "python",
   "nbconvert_exporter": "python",
   "pygments_lexer": "ipython3",
   "version": "3.8.13"
  },
  "orig_nbformat": 4
 },
 "nbformat": 4,
 "nbformat_minor": 2
}
