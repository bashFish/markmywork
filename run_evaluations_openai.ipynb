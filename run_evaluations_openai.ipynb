{
 "cells": [
  {
   "cell_type": "code",
   "execution_count": 2,
   "metadata": {},
   "outputs": [],
   "source": [
    "import pickle\n",
    "import dotenv"
   ]
  },
  {
   "cell_type": "code",
   "execution_count": 3,
   "metadata": {},
   "outputs": [],
   "source": [
    "import tqdm\n",
    "import time\n",
    "import re"
   ]
  },
  {
   "cell_type": "code",
   "execution_count": 4,
   "metadata": {},
   "outputs": [],
   "source": [
    "from mmw.parse import *"
   ]
  },
  {
   "cell_type": "code",
   "execution_count": 5,
   "metadata": {},
   "outputs": [
    {
     "data": {
      "text/plain": [
       "True"
      ]
     },
     "execution_count": 5,
     "metadata": {},
     "output_type": "execute_result"
    }
   ],
   "source": [
    "dotenv.load_dotenv()"
   ]
  },
  {
   "cell_type": "code",
   "execution_count": null,
   "metadata": {},
   "outputs": [],
   "source": []
  },
  {
   "cell_type": "code",
   "execution_count": null,
   "metadata": {},
   "outputs": [],
   "source": [
    "import os\n",
    "import openai\n",
    "\n",
    "openai.organization = os.getenv(\"OPENAI_ORGANIZATION\")\n",
    "openai.api_key = os.getenv(\"OPENAI_API_KEY\")\n",
    "\n",
    "response = openai.Completion.create(model=\"text-davinci-003\", prompt=\"Say this is a test\", temperature=0, max_tokens=7)\n",
    "response['choices'][0]['text']"
   ]
  },
  {
   "cell_type": "code",
   "execution_count": null,
   "metadata": {},
   "outputs": [],
   "source": [
    "questions_explanation = parse_question_explanations()"
   ]
  },
  {
   "cell_type": "code",
   "execution_count": null,
   "metadata": {},
   "outputs": [],
   "source": [
    "all_parsed_essays = parse_essays()"
   ]
  },
  {
   "cell_type": "code",
   "execution_count": null,
   "metadata": {},
   "outputs": [],
   "source": [
    "marked_essays, filtered_marked_essays, all_questions = parse_annotations()"
   ]
  },
  {
   "cell_type": "code",
   "execution_count": null,
   "metadata": {},
   "outputs": [],
   "source": [
    "len(all_parsed_essays), len(filtered_marked_essays)"
   ]
  },
  {
   "cell_type": "code",
   "execution_count": null,
   "metadata": {},
   "outputs": [],
   "source": [
    "model = \"text-davinci-003\"\n",
    "\n",
    "#models simple/ cheap/ fast to advanced:\n",
    "#model = \"ada\"\n",
    "#model = \"babbage\"\n",
    "#model = \"curie\"\n",
    "#model = \"davinci\"\n",
    "\n",
    "#model = \"ada:ft-mark-my-words-2023-05-01-11-44-26\""
   ]
  },
  {
   "cell_type": "code",
   "execution_count": null,
   "metadata": {},
   "outputs": [],
   "source": []
  },
  {
   "cell_type": "code",
   "execution_count": null,
   "metadata": {},
   "outputs": [],
   "source": [
    "LIMIT_ESSAYS = 20"
   ]
  },
  {
   "cell_type": "code",
   "execution_count": null,
   "metadata": {},
   "outputs": [],
   "source": [
    "all_prompts = assemble_prompts(all_parsed_essays, filtered_marked_essays, questions_explanation, template=PROMPT_TPLS[1])"
   ]
  },
  {
   "cell_type": "code",
   "execution_count": null,
   "metadata": {},
   "outputs": [],
   "source": [
    "all_answers = []\n",
    "for prompt_array in tqdm.tqdm(all_prompts[:LIMIT_ESSAYS*len(questions_explanation)]):\n",
    "    i, j, prompt, annot = prompt_array\n",
    "    response = openai.Completion.create(model=model, prompt=prompt, temperature=0, max_tokens=3)\n",
    "    all_answers.append((i, j, prompt, response, annot))\n",
    "    \n",
    "    time.sleep(.5)"
   ]
  },
  {
   "cell_type": "code",
   "execution_count": null,
   "metadata": {},
   "outputs": [],
   "source": [
    "len(all_answers)"
   ]
  },
  {
   "cell_type": "code",
   "execution_count": null,
   "metadata": {},
   "outputs": [],
   "source": [
    "all_answers[0]"
   ]
  },
  {
   "cell_type": "code",
   "execution_count": null,
   "metadata": {},
   "outputs": [],
   "source": [
    "save_results('data/evaluations/run_4_text-davinci_explanation', all_parsed_essays, all_questions, all_answers)"
   ]
  },
  {
   "cell_type": "code",
   "execution_count": 6,
   "metadata": {},
   "outputs": [],
   "source": [
    "_,_,all_answers_loaded = load_results('data/evaluations/run_4_text-davinci_explanation')"
   ]
  },
  {
   "cell_type": "code",
   "execution_count": 8,
   "metadata": {},
   "outputs": [
    {
     "data": {
      "text/plain": [
       "'Given is a student essay and a question to the essay. Please rate the Question with a number between 0 and 3, where 0 is \"not at all satisfied\" and 3 is \"very satisfied.\".\\n\\nEssay: \"\"\"\\nThe Cage\\nIt felt like I was walking forever, i didn\\'t even know were i was i just knew i was somewhere. A creepy aliway to be exazaced. To be honest i would rather\\nbe at school than this nightmare well not to brag but i was not scared in the slightited, anyway desided just to keep walking to see what was down this\\naliway, just as i was almost there thunder shot right though the sky it was like someone had a shotgun shot a bullet right next to my ear jezz i was not\\nprepared for that, where there is thunder there is rain and i was not gonna get my new guchi shoes wet so i bulted to the end of the crusty aliway,\\ni saw... well i didn\\'t see anything other than cages, well i guess it was just a dream cause i don\\'t own\\nguchi shoes. OK enough of me being broke I gotta get to school. Time forwords and i\\'m at school barely and my best friend walks towards me talking about\\nhow her dad didn\\'t buy her the new iphone 507989428 which is like a billion bucks while i\\'m sitting here trying to listen to her complaints that no one\\ncares about while i don\\'t even have a dad\"\"\"\\nQuestion: \"\"\"\\nThis skill refers to the extent to which the student has grabbed the reader\\'s attention from the first few lines of the narrative. This can be done in a number of ways, such as by beginning with some intense action, a thought-provoking question, or even a shocking statement.\\nHas the student written a compelling opening?\"\"\"\\nAnswer:'"
      ]
     },
     "execution_count": 8,
     "metadata": {},
     "output_type": "execute_result"
    }
   ],
   "source": [
    "all_answers_loaded[0][2]"
   ]
  },
  {
   "cell_type": "code",
   "execution_count": 7,
   "metadata": {},
   "outputs": [
    {
     "data": {
      "text/plain": [
       "[(0, 0, 1, ' 3'),\n",
       " (0, 1, 1, ' 3'),\n",
       " (0, 2, 1, ' 3'),\n",
       " (0, 3, 1, ' 3'),\n",
       " (0, 4, 1, ' 3'),\n",
       " (0, 5, 0, ' 3'),\n",
       " (0, 6, 0, ' 3'),\n",
       " (0, 7, 0, ' 3'),\n",
       " (0, 8, 0, ' 3'),\n",
       " (0, 9, 0, ' 3'),\n",
       " (0, 10, 0, ' 3'),\n",
       " (0, 11, 0, ' 3'),\n",
       " (0, 12, 0, ' 3'),\n",
       " (1, 0, 2, ' 3'),\n",
       " (1, 1, 2, ' 3'),\n",
       " (1, 2, 3, ' 3'),\n",
       " (1, 3, 3, ' 3'),\n",
       " (1, 4, 2, ' 3'),\n",
       " (1, 5, 3, ' 3'),\n",
       " (1, 6, 3, ' 3'),\n",
       " (1, 7, 2, ' 3'),\n",
       " (1, 8, 3, ' 3'),\n",
       " (1, 9, 2, ' 3'),\n",
       " (1, 10, 2, ' 3'),\n",
       " (1, 11, 3, ' 3'),\n",
       " (1, 12, 3, ' 3'),\n",
       " (2, 0, 3, ' 3'),\n",
       " (2, 1, 3, ' 3'),\n",
       " (2, 2, 3, ' 3'),\n",
       " (2, 3, 3, ' 3'),\n",
       " (2, 4, 3, ' 3'),\n",
       " (2, 5, 3, ' 3'),\n",
       " (2, 6, 3, ' 3'),\n",
       " (2, 7, 3, ' 3'),\n",
       " (2, 8, 3, ' 3'),\n",
       " (2, 9, 3, ' 3 - Very'),\n",
       " (2, 10, 3, ' 3'),\n",
       " (2, 11, 3, ' 3'),\n",
       " (2, 12, 1, ' 3'),\n",
       " (3, 0, 1, ' 3'),\n",
       " (3, 1, 3, ' 3'),\n",
       " (3, 2, 3, ' 3'),\n",
       " (3, 3, 3, ' 3'),\n",
       " (3, 4, 3, ' 3'),\n",
       " (3, 5, 3, ' 3'),\n",
       " (3, 6, 3, ' 3'),\n",
       " (3, 7, 3, ' 3'),\n",
       " (3, 8, 3, ' 3'),\n",
       " (3, 9, 3, ' 3'),\n",
       " (3, 10, 3, ' 3'),\n",
       " (3, 11, 3, ' 3'),\n",
       " (3, 12, 2, ' 3'),\n",
       " (4, 0, 2, ' 3'),\n",
       " (4, 1, 2, ' 3'),\n",
       " (4, 2, 2, ' 3'),\n",
       " (4, 3, 1, ' 3'),\n",
       " (4, 4, 2, ' 3'),\n",
       " (4, 5, 2, ' 3'),\n",
       " (4, 6, 1, ' 3'),\n",
       " (4, 7, 1, ' 3'),\n",
       " (4, 8, 2, ' 3'),\n",
       " (4, 9, 2, ' 3'),\n",
       " (4, 10, 2, ' 3'),\n",
       " (4, 11, 2, ' 3'),\n",
       " (4, 12, 1, ' 3'),\n",
       " (5, 0, 0, ' 3'),\n",
       " (5, 1, 0, ' 2'),\n",
       " (5, 2, 0, ' 3'),\n",
       " (5, 3, 0, ' 3'),\n",
       " (5, 4, 1, ' 3'),\n",
       " (5, 5, 1, ' 3'),\n",
       " (5, 6, 1, ' 2'),\n",
       " (5, 7, 1, ' 2'),\n",
       " (5, 8, 1, ' 3'),\n",
       " (5, 9, 1, ' 3'),\n",
       " (5, 10, 1, ' 2'),\n",
       " (5, 11, 1, ' 3'),\n",
       " (5, 12, 0, ' 3'),\n",
       " (6, 0, 3, ' 3'),\n",
       " (6, 1, 3, ' 3'),\n",
       " (6, 2, 3, ' 3'),\n",
       " (6, 3, 3, ' 3'),\n",
       " (6, 4, 3, ' 3'),\n",
       " (6, 5, 2, ' 3'),\n",
       " (6, 6, 1, ' 3'),\n",
       " (6, 7, 3, ' 3'),\n",
       " (6, 8, 2, ' 3'),\n",
       " (6, 9, 0, ' 3'),\n",
       " (6, 10, 0, ' 3'),\n",
       " (6, 11, 1, ' 3'),\n",
       " (6, 12, 1, ' 3'),\n",
       " (7, 0, 0, ' 3'),\n",
       " (7, 1, 2, ' 3'),\n",
       " (7, 2, 2, ' 3'),\n",
       " (7, 3, 2, ' 3'),\n",
       " (7, 4, 1, ' 3'),\n",
       " (7, 5, 3, ' 3'),\n",
       " (7, 6, 1, ' 3'),\n",
       " (7, 7, 1, ' 3'),\n",
       " (7, 8, 1, ' 3'),\n",
       " (7, 9, 1, ' 3'),\n",
       " (7, 10, 1, ' 3'),\n",
       " (7, 11, 2, ' 3'),\n",
       " (7, 12, 2, ' 3'),\n",
       " (8, 0, 1, ' 3'),\n",
       " (8, 1, 3, ' 3'),\n",
       " (8, 2, 3, ' 3'),\n",
       " (8, 3, 3, ' 3'),\n",
       " (8, 4, 1, ' 3'),\n",
       " (8, 5, 2, ' 3'),\n",
       " (8, 6, 2, ' 3'),\n",
       " (8, 7, 2, ' 3'),\n",
       " (8, 8, 0, ' 3'),\n",
       " (8, 9, 3, ' 3'),\n",
       " (8, 10, 2, ' 3'),\n",
       " (8, 11, 3, ' 3'),\n",
       " (8, 12, 1, ' 3'),\n",
       " (9, 0, 1, ' 3'),\n",
       " (9, 1, 2, ' 3'),\n",
       " (9, 2, 2, ' 3'),\n",
       " (9, 3, 2, ' 3'),\n",
       " (9, 4, 2, ' 3'),\n",
       " (9, 5, 2, ' 3'),\n",
       " (9, 6, 3, ' 3'),\n",
       " (9, 7, 3, ' 3'),\n",
       " (9, 8, 3, ' 3'),\n",
       " (9, 9, 2, ' 3'),\n",
       " (9, 10, 2, ' 3'),\n",
       " (9, 11, 3, ' 3'),\n",
       " (9, 12, 1, ' 3'),\n",
       " (10, 0, 2, ' 3'),\n",
       " (10, 1, 2, ' 3'),\n",
       " (10, 2, 2, ' 3'),\n",
       " (10, 3, 3, ' 3'),\n",
       " (10, 4, 1, ' 3'),\n",
       " (10, 5, 1, ' 3'),\n",
       " (10, 6, 1, ' 3'),\n",
       " (10, 7, 1, ' 3'),\n",
       " (10, 8, 2, ' 3'),\n",
       " (10, 9, 2, ' 3'),\n",
       " (10, 10, 2, ' 3'),\n",
       " (10, 11, 1, ' 3'),\n",
       " (10, 12, 2, ' 3'),\n",
       " (11, 0, 3, ' 3'),\n",
       " (11, 1, 2, ' 3'),\n",
       " (11, 2, 1, ' 3'),\n",
       " (11, 3, 1, ' 3'),\n",
       " (11, 4, 1, ' 3'),\n",
       " (11, 5, 0, ' 3'),\n",
       " (11, 6, 0, ' 3'),\n",
       " (11, 7, 1, ' 3'),\n",
       " (11, 8, 2, ' 2'),\n",
       " (11, 9, 1, ' 3'),\n",
       " (11, 10, 1, ' 3'),\n",
       " (11, 11, 2, ' 3'),\n",
       " (11, 12, 1, ' 3'),\n",
       " (12, 0, 2, ' 3'),\n",
       " (12, 1, 1, ' 3'),\n",
       " (12, 2, 1, ' 3'),\n",
       " (12, 3, 1, ' 3'),\n",
       " (12, 4, 1, ' 3'),\n",
       " (12, 5, 1, ' 3'),\n",
       " (12, 6, 1, ' 3'),\n",
       " (12, 7, 2, ' 3'),\n",
       " (12, 8, 0, ' 3'),\n",
       " (12, 9, 2, ' 3'),\n",
       " (12, 10, 2, ' 3'),\n",
       " (12, 11, 2, ' 3'),\n",
       " (12, 12, 2, ' 3'),\n",
       " (13, 0, 0, ' 3'),\n",
       " (13, 1, 1, ' 3'),\n",
       " (13, 2, 1, ' 3'),\n",
       " (13, 3, 1, ' 3'),\n",
       " (13, 4, 1, ' 3'),\n",
       " (13, 5, 0, ' 3'),\n",
       " (13, 6, 1, ' 3'),\n",
       " (13, 7, 1, ' 3'),\n",
       " (13, 8, 1, ' 3'),\n",
       " (13, 9, 1, ' 3'),\n",
       " (13, 10, 1, ' 2'),\n",
       " (13, 11, 1, ' 3'),\n",
       " (13, 12, 0, ' 3'),\n",
       " (14, 0, 1, ' 3'),\n",
       " (14, 1, 0, ' 3'),\n",
       " (14, 2, 0, ' 3'),\n",
       " (14, 3, 1, ' 3'),\n",
       " (14, 4, 1, ' 3'),\n",
       " (14, 5, 0, ' 3'),\n",
       " (14, 6, 0, ' 3'),\n",
       " (14, 7, 1, ' 3'),\n",
       " (14, 8, 1, ' 3'),\n",
       " (14, 9, 1, ' 3'),\n",
       " (14, 10, 1, ' 3'),\n",
       " (14, 11, 0, ' 3'),\n",
       " (14, 12, 1, ' 3'),\n",
       " (15, 0, 0, ' 3'),\n",
       " (15, 1, 1, ' 3'),\n",
       " (15, 2, 1, ' 3'),\n",
       " (15, 3, 1, ' 3'),\n",
       " (15, 4, 1, ' 3'),\n",
       " (15, 5, 2, ' 3'),\n",
       " (15, 6, 1, ' 3'),\n",
       " (15, 7, 1, ' 3'),\n",
       " (15, 8, 1, ' 3'),\n",
       " (15, 9, 1, ' 3'),\n",
       " (15, 10, 2, ' 3'),\n",
       " (15, 11, 2, ' 3'),\n",
       " (15, 12, 0, ' 3'),\n",
       " (16, 0, 1, ' 3'),\n",
       " (16, 1, 1, ' 3'),\n",
       " (16, 2, 1, ' 3'),\n",
       " (16, 3, 1, ' 3'),\n",
       " (16, 4, 1, ' 3'),\n",
       " (16, 5, 1, ' 3'),\n",
       " (16, 6, 1, ' 3'),\n",
       " (16, 7, 1, ' 3'),\n",
       " (16, 8, 0, ' 3'),\n",
       " (16, 9, 2, ' 3'),\n",
       " (16, 10, 2, ' 3'),\n",
       " (16, 11, 2, ' 3'),\n",
       " (16, 12, 1, ' 3'),\n",
       " (17, 0, 3, ' 3'),\n",
       " (17, 1, 2, ' 3'),\n",
       " (17, 2, 2, ' 3'),\n",
       " (17, 3, 2, ' 3'),\n",
       " (17, 4, 2, ' 3'),\n",
       " (17, 5, 1, ' 3'),\n",
       " (17, 6, 1, ' 3'),\n",
       " (17, 7, 2, ' 3'),\n",
       " (17, 8, 3, ' 3'),\n",
       " (17, 9, 1, ' 3'),\n",
       " (17, 10, 0, ' 3'),\n",
       " (17, 11, 1, ' 3'),\n",
       " (17, 12, 3, ' 3'),\n",
       " (18, 0, 1, ' 3'),\n",
       " (18, 1, 1, ' 3'),\n",
       " (18, 2, 1, ' 3'),\n",
       " (18, 3, 2, ' 3'),\n",
       " (18, 4, 1, ' 3'),\n",
       " (18, 5, 1, ' 3'),\n",
       " (18, 6, 0, ' 2'),\n",
       " (18, 7, 1, ' 3'),\n",
       " (18, 8, 1, ' 3'),\n",
       " (18, 9, 1, ' 3'),\n",
       " (18, 10, 1, ' 3'),\n",
       " (18, 11, 1, ' 3'),\n",
       " (18, 12, 1, ' 3'),\n",
       " (19, 0, 2, ' 3'),\n",
       " (19, 1, 2, ' 3'),\n",
       " (19, 2, 2, ' 3'),\n",
       " (19, 3, 1, ' 3'),\n",
       " (19, 4, 1, ' 3'),\n",
       " (19, 5, 2, ' 3'),\n",
       " (19, 6, 2, ' 3'),\n",
       " (19, 7, 1, ' 3'),\n",
       " (19, 8, 1, ' 3'),\n",
       " (19, 9, 2, ' 3'),\n",
       " (19, 10, 2, ' 3'),\n",
       " (19, 11, 2, ' 3'),\n",
       " (19, 12, 1, ' 3')]"
      ]
     },
     "execution_count": 7,
     "metadata": {},
     "output_type": "execute_result"
    }
   ],
   "source": [
    "[(a[0], a[1], a[-1], a[3]['choices'][0]['text']) for a in all_answers_loaded]"
   ]
  },
  {
   "cell_type": "code",
   "execution_count": null,
   "metadata": {},
   "outputs": [],
   "source": []
  }
 ],
 "metadata": {
  "kernelspec": {
   "display_name": "evaluate",
   "language": "python",
   "name": "python3"
  },
  "language_info": {
   "codemirror_mode": {
    "name": "ipython",
    "version": 3
   },
   "file_extension": ".py",
   "mimetype": "text/x-python",
   "name": "python",
   "nbconvert_exporter": "python",
   "pygments_lexer": "ipython3",
   "version": "3.8.13"
  },
  "orig_nbformat": 4
 },
 "nbformat": 4,
 "nbformat_minor": 2
}
