{
 "cells": [
  {
   "cell_type": "code",
   "execution_count": 1,
   "metadata": {},
   "outputs": [],
   "source": [
    "import pickle\n",
    "import dotenv"
   ]
  },
  {
   "cell_type": "code",
   "execution_count": 2,
   "metadata": {},
   "outputs": [],
   "source": [
    "import tqdm\n",
    "import time\n",
    "import re"
   ]
  },
  {
   "cell_type": "code",
   "execution_count": 3,
   "metadata": {},
   "outputs": [],
   "source": [
    "from mmw.parse import *"
   ]
  },
  {
   "cell_type": "code",
   "execution_count": 4,
   "metadata": {},
   "outputs": [
    {
     "data": {
      "text/plain": [
       "True"
      ]
     },
     "execution_count": 4,
     "metadata": {},
     "output_type": "execute_result"
    }
   ],
   "source": [
    "dotenv.load_dotenv()"
   ]
  },
  {
   "cell_type": "code",
   "execution_count": null,
   "metadata": {},
   "outputs": [],
   "source": []
  },
  {
   "cell_type": "code",
   "execution_count": 5,
   "metadata": {},
   "outputs": [
    {
     "data": {
      "text/plain": [
       "'\\n\\nThis is indeed a test'"
      ]
     },
     "execution_count": 5,
     "metadata": {},
     "output_type": "execute_result"
    }
   ],
   "source": [
    "import os\n",
    "import openai\n",
    "\n",
    "openai.organization = os.getenv(\"OPENAI_ORGANIZATION\")\n",
    "openai.api_key = os.getenv(\"OPENAI_API_KEY\")\n",
    "\n",
    "response = openai.Completion.create(model=\"text-davinci-003\", prompt=\"Say this is a test\", temperature=0, max_tokens=7)\n",
    "response['choices'][0]['text']"
   ]
  },
  {
   "cell_type": "code",
   "execution_count": null,
   "metadata": {},
   "outputs": [],
   "source": []
  },
  {
   "cell_type": "code",
   "execution_count": 6,
   "metadata": {},
   "outputs": [],
   "source": [
    "all_parsed_essays = parse_essays()"
   ]
  },
  {
   "cell_type": "code",
   "execution_count": 7,
   "metadata": {},
   "outputs": [],
   "source": [
    "marked_essays, filtered_marked_essays, all_questions = parse_annotations()"
   ]
  },
  {
   "cell_type": "code",
   "execution_count": 8,
   "metadata": {},
   "outputs": [
    {
     "data": {
      "text/plain": [
       "(77, 76)"
      ]
     },
     "execution_count": 8,
     "metadata": {},
     "output_type": "execute_result"
    }
   ],
   "source": [
    "len(all_parsed_essays), len(filtered_marked_essays)"
   ]
  },
  {
   "cell_type": "code",
   "execution_count": 9,
   "metadata": {},
   "outputs": [],
   "source": [
    "model = \"davinci:ft-mark-my-words-2023-05-04-11-12-35\"\n",
    "#model = \"ada:ft-mark-my-words-2023-05-01-11-44-26\""
   ]
  },
  {
   "cell_type": "code",
   "execution_count": 10,
   "metadata": {},
   "outputs": [],
   "source": [
    "import json"
   ]
  },
  {
   "cell_type": "code",
   "execution_count": 11,
   "metadata": {},
   "outputs": [],
   "source": [
    "all_lines = []\n",
    "with open('data/datasets/v2_short_format_with_question_explanation/finetune_set_prepared_valid.jsonl') as f:\n",
    "    for line in f:\n",
    "        all_lines.append(json.loads(line))"
   ]
  },
  {
   "cell_type": "code",
   "execution_count": 12,
   "metadata": {},
   "outputs": [
    {
     "data": {
      "text/plain": [
       "195"
      ]
     },
     "execution_count": 12,
     "metadata": {},
     "output_type": "execute_result"
    }
   ],
   "source": [
    "len(all_lines)"
   ]
  },
  {
   "cell_type": "code",
   "execution_count": 13,
   "metadata": {},
   "outputs": [],
   "source": [
    "LIMIT_QUESTIONS = 200"
   ]
  },
  {
   "cell_type": "code",
   "execution_count": 14,
   "metadata": {},
   "outputs": [
    {
     "name": "stderr",
     "output_type": "stream",
     "text": [
      "195it [03:20,  1.03s/it]\n"
     ]
    }
   ],
   "source": [
    "all_answers = []\n",
    "for i,line in tqdm.tqdm(enumerate(all_lines[:LIMIT_QUESTIONS])):\n",
    "        \n",
    "    prompt = line['prompt']\n",
    "\n",
    "    response = openai.Completion.create(model=model, prompt=prompt, temperature=0, max_tokens=3)\n",
    "    all_answers.append((0, 0, prompt, response, int(line['completion'])))\n",
    "    \n",
    "    time.sleep(.5)"
   ]
  },
  {
   "cell_type": "code",
   "execution_count": 15,
   "metadata": {},
   "outputs": [
    {
     "data": {
      "text/plain": [
       "195"
      ]
     },
     "execution_count": 15,
     "metadata": {},
     "output_type": "execute_result"
    }
   ],
   "source": [
    "len(all_answers)"
   ]
  },
  {
   "cell_type": "code",
   "execution_count": 16,
   "metadata": {},
   "outputs": [
    {
     "data": {
      "text/plain": [
       "(0,\n",
       " 0,\n",
       " 'Essay:\\nThe Cage\\nIt felt like I was walking forever, i didn\\'t even know were i was i just knew i was somewhere. A creepy aliway to be exazaced. To be honest i would rather\\nbe at school than this nightmare well not to brag but i was not scared in the slightited, anyway desided just to keep walking to see what was down this\\naliway, just as i was almost there thunder shot right though the sky it was like someone had a shotgun shot a bullet right next to my ear jezz i was not\\nprepared for that, where there is thunder there is rain and i was not gonna get my new guchi shoes wet so i bulted to the end of the crusty aliway,\\ni saw... well i didn\\'t see anything other than cages, well i guess it was just a dream cause i don\\'t own\\nguchi shoes. OK enough of me being broke I gotta get to school. Time forwords and i\\'m at school barely and my best friend walks towards me talking about\\nhow her dad didn\\'t buy her the new iphone 507989428 which is like a billion bucks while i\\'m sitting here trying to listen to her complaints that no one\\ncares about while i don\\'t even have a dad\\n\\n###\\n\\nQuestion:\\n\"Show, don\\'t tell\" is a writing technique that allows the reader to experience details of the story through actions, images, and sensory details, as opposed to simply telling the story what is happening. For example, rather than simply telling the reader that the \"man is angry\", the author could write that \"the man clenched his fists\", which is a sign of anger.\\nHas the student \"shown\" and not \"told\"?\\n\\n###\\n\\nAnswer:',\n",
       " <OpenAIObject text_completion id=cmpl-7CS1MM3gW5Zn1hM7w44BDhRf9xrVw at 0x7f4c9dd358b0> JSON: {\n",
       "   \"choices\": [\n",
       "     {\n",
       "       \"finish_reason\": \"length\",\n",
       "       \"index\": 0,\n",
       "       \"logprobs\": null,\n",
       "       \"text\": \" 0\\n\\n\"\n",
       "     }\n",
       "   ],\n",
       "   \"created\": 1683202004,\n",
       "   \"id\": \"cmpl-7CS1MM3gW5Zn1hM7w44BDhRf9xrVw\",\n",
       "   \"model\": \"davinci:ft-mark-my-words-2023-05-04-11-12-35\",\n",
       "   \"object\": \"text_completion\",\n",
       "   \"usage\": {\n",
       "     \"completion_tokens\": 3,\n",
       "     \"prompt_tokens\": 371,\n",
       "     \"total_tokens\": 374\n",
       "   }\n",
       " },\n",
       " 1)"
      ]
     },
     "execution_count": 16,
     "metadata": {},
     "output_type": "execute_result"
    }
   ],
   "source": [
    "all_answers[0]"
   ]
  },
  {
   "cell_type": "code",
   "execution_count": 17,
   "metadata": {},
   "outputs": [],
   "source": [
    "all_essays = set()\n",
    "all_questions = set()\n",
    "for cur in all_answers:\n",
    "    cur_answer = cur[2]\n",
    "    all_fount = list(cur_answer.split(\"\\n\\n###\\n\\n\"))\n",
    "    essay = all_fount[0]\n",
    "    question = all_fount[1]\n",
    "    \n",
    "    all_essays.add(essay)\n",
    "    all_questions.add(question)\n",
    "    \n",
    "all_essays = list(all_essays)\n",
    "all_questions = list(all_questions)\n",
    "for cur in range(len(all_answers)):\n",
    "    cur_answer = all_answers[cur][2]\n",
    "    all_fount = list(cur_answer.split(\"\\n\\n###\\n\\n\"))\n",
    "    essay = all_fount[0]\n",
    "    question = all_fount[1]\n",
    "    \n",
    "    result = (all_essays.index(essay), all_questions.index(question), \n",
    "                        all_answers[cur][2], all_answers[cur][3], all_answers[cur][4])\n",
    "    all_answers[cur] = result"
   ]
  },
  {
   "cell_type": "code",
   "execution_count": 18,
   "metadata": {},
   "outputs": [
    {
     "data": {
      "text/plain": [
       "(3,\n",
       " 12,\n",
       " 'Essay:\\nThe Cage\\nIt felt like I was walking forever, i didn\\'t even know were i was i just knew i was somewhere. A creepy aliway to be exazaced. To be honest i would rather\\nbe at school than this nightmare well not to brag but i was not scared in the slightited, anyway desided just to keep walking to see what was down this\\naliway, just as i was almost there thunder shot right though the sky it was like someone had a shotgun shot a bullet right next to my ear jezz i was not\\nprepared for that, where there is thunder there is rain and i was not gonna get my new guchi shoes wet so i bulted to the end of the crusty aliway,\\ni saw... well i didn\\'t see anything other than cages, well i guess it was just a dream cause i don\\'t own\\nguchi shoes. OK enough of me being broke I gotta get to school. Time forwords and i\\'m at school barely and my best friend walks towards me talking about\\nhow her dad didn\\'t buy her the new iphone 507989428 which is like a billion bucks while i\\'m sitting here trying to listen to her complaints that no one\\ncares about while i don\\'t even have a dad\\n\\n###\\n\\nQuestion:\\n\"Show, don\\'t tell\" is a writing technique that allows the reader to experience details of the story through actions, images, and sensory details, as opposed to simply telling the story what is happening. For example, rather than simply telling the reader that the \"man is angry\", the author could write that \"the man clenched his fists\", which is a sign of anger.\\nHas the student \"shown\" and not \"told\"?\\n\\n###\\n\\nAnswer:',\n",
       " <OpenAIObject text_completion id=cmpl-7CS1MM3gW5Zn1hM7w44BDhRf9xrVw at 0x7f4c9dd358b0> JSON: {\n",
       "   \"choices\": [\n",
       "     {\n",
       "       \"finish_reason\": \"length\",\n",
       "       \"index\": 0,\n",
       "       \"logprobs\": null,\n",
       "       \"text\": \" 0\\n\\n\"\n",
       "     }\n",
       "   ],\n",
       "   \"created\": 1683202004,\n",
       "   \"id\": \"cmpl-7CS1MM3gW5Zn1hM7w44BDhRf9xrVw\",\n",
       "   \"model\": \"davinci:ft-mark-my-words-2023-05-04-11-12-35\",\n",
       "   \"object\": \"text_completion\",\n",
       "   \"usage\": {\n",
       "     \"completion_tokens\": 3,\n",
       "     \"prompt_tokens\": 371,\n",
       "     \"total_tokens\": 374\n",
       "   }\n",
       " },\n",
       " 1)"
      ]
     },
     "execution_count": 18,
     "metadata": {},
     "output_type": "execute_result"
    }
   ],
   "source": [
    "all_answers[0]"
   ]
  },
  {
   "cell_type": "code",
   "execution_count": 19,
   "metadata": {},
   "outputs": [],
   "source": [
    "save_results('data/evaluations/run_5_ft-davinci_explanation', all_parsed_essays, all_questions, all_answers)"
   ]
  },
  {
   "cell_type": "code",
   "execution_count": 20,
   "metadata": {},
   "outputs": [],
   "source": [
    "_,_,all_answers_loaded = load_results('data/evaluations/run_5_ft-davinci_explanation')"
   ]
  },
  {
   "cell_type": "code",
   "execution_count": 21,
   "metadata": {},
   "outputs": [
    {
     "data": {
      "text/plain": [
       "[(3, 12, 1, ' 0\\n\\n'),\n",
       " (3, 0, 1, ' 0\\n\\n'),\n",
       " (67, 11, 2, ' 3 3 3'),\n",
       " (67, 12, 2, ' 3 3 3'),\n",
       " (67, 4, 2, ' 2 3 3'),\n",
       " (67, 5, 3, ' 3 3 3'),\n",
       " (18, 12, 3, ' 3 3 3'),\n",
       " (18, 2, 3, ' 3 3 3'),\n",
       " (18, 5, 3, ' 3 3 3'),\n",
       " (18, 3, 3, ' 3\\n\\n'),\n",
       " (49, 12, 3, ' 3 3 3'),\n",
       " (49, 5, 3, ' 3 3 3'),\n",
       " (2, 11, 2, ' 2 2 2'),\n",
       " (2, 2, 1, ' 1 1 1'),\n",
       " (2, 8, 2, ' 2 2 2'),\n",
       " (2, 10, 1, ' 2 1 2'),\n",
       " (6, 2, 1, ' 0\\n\\n'),\n",
       " (14, 6, 3, ' 2 3 2'),\n",
       " (14, 4, 3, ' 2 1 3'),\n",
       " (14, 3, 0, ' 2 3 3'),\n",
       " (4, 11, 0, ' 2 2.'),\n",
       " (4, 0, 1, ' 2 2 2'),\n",
       " (4, 4, 1, ' 2 1 3'),\n",
       " (4, 5, 1, ' 2 3\\n'),\n",
       " (4, 7, 2, ' 3 3.'),\n",
       " (54, 12, 3, ' 2.3'),\n",
       " (54, 6, 3, ' 2 3 3'),\n",
       " (66, 0, 2, ' 2 2 2'),\n",
       " (66, 7, 3, ' 3 3 3'),\n",
       " (59, 11, 2, ' 2 2 3'),\n",
       " (59, 0, 1, ' 2 2 2'),\n",
       " (59, 5, 2, ' 2 3\\n'),\n",
       " (68, 11, 2, ' 1 1 2'),\n",
       " (68, 1, 1, ' 2 3 3'),\n",
       " (68, 0, 1, ' 2 2 2'),\n",
       " (68, 9, 1, ' 1 1 3'),\n",
       " (68, 8, 2, ' 2 2 2'),\n",
       " (12, 12, 1, ' 1 0 0'),\n",
       " (7, 9, 0, ' 1 1 1'),\n",
       " (7, 4, 1, ' 1 1 1'),\n",
       " (7, 3, 1, ' 1 1 1'),\n",
       " (27, 9, 2, ' 1 1 1'),\n",
       " (27, 2, 1, ' 0.0'),\n",
       " (27, 8, 2, ' 1 1 2'),\n",
       " (27, 7, 2, ' 1 1 1'),\n",
       " (0, 2, 1, ' 1 1 1'),\n",
       " (0, 5, 0, ' 1 1 2'),\n",
       " (0, 3, 2, ' 1 1 1'),\n",
       " (38, 3, 1, ' 2 3 3'),\n",
       " (20, 2, 0, ' 1 1 1'),\n",
       " (20, 4, 1, ' 1 1 1'),\n",
       " (20, 5, 1, ' 1 1 3'),\n",
       " (20, 3, 1, ' 1 1 1'),\n",
       " (22, 0, 1, ' 2 2 2'),\n",
       " (22, 9, 2, ' 2 1 3'),\n",
       " (55, 3, 2, ' 2 2 3'),\n",
       " (55, 8, 2, ' 2 2 2'),\n",
       " (23, 11, 2, ' 1 1 1'),\n",
       " (23, 1, 2, ' 2 1 3'),\n",
       " (65, 6, 1, ' 1 1 1'),\n",
       " (65, 3, 1, ' 1 1 1'),\n",
       " (17, 3, 1, ' 1 1 1'),\n",
       " (1, 12, 2, ' 2 2 3'),\n",
       " (1, 1, 2, ' 2 2 2'),\n",
       " (45, 9, 2, ' 1 1 3'),\n",
       " (45, 10, 1, ' 2 1 2'),\n",
       " (28, 12, 1, ' 0\\n\\n'),\n",
       " (28, 9, 0, ' 0\\n\\n'),\n",
       " (28, 4, 1, ' 1 1 1'),\n",
       " (19, 6, 3, ' 2 3 3'),\n",
       " (19, 5, 3, ' 2 3 3'),\n",
       " (58, 12, 0, ' 1 1 2'),\n",
       " (58, 6, 0, ' 1 1 2'),\n",
       " (58, 5, 1, ' 1 1 2'),\n",
       " (58, 8, 1, ' 1 1 2'),\n",
       " (58, 10, 0, ' 1 1 1'),\n",
       " (26, 12, 2, ' 2 3 3'),\n",
       " (26, 6, 2, ' 2 3 3'),\n",
       " (26, 4, 3, ' 2 1 3'),\n",
       " (26, 7, 1, ' 3 3 3'),\n",
       " (15, 1, 3, ' 3 3 3'),\n",
       " (15, 8, 3, ' 3 3 3'),\n",
       " (8, 6, 2, ' 2 3 3'),\n",
       " (8, 7, 1, ' 3 3 3'),\n",
       " (41, 2, 2, ' 1 1 1'),\n",
       " (40, 10, 0, ' 0 0 0'),\n",
       " (5, 11, 1, ' 0\\n\\n'),\n",
       " (5, 1, 1, ' 1 1 1'),\n",
       " (5, 0, 1, ' 1 2 3'),\n",
       " (5, 9, 1, ' 1 1 1'),\n",
       " (5, 2, 1, ' 1 0 1'),\n",
       " (5, 7, 0, ' 1 1 3'),\n",
       " (60, 1, 3, ' 3 3 3'),\n",
       " (60, 2, 3, ' 3 3 3'),\n",
       " (60, 4, 3, ' 3 3 3'),\n",
       " (60, 5, 3, ' 3 3 3'),\n",
       " (53, 1, 1, ' 2 3 3'),\n",
       " (53, 5, 2, ' 1 1 3'),\n",
       " (53, 8, 1, ' 2 1 3'),\n",
       " (53, 7, 2, ' 2 3 3'),\n",
       " (57, 0, 1, ' 1 2 3'),\n",
       " (57, 5, 1, ' 1 1 2'),\n",
       " (57, 8, 0, ' 1 1 2'),\n",
       " (50, 12, 1, ' 1 2 3'),\n",
       " (50, 1, 1, ' 1 1 1'),\n",
       " (61, 11, 3, ' 3 3 3'),\n",
       " (61, 0, 3, ' 3 3 3'),\n",
       " (51, 4, 1, ' 2 1 3'),\n",
       " (44, 11, 1, ' 2 2 2'),\n",
       " (44, 4, 1, ' 2 1/'),\n",
       " (44, 3, 0, ' 2 2 2'),\n",
       " (44, 8, 0, ' 2 2 3'),\n",
       " (16, 12, 3, ' 3 3 3'),\n",
       " (16, 6, 3, ' 3 3 3'),\n",
       " (16, 1, 3, ' 3 3 3'),\n",
       " (16, 0, 3, ' 3 3 3'),\n",
       " (16, 9, 2, ' 3 3 3'),\n",
       " (16, 2, 3, ' 3 3 3'),\n",
       " (16, 4, 3, ' 2 3 3'),\n",
       " (21, 12, 2, ' 1 1 2'),\n",
       " (21, 6, 2, ' 2 2 2'),\n",
       " (21, 9, 1, ' 1 1 1'),\n",
       " (62, 4, 2, ' 1 1 1'),\n",
       " (52, 6, 2, ' 2 2 2'),\n",
       " (24, 12, 0, ' 1 0\\n'),\n",
       " (24, 1, 1, ' 1 1 3'),\n",
       " (29, 9, 0, ' 1 1 1'),\n",
       " (29, 3, 0, ' 1 0\\n'),\n",
       " (29, 8, 0, ' 0.2'),\n",
       " (64, 0, 1, ' 1 2 3'),\n",
       " (64, 7, 2, ' 1 3 3'),\n",
       " (39, 11, 2, ' 3 3 3'),\n",
       " (39, 7, 3, ' 3 3 3'),\n",
       " (42, 9, 2, ' 3 3 3'),\n",
       " (42, 4, 1, ' 2 1 3'),\n",
       " (42, 8, 3, ' 2 3 3'),\n",
       " (9, 12, 0, ' 1 0\\n'),\n",
       " (9, 3, 1, ' 1 1 1'),\n",
       " (9, 8, 1, ' 1 1 2'),\n",
       " (9, 7, 1, ' 1 1 3'),\n",
       " (9, 10, 1, ' 0\\n\\n'),\n",
       " (56, 11, 1, ' 0\\n\\n'),\n",
       " (13, 0, 3, ' 3 3 3'),\n",
       " (13, 3, 3, ' 3 3 3'),\n",
       " (13, 8, 2, ' 3 3 3'),\n",
       " (13, 7, 3, ' 3 3 3'),\n",
       " (13, 10, 3, ' 3 3 3'),\n",
       " (63, 12, 2, ' 2.3'),\n",
       " (63, 9, 2, ' 2.3'),\n",
       " (63, 8, 3, ' 2 3 3'),\n",
       " (65, 9, 1, ' 1 1 1'),\n",
       " (30, 1, 2, ' 2 1 3'),\n",
       " (30, 0, 2, ' 2 2 2'),\n",
       " (25, 2, 1, ' 1 1 1'),\n",
       " (25, 3, 2, ' 1 1 2'),\n",
       " (25, 7, 3, ' 1 2 3'),\n",
       " (25, 10, 2, ' 1 1 1'),\n",
       " (46, 12, 2, ' 2 2 2'),\n",
       " (46, 6, 2, ' 2 2 2'),\n",
       " (46, 9, 1, ' 2 3 1'),\n",
       " (46, 2, 1, ' 1 1 1'),\n",
       " (46, 3, 2, ' 2 2 2'),\n",
       " (46, 10, 1, ' 2 2 2'),\n",
       " (37, 5, 2, ' 1 1 1'),\n",
       " (37, 7, 2, ' 1 1 3'),\n",
       " (10, 5, 1, ' 1 1 1'),\n",
       " (10, 3, 3, ' 1 1 1'),\n",
       " (31, 1, 1, ' 1 1 3'),\n",
       " (31, 2, 1, ' 1 1 1'),\n",
       " (31, 3, 1, ' 1 1 1'),\n",
       " (31, 10, 0, ' 1 1 1'),\n",
       " (37, 6, 1, ' 1 1 1'),\n",
       " (37, 9, 1, ' 1 1 1'),\n",
       " (43, 6, 2, ' 2 3 2'),\n",
       " (43, 1, 2, ' 2 3 3'),\n",
       " (43, 3, 3, ' 2 3 3'),\n",
       " (43, 7, 3, ' 3 3 3'),\n",
       " (48, 8, 2, ' 3 3 3'),\n",
       " (48, 10, 1, ' 3 3 3'),\n",
       " (34, 12, 1, ' 0\\n\\n'),\n",
       " (34, 9, 1, ' 0\\n\\n'),\n",
       " (34, 4, 2, ' 1 1 1'),\n",
       " (34, 5, 1, ' 1 1 1'),\n",
       " (35, 6, 0, ' 0 0 0'),\n",
       " (35, 1, 1, ' 1 1 1'),\n",
       " (35, 4, 0, ' 0\\n\\n'),\n",
       " (32, 1, 2, ' 2 2 3'),\n",
       " (11, 1, 1, ' 1 1 2'),\n",
       " (11, 8, 2, ' 2 1 3'),\n",
       " (47, 8, 2, ' 2 2 2'),\n",
       " (33, 6, 2, ' 2 2 2'),\n",
       " (33, 2, 1, ' 1 1 1'),\n",
       " (33, 5, 3, ' 2 3 3'),\n",
       " (36, 9, 1, ' 3 3 3'),\n",
       " (36, 3, 3, ' 2 3 3')]"
      ]
     },
     "execution_count": 21,
     "metadata": {},
     "output_type": "execute_result"
    }
   ],
   "source": [
    "[(a[0],a[1],a[4],a[3]['choices'][0]['text']) for a in all_answers]"
   ]
  },
  {
   "cell_type": "code",
   "execution_count": null,
   "metadata": {},
   "outputs": [],
   "source": []
  }
 ],
 "metadata": {
  "kernelspec": {
   "display_name": "evaluate",
   "language": "python",
   "name": "python3"
  },
  "language_info": {
   "codemirror_mode": {
    "name": "ipython",
    "version": 3
   },
   "file_extension": ".py",
   "mimetype": "text/x-python",
   "name": "python",
   "nbconvert_exporter": "python",
   "pygments_lexer": "ipython3",
   "version": "3.8.13"
  },
  "orig_nbformat": 4
 },
 "nbformat": 4,
 "nbformat_minor": 2
}
