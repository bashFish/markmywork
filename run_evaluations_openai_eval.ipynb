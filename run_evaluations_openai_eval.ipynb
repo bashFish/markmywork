{
 "cells": [
  {
   "cell_type": "code",
   "execution_count": 20,
   "metadata": {},
   "outputs": [],
   "source": [
    "import pickle\n",
    "import dotenv"
   ]
  },
  {
   "cell_type": "code",
   "execution_count": 21,
   "metadata": {},
   "outputs": [],
   "source": [
    "import tqdm\n",
    "import time\n",
    "import re"
   ]
  },
  {
   "cell_type": "code",
   "execution_count": 22,
   "metadata": {},
   "outputs": [],
   "source": [
    "from mmw.parse import *"
   ]
  },
  {
   "cell_type": "code",
   "execution_count": 23,
   "metadata": {},
   "outputs": [
    {
     "data": {
      "text/plain": [
       "True"
      ]
     },
     "execution_count": 23,
     "metadata": {},
     "output_type": "execute_result"
    }
   ],
   "source": [
    "dotenv.load_dotenv()"
   ]
  },
  {
   "cell_type": "code",
   "execution_count": null,
   "metadata": {},
   "outputs": [],
   "source": []
  },
  {
   "cell_type": "code",
   "execution_count": 24,
   "metadata": {},
   "outputs": [
    {
     "data": {
      "text/plain": [
       "'\\n\\nThis is indeed a test'"
      ]
     },
     "execution_count": 24,
     "metadata": {},
     "output_type": "execute_result"
    }
   ],
   "source": [
    "import os\n",
    "import openai\n",
    "\n",
    "openai.organization = os.getenv(\"OPENAI_ORGANIZATION\")\n",
    "openai.api_key = os.getenv(\"OPENAI_API_KEY\")\n",
    "\n",
    "response = openai.Completion.create(model=\"text-davinci-003\", prompt=\"Say this is a test\", temperature=0, max_tokens=7)\n",
    "response['choices'][0]['text']"
   ]
  },
  {
   "cell_type": "code",
   "execution_count": null,
   "metadata": {},
   "outputs": [],
   "source": []
  },
  {
   "cell_type": "code",
   "execution_count": 25,
   "metadata": {},
   "outputs": [],
   "source": [
    "all_parsed_essays = parse_essays()"
   ]
  },
  {
   "cell_type": "code",
   "execution_count": 26,
   "metadata": {},
   "outputs": [],
   "source": [
    "marked_essays, filtered_marked_essays, all_questions = parse_annotations()"
   ]
  },
  {
   "cell_type": "code",
   "execution_count": 27,
   "metadata": {},
   "outputs": [
    {
     "data": {
      "text/plain": [
       "(77, 76)"
      ]
     },
     "execution_count": 27,
     "metadata": {},
     "output_type": "execute_result"
    }
   ],
   "source": [
    "len(all_parsed_essays), len(filtered_marked_essays)"
   ]
  },
  {
   "cell_type": "code",
   "execution_count": 28,
   "metadata": {},
   "outputs": [],
   "source": [
    "#model = \"text-davinci-003\"\n",
    "model = \"ada:ft-mark-my-words-2023-05-01-11-44-26\" #ada"
   ]
  },
  {
   "cell_type": "code",
   "execution_count": 29,
   "metadata": {},
   "outputs": [],
   "source": [
    "import json"
   ]
  },
  {
   "cell_type": "code",
   "execution_count": 30,
   "metadata": {},
   "outputs": [],
   "source": [
    "all_lines = []\n",
    "with open('data/datasets/v1/finetune_set_prepared_valid.jsonl') as f:\n",
    "    for line in f:\n",
    "        all_lines.append(json.loads(line))"
   ]
  },
  {
   "cell_type": "code",
   "execution_count": 31,
   "metadata": {},
   "outputs": [
    {
     "data": {
      "text/plain": [
       "195"
      ]
     },
     "execution_count": 31,
     "metadata": {},
     "output_type": "execute_result"
    }
   ],
   "source": [
    "len(all_lines)"
   ]
  },
  {
   "cell_type": "code",
   "execution_count": 43,
   "metadata": {},
   "outputs": [],
   "source": [
    "LIMIT_QUESTIONS = 1"
   ]
  },
  {
   "cell_type": "code",
   "execution_count": 44,
   "metadata": {},
   "outputs": [
    {
     "name": "stderr",
     "output_type": "stream",
     "text": [
      "195it [02:20,  1.39it/s]\n"
     ]
    }
   ],
   "source": [
    "all_answers = []\n",
    "for i,line in tqdm.tqdm(enumerate(all_lines[:LIMIT_QUESTIONS])):\n",
    "        \n",
    "    prompt = line['prompt']\n",
    "\n",
    "    response = openai.Completion.create(model=model, prompt=prompt, temperature=0, max_tokens=3)\n",
    "    all_answers.append((0, 0, prompt, response, int(line['completion'])))\n",
    "    \n",
    "    time.sleep(.5)"
   ]
  },
  {
   "cell_type": "code",
   "execution_count": 45,
   "metadata": {},
   "outputs": [
    {
     "data": {
      "text/plain": [
       "195"
      ]
     },
     "execution_count": 45,
     "metadata": {},
     "output_type": "execute_result"
    }
   ],
   "source": [
    "len(all_answers)"
   ]
  },
  {
   "cell_type": "code",
   "execution_count": 41,
   "metadata": {},
   "outputs": [
    {
     "data": {
      "text/plain": [
       "(0,\n",
       " 0,\n",
       " 'Given is a student essay and a question to the essay. Please rate the Question with a number between 0 and 3, where 0 is \"not at all satisfied\" and 3 is \"very satisfied.\".\\n\\nEssay: \"\"\"\\nThe Cage\\nIt felt like I was walking forever, i didn\\'t even know were i was i just knew i was somewhere. A creepy aliway to be exazaced. To be honest i would rather\\nbe at school than this nightmare well not to brag but i was not scared in the slightited, anyway desided just to keep walking to see what was down this\\naliway, just as i was almost there thunder shot right though the sky it was like someone had a shotgun shot a bullet right next to my ear jezz i was not\\nprepared for that, where there is thunder there is rain and i was not gonna get my new guchi shoes wet so i bulted to the end of the crusty aliway,\\ni saw... well i didn\\'t see anything other than cages, well i guess it was just a dream cause i don\\'t own\\nguchi shoes. OK enough of me being broke I gotta get to school. Time forwords and i\\'m at school barely and my best friend walks towards me talking about\\nhow her dad didn\\'t buy her the new iphone 507989428 which is like a billion bucks while i\\'m sitting here trying to listen to her complaints that no one\\ncares about while i don\\'t even have a dad\"\"\"\\nQuestion: \"\"\"\\nHas the student \\'shown\\' and not \\'told\\'?\"\"\"\\nAnswer:',\n",
       " <OpenAIObject text_completion id=cmpl-7BSY2muoygnmoTOQUtGR7mEqHKuLG at 0x7f3368d9d9f0> JSON: {\n",
       "   \"choices\": [\n",
       "     {\n",
       "       \"finish_reason\": \"length\",\n",
       "       \"index\": 0,\n",
       "       \"logprobs\": null,\n",
       "       \"text\": \" 0\\n\\n\"\n",
       "     }\n",
       "   ],\n",
       "   \"created\": 1682965702,\n",
       "   \"id\": \"cmpl-7BSY2muoygnmoTOQUtGR7mEqHKuLG\",\n",
       "   \"model\": \"ada:ft-mark-my-words-2023-05-01-11-44-26\",\n",
       "   \"object\": \"text_completion\",\n",
       "   \"usage\": {\n",
       "     \"completion_tokens\": 3,\n",
       "     \"prompt_tokens\": 334,\n",
       "     \"total_tokens\": 337\n",
       "   }\n",
       " },\n",
       " 1)"
      ]
     },
     "execution_count": 41,
     "metadata": {},
     "output_type": "execute_result"
    }
   ],
   "source": [
    "all_answers[0]"
   ]
  },
  {
   "cell_type": "code",
   "execution_count": 76,
   "metadata": {},
   "outputs": [],
   "source": [
    "all_essays = set()\n",
    "all_questions = set()\n",
    "for cur in all_answers:\n",
    "    cur_answer = cur[2]\n",
    "    all_fount = list(re.finditer('\"\"\"', cur_answer))\n",
    "    essay = cur_answer[all_fount[0].end():all_fount[1].start()]\n",
    "    question = cur_answer[all_fount[2].end():all_fount[3].start()]\n",
    "    \n",
    "    all_essays.add(essay)\n",
    "    all_questions.add(question)\n",
    "    \n",
    "all_essays = list(all_essays)\n",
    "all_questions = list(all_questions)\n",
    "for cur in range(len(all_answers)):\n",
    "    cur_answer = all_answers[cur][2]\n",
    "    all_fount = list(re.finditer('\"\"\"', cur_answer))\n",
    "    essay = cur_answer[all_fount[0].end():all_fount[1].start()]\n",
    "    question = cur_answer[all_fount[2].end():all_fount[3].start()]\n",
    "    \n",
    "    result = (all_essays.index(essay), all_questions.index(question), \n",
    "                        all_answers[cur][2], all_answers[cur][3], all_answers[cur][4])\n",
    "    all_answers[cur] = result"
   ]
  },
  {
   "cell_type": "code",
   "execution_count": null,
   "metadata": {},
   "outputs": [],
   "source": []
  },
  {
   "cell_type": "code",
   "execution_count": 77,
   "metadata": {},
   "outputs": [],
   "source": [
    "save_results('data/evaluations/run_3_ft_ada_val', all_parsed_essays, all_questions, all_answers)"
   ]
  },
  {
   "cell_type": "code",
   "execution_count": 78,
   "metadata": {},
   "outputs": [],
   "source": [
    "_,_,all_answers_loaded = load_results('data/evaluations/run_3_ft_ada_val')"
   ]
  },
  {
   "cell_type": "code",
   "execution_count": 79,
   "metadata": {},
   "outputs": [
    {
     "data": {
      "text/plain": [
       "[(47, 11, ' 0\\n\\n'),\n",
       " (47, 4, ' 1\\nQuestion'),\n",
       " (62, 1, ' 3 3 3'),\n",
       " (62, 11, ' 3 3 3'),\n",
       " (62, 2, ' 3 3 3'),\n",
       " (62, 9, ' 3 3 3'),\n",
       " (14, 11, ' 3\\nAnswer'),\n",
       " (14, 12, ' 3.\\n'),\n",
       " (14, 9, ' 3\\nAnswer'),\n",
       " (14, 10, ' 3\\nAnswer'),\n",
       " (11, 11, ' 3 3 3'),\n",
       " (11, 9, ' 3 3 3'),\n",
       " (38, 1, ' 2 2 2'),\n",
       " (38, 12, ' 1. 1'),\n",
       " (38, 7, ' 2.\"\"\"'),\n",
       " (38, 0, ' 2 2 2'),\n",
       " (1, 12, ' 1\\nQuestion'),\n",
       " (31, 5, ' 3.3'),\n",
       " (31, 2, ' 2.3'),\n",
       " (31, 10, ' 3\\nAnswer'),\n",
       " (26, 1, ' 2\\nAnswer'),\n",
       " (26, 4, ' 2\\nAnswer'),\n",
       " (26, 2, ' 2\\nAnswer'),\n",
       " (26, 9, ' 2\\nAnswer'),\n",
       " (26, 3, ' 3\\nAnswer'),\n",
       " (20, 11, ' 2\\n\"\"'),\n",
       " (20, 5, ' 2\\n3'),\n",
       " (48, 4, ' 2 2\\n'),\n",
       " (48, 3, ' 3 3 3'),\n",
       " (32, 1, ' 2 1 2'),\n",
       " (32, 4, ' 2 1 2'),\n",
       " (32, 9, ' 2 1 2'),\n",
       " (46, 1, ' 2 2 2'),\n",
       " (46, 6, ' 2 2 2'),\n",
       " (46, 4, ' 2 2 2'),\n",
       " (46, 8, ' 1. 1'),\n",
       " (46, 7, ' 2\\n2'),\n",
       " (50, 11, ' 1\\nAnswer'),\n",
       " (8, 8, ' 1.1'),\n",
       " (8, 2, ' 1\\nAnswer'),\n",
       " (8, 10, ' 1\\nAnswer'),\n",
       " (36, 8, ' 1\\nAnswer'),\n",
       " (36, 12, ' 1\\nAnswer'),\n",
       " (36, 7, ' 1\\nAnswer'),\n",
       " (36, 3, ' 1\\nAnswer'),\n",
       " (17, 12, ' 1.1'),\n",
       " (17, 9, ' 1\\nAnswer'),\n",
       " (17, 10, ' 1 1 1'),\n",
       " (25, 10, ' 2\\nAnswer'),\n",
       " (18, 12, ' 1.0'),\n",
       " (18, 2, ' 1\\nAnswer'),\n",
       " (18, 9, ' 1\\nAnswer'),\n",
       " (18, 10, ' 1\\nAnswer'),\n",
       " (58, 4, ' 2\\n2'),\n",
       " (58, 8, ' 1. 1'),\n",
       " (33, 10, ' 2\\nAnswer'),\n",
       " (33, 7, ' 2 2 2'),\n",
       " (9, 1, ' 1\\nAnswer'),\n",
       " (9, 6, ' 2\\nAnswer'),\n",
       " (0, 5, ' 1\\nAnswer'),\n",
       " (0, 10, ' 1\\nAnswer'),\n",
       " (65, 10, ' 1\\nAnswer'),\n",
       " (16, 11, ' 2\\nAnswer'),\n",
       " (16, 6, ' 2\\nAnswer'),\n",
       " (6, 8, ' 1. 1'),\n",
       " (6, 0, ' 2 2 2'),\n",
       " (40, 11, ' 0\\nAnswer'),\n",
       " (40, 8, ' 0\\nAnswer'),\n",
       " (40, 2, ' 1\\nAnswer'),\n",
       " (63, 5, ' 2 2\\n'),\n",
       " (63, 9, ' 2\\nAnswer'),\n",
       " (21, 11, ' 1\\nAnswer'),\n",
       " (21, 5, ' 1.1'),\n",
       " (21, 9, ' 1\\nAnswer'),\n",
       " (21, 7, ' 1. 1'),\n",
       " (21, 0, ' 1. 1'),\n",
       " (66, 11, ' 2\\nAnswer'),\n",
       " (66, 5, ' 3.3'),\n",
       " (66, 2, ' 2.2'),\n",
       " (66, 3, ' 3.3'),\n",
       " (22, 6, ' 3 3 3'),\n",
       " (22, 7, ' 3 3 3'),\n",
       " (4, 5, ' 2. 2'),\n",
       " (4, 3, ' 3. 3'),\n",
       " (67, 12, ' 1. 1'),\n",
       " (43, 0, ' 0.0'),\n",
       " (12, 1, ' 0\\nAnswer'),\n",
       " (12, 6, ' 1\\nAnswer'),\n",
       " (12, 4, ' 1\\nAnswer'),\n",
       " (12, 8, ' 1\\nQuestion'),\n",
       " (12, 12, ' 1\\nQuestion'),\n",
       " (12, 3, ' 1\\nQuestion'),\n",
       " (23, 6, ' 3 3 3'),\n",
       " (23, 12, ' 3. 3'),\n",
       " (23, 2, ' 3 3 3'),\n",
       " (23, 9, ' 3 3 3'),\n",
       " (51, 6, ' 2\\nAnswer'),\n",
       " (51, 9, ' 2\\nAnswer'),\n",
       " (51, 7, ' 2 1\\n'),\n",
       " (51, 3, ' 2\\nAnswer'),\n",
       " (44, 4, ' 1\\nAnswer'),\n",
       " (44, 9, ' 1\\nAnswer'),\n",
       " (44, 7, ' 1 0\\n'),\n",
       " (5, 11, ' 1 1 1'),\n",
       " (5, 6, ' 1 1 1'),\n",
       " (29, 1, ' 3 3 3'),\n",
       " (29, 4, ' 3 3 3'),\n",
       " (57, 2, ' 2 1 2'),\n",
       " (10, 1, ' 2 2 2'),\n",
       " (10, 2, ' 2 2 2'),\n",
       " (10, 10, ' 2 2 2'),\n",
       " (10, 7, ' 2 2 2'),\n",
       " (13, 11, ' 3 3 3'),\n",
       " (13, 5, ' 3 3 3'),\n",
       " (13, 6, ' 3 3 3'),\n",
       " (13, 4, ' 3 3 3'),\n",
       " (13, 8, ' 3.3'),\n",
       " (13, 12, ' 3.3'),\n",
       " (13, 2, ' 3 3 3'),\n",
       " (55, 11, ' 1\\nAnswer'),\n",
       " (55, 5, ' 1 1 2'),\n",
       " (55, 8, ' 1. 1'),\n",
       " (53, 2, ' 1. 1'),\n",
       " (49, 5, ' 2\\nAnswer'),\n",
       " (3, 11, ' 0\\nAnswer'),\n",
       " (3, 6, ' 1\\nAnswer'),\n",
       " (34, 8, ' 1\\nAnswer'),\n",
       " (34, 10, ' 1\\nAnswer'),\n",
       " (34, 7, ' 0\\nAnswer'),\n",
       " (54, 4, ' 1 1 1'),\n",
       " (54, 3, ' 1.1'),\n",
       " (27, 1, ' 3 3 3'),\n",
       " (27, 3, ' 3 3 3'),\n",
       " (68, 8, ' 2. 3'),\n",
       " (68, 2, ' 2\\nAnswer'),\n",
       " (68, 7, ' 2\\nAnswer'),\n",
       " (2, 11, ' 1 1 2'),\n",
       " (2, 10, ' 1 1 2'),\n",
       " (2, 7, ' 1 1 1'),\n",
       " (2, 3, ' 1 1 1'),\n",
       " (2, 0, ' 1 1 1'),\n",
       " (30, 1, ' 0\\nAnswer'),\n",
       " (60, 4, ' 3 3 3'),\n",
       " (60, 10, ' 3 3 3'),\n",
       " (60, 7, ' 3 3 3'),\n",
       " (60, 3, ' 3 3 3'),\n",
       " (60, 0, ' 3 3 3'),\n",
       " (45, 11, ' 2 2 3'),\n",
       " (45, 8, ' 1 1.'),\n",
       " (45, 7, ' 2 2 3'),\n",
       " (0, 8, ' 1\\nAnswer'),\n",
       " (28, 6, ' 2 2\\n'),\n",
       " (28, 4, ' 2 2\\n'),\n",
       " (35, 12, ' 1.1'),\n",
       " (35, 10, ' 1\\nAnswer'),\n",
       " (35, 3, ' 1.2'),\n",
       " (35, 0, ' 1.2'),\n",
       " (61, 11, ' 2 2 2'),\n",
       " (61, 5, ' 2 2 2'),\n",
       " (61, 8, ' 1. 1'),\n",
       " (61, 12, ' 1.1'),\n",
       " (61, 10, ' 2 1 2'),\n",
       " (61, 0, ' 2 1 2'),\n",
       " (59, 9, ' 1\\nAnswer'),\n",
       " (59, 3, ' 1 1 1'),\n",
       " (56, 9, ' 2\\nAnswer'),\n",
       " (56, 10, ' 2\\nAnswer'),\n",
       " (37, 6, ' 1\\nAnswer'),\n",
       " (37, 12, ' 1.\"1'),\n",
       " (37, 10, ' 1\\nAnswer'),\n",
       " (37, 0, ' 1\\nAnswer'),\n",
       " (59, 5, ' 1 1 1'),\n",
       " (59, 8, ' 1.1'),\n",
       " (42, 5, ' 2 2\\n'),\n",
       " (42, 6, ' 2 2\\n'),\n",
       " (42, 10, ' 2 1\\n'),\n",
       " (42, 3, ' 3.2'),\n",
       " (15, 7, ' 3 3 3'),\n",
       " (15, 0, ' 3 3 3'),\n",
       " (7, 11, ' 0\\nAnswer'),\n",
       " (7, 8, ' 1\\nAnswer'),\n",
       " (7, 2, ' 1\\nAnswer'),\n",
       " (7, 9, ' 1\\nAnswer'),\n",
       " (64, 5, ' 1\\nQuestion'),\n",
       " (64, 6, ' 1\\nQuestion'),\n",
       " (64, 2, ' 1\\nQuestion'),\n",
       " (39, 6, ' 2 1\\n'),\n",
       " (24, 6, ' 2 1 2'),\n",
       " (24, 7, ' 2 1.'),\n",
       " (19, 7, ' 1 1\\n'),\n",
       " (41, 5, ' 2.2'),\n",
       " (41, 12, ' 1. 1'),\n",
       " (41, 9, ' 2.2'),\n",
       " (52, 8, ' 3 3 3'),\n",
       " (52, 10, ' 3 3 3')]"
      ]
     },
     "execution_count": 79,
     "metadata": {},
     "output_type": "execute_result"
    }
   ],
   "source": [
    "[(a[0], a[1], a[3]['choices'][0]['text']) for a in all_answers_loaded]"
   ]
  },
  {
   "cell_type": "code",
   "execution_count": 80,
   "metadata": {},
   "outputs": [
    {
     "data": {
      "text/plain": [
       "[(47, 11, ' 0\\n\\n'),\n",
       " (47, 4, ' 1\\nQuestion'),\n",
       " (62, 1, ' 3 3 3'),\n",
       " (62, 11, ' 3 3 3'),\n",
       " (62, 2, ' 3 3 3'),\n",
       " (62, 9, ' 3 3 3'),\n",
       " (14, 11, ' 3\\nAnswer'),\n",
       " (14, 12, ' 3.\\n'),\n",
       " (14, 9, ' 3\\nAnswer'),\n",
       " (14, 10, ' 3\\nAnswer'),\n",
       " (11, 11, ' 3 3 3'),\n",
       " (11, 9, ' 3 3 3'),\n",
       " (38, 1, ' 2 2 2'),\n",
       " (38, 12, ' 1. 1'),\n",
       " (38, 7, ' 2.\"\"\"'),\n",
       " (38, 0, ' 2 2 2'),\n",
       " (1, 12, ' 1\\nQuestion'),\n",
       " (31, 5, ' 3.3'),\n",
       " (31, 2, ' 2.3'),\n",
       " (31, 10, ' 3\\nAnswer'),\n",
       " (26, 1, ' 2\\nAnswer'),\n",
       " (26, 4, ' 2\\nAnswer'),\n",
       " (26, 2, ' 2\\nAnswer'),\n",
       " (26, 9, ' 2\\nAnswer'),\n",
       " (26, 3, ' 3\\nAnswer'),\n",
       " (20, 11, ' 2\\n\"\"'),\n",
       " (20, 5, ' 2\\n3'),\n",
       " (48, 4, ' 2 2\\n'),\n",
       " (48, 3, ' 3 3 3'),\n",
       " (32, 1, ' 2 1 2'),\n",
       " (32, 4, ' 2 1 2'),\n",
       " (32, 9, ' 2 1 2'),\n",
       " (46, 1, ' 2 2 2'),\n",
       " (46, 6, ' 2 2 2'),\n",
       " (46, 4, ' 2 2 2'),\n",
       " (46, 8, ' 1. 1'),\n",
       " (46, 7, ' 2\\n2'),\n",
       " (50, 11, ' 1\\nAnswer'),\n",
       " (8, 8, ' 1.1'),\n",
       " (8, 2, ' 1\\nAnswer'),\n",
       " (8, 10, ' 1\\nAnswer'),\n",
       " (36, 8, ' 1\\nAnswer'),\n",
       " (36, 12, ' 1\\nAnswer'),\n",
       " (36, 7, ' 1\\nAnswer'),\n",
       " (36, 3, ' 1\\nAnswer'),\n",
       " (17, 12, ' 1.1'),\n",
       " (17, 9, ' 1\\nAnswer'),\n",
       " (17, 10, ' 1 1 1'),\n",
       " (25, 10, ' 2\\nAnswer'),\n",
       " (18, 12, ' 1.0'),\n",
       " (18, 2, ' 1\\nAnswer'),\n",
       " (18, 9, ' 1\\nAnswer'),\n",
       " (18, 10, ' 1\\nAnswer'),\n",
       " (58, 4, ' 2\\n2'),\n",
       " (58, 8, ' 1. 1'),\n",
       " (33, 10, ' 2\\nAnswer'),\n",
       " (33, 7, ' 2 2 2'),\n",
       " (9, 1, ' 1\\nAnswer'),\n",
       " (9, 6, ' 2\\nAnswer'),\n",
       " (0, 5, ' 1\\nAnswer'),\n",
       " (0, 10, ' 1\\nAnswer'),\n",
       " (65, 10, ' 1\\nAnswer'),\n",
       " (16, 11, ' 2\\nAnswer'),\n",
       " (16, 6, ' 2\\nAnswer'),\n",
       " (6, 8, ' 1. 1'),\n",
       " (6, 0, ' 2 2 2'),\n",
       " (40, 11, ' 0\\nAnswer'),\n",
       " (40, 8, ' 0\\nAnswer'),\n",
       " (40, 2, ' 1\\nAnswer'),\n",
       " (63, 5, ' 2 2\\n'),\n",
       " (63, 9, ' 2\\nAnswer'),\n",
       " (21, 11, ' 1\\nAnswer'),\n",
       " (21, 5, ' 1.1'),\n",
       " (21, 9, ' 1\\nAnswer'),\n",
       " (21, 7, ' 1. 1'),\n",
       " (21, 0, ' 1. 1'),\n",
       " (66, 11, ' 2\\nAnswer'),\n",
       " (66, 5, ' 3.3'),\n",
       " (66, 2, ' 2.2'),\n",
       " (66, 3, ' 3.3'),\n",
       " (22, 6, ' 3 3 3'),\n",
       " (22, 7, ' 3 3 3'),\n",
       " (4, 5, ' 2. 2'),\n",
       " (4, 3, ' 3. 3'),\n",
       " (67, 12, ' 1. 1'),\n",
       " (43, 0, ' 0.0'),\n",
       " (12, 1, ' 0\\nAnswer'),\n",
       " (12, 6, ' 1\\nAnswer'),\n",
       " (12, 4, ' 1\\nAnswer'),\n",
       " (12, 8, ' 1\\nQuestion'),\n",
       " (12, 12, ' 1\\nQuestion'),\n",
       " (12, 3, ' 1\\nQuestion'),\n",
       " (23, 6, ' 3 3 3'),\n",
       " (23, 12, ' 3. 3'),\n",
       " (23, 2, ' 3 3 3'),\n",
       " (23, 9, ' 3 3 3'),\n",
       " (51, 6, ' 2\\nAnswer'),\n",
       " (51, 9, ' 2\\nAnswer'),\n",
       " (51, 7, ' 2 1\\n'),\n",
       " (51, 3, ' 2\\nAnswer'),\n",
       " (44, 4, ' 1\\nAnswer'),\n",
       " (44, 9, ' 1\\nAnswer'),\n",
       " (44, 7, ' 1 0\\n'),\n",
       " (5, 11, ' 1 1 1'),\n",
       " (5, 6, ' 1 1 1'),\n",
       " (29, 1, ' 3 3 3'),\n",
       " (29, 4, ' 3 3 3'),\n",
       " (57, 2, ' 2 1 2'),\n",
       " (10, 1, ' 2 2 2'),\n",
       " (10, 2, ' 2 2 2'),\n",
       " (10, 10, ' 2 2 2'),\n",
       " (10, 7, ' 2 2 2'),\n",
       " (13, 11, ' 3 3 3'),\n",
       " (13, 5, ' 3 3 3'),\n",
       " (13, 6, ' 3 3 3'),\n",
       " (13, 4, ' 3 3 3'),\n",
       " (13, 8, ' 3.3'),\n",
       " (13, 12, ' 3.3'),\n",
       " (13, 2, ' 3 3 3'),\n",
       " (55, 11, ' 1\\nAnswer'),\n",
       " (55, 5, ' 1 1 2'),\n",
       " (55, 8, ' 1. 1'),\n",
       " (53, 2, ' 1. 1'),\n",
       " (49, 5, ' 2\\nAnswer'),\n",
       " (3, 11, ' 0\\nAnswer'),\n",
       " (3, 6, ' 1\\nAnswer'),\n",
       " (34, 8, ' 1\\nAnswer'),\n",
       " (34, 10, ' 1\\nAnswer'),\n",
       " (34, 7, ' 0\\nAnswer'),\n",
       " (54, 4, ' 1 1 1'),\n",
       " (54, 3, ' 1.1'),\n",
       " (27, 1, ' 3 3 3'),\n",
       " (27, 3, ' 3 3 3'),\n",
       " (68, 8, ' 2. 3'),\n",
       " (68, 2, ' 2\\nAnswer'),\n",
       " (68, 7, ' 2\\nAnswer'),\n",
       " (2, 11, ' 1 1 2'),\n",
       " (2, 10, ' 1 1 2'),\n",
       " (2, 7, ' 1 1 1'),\n",
       " (2, 3, ' 1 1 1'),\n",
       " (2, 0, ' 1 1 1'),\n",
       " (30, 1, ' 0\\nAnswer'),\n",
       " (60, 4, ' 3 3 3'),\n",
       " (60, 10, ' 3 3 3'),\n",
       " (60, 7, ' 3 3 3'),\n",
       " (60, 3, ' 3 3 3'),\n",
       " (60, 0, ' 3 3 3'),\n",
       " (45, 11, ' 2 2 3'),\n",
       " (45, 8, ' 1 1.'),\n",
       " (45, 7, ' 2 2 3'),\n",
       " (0, 8, ' 1\\nAnswer'),\n",
       " (28, 6, ' 2 2\\n'),\n",
       " (28, 4, ' 2 2\\n'),\n",
       " (35, 12, ' 1.1'),\n",
       " (35, 10, ' 1\\nAnswer'),\n",
       " (35, 3, ' 1.2'),\n",
       " (35, 0, ' 1.2'),\n",
       " (61, 11, ' 2 2 2'),\n",
       " (61, 5, ' 2 2 2'),\n",
       " (61, 8, ' 1. 1'),\n",
       " (61, 12, ' 1.1'),\n",
       " (61, 10, ' 2 1 2'),\n",
       " (61, 0, ' 2 1 2'),\n",
       " (59, 9, ' 1\\nAnswer'),\n",
       " (59, 3, ' 1 1 1'),\n",
       " (56, 9, ' 2\\nAnswer'),\n",
       " (56, 10, ' 2\\nAnswer'),\n",
       " (37, 6, ' 1\\nAnswer'),\n",
       " (37, 12, ' 1.\"1'),\n",
       " (37, 10, ' 1\\nAnswer'),\n",
       " (37, 0, ' 1\\nAnswer'),\n",
       " (59, 5, ' 1 1 1'),\n",
       " (59, 8, ' 1.1'),\n",
       " (42, 5, ' 2 2\\n'),\n",
       " (42, 6, ' 2 2\\n'),\n",
       " (42, 10, ' 2 1\\n'),\n",
       " (42, 3, ' 3.2'),\n",
       " (15, 7, ' 3 3 3'),\n",
       " (15, 0, ' 3 3 3'),\n",
       " (7, 11, ' 0\\nAnswer'),\n",
       " (7, 8, ' 1\\nAnswer'),\n",
       " (7, 2, ' 1\\nAnswer'),\n",
       " (7, 9, ' 1\\nAnswer'),\n",
       " (64, 5, ' 1\\nQuestion'),\n",
       " (64, 6, ' 1\\nQuestion'),\n",
       " (64, 2, ' 1\\nQuestion'),\n",
       " (39, 6, ' 2 1\\n'),\n",
       " (24, 6, ' 2 1 2'),\n",
       " (24, 7, ' 2 1.'),\n",
       " (19, 7, ' 1 1\\n'),\n",
       " (41, 5, ' 2.2'),\n",
       " (41, 12, ' 1. 1'),\n",
       " (41, 9, ' 2.2'),\n",
       " (52, 8, ' 3 3 3'),\n",
       " (52, 10, ' 3 3 3')]"
      ]
     },
     "execution_count": 80,
     "metadata": {},
     "output_type": "execute_result"
    }
   ],
   "source": [
    "[(a[0],a[1],a[3]['choices'][0]['text']) for a in all_answers]"
   ]
  },
  {
   "cell_type": "code",
   "execution_count": null,
   "metadata": {},
   "outputs": [],
   "source": []
  }
 ],
 "metadata": {
  "kernelspec": {
   "display_name": "evaluate",
   "language": "python",
   "name": "python3"
  },
  "language_info": {
   "codemirror_mode": {
    "name": "ipython",
    "version": 3
   },
   "file_extension": ".py",
   "mimetype": "text/x-python",
   "name": "python",
   "nbconvert_exporter": "python",
   "pygments_lexer": "ipython3",
   "version": "3.8.13"
  },
  "orig_nbformat": 4
 },
 "nbformat": 4,
 "nbformat_minor": 2
}
